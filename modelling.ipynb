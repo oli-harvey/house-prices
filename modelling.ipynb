{
 "metadata": {
  "language_info": {
   "codemirror_mode": {
    "name": "ipython",
    "version": 3
   },
   "file_extension": ".py",
   "mimetype": "text/x-python",
   "name": "python",
   "nbconvert_exporter": "python",
   "pygments_lexer": "ipython3",
   "version": "3.8.8"
  },
  "orig_nbformat": 2,
  "kernelspec": {
   "name": "python388jvsc74a57bd02cafb3199729848de48071f5cfc9db2ba6e5f31612348b291f81e9e98cb6629b",
   "display_name": "Python 3.8.8 64-bit ('titanic': conda)"
  }
 },
 "nbformat": 4,
 "nbformat_minor": 2,
 "cells": [
  {
   "cell_type": "code",
   "execution_count": 1,
   "metadata": {},
   "outputs": [],
   "source": [
    "%load_ext autoreload\n",
    "%autoreload 2"
   ]
  },
  {
   "cell_type": "code",
   "execution_count": 4,
   "metadata": {},
   "outputs": [],
   "source": [
    "import functions.process_data"
   ]
  },
  {
   "cell_type": "code",
   "execution_count": 5,
   "metadata": {},
   "outputs": [],
   "source": [
    "import pandas as pd \n",
    "import pandas_profiling as pdp\n",
    "import numpy as np\n",
    "import pprint as pp\n",
    "import seaborn as sns\n",
    "from matplotlib import pyplot as plt\n",
    "from catboost import Pool, CatBoostRegressor\n",
    "\n",
    "from sklearn.model_selection import RandomizedSearchCV\n",
    "from sklearn.model_selection import GridSearchCV\n",
    "from sklearn.model_selection import KFold\n",
    "from sklearn.ensemble import RandomForestRegressor\n",
    "from sklearn.linear_model import ElasticNet\n",
    "from sklearn.ensemble import VotingRegressor\n",
    "from sklearn.model_selection import cross_val_score\n",
    "\n",
    "\n",
    "pd.set_option('display.max_columns', None)\n",
    "pd.set_option('display.max_rows', None)"
   ]
  },
  {
   "cell_type": "code",
   "execution_count": 6,
   "metadata": {},
   "outputs": [
    {
     "output_type": "stream",
     "name": "stdout",
     "text": [
      "files downloaded for house-prices-advanced-regression-techniques competition\n   test.csv\n   data_description.txt\n   train.csv\n   sample_submission.csv\nlocated in /competition_data/\n"
     ]
    }
   ],
   "source": [
    "files = get_kaggle_data(\n",
    "    competition=\"house-prices-advanced-regression-techniques\"\n",
    "    )"
   ]
  },
  {
   "cell_type": "code",
   "execution_count": 7,
   "metadata": {},
   "outputs": [],
   "source": [
    "input_data = import_to_df(files)"
   ]
  },
  {
   "source": [
    "What files did we get?"
   ],
   "cell_type": "markdown",
   "metadata": {}
  },
  {
   "cell_type": "code",
   "execution_count": 8,
   "metadata": {},
   "outputs": [
    {
     "output_type": "execute_result",
     "data": {
      "text/plain": [
       "dict_keys(['test', 'train', 'sample_submission'])"
      ]
     },
     "metadata": {},
     "execution_count": 8
    }
   ],
   "source": [
    "input_data.keys()"
   ]
  },
  {
   "cell_type": "code",
   "execution_count": 9,
   "metadata": {},
   "outputs": [],
   "source": [
    "input_train_df = input_data['train']\n",
    "input_test_df = input_data['test']"
   ]
  },
  {
   "cell_type": "code",
   "execution_count": 16,
   "metadata": {},
   "outputs": [
    {
     "output_type": "stream",
     "name": "stderr",
     "text": [
      "/Users/oliverharvey/anaconda3/envs/titanic/lib/python3.8/site-packages/pandas/core/frame.py:4441: SettingWithCopyWarning: \nA value is trying to be set on a copy of a slice from a DataFrame\n\nSee the caveats in the documentation: https://pandas.pydata.org/pandas-docs/stable/user_guide/indexing.html#returning-a-view-versus-a-copy\n  return super().rename(\n/Users/oliverharvey/anaconda3/envs/titanic/lib/python3.8/site-packages/pandas/core/frame.py:4308: SettingWithCopyWarning: \nA value is trying to be set on a copy of a slice from a DataFrame\n\nSee the caveats in the documentation: https://pandas.pydata.org/pandas-docs/stable/user_guide/indexing.html#returning-a-view-versus-a-copy\n  return super().drop(\n"
     ]
    }
   ],
   "source": [
    "train_df = process_data(input_train_df)\n",
    "train_df = calculate_inflation(\n",
    "    data_with_price=train_df,\n",
    "    data_to_append_to=train_df,\n",
    "    group_by_cat=['OverallQual'],\n",
    "    group_by_band=['GrLivArea'],\n",
    "    year='YrSold',\n",
    "    price='SalePrice'\n",
    ")\n",
    "target = 'SalePrice'\n",
    "id_row = 'Id'\n",
    "train_predictors = [\n",
    "    c for c in train_df.columns \n",
    "    if target not in c\n",
    "    if id_row not in c\n",
    "]"
   ]
  },
  {
   "cell_type": "code",
   "execution_count": 17,
   "metadata": {},
   "outputs": [
    {
     "output_type": "stream",
     "name": "stderr",
     "text": [
      "/Users/oliverharvey/anaconda3/envs/titanic/lib/python3.8/site-packages/pandas/core/frame.py:4441: SettingWithCopyWarning: \nA value is trying to be set on a copy of a slice from a DataFrame\n\nSee the caveats in the documentation: https://pandas.pydata.org/pandas-docs/stable/user_guide/indexing.html#returning-a-view-versus-a-copy\n  return super().rename(\n/Users/oliverharvey/anaconda3/envs/titanic/lib/python3.8/site-packages/pandas/core/frame.py:4308: SettingWithCopyWarning: \nA value is trying to be set on a copy of a slice from a DataFrame\n\nSee the caveats in the documentation: https://pandas.pydata.org/pandas-docs/stable/user_guide/indexing.html#returning-a-view-versus-a-copy\n  return super().drop(\n"
     ]
    }
   ],
   "source": [
    "test_df = process_data(input_test_df)\n",
    "test_df = calculate_inflation(\n",
    "    data_with_price=train_df,\n",
    "    data_to_append_to=test_df,\n",
    "    group_by_cat=['OverallQual'],\n",
    "    group_by_band=['GrLivArea'],\n",
    "    year='YrSold',\n",
    "    price='SalePrice'\n",
    ")\n",
    "test_predictors = [\n",
    "    c for c in test_df.columns \n",
    "    if target not in c\n",
    "    if id_row not in c\n",
    "]"
   ]
  },
  {
   "source": [
    "Only keep columns in both dfs. Needed in case one hots generate unique columns"
   ],
   "cell_type": "markdown",
   "metadata": {}
  },
  {
   "cell_type": "code",
   "execution_count": 18,
   "metadata": {},
   "outputs": [],
   "source": [
    "cols_to_use = list(set(train_predictors).intersection(test_predictors))"
   ]
  },
  {
   "source": [
    "Also create smaller feature set with decently correlated variables"
   ],
   "cell_type": "markdown",
   "metadata": {}
  },
  {
   "cell_type": "code",
   "execution_count": 19,
   "metadata": {},
   "outputs": [],
   "source": [
    "corr = train_df.corr()"
   ]
  },
  {
   "cell_type": "code",
   "execution_count": 20,
   "metadata": {},
   "outputs": [],
   "source": [
    "corr_target = abs(corr['SalePrice'])\n",
    "# corr_target.sort_values(ascending=False)\n",
    "relevant_features = corr_target[corr_target>0.3].index.tolist()"
   ]
  },
  {
   "cell_type": "code",
   "execution_count": 21,
   "metadata": {},
   "outputs": [],
   "source": [
    "# relevant_features\n",
    "cols_to_use_small = list(set(cols_to_use).intersection(relevant_features))"
   ]
  },
  {
   "cell_type": "code",
   "execution_count": 22,
   "metadata": {},
   "outputs": [
    {
     "output_type": "execute_result",
     "data": {
      "text/plain": [
       "(305, 318)"
      ]
     },
     "metadata": {},
     "execution_count": 22
    }
   ],
   "source": [
    "len(cols_to_use), len(train_predictors)"
   ]
  },
  {
   "source": [
    "Removed 13 columns"
   ],
   "cell_type": "markdown",
   "metadata": {}
  },
  {
   "cell_type": "code",
   "execution_count": 23,
   "metadata": {},
   "outputs": [],
   "source": [
    "X_train = train_df[cols_to_use]\n",
    "y_train = train_df[target]\n",
    "\n",
    "X_test = test_df[cols_to_use]\n",
    "y_test_labels = test_df[id_row]"
   ]
  },
  {
   "cell_type": "code",
   "execution_count": 24,
   "metadata": {},
   "outputs": [],
   "source": [
    "X_train_small = train_df[cols_to_use_small]\n",
    "X_test_small = test_df[cols_to_use_small]"
   ]
  },
  {
   "cell_type": "code",
   "execution_count": 26,
   "metadata": {
    "tags": [
     "outputPrepend"
    ]
   },
   "outputs": [
    {
     "output_type": "stream",
     "name": "stdout",
     "text": [
      "remaining: 288ms\n",
      "90:\tlearn: 47228.6920437\ttotal: 2.38s\tremaining: 235ms\n",
      "92:\tlearn: 46712.8714966\ttotal: 2.45s\tremaining: 185ms\n",
      "94:\tlearn: 46203.0500683\ttotal: 2.61s\tremaining: 137ms\n",
      "96:\tlearn: 45705.2196857\ttotal: 2.67s\tremaining: 82.7ms\n",
      "98:\tlearn: 45235.7813907\ttotal: 2.74s\tremaining: 27.7ms\n",
      "99:\tlearn: 45012.7920712\ttotal: 2.77s\tremaining: 0us\n",
      "0:\tlearn: 66456.5046958\ttotal: 17.9ms\tremaining: 1.77s\n",
      "2:\tlearn: 65518.8040523\ttotal: 54.6ms\tremaining: 1.77s\n",
      "4:\tlearn: 64651.3165986\ttotal: 98.2ms\tremaining: 1.86s\n",
      "6:\tlearn: 63738.2224662\ttotal: 157ms\tremaining: 2.08s\n",
      "8:\tlearn: 62863.2828398\ttotal: 216ms\tremaining: 2.18s\n",
      "10:\tlearn: 62022.5148996\ttotal: 269ms\tremaining: 2.17s\n",
      "12:\tlearn: 61183.2068635\ttotal: 324ms\tremaining: 2.17s\n",
      "14:\tlearn: 60384.5852684\ttotal: 377ms\tremaining: 2.14s\n",
      "16:\tlearn: 59586.6242868\ttotal: 432ms\tremaining: 2.11s\n",
      "18:\tlearn: 58820.3721452\ttotal: 478ms\tremaining: 2.04s\n",
      "20:\tlearn: 58041.6704741\ttotal: 519ms\tremaining: 1.95s\n",
      "22:\tlearn: 57299.2694060\ttotal: 561ms\tremaining: 1.88s\n",
      "24:\tlearn: 56553.4875526\ttotal: 602ms\tremaining: 1.81s\n",
      "26:\tlearn: 55812.5424425\ttotal: 657ms\tremaining: 1.77s\n",
      "28:\tlearn: 55123.1442458\ttotal: 723ms\tremaining: 1.77s\n",
      "30:\tlearn: 54422.6526789\ttotal: 782ms\tremaining: 1.74s\n",
      "32:\tlearn: 53743.2301521\ttotal: 834ms\tremaining: 1.69s\n",
      "34:\tlearn: 53075.3332718\ttotal: 878ms\tremaining: 1.63s\n",
      "36:\tlearn: 52427.9438239\ttotal: 938ms\tremaining: 1.6s\n",
      "38:\tlearn: 51812.7321110\ttotal: 983ms\tremaining: 1.54s\n",
      "40:\tlearn: 51117.1777958\ttotal: 1.03s\tremaining: 1.48s\n",
      "42:\tlearn: 50487.6572215\ttotal: 1.07s\tremaining: 1.42s\n",
      "44:\tlearn: 49870.7846059\ttotal: 1.12s\tremaining: 1.37s\n",
      "46:\tlearn: 49264.4267811\ttotal: 1.17s\tremaining: 1.32s\n",
      "48:\tlearn: 48648.0436640\ttotal: 1.22s\tremaining: 1.27s\n",
      "50:\tlearn: 48061.5257966\ttotal: 1.27s\tremaining: 1.22s\n",
      "52:\tlearn: 47510.3330053\ttotal: 1.33s\tremaining: 1.18s\n",
      "54:\tlearn: 46954.8780456\ttotal: 1.38s\tremaining: 1.13s\n",
      "56:\tlearn: 46408.1992138\ttotal: 1.44s\tremaining: 1.08s\n",
      "58:\tlearn: 45874.1038615\ttotal: 1.48s\tremaining: 1.03s\n",
      "60:\tlearn: 45341.8767031\ttotal: 1.52s\tremaining: 975ms\n",
      "62:\tlearn: 44813.2069660\ttotal: 1.57s\tremaining: 924ms\n",
      "64:\tlearn: 44307.8878525\ttotal: 1.62s\tremaining: 871ms\n",
      "66:\tlearn: 43804.7675822\ttotal: 1.66s\tremaining: 819ms\n",
      "68:\tlearn: 43286.4050061\ttotal: 1.71s\tremaining: 767ms\n",
      "70:\tlearn: 42787.9188951\ttotal: 1.76s\tremaining: 720ms\n",
      "72:\tlearn: 42334.3003570\ttotal: 1.81s\tremaining: 670ms\n",
      "74:\tlearn: 41872.7331834\ttotal: 1.87s\tremaining: 624ms\n",
      "76:\tlearn: 41403.6113400\ttotal: 1.93s\tremaining: 577ms\n",
      "78:\tlearn: 40954.5714815\ttotal: 1.98s\tremaining: 527ms\n",
      "80:\tlearn: 40512.4593731\ttotal: 2.03s\tremaining: 477ms\n",
      "82:\tlearn: 40070.2114459\ttotal: 2.08s\tremaining: 425ms\n",
      "84:\tlearn: 39627.8483579\ttotal: 2.12s\tremaining: 375ms\n",
      "86:\tlearn: 39192.3218613\ttotal: 2.17s\tremaining: 324ms\n",
      "88:\tlearn: 38778.2790543\ttotal: 2.21s\tremaining: 273ms\n",
      "90:\tlearn: 38371.0159854\ttotal: 2.25s\tremaining: 223ms\n",
      "92:\tlearn: 37956.5323374\ttotal: 2.3s\tremaining: 173ms\n",
      "94:\tlearn: 37568.8236302\ttotal: 2.36s\tremaining: 124ms\n",
      "96:\tlearn: 37198.1211058\ttotal: 2.42s\tremaining: 74.9ms\n",
      "98:\tlearn: 36831.2265730\ttotal: 2.48s\tremaining: 25ms\n",
      "99:\tlearn: 36642.9922916\ttotal: 2.5s\tremaining: 0us\n",
      "0:\tlearn: 80492.5239573\ttotal: 19.1ms\tremaining: 1.89s\n",
      "2:\tlearn: 79640.6632939\ttotal: 58.2ms\tremaining: 1.88s\n",
      "4:\tlearn: 78824.7936528\ttotal: 101ms\tremaining: 1.92s\n",
      "6:\tlearn: 77972.0403763\ttotal: 146ms\tremaining: 1.94s\n",
      "8:\tlearn: 77169.2447787\ttotal: 192ms\tremaining: 1.94s\n",
      "10:\tlearn: 76302.9418283\ttotal: 251ms\tremaining: 2.03s\n",
      "12:\tlearn: 75506.3873463\ttotal: 303ms\tremaining: 2.03s\n",
      "14:\tlearn: 74727.3233534\ttotal: 354ms\tremaining: 2.01s\n",
      "16:\tlearn: 73918.8027776\ttotal: 411ms\tremaining: 2.01s\n",
      "18:\tlearn: 73177.3019850\ttotal: 469ms\tremaining: 2s\n",
      "20:\tlearn: 72392.2506286\ttotal: 519ms\tremaining: 1.95s\n",
      "22:\tlearn: 71661.9894031\ttotal: 565ms\tremaining: 1.89s\n",
      "24:\tlearn: 70940.7920088\ttotal: 616ms\tremaining: 1.85s\n",
      "26:\tlearn: 70235.0718668\ttotal: 666ms\tremaining: 1.8s\n",
      "28:\tlearn: 69529.3707221\ttotal: 715ms\tremaining: 1.75s\n",
      "30:\tlearn: 68813.4758958\ttotal: 763ms\tremaining: 1.7s\n",
      "32:\tlearn: 68132.2203988\ttotal: 814ms\tremaining: 1.65s\n",
      "34:\tlearn: 67469.4327196\ttotal: 870ms\tremaining: 1.61s\n",
      "36:\tlearn: 66783.2195428\ttotal: 922ms\tremaining: 1.57s\n",
      "38:\tlearn: 66076.5783209\ttotal: 979ms\tremaining: 1.53s\n",
      "40:\tlearn: 65438.2578198\ttotal: 1.03s\tremaining: 1.48s\n",
      "42:\tlearn: 64800.2762917\ttotal: 1.08s\tremaining: 1.43s\n",
      "44:\tlearn: 64212.2838984\ttotal: 1.14s\tremaining: 1.39s\n",
      "46:\tlearn: 63598.4568662\ttotal: 1.21s\tremaining: 1.36s\n",
      "48:\tlearn: 63028.5386070\ttotal: 1.27s\tremaining: 1.32s\n",
      "50:\tlearn: 62446.0729939\ttotal: 1.33s\tremaining: 1.28s\n",
      "52:\tlearn: 61866.9985026\ttotal: 1.39s\tremaining: 1.24s\n",
      "54:\tlearn: 61250.4705635\ttotal: 1.45s\tremaining: 1.19s\n",
      "56:\tlearn: 60694.7580209\ttotal: 1.5s\tremaining: 1.14s\n",
      "58:\tlearn: 60199.6401717\ttotal: 1.55s\tremaining: 1.08s\n",
      "60:\tlearn: 59663.6662396\ttotal: 1.6s\tremaining: 1.02s\n",
      "62:\tlearn: 59185.7085945\ttotal: 1.65s\tremaining: 968ms\n",
      "64:\tlearn: 58626.2734982\ttotal: 1.7s\tremaining: 916ms\n",
      "66:\tlearn: 58147.4584357\ttotal: 1.75s\tremaining: 862ms\n",
      "68:\tlearn: 57635.5558253\ttotal: 1.8s\tremaining: 808ms\n",
      "70:\tlearn: 57168.0208867\ttotal: 1.84s\tremaining: 753ms\n",
      "72:\tlearn: 56663.9854564\ttotal: 1.89s\tremaining: 701ms\n",
      "74:\tlearn: 56195.0388333\ttotal: 1.94s\tremaining: 648ms\n",
      "76:\tlearn: 55688.1764681\ttotal: 1.99s\tremaining: 595ms\n",
      "78:\tlearn: 55199.7652968\ttotal: 2.06s\tremaining: 549ms\n",
      "80:\tlearn: 54712.5738437\ttotal: 2.13s\tremaining: 500ms\n",
      "82:\tlearn: 54258.2796220\ttotal: 2.18s\tremaining: 446ms\n",
      "84:\tlearn: 53793.7892767\ttotal: 2.23s\tremaining: 393ms\n",
      "86:\tlearn: 53365.5781301\ttotal: 2.27s\tremaining: 340ms\n",
      "88:\tlearn: 52910.3299460\ttotal: 2.32s\tremaining: 287ms\n",
      "90:\tlearn: 52492.5875014\ttotal: 2.37s\tremaining: 234ms\n",
      "92:\tlearn: 52101.3440979\ttotal: 2.41s\tremaining: 181ms\n",
      "94:\tlearn: 51673.8778436\ttotal: 2.45s\tremaining: 129ms\n",
      "96:\tlearn: 51272.0895650\ttotal: 2.5s\tremaining: 77.4ms\n",
      "98:\tlearn: 50892.1034481\ttotal: 2.55s\tremaining: 25.8ms\n",
      "99:\tlearn: 50746.6569033\ttotal: 2.57s\tremaining: 0us\n",
      "0:\tlearn: 79826.2157964\ttotal: 18.3ms\tremaining: 1.82s\n",
      "2:\tlearn: 78940.0884727\ttotal: 44.8ms\tremaining: 1.45s\n",
      "4:\tlearn: 78119.8044861\ttotal: 83.8ms\tremaining: 1.59s\n",
      "6:\tlearn: 77267.3298202\ttotal: 127ms\tremaining: 1.69s\n",
      "8:\tlearn: 76436.9503626\ttotal: 167ms\tremaining: 1.69s\n",
      "10:\tlearn: 75663.6746129\ttotal: 218ms\tremaining: 1.76s\n",
      "12:\tlearn: 74809.7140063\ttotal: 292ms\tremaining: 1.96s\n",
      "14:\tlearn: 73974.8863853\ttotal: 382ms\tremaining: 2.17s\n",
      "16:\tlearn: 73197.7078153\ttotal: 458ms\tremaining: 2.23s\n",
      "18:\tlearn: 72524.2961012\ttotal: 520ms\tremaining: 2.22s\n",
      "20:\tlearn: 71749.9537432\ttotal: 576ms\tremaining: 2.17s\n",
      "22:\tlearn: 71041.2216939\ttotal: 620ms\tremaining: 2.08s\n",
      "24:\tlearn: 70306.8186849\ttotal: 660ms\tremaining: 1.98s\n",
      "26:\tlearn: 69598.4481813\ttotal: 699ms\tremaining: 1.89s\n",
      "28:\tlearn: 68869.1094831\ttotal: 739ms\tremaining: 1.81s\n",
      "30:\tlearn: 68201.7549815\ttotal: 785ms\tremaining: 1.75s\n",
      "32:\tlearn: 67552.3978345\ttotal: 847ms\tremaining: 1.72s\n",
      "34:\tlearn: 66903.4273387\ttotal: 902ms\tremaining: 1.68s\n",
      "36:\tlearn: 66238.4199157\ttotal: 951ms\tremaining: 1.62s\n",
      "38:\tlearn: 65569.5149433\ttotal: 1000ms\tremaining: 1.56s\n",
      "40:\tlearn: 64875.3621284\ttotal: 1.04s\tremaining: 1.5s\n",
      "42:\tlearn: 64259.5707420\ttotal: 1.08s\tremaining: 1.43s\n",
      "44:\tlearn: 63601.5320892\ttotal: 1.12s\tremaining: 1.37s\n",
      "46:\tlearn: 62974.4673779\ttotal: 1.15s\tremaining: 1.3s\n",
      "48:\tlearn: 62369.8704487\ttotal: 1.19s\tremaining: 1.24s\n",
      "50:\tlearn: 61750.7448843\ttotal: 1.23s\tremaining: 1.18s\n",
      "52:\tlearn: 61185.6972287\ttotal: 1.27s\tremaining: 1.13s\n",
      "54:\tlearn: 60590.3470128\ttotal: 1.32s\tremaining: 1.08s\n",
      "56:\tlearn: 60043.8157303\ttotal: 1.39s\tremaining: 1.05s\n",
      "58:\tlearn: 59477.0657802\ttotal: 1.45s\tremaining: 1.01s\n",
      "60:\tlearn: 58911.3810445\ttotal: 1.51s\tremaining: 963ms\n",
      "62:\tlearn: 58331.4956762\ttotal: 1.56s\tremaining: 920ms\n",
      "64:\tlearn: 57816.7508506\ttotal: 1.62s\tremaining: 873ms\n",
      "66:\tlearn: 57296.3639054\ttotal: 1.68s\tremaining: 826ms\n",
      "68:\tlearn: 56740.9416464\ttotal: 1.73s\tremaining: 779ms\n",
      "70:\tlearn: 56270.3444056\ttotal: 1.78s\tremaining: 729ms\n",
      "72:\tlearn: 55793.2075619\ttotal: 1.83s\tremaining: 679ms\n",
      "74:\tlearn: 55253.7015166\ttotal: 1.88s\tremaining: 627ms\n",
      "76:\tlearn: 54757.7299795\ttotal: 1.93s\tremaining: 577ms\n",
      "78:\tlearn: 54270.4286078\ttotal: 1.99s\tremaining: 528ms\n",
      "80:\tlearn: 53782.3108365\ttotal: 2.06s\tremaining: 482ms\n",
      "82:\tlearn: 53284.8528039\ttotal: 2.14s\tremaining: 439ms\n",
      "84:\tlearn: 52791.3709117\ttotal: 2.22s\tremaining: 392ms\n",
      "86:\tlearn: 52363.1973424\ttotal: 2.27s\tremaining: 340ms\n",
      "88:\tlearn: 51920.3854329\ttotal: 2.32s\tremaining: 286ms\n",
      "90:\tlearn: 51555.4203704\ttotal: 2.36s\tremaining: 233ms\n",
      "92:\tlearn: 51142.1185298\ttotal: 2.4s\tremaining: 181ms\n",
      "94:\tlearn: 50725.5610950\ttotal: 2.45s\tremaining: 129ms\n",
      "96:\tlearn: 50317.5590597\ttotal: 2.5s\tremaining: 77.4ms\n",
      "98:\tlearn: 49888.6112938\ttotal: 2.58s\tremaining: 26.1ms\n",
      "99:\tlearn: 49692.0698610\ttotal: 2.62s\tremaining: 0us\n",
      "0:\tlearn: 83725.6430551\ttotal: 30.2ms\tremaining: 2.99s\n",
      "2:\tlearn: 82741.0031902\ttotal: 88.6ms\tremaining: 2.87s\n",
      "4:\tlearn: 81741.0360378\ttotal: 156ms\tremaining: 2.96s\n",
      "6:\tlearn: 80772.7372017\ttotal: 222ms\tremaining: 2.95s\n",
      "8:\tlearn: 79902.0021382\ttotal: 333ms\tremaining: 3.37s\n",
      "10:\tlearn: 78995.1830559\ttotal: 439ms\tremaining: 3.55s\n",
      "12:\tlearn: 78177.9309296\ttotal: 512ms\tremaining: 3.43s\n",
      "14:\tlearn: 77367.6832291\ttotal: 577ms\tremaining: 3.27s\n",
      "16:\tlearn: 76488.5131173\ttotal: 639ms\tremaining: 3.12s\n",
      "18:\tlearn: 75656.0504298\ttotal: 712ms\tremaining: 3.03s\n",
      "20:\tlearn: 74850.7230301\ttotal: 772ms\tremaining: 2.9s\n",
      "22:\tlearn: 74027.1656747\ttotal: 916ms\tremaining: 3.07s\n",
      "24:\tlearn: 73201.2550448\ttotal: 993ms\tremaining: 2.98s\n",
      "26:\tlearn: 72383.0014091\ttotal: 1.07s\tremaining: 2.89s\n",
      "28:\tlearn: 71633.3891362\ttotal: 1.22s\tremaining: 2.99s\n",
      "30:\tlearn: 70863.9073723\ttotal: 1.33s\tremaining: 2.96s\n",
      "32:\tlearn: 70136.4096988\ttotal: 1.42s\tremaining: 2.88s\n",
      "34:\tlearn: 69384.8192781\ttotal: 1.52s\tremaining: 2.83s\n",
      "36:\tlearn: 68630.2800698\ttotal: 1.59s\tremaining: 2.71s\n",
      "38:\tlearn: 67938.2132972\ttotal: 1.67s\tremaining: 2.6s\n",
      "40:\tlearn: 67296.4975667\ttotal: 1.78s\tremaining: 2.56s\n",
      "42:\tlearn: 66646.2542309\ttotal: 1.92s\tremaining: 2.54s\n",
      "44:\tlearn: 65969.6087733\ttotal: 1.98s\tremaining: 2.42s\n",
      "46:\tlearn: 65276.3901476\ttotal: 2.06s\tremaining: 2.33s\n",
      "48:\tlearn: 64599.5160742\ttotal: 2.14s\tremaining: 2.23s\n",
      "50:\tlearn: 64014.5154794\ttotal: 2.2s\tremaining: 2.12s\n",
      "52:\tlearn: 63429.6827182\ttotal: 2.28s\tremaining: 2.02s\n",
      "54:\tlearn: 62867.9598970\ttotal: 2.37s\tremaining: 1.94s\n",
      "56:\tlearn: 62265.9824879\ttotal: 2.47s\tremaining: 1.86s\n",
      "58:\tlearn: 61662.6308073\ttotal: 2.55s\tremaining: 1.77s\n",
      "60:\tlearn: 61040.9411367\ttotal: 2.62s\tremaining: 1.68s\n",
      "62:\tlearn: 60456.6587904\ttotal: 2.69s\tremaining: 1.58s\n",
      "64:\tlearn: 59891.4614684\ttotal: 2.75s\tremaining: 1.48s\n",
      "66:\tlearn: 59386.3061889\ttotal: 2.81s\tremaining: 1.39s\n",
      "68:\tlearn: 58844.9735282\ttotal: 2.88s\tremaining: 1.29s\n",
      "70:\tlearn: 58294.9858108\ttotal: 3.04s\tremaining: 1.24s\n",
      "72:\tlearn: 57772.7988688\ttotal: 3.13s\tremaining: 1.16s\n",
      "74:\tlearn: 57291.3788936\ttotal: 3.21s\tremaining: 1.07s\n",
      "76:\tlearn: 56824.4281850\ttotal: 3.29s\tremaining: 982ms\n",
      "78:\tlearn: 56334.7450292\ttotal: 3.37s\tremaining: 896ms\n",
      "80:\tlearn: 55869.6900522\ttotal: 3.44s\tremaining: 808ms\n",
      "82:\tlearn: 55404.1738123\ttotal: 3.51s\tremaining: 719ms\n",
      "84:\tlearn: 54911.8182803\ttotal: 3.6s\tremaining: 635ms\n",
      "86:\tlearn: 54423.9638646\ttotal: 3.67s\tremaining: 548ms\n",
      "88:\tlearn: 53950.0488190\ttotal: 3.74s\tremaining: 463ms\n",
      "90:\tlearn: 53498.9996693\ttotal: 3.81s\tremaining: 377ms\n",
      "92:\tlearn: 53057.2310451\ttotal: 3.88s\tremaining: 292ms\n",
      "94:\tlearn: 52613.1273577\ttotal: 3.94s\tremaining: 207ms\n",
      "96:\tlearn: 52225.9655080\ttotal: 4s\tremaining: 124ms\n",
      "98:\tlearn: 51808.7531371\ttotal: 4.07s\tremaining: 41.1ms\n",
      "99:\tlearn: 51618.9266143\ttotal: 4.1s\tremaining: 0us\n",
      "0:\tlearn: 82634.3027203\ttotal: 20.5ms\tremaining: 2.02s\n",
      "2:\tlearn: 81639.2025433\ttotal: 67.6ms\tremaining: 2.19s\n",
      "4:\tlearn: 80757.4415119\ttotal: 137ms\tremaining: 2.6s\n",
      "6:\tlearn: 79826.5033183\ttotal: 261ms\tremaining: 3.47s\n",
      "8:\tlearn: 79014.9090060\ttotal: 457ms\tremaining: 4.63s\n",
      "10:\tlearn: 78073.7830753\ttotal: 571ms\tremaining: 4.62s\n",
      "12:\tlearn: 77193.3123226\ttotal: 669ms\tremaining: 4.47s\n",
      "14:\tlearn: 76383.7287933\ttotal: 715ms\tremaining: 4.05s\n",
      "16:\tlearn: 75491.9861859\ttotal: 781ms\tremaining: 3.81s\n",
      "18:\tlearn: 74655.2990300\ttotal: 846ms\tremaining: 3.61s\n",
      "20:\tlearn: 73815.4454572\ttotal: 908ms\tremaining: 3.42s\n",
      "22:\tlearn: 73002.8114001\ttotal: 967ms\tremaining: 3.24s\n",
      "24:\tlearn: 72229.5687831\ttotal: 1.03s\tremaining: 3.08s\n",
      "26:\tlearn: 71487.4857181\ttotal: 1.1s\tremaining: 2.98s\n",
      "28:\tlearn: 70795.9247571\ttotal: 1.25s\tremaining: 3.06s\n",
      "30:\tlearn: 70035.4905358\ttotal: 1.32s\tremaining: 2.93s\n",
      "32:\tlearn: 69301.2971299\ttotal: 1.37s\tremaining: 2.79s\n",
      "34:\tlearn: 68555.3847321\ttotal: 1.43s\tremaining: 2.65s\n",
      "36:\tlearn: 67853.2553568\ttotal: 1.48s\tremaining: 2.51s\n",
      "38:\tlearn: 67128.0890434\ttotal: 1.52s\tremaining: 2.38s\n",
      "40:\tlearn: 66401.2657188\ttotal: 1.56s\tremaining: 2.25s\n",
      "42:\tlearn: 65676.9921204\ttotal: 1.61s\tremaining: 2.13s\n",
      "44:\tlearn: 65024.0618664\ttotal: 1.65s\tremaining: 2.02s\n",
      "46:\tlearn: 64429.8072466\ttotal: 1.71s\tremaining: 1.93s\n",
      "48:\tlearn: 63768.3231516\ttotal: 1.77s\tremaining: 1.84s\n",
      "50:\tlearn: 63176.9152928\ttotal: 1.84s\tremaining: 1.77s\n",
      "52:\tlearn: 62580.8654544\ttotal: 1.9s\tremaining: 1.69s\n",
      "54:\tlearn: 62018.2135898\ttotal: 1.95s\tremaining: 1.6s\n",
      "56:\tlearn: 61438.8464491\ttotal: 2.01s\tremaining: 1.51s\n",
      "58:\tlearn: 60828.4333679\ttotal: 2.06s\tremaining: 1.43s\n",
      "60:\tlearn: 60226.9610240\ttotal: 2.11s\tremaining: 1.35s\n",
      "62:\tlearn: 59665.2830519\ttotal: 2.16s\tremaining: 1.27s\n",
      "64:\tlearn: 59095.4427559\ttotal: 2.21s\tremaining: 1.19s\n",
      "66:\tlearn: 58531.5898362\ttotal: 2.26s\tremaining: 1.11s\n",
      "68:\tlearn: 57999.0141142\ttotal: 2.31s\tremaining: 1.04s\n",
      "70:\tlearn: 57435.5014557\ttotal: 2.34s\tremaining: 956ms\n",
      "72:\tlearn: 56926.1540843\ttotal: 2.4s\tremaining: 887ms\n",
      "74:\tlearn: 56431.5829846\ttotal: 2.46s\tremaining: 819ms\n",
      "76:\tlearn: 55901.4879708\ttotal: 2.52s\tremaining: 752ms\n",
      "78:\tlearn: 55414.9996502\ttotal: 2.58s\tremaining: 686ms\n",
      "80:\tlearn: 54919.5943182\ttotal: 2.63s\tremaining: 617ms\n",
      "82:\tlearn: 54449.9738337\ttotal: 2.68s\tremaining: 549ms\n",
      "84:\tlearn: 53992.5253942\ttotal: 2.73s\tremaining: 481ms\n",
      "86:\tlearn: 53485.2185743\ttotal: 2.77s\tremaining: 415ms\n",
      "88:\tlearn: 53013.9269416\ttotal: 2.82s\tremaining: 348ms\n",
      "90:\tlearn: 52581.4703138\ttotal: 2.86s\tremaining: 283ms\n",
      "92:\tlearn: 52163.1464617\ttotal: 2.91s\tremaining: 219ms\n",
      "94:\tlearn: 51738.5560551\ttotal: 2.98s\tremaining: 157ms\n",
      "96:\tlearn: 51329.8785455\ttotal: 3.05s\tremaining: 94.4ms\n",
      "98:\tlearn: 50947.0605094\ttotal: 3.1s\tremaining: 31.4ms\n",
      "99:\tlearn: 50761.4919659\ttotal: 3.13s\tremaining: 0us\n",
      "0:\tlearn: 66550.1202391\ttotal: 21.9ms\tremaining: 2.16s\n",
      "2:\tlearn: 65758.2460478\ttotal: 63.3ms\tremaining: 2.05s\n",
      "4:\tlearn: 64981.3160518\ttotal: 110ms\tremaining: 2.1s\n",
      "6:\tlearn: 64221.4038289\ttotal: 165ms\tremaining: 2.19s\n",
      "8:\tlearn: 63472.4172105\ttotal: 225ms\tremaining: 2.27s\n",
      "10:\tlearn: 62752.3585835\ttotal: 324ms\tremaining: 2.62s\n",
      "12:\tlearn: 62011.0593010\ttotal: 435ms\tremaining: 2.91s\n",
      "14:\tlearn: 61346.3157871\ttotal: 494ms\tremaining: 2.8s\n",
      "16:\tlearn: 60693.3670947\ttotal: 579ms\tremaining: 2.83s\n",
      "18:\tlearn: 60041.8598204\ttotal: 651ms\tremaining: 2.77s\n",
      "20:\tlearn: 59415.6185999\ttotal: 711ms\tremaining: 2.68s\n",
      "22:\tlearn: 58802.5691334\ttotal: 781ms\tremaining: 2.62s\n",
      "24:\tlearn: 58157.8580700\ttotal: 846ms\tremaining: 2.54s\n",
      "26:\tlearn: 57576.7568715\ttotal: 907ms\tremaining: 2.45s\n",
      "28:\tlearn: 56969.4029086\ttotal: 977ms\tremaining: 2.39s\n",
      "30:\tlearn: 56405.9309131\ttotal: 1.04s\tremaining: 2.33s\n",
      "32:\tlearn: 55835.1422811\ttotal: 1.14s\tremaining: 2.31s\n",
      "34:\tlearn: 55240.5560119\ttotal: 1.22s\tremaining: 2.27s\n",
      "36:\tlearn: 54716.5760416\ttotal: 1.31s\tremaining: 2.23s\n",
      "38:\tlearn: 54133.8384109\ttotal: 1.39s\tremaining: 2.17s\n",
      "40:\tlearn: 53592.8256061\ttotal: 1.47s\tremaining: 2.11s\n",
      "42:\tlearn: 53026.2666667\ttotal: 1.53s\tremaining: 2.03s\n",
      "44:\tlearn: 52540.3245483\ttotal: 1.6s\tremaining: 1.96s\n",
      "46:\tlearn: 52016.8688258\ttotal: 1.66s\tremaining: 1.88s\n",
      "48:\tlearn: 51511.8779833\ttotal: 1.73s\tremaining: 1.8s\n",
      "50:\tlearn: 51001.2716428\ttotal: 1.81s\tremaining: 1.74s\n",
      "52:\tlearn: 50488.9678281\ttotal: 1.88s\tremaining: 1.66s\n",
      "54:\tlearn: 50018.6089867\ttotal: 1.94s\tremaining: 1.59s\n",
      "56:\tlearn: 49551.0167751\ttotal: 2.01s\tremaining: 1.51s\n",
      "58:\tlearn: 49110.2898261\ttotal: 2.1s\tremaining: 1.46s\n",
      "60:\tlearn: 48628.5586560\ttotal: 2.25s\tremaining: 1.44s\n",
      "62:\tlearn: 48170.1033764\ttotal: 2.36s\tremaining: 1.39s\n",
      "64:\tlearn: 47746.5024169\ttotal: 2.42s\tremaining: 1.3s\n",
      "66:\tlearn: 47302.7765190\ttotal: 2.48s\tremaining: 1.22s\n",
      "68:\tlearn: 46863.1520042\ttotal: 2.54s\tremaining: 1.14s\n",
      "70:\tlearn: 46450.3792250\ttotal: 2.6s\tremaining: 1.06s\n",
      "72:\tlearn: 46031.2327440\ttotal: 2.65s\tremaining: 978ms\n",
      "74:\tlearn: 45643.8584076\ttotal: 2.71s\tremaining: 904ms\n",
      "76:\tlearn: 45235.8271081\ttotal: 2.78s\tremaining: 830ms\n",
      "78:\tlearn: 44842.7461831\ttotal: 2.85s\tremaining: 757ms\n",
      "80:\tlearn: 44480.3142772\ttotal: 2.91s\tremaining: 682ms\n",
      "82:\tlearn: 44074.3974097\ttotal: 2.96s\tremaining: 606ms\n",
      "84:\tlearn: 43679.1376621\ttotal: 3.01s\tremaining: 531ms\n",
      "86:\tlearn: 43322.0055768\ttotal: 3.07s\tremaining: 459ms\n",
      "88:\tlearn: 42956.5305472\ttotal: 3.12s\tremaining: 385ms\n",
      "90:\tlearn: 42596.5214921\ttotal: 3.18s\tremaining: 314ms\n",
      "92:\tlearn: 42252.7687193\ttotal: 3.23s\tremaining: 243ms\n",
      "94:\tlearn: 41905.5681116\ttotal: 3.29s\tremaining: 173ms\n",
      "96:\tlearn: 41577.2173075\ttotal: 3.34s\tremaining: 103ms\n",
      "98:\tlearn: 41241.7207129\ttotal: 3.38s\tremaining: 34.2ms\n",
      "99:\tlearn: 41062.4949060\ttotal: 3.41s\tremaining: 0us\n",
      "0:\tlearn: 74660.4118139\ttotal: 24.2ms\tremaining: 2.39s\n",
      "2:\tlearn: 66574.7946031\ttotal: 77.2ms\tremaining: 2.5s\n",
      "4:\tlearn: 59823.4543770\ttotal: 126ms\tremaining: 2.4s\n",
      "6:\tlearn: 54667.8010207\ttotal: 180ms\tremaining: 2.39s\n",
      "8:\tlearn: 50009.7155303\ttotal: 239ms\tremaining: 2.42s\n",
      "10:\tlearn: 46100.1630453\ttotal: 303ms\tremaining: 2.45s\n",
      "12:\tlearn: 42934.3777706\ttotal: 357ms\tremaining: 2.39s\n",
      "14:\tlearn: 40153.7089064\ttotal: 409ms\tremaining: 2.32s\n",
      "16:\tlearn: 37539.3722394\ttotal: 468ms\tremaining: 2.28s\n",
      "18:\tlearn: 35370.3994826\ttotal: 525ms\tremaining: 2.24s\n",
      "20:\tlearn: 33739.1029041\ttotal: 588ms\tremaining: 2.21s\n",
      "22:\tlearn: 32090.8558833\ttotal: 694ms\tremaining: 2.32s\n",
      "24:\tlearn: 30947.3625673\ttotal: 791ms\tremaining: 2.37s\n",
      "26:\tlearn: 29819.4384296\ttotal: 865ms\tremaining: 2.34s\n",
      "28:\tlearn: 28818.4374154\ttotal: 937ms\tremaining: 2.29s\n",
      "30:\tlearn: 27905.2489145\ttotal: 1s\tremaining: 2.23s\n",
      "32:\tlearn: 27116.4350486\ttotal: 1.06s\tremaining: 2.16s\n",
      "34:\tlearn: 26358.9226515\ttotal: 1.11s\tremaining: 2.06s\n",
      "36:\tlearn: 25656.8942830\ttotal: 1.15s\tremaining: 1.97s\n",
      "38:\tlearn: 25063.2389259\ttotal: 1.2s\tremaining: 1.88s\n",
      "40:\tlearn: 24682.1543314\ttotal: 1.25s\tremaining: 1.8s\n",
      "42:\tlearn: 24176.9823632\ttotal: 1.3s\tremaining: 1.73s\n",
      "44:\tlearn: 23847.9258889\ttotal: 1.36s\tremaining: 1.66s\n",
      "46:\tlearn: 23609.1655486\ttotal: 1.44s\tremaining: 1.62s\n",
      "48:\tlearn: 23195.2978748\ttotal: 1.5s\tremaining: 1.56s\n",
      "50:\tlearn: 22868.7116450\ttotal: 1.56s\tremaining: 1.5s\n",
      "52:\tlearn: 22561.8632462\ttotal: 1.61s\tremaining: 1.43s\n",
      "54:\tlearn: 22355.5861960\ttotal: 1.66s\tremaining: 1.36s\n",
      "56:\tlearn: 22077.2701688\ttotal: 1.71s\tremaining: 1.29s\n",
      "58:\tlearn: 21713.5620451\ttotal: 1.77s\tremaining: 1.23s\n",
      "60:\tlearn: 21489.3453579\ttotal: 1.8s\tremaining: 1.15s\n",
      "62:\tlearn: 21226.7908523\ttotal: 1.85s\tremaining: 1.09s\n",
      "64:\tlearn: 21021.0980219\ttotal: 1.9s\tremaining: 1.02s\n",
      "66:\tlearn: 20929.6197996\ttotal: 1.95s\tremaining: 960ms\n",
      "68:\tlearn: 20792.2307729\ttotal: 1.99s\tremaining: 895ms\n",
      "70:\tlearn: 20486.0283418\ttotal: 2.06s\tremaining: 843ms\n",
      "72:\tlearn: 20362.7203022\ttotal: 2.13s\tremaining: 788ms\n",
      "74:\tlearn: 20157.6682158\ttotal: 2.19s\tremaining: 731ms\n",
      "76:\tlearn: 20046.7933964\ttotal: 2.23s\tremaining: 667ms\n",
      "78:\tlearn: 19844.8757241\ttotal: 2.29s\tremaining: 608ms\n",
      "80:\tlearn: 19654.7994755\ttotal: 2.32s\tremaining: 545ms\n",
      "82:\tlearn: 19495.7941355\ttotal: 2.35s\tremaining: 482ms\n",
      "84:\tlearn: 19321.7295785\ttotal: 2.39s\tremaining: 421ms\n",
      "86:\tlearn: 19269.1288960\ttotal: 2.42s\tremaining: 361ms\n",
      "88:\tlearn: 19106.4915592\ttotal: 2.45s\tremaining: 303ms\n",
      "90:\tlearn: 19059.8115312\ttotal: 2.48s\tremaining: 245ms\n",
      "92:\tlearn: 19012.5714528\ttotal: 2.5s\tremaining: 189ms\n",
      "94:\tlearn: 18971.0585544\ttotal: 2.52s\tremaining: 132ms\n",
      "96:\tlearn: 18787.6687936\ttotal: 2.54s\tremaining: 78.7ms\n",
      "98:\tlearn: 18749.7006710\ttotal: 2.55s\tremaining: 25.8ms\n",
      "99:\tlearn: 18626.9507023\ttotal: 2.57s\tremaining: 0us\n",
      "{'learning_rate': 0.1, 'l2_leaf_reg': 9, 'iterations': 100, 'depth': 8}\n",
      "0.8471295873017197\n"
     ]
    }
   ],
   "source": [
    "# initialize Pool\n",
    "train_pool = Pool(X_train, y_train)\n",
    "test_pool = Pool(X_test) \n",
    "\n",
    "param_dist = {\n",
    "    'depth': [6,8,10],\n",
    "    'learning_rate' : [0.01, 0.05, 0.1],\n",
    "    'iterations'    : [30, 50, 100],\n",
    "    'l2_leaf_reg': [1, 3, 5, 7, 9]\n",
    "}\n",
    "#Instantiate RandomSearchCV object\n",
    "cbr = CatBoostRegressor()\n",
    "\n",
    "random_grid = RandomizedSearchCV(cbr, param_dist, cv =5)\n",
    "\n",
    "#Fit the model\n",
    "random_grid.fit(X_train, y_train, verbose=2)\n",
    "\n",
    "# Print the tuned parameters and score\n",
    "print(random_grid.best_params_)\n",
    "print(random_grid.best_score_)\n"
   ]
  },
  {
   "source": [
    "Use these params to start grid search"
   ],
   "cell_type": "markdown",
   "metadata": {}
  },
  {
   "cell_type": "code",
   "execution_count": 25,
   "metadata": {},
   "outputs": [
    {
     "output_type": "error",
     "ename": "NameError",
     "evalue": "name 'cbr' is not defined",
     "traceback": [
      "\u001b[0;31m---------------------------------------------------------------------------\u001b[0m",
      "\u001b[0;31mNameError\u001b[0m                                 Traceback (most recent call last)",
      "\u001b[0;32m<ipython-input-25-bfeb58fb3755>\u001b[0m in \u001b[0;36m<module>\u001b[0;34m\u001b[0m\n\u001b[1;32m      7\u001b[0m }\n\u001b[1;32m      8\u001b[0m \u001b[0;34m\u001b[0m\u001b[0m\n\u001b[0;32m----> 9\u001b[0;31m grid_search = GridSearchCV(estimator = cbr, param_grid = param_grid, \n\u001b[0m\u001b[1;32m     10\u001b[0m                           cv = 4, n_jobs = -1, verbose = 1)\n\u001b[1;32m     11\u001b[0m \u001b[0mgrid_search\u001b[0m\u001b[0;34m.\u001b[0m\u001b[0mfit\u001b[0m\u001b[0;34m(\u001b[0m\u001b[0mX_train\u001b[0m\u001b[0;34m,\u001b[0m \u001b[0my_train\u001b[0m\u001b[0;34m)\u001b[0m\u001b[0;34m\u001b[0m\u001b[0;34m\u001b[0m\u001b[0m\n",
      "\u001b[0;31mNameError\u001b[0m: name 'cbr' is not defined"
     ]
    }
   ],
   "source": [
    "param_grid = {\n",
    "    'learning_rate': [0.05, 0.1, 0.2, 0.4],\n",
    "    'iterations': [80, 100, 150, 200], \n",
    "    'depth': [ 6, 8, 10],\n",
    "    'l2_leaf_reg': [1, 3, 5, 9],\n",
    "    'random_strength': [1,2]\n",
    "}\n",
    "\n",
    "grid_search = GridSearchCV(estimator = cbr, param_grid = param_grid, \n",
    "                          cv = 4, n_jobs = -1, verbose = 1)\n",
    "grid_search.fit(X_train, y_train)"
   ]
  },
  {
   "cell_type": "code",
   "execution_count": 212,
   "metadata": {},
   "outputs": [
    {
     "output_type": "stream",
     "name": "stdout",
     "text": [
      "{'depth': 4, 'iterations': 150, 'l2_leaf_reg': 1, 'learning_rate': 0.1, 'random_strength': 1}\n0.8789847410809853\n"
     ]
    }
   ],
   "source": [
    "print(grid_search.best_params_)\n",
    "print(grid_search.best_score_)"
   ]
  },
  {
   "cell_type": "code",
   "execution_count": 285,
   "metadata": {},
   "outputs": [
    {
     "output_type": "stream",
     "name": "stdout",
     "text": [
      "Fitting 4 folds for each of 360 candidates, totalling 1440 fits\n",
      "0:\tlearn: 68320.5155412\ttotal: 52.4ms\tremaining: 4.14s\n",
      "1:\tlearn: 60241.0297156\ttotal: 106ms\tremaining: 4.12s\n",
      "2:\tlearn: 53919.3858586\ttotal: 150ms\tremaining: 3.86s\n",
      "3:\tlearn: 48283.6112880\ttotal: 195ms\tremaining: 3.7s\n",
      "4:\tlearn: 44236.6117771\ttotal: 227ms\tremaining: 3.41s\n",
      "5:\tlearn: 40926.4679700\ttotal: 268ms\tremaining: 3.31s\n",
      "6:\tlearn: 38278.9689674\ttotal: 308ms\tremaining: 3.21s\n",
      "7:\tlearn: 35747.0529618\ttotal: 349ms\tremaining: 3.14s\n",
      "8:\tlearn: 33640.1432039\ttotal: 390ms\tremaining: 3.08s\n",
      "9:\tlearn: 32137.3551152\ttotal: 426ms\tremaining: 2.98s\n",
      "10:\tlearn: 30461.6872348\ttotal: 460ms\tremaining: 2.89s\n",
      "11:\tlearn: 29163.9706023\ttotal: 499ms\tremaining: 2.82s\n",
      "12:\tlearn: 27832.7083433\ttotal: 538ms\tremaining: 2.77s\n",
      "13:\tlearn: 26800.4544658\ttotal: 575ms\tremaining: 2.71s\n",
      "14:\tlearn: 25949.2357129\ttotal: 614ms\tremaining: 2.66s\n",
      "15:\tlearn: 25328.5371871\ttotal: 646ms\tremaining: 2.58s\n",
      "16:\tlearn: 24752.0459579\ttotal: 681ms\tremaining: 2.52s\n",
      "17:\tlearn: 24207.2776155\ttotal: 725ms\tremaining: 2.5s\n",
      "18:\tlearn: 23791.7343001\ttotal: 766ms\tremaining: 2.46s\n",
      "19:\tlearn: 23269.1691217\ttotal: 805ms\tremaining: 2.42s\n",
      "20:\tlearn: 23001.7310227\ttotal: 841ms\tremaining: 2.36s\n",
      "21:\tlearn: 22557.0796866\ttotal: 875ms\tremaining: 2.31s\n",
      "22:\tlearn: 22287.7142285\ttotal: 915ms\tremaining: 2.27s\n",
      "23:\tlearn: 21994.4134660\ttotal: 957ms\tremaining: 2.23s\n",
      "24:\tlearn: 21764.2172059\ttotal: 994ms\tremaining: 2.19s\n",
      "25:\tlearn: 21453.8838529\ttotal: 1.03s\tremaining: 2.14s\n",
      "26:\tlearn: 21180.9005936\ttotal: 1.06s\tremaining: 2.09s\n",
      "27:\tlearn: 21044.3400103\ttotal: 1.1s\tremaining: 2.05s\n",
      "28:\tlearn: 20856.1698301\ttotal: 1.15s\tremaining: 2.02s\n",
      "29:\tlearn: 20621.4232167\ttotal: 1.19s\tremaining: 1.98s\n",
      "30:\tlearn: 20386.4153422\ttotal: 1.23s\tremaining: 1.94s\n",
      "31:\tlearn: 20251.9588923\ttotal: 1.26s\tremaining: 1.89s\n",
      "32:\tlearn: 20135.8249794\ttotal: 1.28s\tremaining: 1.82s\n",
      "33:\tlearn: 19965.7518359\ttotal: 1.31s\tremaining: 1.78s\n",
      "34:\tlearn: 19832.6757323\ttotal: 1.35s\tremaining: 1.74s\n",
      "35:\tlearn: 19764.9450571\ttotal: 1.39s\tremaining: 1.7s\n",
      "36:\tlearn: 19711.1478601\ttotal: 1.4s\tremaining: 1.63s\n",
      "37:\tlearn: 19601.8853933\ttotal: 1.44s\tremaining: 1.59s\n",
      "38:\tlearn: 19514.9571659\ttotal: 1.48s\tremaining: 1.55s\n",
      "39:\tlearn: 19360.4573682\ttotal: 1.51s\tremaining: 1.51s\n",
      "40:\tlearn: 19252.6561270\ttotal: 1.55s\tremaining: 1.48s\n",
      "41:\tlearn: 19075.1943022\ttotal: 1.6s\tremaining: 1.45s\n",
      "42:\tlearn: 18953.1264269\ttotal: 1.64s\tremaining: 1.41s\n",
      "43:\tlearn: 18701.7159197\ttotal: 1.68s\tremaining: 1.37s\n",
      "44:\tlearn: 18482.4295124\ttotal: 1.71s\tremaining: 1.33s\n",
      "45:\tlearn: 18296.6843159\ttotal: 1.75s\tremaining: 1.29s\n",
      "46:\tlearn: 18261.5553830\ttotal: 1.79s\tremaining: 1.26s\n",
      "47:\tlearn: 18199.7028768\ttotal: 1.81s\tremaining: 1.21s\n",
      "48:\tlearn: 18108.2809582\ttotal: 1.85s\tremaining: 1.17s\n",
      "49:\tlearn: 18084.9929359\ttotal: 1.88s\tremaining: 1.13s\n",
      "50:\tlearn: 17970.2599445\ttotal: 1.92s\tremaining: 1.09s\n",
      "51:\tlearn: 17867.7571244\ttotal: 1.95s\tremaining: 1.05s\n",
      "52:\tlearn: 17818.0200053\ttotal: 1.99s\tremaining: 1.01s\n",
      "53:\tlearn: 17699.3895168\ttotal: 2.04s\tremaining: 980ms\n",
      "54:\tlearn: 17525.6138697\ttotal: 2.08s\tremaining: 943ms\n",
      "55:\tlearn: 17430.9937343\ttotal: 2.11s\tremaining: 906ms\n",
      "56:\tlearn: 17417.2873511\ttotal: 2.15s\tremaining: 868ms\n",
      "57:\tlearn: 17251.3598489\ttotal: 2.19s\tremaining: 830ms\n",
      "58:\tlearn: 17121.5093885\ttotal: 2.22s\tremaining: 791ms\n",
      "59:\tlearn: 16966.7928122\ttotal: 2.26s\tremaining: 753ms\n",
      "60:\tlearn: 16867.0747585\ttotal: 2.3s\tremaining: 716ms\n",
      "61:\tlearn: 16856.3110920\ttotal: 2.34s\tremaining: 680ms\n",
      "62:\tlearn: 16673.7255923\ttotal: 2.38s\tremaining: 641ms\n",
      "63:\tlearn: 16542.1095279\ttotal: 2.41s\tremaining: 603ms\n",
      "64:\tlearn: 16446.0603538\ttotal: 2.46s\tremaining: 567ms\n",
      "65:\tlearn: 16282.3041536\ttotal: 2.49s\tremaining: 528ms\n",
      "66:\tlearn: 16178.1353197\ttotal: 2.53s\tremaining: 491ms\n",
      "67:\tlearn: 16071.4445394\ttotal: 2.56s\tremaining: 452ms\n",
      "68:\tlearn: 16063.2583772\ttotal: 2.59s\tremaining: 414ms\n",
      "69:\tlearn: 15997.3002012\ttotal: 2.63s\tremaining: 376ms\n",
      "70:\tlearn: 15926.8732787\ttotal: 2.68s\tremaining: 340ms\n",
      "71:\tlearn: 15772.8912418\ttotal: 2.72s\tremaining: 302ms\n",
      "72:\tlearn: 15645.6312746\ttotal: 2.75s\tremaining: 264ms\n",
      "73:\tlearn: 15529.4349322\ttotal: 2.78s\tremaining: 226ms\n",
      "74:\tlearn: 15416.7548413\ttotal: 2.83s\tremaining: 189ms\n",
      "75:\tlearn: 15307.2539780\ttotal: 2.88s\tremaining: 151ms\n",
      "76:\tlearn: 15196.0734674\ttotal: 2.92s\tremaining: 114ms\n",
      "77:\tlearn: 15078.9974990\ttotal: 2.96s\tremaining: 75.8ms\n",
      "78:\tlearn: 14952.7103222\ttotal: 2.99s\tremaining: 37.9ms\n",
      "79:\tlearn: 14846.4282516\ttotal: 3.04s\tremaining: 0us\n"
     ]
    },
    {
     "output_type": "execute_result",
     "data": {
      "text/plain": [
       "GridSearchCV(cv=4,\n",
       "             estimator=<catboost.core.CatBoostRegressor object at 0x7fb96c0812b0>,\n",
       "             n_jobs=-1,\n",
       "             param_grid={'depth': [4, 6, 10], 'iterations': [50, 80, 100, 150],\n",
       "                         'l2_leaf_reg': [1, 3, 5],\n",
       "                         'learning_rate': [0.05, 0.1, 0.2, 0.4, 0.8],\n",
       "                         'random_strength': [1, 2]},\n",
       "             verbose=1)"
      ]
     },
     "metadata": {},
     "execution_count": 285
    }
   ],
   "source": [
    "grid_search_small = GridSearchCV(estimator = cbr, param_grid = param_grid, \n",
    "                          cv = 4, n_jobs = -1, verbose = 1)\n",
    "grid_search_small.fit(X_train_small, y_train)"
   ]
  },
  {
   "cell_type": "code",
   "execution_count": 286,
   "metadata": {},
   "outputs": [
    {
     "output_type": "stream",
     "name": "stdout",
     "text": [
      "{'depth': 6, 'iterations': 80, 'l2_leaf_reg': 3, 'learning_rate': 0.2, 'random_strength': 1}\n0.8614599373271481\n"
     ]
    }
   ],
   "source": [
    "print(grid_search_small.best_params_)\n",
    "print(grid_search_small.best_score_)"
   ]
  },
  {
   "cell_type": "code",
   "execution_count": 213,
   "metadata": {},
   "outputs": [],
   "source": [
    "best_cb = CatBoostRegressor(**grid_search.best_params_)"
   ]
  },
  {
   "cell_type": "code",
   "execution_count": 214,
   "metadata": {},
   "outputs": [],
   "source": [
    "manual_cb = CatBoostRegressor(**{'depth': 10, 'iterations': 200, 'l2_leaf_reg': 5, 'learning_rate': 0.4, 'random_strength': 2})"
   ]
  },
  {
   "source": [
    "## Random Forest\n",
    "\n",
    "First use random search again"
   ],
   "cell_type": "markdown",
   "metadata": {}
  },
  {
   "cell_type": "code",
   "execution_count": 120,
   "metadata": {},
   "outputs": [],
   "source": [
    "# Number of trees in random forest\n",
    "n_estimators = [int(x) for x in np.linspace(start = 200, stop = 2000, num = 10)]\n",
    "# Number of features to consider at every split\n",
    "max_features = ['auto', 'sqrt']\n",
    "# Maximum number of levels in tree\n",
    "max_depth = [int(x) for x in np.linspace(10, 110, num = 11)]\n",
    "max_depth.append(None)\n",
    "# Minimum number of samples required to split a node\n",
    "min_samples_split = [2, 5, 10, 40]\n",
    "# Minimum number of samples required at each leaf node\n",
    "min_samples_leaf = [1, 2, 4, 5, 10, 50]\n",
    "# Method of selecting samples for training each tree\n",
    "bootstrap = [True, False]\n",
    "# Create the random grid\n",
    "random_grid = {\n",
    "    'n_estimators': n_estimators,\n",
    "    'max_features': max_features,\n",
    "    'max_depth': max_depth,\n",
    "    'min_samples_split': min_samples_split,\n",
    "    'min_samples_leaf': min_samples_leaf,\n",
    "    'bootstrap': bootstrap\n",
    "}"
   ]
  },
  {
   "cell_type": "code",
   "execution_count": 121,
   "metadata": {},
   "outputs": [
    {
     "output_type": "stream",
     "name": "stdout",
     "text": [
      "Fitting 5 folds for each of 100 candidates, totalling 500 fits\n"
     ]
    },
    {
     "output_type": "execute_result",
     "data": {
      "text/plain": [
       "RandomizedSearchCV(cv=5, estimator=RandomForestRegressor(), n_iter=100,\n",
       "                   n_jobs=-1,\n",
       "                   param_distributions={'bootstrap': [True, False],\n",
       "                                        'max_depth': [10, 20, 30, 40, 50, 60,\n",
       "                                                      70, 80, 90, 100, 110,\n",
       "                                                      None],\n",
       "                                        'max_features': ['auto', 'sqrt'],\n",
       "                                        'min_samples_leaf': [1, 2, 4, 5, 10,\n",
       "                                                             50],\n",
       "                                        'min_samples_split': [2, 5, 10, 40],\n",
       "                                        'n_estimators': [200, 400, 600, 800,\n",
       "                                                         1000, 1200, 1400, 1600,\n",
       "                                                         1800, 2000]},\n",
       "                   random_state=42, verbose=2)"
      ]
     },
     "metadata": {},
     "execution_count": 121
    }
   ],
   "source": [
    "rf = RandomForestRegressor()\n",
    "rf_random = RandomizedSearchCV(estimator = rf, param_distributions = random_grid, n_iter = 100, cv = 5, verbose=2, random_state=42, n_jobs = -1)\n",
    "# Fit the random search model\n",
    "rf_random.fit(X_train, y_train)"
   ]
  },
  {
   "cell_type": "code",
   "execution_count": 123,
   "metadata": {},
   "outputs": [
    {
     "output_type": "display_data",
     "data": {
      "text/plain": "{'n_estimators': 1200,\n 'min_samples_split': 2,\n 'min_samples_leaf': 1,\n 'max_features': 'sqrt',\n 'max_depth': 110,\n 'bootstrap': False}"
     },
     "metadata": {}
    },
    {
     "output_type": "display_data",
     "data": {
      "text/plain": "0.8644008815472926"
     },
     "metadata": {}
    }
   ],
   "source": [
    "display(rf_random.best_params_)\n",
    "display(rf_random.best_score_)"
   ]
  },
  {
   "cell_type": "code",
   "execution_count": 175,
   "metadata": {},
   "outputs": [],
   "source": [
    "best_rf_rand = RandomForestRegressor(**rf_random.best_params_)"
   ]
  },
  {
   "source": [
    "Use these parameters to create full grid search"
   ],
   "cell_type": "markdown",
   "metadata": {}
  },
  {
   "cell_type": "code",
   "execution_count": 215,
   "metadata": {},
   "outputs": [
    {
     "output_type": "stream",
     "name": "stdout",
     "text": [
      "Fitting 5 folds for each of 108 candidates, totalling 540 fits\n"
     ]
    },
    {
     "output_type": "execute_result",
     "data": {
      "text/plain": [
       "GridSearchCV(cv=5, estimator=RandomForestRegressor(), n_jobs=-1,\n",
       "             param_grid={'bootstrap': [False], 'max_depth': [100, 110, 120],\n",
       "                         'max_features': ['sqrt'],\n",
       "                         'min_samples_leaf': [1, 10, 50],\n",
       "                         'min_samples_split': [2, 6, 12, 18],\n",
       "                         'n_estimators': [1000, 1200, 1400]},\n",
       "             verbose=2)"
      ]
     },
     "metadata": {},
     "execution_count": 215
    }
   ],
   "source": [
    "rf_param_grid = {\n",
    "    'bootstrap': [False],\n",
    "    'max_depth': [ 100, 110, 120],\n",
    "    'max_features': ['sqrt'],\n",
    "    'min_samples_leaf': [ 1, 10, 50],\n",
    "    'min_samples_split': [ 2, 6, 12, 18],\n",
    "    'n_estimators': [ 1000, 1200, 1400]\n",
    "}\n",
    "\n",
    "rf_grid_search = GridSearchCV(estimator = rf, param_grid = rf_param_grid, \n",
    "                          cv = 5, n_jobs = -1, verbose = 2)\n",
    "rf_grid_search.fit(X_train, y_train)"
   ]
  },
  {
   "cell_type": "code",
   "execution_count": 216,
   "metadata": {},
   "outputs": [
    {
     "output_type": "display_data",
     "data": {
      "text/plain": "{'bootstrap': False,\n 'max_depth': 100,\n 'max_features': 'sqrt',\n 'min_samples_leaf': 1,\n 'min_samples_split': 2,\n 'n_estimators': 1200}"
     },
     "metadata": {}
    },
    {
     "output_type": "display_data",
     "data": {
      "text/plain": "0.8604519890431638"
     },
     "metadata": {}
    }
   ],
   "source": [
    "display(rf_grid_search.best_params_)\n",
    "display(rf_grid_search.best_score_)"
   ]
  },
  {
   "cell_type": "code",
   "execution_count": 287,
   "metadata": {},
   "outputs": [
    {
     "output_type": "stream",
     "name": "stdout",
     "text": [
      "Fitting 5 folds for each of 108 candidates, totalling 540 fits\n"
     ]
    },
    {
     "output_type": "execute_result",
     "data": {
      "text/plain": [
       "GridSearchCV(cv=5, estimator=RandomForestRegressor(), n_jobs=-1,\n",
       "             param_grid={'bootstrap': [False], 'max_depth': [100, 110, 120],\n",
       "                         'max_features': ['sqrt'],\n",
       "                         'min_samples_leaf': [1, 10, 50],\n",
       "                         'min_samples_split': [2, 6, 12, 18],\n",
       "                         'n_estimators': [1000, 1200, 1400]},\n",
       "             verbose=2)"
      ]
     },
     "metadata": {},
     "execution_count": 287
    }
   ],
   "source": [
    "rf_grid_search_small = GridSearchCV(estimator = rf, param_grid = rf_param_grid, \n",
    "                          cv = 5, n_jobs = -1, verbose = 2)\n",
    "rf_grid_search_small.fit(X_train_small, y_train)"
   ]
  },
  {
   "cell_type": "code",
   "execution_count": 288,
   "metadata": {},
   "outputs": [
    {
     "output_type": "display_data",
     "data": {
      "text/plain": "{'bootstrap': False,\n 'max_depth': 120,\n 'max_features': 'sqrt',\n 'min_samples_leaf': 1,\n 'min_samples_split': 2,\n 'n_estimators': 1400}"
     },
     "metadata": {}
    },
    {
     "output_type": "display_data",
     "data": {
      "text/plain": "0.8646889087423275"
     },
     "metadata": {}
    }
   ],
   "source": [
    "display(rf_grid_search_small.best_params_)\n",
    "display(rf_grid_search_small.best_score_)"
   ]
  },
  {
   "cell_type": "code",
   "execution_count": 217,
   "metadata": {},
   "outputs": [],
   "source": [
    "best_rf = RandomForestRegressor(**rf_grid_search.best_params_)"
   ]
  },
  {
   "source": [
    "## Elastic Search\n",
    "Try a linear model for rounding off ensembling. Apparently this is good for many features not enough obs"
   ],
   "cell_type": "markdown",
   "metadata": {}
  },
  {
   "cell_type": "code",
   "execution_count": 289,
   "metadata": {},
   "outputs": [
    {
     "output_type": "stream",
     "name": "stdout",
     "text": [
      "Fitting 5 folds for each of 30 candidates, totalling 150 fits\n",
      "/Users/oliverharvey/anaconda3/envs/titanic/lib/python3.8/site-packages/sklearn/model_selection/_search.py:918: UserWarning: One or more of the test scores are non-finite: [0.80296783 0.80296527 0.80296011 0.8029549  0.80294163        nan\n",
      " 0.80384405 0.80380894 0.80372137 0.80360102 0.80294174        nan\n",
      " 0.80294163 0.80294163 0.80294163 0.80294163 0.80294163        nan\n",
      " 0.73171771 0.73304775 0.73652086 0.74177239 0.80368416        nan\n",
      " 0.7193208  0.71938918 0.71966137 0.72033568 0.80535976        nan]\n",
      "  warnings.warn(\n",
      "/Users/oliverharvey/anaconda3/envs/titanic/lib/python3.8/site-packages/sklearn/linear_model/_coordinate_descent.py:530: ConvergenceWarning: Objective did not converge. You might want to increase the number of iterations. Duality gap: 237804370874.63586, tolerance: 920791133.4609975\n",
      "  model = cd_fast.enet_coordinate_descent(\n"
     ]
    },
    {
     "output_type": "execute_result",
     "data": {
      "text/plain": [
       "GridSearchCV(cv=5, estimator=ElasticNet(), n_jobs=-1,\n",
       "             param_grid={'alpha': [1e-05, 0.001, 0.0, 10.0, 100.0],\n",
       "                         'l1_ratio': [0, 0.1, 0.3, 0.5, 1, 2]},\n",
       "             verbose=2)"
      ]
     },
     "metadata": {},
     "execution_count": 289
    }
   ],
   "source": [
    "en_grid = {\n",
    "    'alpha': [1e-5, 1e-3, 0.0, 10.0, 100.0],\n",
    "    'l1_ratio': [0,0.1, 0.3, 0.5, 1, 2]\n",
    "}\n",
    "en = ElasticNet()\n",
    "en_grid_search = GridSearchCV(estimator = en, param_grid = en_grid, \n",
    "                          cv = 5, n_jobs = -1, verbose = 2)\n",
    "en_grid_search.fit(X_train_small, y_train)"
   ]
  },
  {
   "cell_type": "code",
   "execution_count": 290,
   "metadata": {},
   "outputs": [
    {
     "output_type": "display_data",
     "data": {
      "text/plain": "{'alpha': 100.0, 'l1_ratio': 1}"
     },
     "metadata": {}
    },
    {
     "output_type": "display_data",
     "data": {
      "text/plain": "0.8053597604488232"
     },
     "metadata": {}
    }
   ],
   "source": [
    "display(en_grid_search.best_params_)\n",
    "display(en_grid_search.best_score_)"
   ]
  },
  {
   "cell_type": "code",
   "execution_count": 177,
   "metadata": {},
   "outputs": [
    {
     "output_type": "execute_result",
     "data": {
      "text/plain": [
       "ElasticNet(alpha=100.0, l1_ratio=1)"
      ]
     },
     "metadata": {},
     "execution_count": 177
    }
   ],
   "source": [
    "best_en = ElasticNet(**en_grid_search.best_params_)\n",
    "best_en"
   ]
  },
  {
   "source": [
    "Ensemble them all together"
   ],
   "cell_type": "markdown",
   "metadata": {}
  },
  {
   "cell_type": "code",
   "execution_count": 294,
   "metadata": {},
   "outputs": [],
   "source": [
    "def top_n_models(search_results, n, model, prefix):\n",
    "    results = pd.DataFrame(search_results.cv_results_)\n",
    "    results.sort_values(by='rank_test_score', inplace=True)\n",
    "    top_n = results.loc[results.index[:5], 'params'].to_list()\n",
    "    models = []\n",
    "    for i, param in enumerate(top_n):\n",
    "        label = f'{prefix}_{i}'\n",
    "        model_instance = model(**param)\n",
    "        models.append((label, model_instance))\n",
    "    return models\n",
    "\n",
    "catboost_5 = top_n_models(grid_search, 2, CatBoostRegressor, \"Catboost_grid\")\n",
    "catboost_small_5 = top_n_models(grid_search_small, 1, CatBoostRegressor, \"Catboost_small_grid\")\n",
    "rf_5 = top_n_models(rf_grid_search, 1, RandomForestRegressor, \"RF_grid\")\n",
    "rf_small_5 = top_n_models(rf_grid_search_small, 1, RandomForestRegressor, \"RF_small_grid\")"
   ]
  },
  {
   "cell_type": "code",
   "execution_count": 302,
   "metadata": {},
   "outputs": [],
   "source": [
    "# cv = KFold(n_splits=5, random_state=1, shuffle=True)\n",
    "\n",
    "ensemble = VotingRegressor(\n",
    "    estimators=[\n",
    "        *catboost_5,\n",
    "        *rf_5,\n",
    "        *catboost_small_5,\n",
    "        # *rf_small_5,\n",
    "        # ('ElasticNet', best_en),\n",
    "        # ('RF Grid', best_rf),\n",
    "        # ('RF Random', best_rf_rand),\n",
    "        # ('Grad Boost', best_cb),\n",
    "        # ('My catboost', manual_cb)\n",
    "    ])\n",
    "# scores_best_ens = cross_val_score(ensemble, X_train, y_train, cv=cv, n_jobs=-1)\n",
    "# scores_best_ens"
   ]
  },
  {
   "cell_type": "code",
   "execution_count": 303,
   "metadata": {
    "tags": [
     "outputPrepend"
    ]
   },
   "outputs": [
    {
     "output_type": "stream",
     "name": "stdout",
     "text": [
      "n: 14252.6871975\ttotal: 598ms\tremaining: 281ms\n",
      "68:\tlearn: 14168.4838216\ttotal: 608ms\tremaining: 273ms\n",
      "69:\tlearn: 14093.1807157\ttotal: 617ms\tremaining: 265ms\n",
      "70:\tlearn: 13971.0958502\ttotal: 627ms\tremaining: 256ms\n",
      "71:\tlearn: 13843.9640791\ttotal: 637ms\tremaining: 248ms\n",
      "72:\tlearn: 13705.5346125\ttotal: 647ms\tremaining: 239ms\n",
      "73:\tlearn: 13576.5771494\ttotal: 657ms\tremaining: 231ms\n",
      "74:\tlearn: 13515.2333327\ttotal: 665ms\tremaining: 222ms\n",
      "75:\tlearn: 13430.1493269\ttotal: 676ms\tremaining: 214ms\n",
      "76:\tlearn: 13310.8064332\ttotal: 686ms\tremaining: 205ms\n",
      "77:\tlearn: 13216.5320479\ttotal: 694ms\tremaining: 196ms\n",
      "78:\tlearn: 13106.3753496\ttotal: 702ms\tremaining: 187ms\n",
      "79:\tlearn: 13034.4092712\ttotal: 709ms\tremaining: 177ms\n",
      "80:\tlearn: 12896.9274627\ttotal: 716ms\tremaining: 168ms\n",
      "81:\tlearn: 12788.0802086\ttotal: 724ms\tremaining: 159ms\n",
      "82:\tlearn: 12700.5412606\ttotal: 731ms\tremaining: 150ms\n",
      "83:\tlearn: 12584.0005357\ttotal: 740ms\tremaining: 141ms\n",
      "84:\tlearn: 12454.3014641\ttotal: 747ms\tremaining: 132ms\n",
      "85:\tlearn: 12382.5872422\ttotal: 755ms\tremaining: 123ms\n",
      "86:\tlearn: 12310.2501248\ttotal: 761ms\tremaining: 114ms\n",
      "87:\tlearn: 12224.6987470\ttotal: 767ms\tremaining: 105ms\n",
      "88:\tlearn: 12157.9404703\ttotal: 775ms\tremaining: 95.7ms\n",
      "89:\tlearn: 12057.0781394\ttotal: 782ms\tremaining: 86.8ms\n",
      "90:\tlearn: 12013.3924839\ttotal: 789ms\tremaining: 78ms\n",
      "91:\tlearn: 11926.4585173\ttotal: 797ms\tremaining: 69.3ms\n",
      "92:\tlearn: 11861.8857264\ttotal: 803ms\tremaining: 60.5ms\n",
      "93:\tlearn: 11800.7617650\ttotal: 810ms\tremaining: 51.7ms\n",
      "94:\tlearn: 11753.6827381\ttotal: 817ms\tremaining: 43ms\n",
      "95:\tlearn: 11683.5408916\ttotal: 823ms\tremaining: 34.3ms\n",
      "96:\tlearn: 11664.0269486\ttotal: 830ms\tremaining: 25.7ms\n",
      "97:\tlearn: 11534.2822565\ttotal: 837ms\tremaining: 17.1ms\n",
      "98:\tlearn: 11441.1369353\ttotal: 844ms\tremaining: 8.52ms\n",
      "99:\tlearn: 11403.6063889\ttotal: 851ms\tremaining: 0us\n",
      "0:\tlearn: 70695.0020718\ttotal: 8.61ms\tremaining: 852ms\n",
      "1:\tlearn: 62466.6488188\ttotal: 17.2ms\tremaining: 844ms\n",
      "2:\tlearn: 57083.7366329\ttotal: 25.9ms\tremaining: 838ms\n",
      "3:\tlearn: 52019.8491415\ttotal: 34.8ms\tremaining: 834ms\n",
      "4:\tlearn: 48027.4520784\ttotal: 42.3ms\tremaining: 804ms\n",
      "5:\tlearn: 44163.4856124\ttotal: 51.7ms\tremaining: 810ms\n",
      "6:\tlearn: 40958.3753889\ttotal: 60.6ms\tremaining: 806ms\n",
      "7:\tlearn: 38941.8652244\ttotal: 69.5ms\tremaining: 799ms\n",
      "8:\tlearn: 37128.5686202\ttotal: 77.2ms\tremaining: 780ms\n",
      "9:\tlearn: 35581.6635269\ttotal: 86.1ms\tremaining: 775ms\n",
      "10:\tlearn: 34265.8432254\ttotal: 92.9ms\tremaining: 752ms\n",
      "11:\tlearn: 32837.5224320\ttotal: 101ms\tremaining: 738ms\n",
      "12:\tlearn: 31586.1740325\ttotal: 107ms\tremaining: 716ms\n",
      "13:\tlearn: 30589.3430648\ttotal: 114ms\tremaining: 700ms\n",
      "14:\tlearn: 29917.8545415\ttotal: 122ms\tremaining: 689ms\n",
      "15:\tlearn: 28998.9158827\ttotal: 130ms\tremaining: 681ms\n",
      "16:\tlearn: 28383.4248125\ttotal: 137ms\tremaining: 669ms\n",
      "17:\tlearn: 27791.2898679\ttotal: 144ms\tremaining: 656ms\n",
      "18:\tlearn: 27014.5636011\ttotal: 151ms\tremaining: 645ms\n",
      "19:\tlearn: 26638.8747837\ttotal: 159ms\tremaining: 636ms\n",
      "20:\tlearn: 26230.0149766\ttotal: 165ms\tremaining: 621ms\n",
      "21:\tlearn: 25956.3607579\ttotal: 172ms\tremaining: 608ms\n",
      "22:\tlearn: 25429.8853902\ttotal: 179ms\tremaining: 598ms\n",
      "23:\tlearn: 24936.3535205\ttotal: 186ms\tremaining: 588ms\n",
      "24:\tlearn: 24775.5785377\ttotal: 194ms\tremaining: 581ms\n",
      "25:\tlearn: 24406.0740993\ttotal: 201ms\tremaining: 573ms\n",
      "26:\tlearn: 24055.7274169\ttotal: 209ms\tremaining: 564ms\n",
      "27:\tlearn: 23843.9517300\ttotal: 216ms\tremaining: 555ms\n",
      "28:\tlearn: 23433.1035600\ttotal: 224ms\tremaining: 548ms\n",
      "29:\tlearn: 23149.4808949\ttotal: 232ms\tremaining: 540ms\n",
      "30:\tlearn: 22937.7297331\ttotal: 239ms\tremaining: 531ms\n",
      "31:\tlearn: 22714.9556775\ttotal: 246ms\tremaining: 522ms\n",
      "32:\tlearn: 22477.9690888\ttotal: 253ms\tremaining: 514ms\n",
      "33:\tlearn: 22313.7215945\ttotal: 259ms\tremaining: 502ms\n",
      "34:\tlearn: 22068.1158624\ttotal: 268ms\tremaining: 498ms\n",
      "35:\tlearn: 21943.7139534\ttotal: 278ms\tremaining: 495ms\n",
      "36:\tlearn: 21715.0332666\ttotal: 287ms\tremaining: 489ms\n",
      "37:\tlearn: 21578.2925267\ttotal: 296ms\tremaining: 483ms\n",
      "38:\tlearn: 21338.6863180\ttotal: 306ms\tremaining: 479ms\n",
      "39:\tlearn: 20990.8561517\ttotal: 317ms\tremaining: 475ms\n",
      "40:\tlearn: 20754.1716281\ttotal: 327ms\tremaining: 471ms\n",
      "41:\tlearn: 20657.0137774\ttotal: 338ms\tremaining: 467ms\n",
      "42:\tlearn: 20568.2524867\ttotal: 348ms\tremaining: 461ms\n",
      "43:\tlearn: 20491.7320317\ttotal: 356ms\tremaining: 454ms\n",
      "44:\tlearn: 20364.8907237\ttotal: 362ms\tremaining: 442ms\n",
      "45:\tlearn: 20140.7475921\ttotal: 371ms\tremaining: 435ms\n",
      "46:\tlearn: 19910.2604076\ttotal: 380ms\tremaining: 429ms\n",
      "47:\tlearn: 19611.1745737\ttotal: 388ms\tremaining: 421ms\n",
      "48:\tlearn: 19387.7615472\ttotal: 398ms\tremaining: 414ms\n",
      "49:\tlearn: 19204.1207559\ttotal: 406ms\tremaining: 406ms\n",
      "50:\tlearn: 19050.0490687\ttotal: 413ms\tremaining: 397ms\n",
      "51:\tlearn: 18840.7050755\ttotal: 420ms\tremaining: 388ms\n",
      "52:\tlearn: 18783.1124410\ttotal: 429ms\tremaining: 380ms\n",
      "53:\tlearn: 18736.1031740\ttotal: 436ms\tremaining: 371ms\n",
      "54:\tlearn: 18668.7879003\ttotal: 443ms\tremaining: 362ms\n",
      "55:\tlearn: 18626.8223721\ttotal: 449ms\tremaining: 353ms\n",
      "56:\tlearn: 18533.1736775\ttotal: 456ms\tremaining: 344ms\n",
      "57:\tlearn: 18326.8050462\ttotal: 464ms\tremaining: 336ms\n",
      "58:\tlearn: 18244.0785440\ttotal: 470ms\tremaining: 327ms\n",
      "59:\tlearn: 18027.2109552\ttotal: 478ms\tremaining: 318ms\n",
      "60:\tlearn: 17841.9071951\ttotal: 484ms\tremaining: 309ms\n",
      "61:\tlearn: 17640.7039267\ttotal: 490ms\tremaining: 301ms\n",
      "62:\tlearn: 17574.2490983\ttotal: 497ms\tremaining: 292ms\n",
      "63:\tlearn: 17367.3935849\ttotal: 503ms\tremaining: 283ms\n",
      "64:\tlearn: 17239.4333893\ttotal: 510ms\tremaining: 275ms\n",
      "65:\tlearn: 17085.2377313\ttotal: 516ms\tremaining: 266ms\n",
      "66:\tlearn: 17060.0720661\ttotal: 523ms\tremaining: 258ms\n",
      "67:\tlearn: 16876.0301077\ttotal: 530ms\tremaining: 249ms\n",
      "68:\tlearn: 16707.3905580\ttotal: 537ms\tremaining: 241ms\n",
      "69:\tlearn: 16573.6869948\ttotal: 543ms\tremaining: 233ms\n",
      "70:\tlearn: 16553.4408845\ttotal: 549ms\tremaining: 224ms\n",
      "71:\tlearn: 16356.1430960\ttotal: 557ms\tremaining: 216ms\n",
      "72:\tlearn: 16336.9844144\ttotal: 564ms\tremaining: 209ms\n",
      "73:\tlearn: 16184.1582957\ttotal: 572ms\tremaining: 201ms\n",
      "74:\tlearn: 16166.6780306\ttotal: 580ms\tremaining: 193ms\n",
      "75:\tlearn: 16149.5527310\ttotal: 589ms\tremaining: 186ms\n",
      "76:\tlearn: 16134.6293365\ttotal: 597ms\tremaining: 178ms\n",
      "77:\tlearn: 16112.8634139\ttotal: 605ms\tremaining: 171ms\n",
      "78:\tlearn: 15906.6442286\ttotal: 615ms\tremaining: 163ms\n",
      "79:\tlearn: 15752.3532188\ttotal: 624ms\tremaining: 156ms\n",
      "80:\tlearn: 15679.7072470\ttotal: 633ms\tremaining: 149ms\n",
      "81:\tlearn: 15528.3045758\ttotal: 644ms\tremaining: 141ms\n",
      "82:\tlearn: 15394.0279665\ttotal: 655ms\tremaining: 134ms\n",
      "83:\tlearn: 15295.6528923\ttotal: 665ms\tremaining: 127ms\n",
      "84:\tlearn: 15217.5075325\ttotal: 674ms\tremaining: 119ms\n",
      "85:\tlearn: 15099.4732373\ttotal: 683ms\tremaining: 111ms\n",
      "86:\tlearn: 14987.7261328\ttotal: 691ms\tremaining: 103ms\n",
      "87:\tlearn: 14844.5261895\ttotal: 701ms\tremaining: 95.6ms\n",
      "88:\tlearn: 14704.9708329\ttotal: 708ms\tremaining: 87.5ms\n",
      "89:\tlearn: 14647.7771329\ttotal: 717ms\tremaining: 79.7ms\n",
      "90:\tlearn: 14529.2294320\ttotal: 725ms\tremaining: 71.7ms\n",
      "91:\tlearn: 14449.7764598\ttotal: 732ms\tremaining: 63.7ms\n",
      "92:\tlearn: 14307.9907205\ttotal: 740ms\tremaining: 55.7ms\n",
      "93:\tlearn: 14239.4932470\ttotal: 747ms\tremaining: 47.7ms\n",
      "94:\tlearn: 14136.7581058\ttotal: 754ms\tremaining: 39.7ms\n",
      "95:\tlearn: 14026.0857505\ttotal: 762ms\tremaining: 31.7ms\n",
      "96:\tlearn: 13882.3805139\ttotal: 769ms\tremaining: 23.8ms\n",
      "97:\tlearn: 13821.0861986\ttotal: 776ms\tremaining: 15.8ms\n",
      "98:\tlearn: 13760.0910108\ttotal: 782ms\tremaining: 7.9ms\n",
      "99:\tlearn: 13672.7160017\ttotal: 789ms\tremaining: 0us\n",
      "0:\tlearn: 69908.7706833\ttotal: 6.03ms\tremaining: 899ms\n",
      "1:\tlearn: 61327.4781272\ttotal: 12.4ms\tremaining: 915ms\n",
      "2:\tlearn: 55121.4260965\ttotal: 19.3ms\tremaining: 946ms\n",
      "3:\tlearn: 50143.9294020\ttotal: 25.6ms\tremaining: 935ms\n",
      "4:\tlearn: 45829.0357428\ttotal: 33.4ms\tremaining: 968ms\n",
      "5:\tlearn: 42222.0853395\ttotal: 40.6ms\tremaining: 975ms\n",
      "6:\tlearn: 39352.3454513\ttotal: 48ms\tremaining: 981ms\n",
      "7:\tlearn: 36694.7804495\ttotal: 55.4ms\tremaining: 983ms\n",
      "8:\tlearn: 34690.5297940\ttotal: 64.2ms\tremaining: 1s\n",
      "9:\tlearn: 33057.2317024\ttotal: 71.7ms\tremaining: 1s\n",
      "10:\tlearn: 31262.3246220\ttotal: 80.8ms\tremaining: 1.02s\n",
      "11:\tlearn: 29826.7080475\ttotal: 90.1ms\tremaining: 1.04s\n",
      "12:\tlearn: 28558.3957470\ttotal: 98.6ms\tremaining: 1.04s\n",
      "13:\tlearn: 27607.7717512\ttotal: 108ms\tremaining: 1.05s\n",
      "14:\tlearn: 26723.7295312\ttotal: 117ms\tremaining: 1.05s\n",
      "15:\tlearn: 25946.7849492\ttotal: 126ms\tremaining: 1.06s\n",
      "16:\tlearn: 25382.5466752\ttotal: 134ms\tremaining: 1.05s\n",
      "17:\tlearn: 24700.3395864\ttotal: 142ms\tremaining: 1.04s\n",
      "18:\tlearn: 24080.8496493\ttotal: 149ms\tremaining: 1.03s\n",
      "19:\tlearn: 23668.8035227\ttotal: 157ms\tremaining: 1.02s\n",
      "20:\tlearn: 23263.8033301\ttotal: 165ms\tremaining: 1.01s\n",
      "21:\tlearn: 22901.4013740\ttotal: 173ms\tremaining: 1.01s\n",
      "22:\tlearn: 22521.0967511\ttotal: 181ms\tremaining: 1000ms\n",
      "23:\tlearn: 22035.0559768\ttotal: 189ms\tremaining: 991ms\n",
      "24:\tlearn: 21703.1794788\ttotal: 196ms\tremaining: 980ms\n",
      "25:\tlearn: 21292.7956411\ttotal: 204ms\tremaining: 972ms\n",
      "26:\tlearn: 20926.3238106\ttotal: 212ms\tremaining: 964ms\n",
      "27:\tlearn: 20731.3007902\ttotal: 220ms\tremaining: 957ms\n",
      "28:\tlearn: 20591.0695541\ttotal: 227ms\tremaining: 946ms\n",
      "29:\tlearn: 20332.0595788\ttotal: 234ms\tremaining: 937ms\n",
      "30:\tlearn: 20068.8469953\ttotal: 242ms\tremaining: 928ms\n",
      "31:\tlearn: 19830.5181094\ttotal: 249ms\tremaining: 917ms\n",
      "32:\tlearn: 19668.6179083\ttotal: 253ms\tremaining: 897ms\n",
      "33:\tlearn: 19466.4573148\ttotal: 260ms\tremaining: 886ms\n",
      "34:\tlearn: 19306.0926605\ttotal: 268ms\tremaining: 880ms\n",
      "35:\tlearn: 19100.2056327\ttotal: 275ms\tremaining: 870ms\n",
      "36:\tlearn: 18921.4149851\ttotal: 281ms\tremaining: 858ms\n",
      "37:\tlearn: 18796.9615359\ttotal: 288ms\tremaining: 849ms\n",
      "38:\tlearn: 18586.0758829\ttotal: 295ms\tremaining: 839ms\n",
      "39:\tlearn: 18406.6018794\ttotal: 301ms\tremaining: 829ms\n",
      "40:\tlearn: 18298.9119394\ttotal: 308ms\tremaining: 818ms\n",
      "41:\tlearn: 18098.0314915\ttotal: 315ms\tremaining: 810ms\n",
      "42:\tlearn: 17897.0778486\ttotal: 321ms\tremaining: 799ms\n",
      "43:\tlearn: 17719.3769900\ttotal: 327ms\tremaining: 789ms\n",
      "44:\tlearn: 17617.4914303\ttotal: 335ms\tremaining: 781ms\n",
      "45:\tlearn: 17520.1323988\ttotal: 341ms\tremaining: 772ms\n",
      "46:\tlearn: 17342.6040145\ttotal: 349ms\tremaining: 765ms\n",
      "47:\tlearn: 17184.6612711\ttotal: 357ms\tremaining: 758ms\n",
      "48:\tlearn: 16964.9577484\ttotal: 366ms\tremaining: 754ms\n",
      "49:\tlearn: 16865.3865273\ttotal: 375ms\tremaining: 751ms\n",
      "50:\tlearn: 16647.2435640\ttotal: 387ms\tremaining: 751ms\n",
      "51:\tlearn: 16464.1505487\ttotal: 397ms\tremaining: 749ms\n",
      "52:\tlearn: 16277.8969178\ttotal: 408ms\tremaining: 747ms\n",
      "53:\tlearn: 16097.5120592\ttotal: 417ms\tremaining: 742ms\n",
      "54:\tlearn: 15950.0450460\ttotal: 428ms\tremaining: 739ms\n",
      "55:\tlearn: 15809.0136257\ttotal: 436ms\tremaining: 732ms\n",
      "56:\tlearn: 15730.2218590\ttotal: 445ms\tremaining: 726ms\n",
      "57:\tlearn: 15612.7668043\ttotal: 453ms\tremaining: 719ms\n",
      "58:\tlearn: 15456.4851592\ttotal: 462ms\tremaining: 713ms\n",
      "59:\tlearn: 15338.7301700\ttotal: 470ms\tremaining: 704ms\n",
      "60:\tlearn: 15143.3608811\ttotal: 478ms\tremaining: 697ms\n",
      "61:\tlearn: 15038.4632633\ttotal: 485ms\tremaining: 689ms\n",
      "62:\tlearn: 14936.0861774\ttotal: 494ms\tremaining: 682ms\n",
      "63:\tlearn: 14814.3699583\ttotal: 502ms\tremaining: 674ms\n",
      "64:\tlearn: 14731.3393764\ttotal: 512ms\tremaining: 670ms\n",
      "65:\tlearn: 14566.8202992\ttotal: 520ms\tremaining: 662ms\n",
      "66:\tlearn: 14435.0773461\ttotal: 528ms\tremaining: 654ms\n",
      "67:\tlearn: 14252.6871975\ttotal: 535ms\tremaining: 645ms\n",
      "68:\tlearn: 14168.4838216\ttotal: 542ms\tremaining: 636ms\n",
      "69:\tlearn: 14093.1807157\ttotal: 548ms\tremaining: 627ms\n",
      "70:\tlearn: 13971.0958502\ttotal: 556ms\tremaining: 619ms\n",
      "71:\tlearn: 13843.9640791\ttotal: 563ms\tremaining: 610ms\n",
      "72:\tlearn: 13705.5346125\ttotal: 571ms\tremaining: 602ms\n",
      "73:\tlearn: 13576.5771494\ttotal: 577ms\tremaining: 593ms\n",
      "74:\tlearn: 13515.2333327\ttotal: 584ms\tremaining: 584ms\n",
      "75:\tlearn: 13430.1493269\ttotal: 592ms\tremaining: 576ms\n",
      "76:\tlearn: 13310.8064332\ttotal: 599ms\tremaining: 568ms\n",
      "77:\tlearn: 13216.5320479\ttotal: 605ms\tremaining: 559ms\n",
      "78:\tlearn: 13106.3753496\ttotal: 612ms\tremaining: 550ms\n",
      "79:\tlearn: 13034.4092712\ttotal: 618ms\tremaining: 541ms\n",
      "80:\tlearn: 12896.9274627\ttotal: 626ms\tremaining: 533ms\n",
      "81:\tlearn: 12788.0802086\ttotal: 633ms\tremaining: 525ms\n",
      "82:\tlearn: 12700.5412606\ttotal: 640ms\tremaining: 517ms\n",
      "83:\tlearn: 12584.0005357\ttotal: 648ms\tremaining: 509ms\n",
      "84:\tlearn: 12454.3014641\ttotal: 655ms\tremaining: 501ms\n",
      "85:\tlearn: 12382.5872422\ttotal: 662ms\tremaining: 492ms\n",
      "86:\tlearn: 12310.2501248\ttotal: 670ms\tremaining: 485ms\n",
      "87:\tlearn: 12224.6987470\ttotal: 678ms\tremaining: 478ms\n",
      "88:\tlearn: 12157.9404703\ttotal: 686ms\tremaining: 470ms\n",
      "89:\tlearn: 12057.0781394\ttotal: 696ms\tremaining: 464ms\n",
      "90:\tlearn: 12013.3924839\ttotal: 705ms\tremaining: 457ms\n",
      "91:\tlearn: 11926.4585173\ttotal: 716ms\tremaining: 451ms\n",
      "92:\tlearn: 11861.8857264\ttotal: 727ms\tremaining: 446ms\n",
      "93:\tlearn: 11800.7617650\ttotal: 736ms\tremaining: 439ms\n",
      "94:\tlearn: 11753.6827381\ttotal: 750ms\tremaining: 434ms\n",
      "95:\tlearn: 11683.5408916\ttotal: 758ms\tremaining: 426ms\n",
      "96:\tlearn: 11664.0269486\ttotal: 767ms\tremaining: 419ms\n",
      "97:\tlearn: 11534.2822565\ttotal: 776ms\tremaining: 412ms\n",
      "98:\tlearn: 11441.1369353\ttotal: 784ms\tremaining: 404ms\n",
      "99:\tlearn: 11403.6063889\ttotal: 795ms\tremaining: 397ms\n",
      "100:\tlearn: 11314.9146117\ttotal: 806ms\tremaining: 391ms\n",
      "101:\tlearn: 11248.8559587\ttotal: 815ms\tremaining: 384ms\n",
      "102:\tlearn: 11169.8397005\ttotal: 827ms\tremaining: 377ms\n",
      "103:\tlearn: 11159.4993761\ttotal: 837ms\tremaining: 370ms\n",
      "104:\tlearn: 11050.4342809\ttotal: 846ms\tremaining: 363ms\n",
      "105:\tlearn: 11040.6443329\ttotal: 854ms\tremaining: 354ms\n",
      "106:\tlearn: 10945.0994971\ttotal: 862ms\tremaining: 346ms\n",
      "107:\tlearn: 10868.6915695\ttotal: 870ms\tremaining: 338ms\n",
      "108:\tlearn: 10792.1090747\ttotal: 878ms\tremaining: 330ms\n",
      "109:\tlearn: 10702.2224494\ttotal: 886ms\tremaining: 322ms\n",
      "110:\tlearn: 10640.6251952\ttotal: 895ms\tremaining: 315ms\n",
      "111:\tlearn: 10552.4607931\ttotal: 904ms\tremaining: 307ms\n",
      "112:\tlearn: 10464.2279114\ttotal: 912ms\tremaining: 299ms\n",
      "113:\tlearn: 10391.7706092\ttotal: 921ms\tremaining: 291ms\n",
      "114:\tlearn: 10308.0351003\ttotal: 929ms\tremaining: 283ms\n",
      "115:\tlearn: 10231.7033000\ttotal: 937ms\tremaining: 275ms\n",
      "116:\tlearn: 10195.6808088\ttotal: 945ms\tremaining: 266ms\n",
      "117:\tlearn: 10176.0722823\ttotal: 954ms\tremaining: 259ms\n",
      "118:\tlearn: 10102.2419391\ttotal: 962ms\tremaining: 251ms\n",
      "119:\tlearn: 10056.1516764\ttotal: 971ms\tremaining: 243ms\n",
      "120:\tlearn: 9989.6278316\ttotal: 979ms\tremaining: 235ms\n",
      "121:\tlearn: 9906.1725907\ttotal: 986ms\tremaining: 226ms\n",
      "122:\tlearn: 9814.3265264\ttotal: 993ms\tremaining: 218ms\n",
      "123:\tlearn: 9755.7191208\ttotal: 1s\tremaining: 210ms\n",
      "124:\tlearn: 9703.0250665\ttotal: 1.01s\tremaining: 201ms\n",
      "125:\tlearn: 9623.9185441\ttotal: 1.01s\tremaining: 193ms\n",
      "126:\tlearn: 9616.7138286\ttotal: 1.02s\tremaining: 185ms\n",
      "127:\tlearn: 9562.9446157\ttotal: 1.03s\tremaining: 177ms\n",
      "128:\tlearn: 9556.9307812\ttotal: 1.04s\tremaining: 169ms\n",
      "129:\tlearn: 9538.8653819\ttotal: 1.04s\tremaining: 160ms\n",
      "130:\tlearn: 9503.4112820\ttotal: 1.05s\tremaining: 152ms\n",
      "131:\tlearn: 9403.8495307\ttotal: 1.06s\tremaining: 144ms\n",
      "132:\tlearn: 9334.9708823\ttotal: 1.07s\tremaining: 136ms\n",
      "133:\tlearn: 9329.9062342\ttotal: 1.07s\tremaining: 128ms\n",
      "134:\tlearn: 9272.2652281\ttotal: 1.08s\tremaining: 120ms\n",
      "135:\tlearn: 9245.7404151\ttotal: 1.09s\tremaining: 112ms\n",
      "136:\tlearn: 9213.5006884\ttotal: 1.1s\tremaining: 104ms\n",
      "137:\tlearn: 9206.3672479\ttotal: 1.11s\tremaining: 96.3ms\n",
      "138:\tlearn: 9162.1527099\ttotal: 1.11s\tremaining: 88.3ms\n",
      "139:\tlearn: 9147.1354720\ttotal: 1.12s\tremaining: 80.3ms\n",
      "140:\tlearn: 9142.1047731\ttotal: 1.13s\tremaining: 72.4ms\n",
      "141:\tlearn: 9081.9709955\ttotal: 1.14s\tremaining: 64.3ms\n",
      "142:\tlearn: 9043.9359564\ttotal: 1.15s\tremaining: 56.3ms\n",
      "143:\tlearn: 8992.5467540\ttotal: 1.16s\tremaining: 48.2ms\n",
      "144:\tlearn: 8944.1984214\ttotal: 1.17s\tremaining: 40.2ms\n",
      "145:\tlearn: 8936.8014500\ttotal: 1.18s\tremaining: 32.3ms\n",
      "146:\tlearn: 8886.0011953\ttotal: 1.19s\tremaining: 24.3ms\n",
      "147:\tlearn: 8840.8766311\ttotal: 1.2s\tremaining: 16.2ms\n",
      "148:\tlearn: 8789.5344701\ttotal: 1.21s\tremaining: 8.13ms\n",
      "149:\tlearn: 8755.1323778\ttotal: 1.22s\tremaining: 0us\n",
      "0:\tlearn: 70695.0020718\ttotal: 8.91ms\tremaining: 704ms\n",
      "1:\tlearn: 62466.6488188\ttotal: 15.8ms\tremaining: 617ms\n",
      "2:\tlearn: 57083.7366329\ttotal: 24ms\tremaining: 617ms\n",
      "3:\tlearn: 52019.8491415\ttotal: 31.3ms\tremaining: 595ms\n",
      "4:\tlearn: 48027.4520784\ttotal: 38.4ms\tremaining: 576ms\n",
      "5:\tlearn: 44163.4856124\ttotal: 47.2ms\tremaining: 582ms\n",
      "6:\tlearn: 40958.3753889\ttotal: 55.4ms\tremaining: 578ms\n",
      "7:\tlearn: 38941.8652244\ttotal: 63.2ms\tremaining: 569ms\n",
      "8:\tlearn: 37128.5686202\ttotal: 70.3ms\tremaining: 554ms\n",
      "9:\tlearn: 35581.6635269\ttotal: 78ms\tremaining: 546ms\n",
      "10:\tlearn: 34265.8432254\ttotal: 84.8ms\tremaining: 532ms\n",
      "11:\tlearn: 32837.5224320\ttotal: 93.7ms\tremaining: 531ms\n",
      "12:\tlearn: 31586.1740325\ttotal: 103ms\tremaining: 531ms\n",
      "13:\tlearn: 30589.3430648\ttotal: 111ms\tremaining: 525ms\n",
      "14:\tlearn: 29917.8545415\ttotal: 119ms\tremaining: 518ms\n",
      "15:\tlearn: 28998.9158827\ttotal: 127ms\tremaining: 508ms\n",
      "16:\tlearn: 28383.4248125\ttotal: 136ms\tremaining: 506ms\n",
      "17:\tlearn: 27791.2898679\ttotal: 145ms\tremaining: 501ms\n",
      "18:\tlearn: 27014.5636011\ttotal: 154ms\tremaining: 494ms\n",
      "19:\tlearn: 26638.8747837\ttotal: 161ms\tremaining: 483ms\n",
      "20:\tlearn: 26230.0149766\ttotal: 169ms\tremaining: 474ms\n",
      "21:\tlearn: 25956.3607579\ttotal: 177ms\tremaining: 466ms\n",
      "22:\tlearn: 25429.8853902\ttotal: 185ms\tremaining: 459ms\n",
      "23:\tlearn: 24936.3535205\ttotal: 194ms\tremaining: 452ms\n",
      "24:\tlearn: 24775.5785377\ttotal: 201ms\tremaining: 442ms\n",
      "25:\tlearn: 24406.0740993\ttotal: 208ms\tremaining: 432ms\n",
      "26:\tlearn: 24055.7274169\ttotal: 215ms\tremaining: 423ms\n",
      "27:\tlearn: 23843.9517300\ttotal: 222ms\tremaining: 413ms\n",
      "28:\tlearn: 23433.1035600\ttotal: 230ms\tremaining: 404ms\n",
      "29:\tlearn: 23149.4808949\ttotal: 238ms\tremaining: 396ms\n",
      "30:\tlearn: 22937.7297331\ttotal: 245ms\tremaining: 387ms\n",
      "31:\tlearn: 22714.9556775\ttotal: 252ms\tremaining: 379ms\n",
      "32:\tlearn: 22477.9690888\ttotal: 260ms\tremaining: 370ms\n",
      "33:\tlearn: 22313.7215945\ttotal: 265ms\tremaining: 358ms\n",
      "34:\tlearn: 22068.1158624\ttotal: 272ms\tremaining: 350ms\n",
      "35:\tlearn: 21943.7139534\ttotal: 281ms\tremaining: 343ms\n",
      "36:\tlearn: 21715.0332666\ttotal: 288ms\tremaining: 334ms\n",
      "37:\tlearn: 21578.2925267\ttotal: 295ms\tremaining: 327ms\n",
      "38:\tlearn: 21338.6863180\ttotal: 302ms\tremaining: 318ms\n",
      "39:\tlearn: 20990.8561517\ttotal: 309ms\tremaining: 309ms\n",
      "40:\tlearn: 20754.1716281\ttotal: 317ms\tremaining: 301ms\n",
      "41:\tlearn: 20657.0137774\ttotal: 324ms\tremaining: 293ms\n",
      "42:\tlearn: 20568.2524867\ttotal: 332ms\tremaining: 286ms\n",
      "43:\tlearn: 20491.7320317\ttotal: 340ms\tremaining: 278ms\n",
      "44:\tlearn: 20364.8907237\ttotal: 345ms\tremaining: 268ms\n",
      "45:\tlearn: 20140.7475921\ttotal: 351ms\tremaining: 260ms\n",
      "46:\tlearn: 19910.2604076\ttotal: 359ms\tremaining: 252ms\n",
      "47:\tlearn: 19611.1745737\ttotal: 366ms\tremaining: 244ms\n",
      "48:\tlearn: 19387.7615472\ttotal: 374ms\tremaining: 237ms\n",
      "49:\tlearn: 19204.1207559\ttotal: 381ms\tremaining: 229ms\n",
      "50:\tlearn: 19050.0490687\ttotal: 389ms\tremaining: 221ms\n",
      "51:\tlearn: 18840.7050755\ttotal: 396ms\tremaining: 213ms\n",
      "52:\tlearn: 18783.1124410\ttotal: 403ms\tremaining: 205ms\n",
      "53:\tlearn: 18736.1031740\ttotal: 410ms\tremaining: 198ms\n",
      "54:\tlearn: 18668.7879003\ttotal: 417ms\tremaining: 190ms\n",
      "55:\tlearn: 18626.8223721\ttotal: 425ms\tremaining: 182ms\n",
      "56:\tlearn: 18533.1736775\ttotal: 432ms\tremaining: 174ms\n",
      "57:\tlearn: 18326.8050462\ttotal: 441ms\tremaining: 167ms\n",
      "58:\tlearn: 18244.0785440\ttotal: 450ms\tremaining: 160ms\n",
      "59:\tlearn: 18027.2109552\ttotal: 458ms\tremaining: 153ms\n",
      "60:\tlearn: 17841.9071951\ttotal: 467ms\tremaining: 145ms\n",
      "61:\tlearn: 17640.7039267\ttotal: 475ms\tremaining: 138ms\n",
      "62:\tlearn: 17574.2490983\ttotal: 484ms\tremaining: 131ms\n",
      "63:\tlearn: 17367.3935849\ttotal: 491ms\tremaining: 123ms\n",
      "64:\tlearn: 17239.4333893\ttotal: 498ms\tremaining: 115ms\n",
      "65:\tlearn: 17085.2377313\ttotal: 507ms\tremaining: 108ms\n",
      "66:\tlearn: 17060.0720661\ttotal: 515ms\tremaining: 99.9ms\n",
      "67:\tlearn: 16876.0301077\ttotal: 523ms\tremaining: 92.2ms\n",
      "68:\tlearn: 16707.3905580\ttotal: 533ms\tremaining: 84.9ms\n",
      "69:\tlearn: 16573.6869948\ttotal: 540ms\tremaining: 77.2ms\n",
      "70:\tlearn: 16553.4408845\ttotal: 547ms\tremaining: 69.4ms\n",
      "71:\tlearn: 16356.1430960\ttotal: 555ms\tremaining: 61.6ms\n",
      "72:\tlearn: 16336.9844144\ttotal: 563ms\tremaining: 54ms\n",
      "73:\tlearn: 16184.1582957\ttotal: 571ms\tremaining: 46.3ms\n",
      "74:\tlearn: 16166.6780306\ttotal: 579ms\tremaining: 38.6ms\n",
      "75:\tlearn: 16149.5527310\ttotal: 587ms\tremaining: 30.9ms\n",
      "76:\tlearn: 16134.6293365\ttotal: 597ms\tremaining: 23.3ms\n",
      "77:\tlearn: 16112.8634139\ttotal: 604ms\tremaining: 15.5ms\n",
      "78:\tlearn: 15906.6442286\ttotal: 613ms\tremaining: 7.76ms\n",
      "79:\tlearn: 15752.3532188\ttotal: 621ms\tremaining: 0us\n"
     ]
    },
    {
     "output_type": "execute_result",
     "data": {
      "text/plain": [
       "VotingRegressor(estimators=[('Catboost_grid_0',\n",
       "                             <catboost.core.CatBoostRegressor object at 0x7fb9ceeb10a0>),\n",
       "                            ('Catboost_grid_1',\n",
       "                             <catboost.core.CatBoostRegressor object at 0x7fb9ceeb1f40>),\n",
       "                            ('Catboost_grid_2',\n",
       "                             <catboost.core.CatBoostRegressor object at 0x7fb9d28bfbe0>),\n",
       "                            ('Catboost_grid_3',\n",
       "                             <catboost.core.CatBoostRegressor object at 0x7fb9d28bff10>),\n",
       "                            ('Catboost_grid_4'...\n",
       "                             <catboost.core.CatBoostRegressor object at 0x7fb9ceeb1580>),\n",
       "                            ('Catboost_small_grid_1',\n",
       "                             <catboost.core.CatBoostRegressor object at 0x7fb9ceeb1460>),\n",
       "                            ('Catboost_small_grid_2',\n",
       "                             <catboost.core.CatBoostRegressor object at 0x7fb9ceeb1220>),\n",
       "                            ('Catboost_small_grid_3',\n",
       "                             <catboost.core.CatBoostRegressor object at 0x7fb9cdf708e0>),\n",
       "                            ('Catboost_small_grid_4',\n",
       "                             <catboost.core.CatBoostRegressor object at 0x7fb9cdf70dc0>)])"
      ]
     },
     "metadata": {},
     "execution_count": 303
    }
   ],
   "source": [
    "ensemble.fit(X_train, y_train)"
   ]
  },
  {
   "source": [
    "# make preds and submit"
   ],
   "cell_type": "markdown",
   "metadata": {}
  },
  {
   "cell_type": "code",
   "execution_count": 304,
   "metadata": {},
   "outputs": [],
   "source": [
    "y_pred = ensemble.predict(X_test)\n",
    "\n",
    "submission_df = pd.DataFrame()\n",
    "submission_df[id_row] = y_test_labels\n",
    "submission_df[target] = y_pred"
   ]
  },
  {
   "cell_type": "code",
   "execution_count": 298,
   "metadata": {},
   "outputs": [
    {
     "output_type": "execute_result",
     "data": {
      "text/plain": [
       "     Id      SalePrice\n",
       "0  1461  124260.892478\n",
       "1  1469  183318.720394\n",
       "2  1470  126755.855889\n",
       "3  1472   98566.403669\n",
       "4  1473  101133.980599"
      ],
      "text/html": "<div>\n<style scoped>\n    .dataframe tbody tr th:only-of-type {\n        vertical-align: middle;\n    }\n\n    .dataframe tbody tr th {\n        vertical-align: top;\n    }\n\n    .dataframe thead th {\n        text-align: right;\n    }\n</style>\n<table border=\"1\" class=\"dataframe\">\n  <thead>\n    <tr style=\"text-align: right;\">\n      <th></th>\n      <th>Id</th>\n      <th>SalePrice</th>\n    </tr>\n  </thead>\n  <tbody>\n    <tr>\n      <th>0</th>\n      <td>1461</td>\n      <td>124260.892478</td>\n    </tr>\n    <tr>\n      <th>1</th>\n      <td>1469</td>\n      <td>183318.720394</td>\n    </tr>\n    <tr>\n      <th>2</th>\n      <td>1470</td>\n      <td>126755.855889</td>\n    </tr>\n    <tr>\n      <th>3</th>\n      <td>1472</td>\n      <td>98566.403669</td>\n    </tr>\n    <tr>\n      <th>4</th>\n      <td>1473</td>\n      <td>101133.980599</td>\n    </tr>\n  </tbody>\n</table>\n</div>"
     },
     "metadata": {},
     "execution_count": 298
    }
   ],
   "source": [
    "submission_df.head()"
   ]
  },
  {
   "cell_type": "code",
   "execution_count": 233,
   "metadata": {},
   "outputs": [
    {
     "output_type": "execute_result",
     "data": {
      "text/plain": [
       "     Id      SalePrice\n",
       "0  1461  169277.052498\n",
       "1  1462  187758.393989\n",
       "2  1463  183583.683570\n",
       "3  1464  179317.477511\n",
       "4  1465  150730.079977"
      ],
      "text/html": "<div>\n<style scoped>\n    .dataframe tbody tr th:only-of-type {\n        vertical-align: middle;\n    }\n\n    .dataframe tbody tr th {\n        vertical-align: top;\n    }\n\n    .dataframe thead th {\n        text-align: right;\n    }\n</style>\n<table border=\"1\" class=\"dataframe\">\n  <thead>\n    <tr style=\"text-align: right;\">\n      <th></th>\n      <th>Id</th>\n      <th>SalePrice</th>\n    </tr>\n  </thead>\n  <tbody>\n    <tr>\n      <th>0</th>\n      <td>1461</td>\n      <td>169277.052498</td>\n    </tr>\n    <tr>\n      <th>1</th>\n      <td>1462</td>\n      <td>187758.393989</td>\n    </tr>\n    <tr>\n      <th>2</th>\n      <td>1463</td>\n      <td>183583.683570</td>\n    </tr>\n    <tr>\n      <th>3</th>\n      <td>1464</td>\n      <td>179317.477511</td>\n    </tr>\n    <tr>\n      <th>4</th>\n      <td>1465</td>\n      <td>150730.079977</td>\n    </tr>\n  </tbody>\n</table>\n</div>"
     },
     "metadata": {},
     "execution_count": 233
    }
   ],
   "source": [
    "input_data['sample_submission'].head()"
   ]
  },
  {
   "cell_type": "code",
   "execution_count": 305,
   "metadata": {},
   "outputs": [],
   "source": [
    "submission_df.to_csv('submission10.csv', index=False)"
   ]
  },
  {
   "cell_type": "code",
   "execution_count": 306,
   "metadata": {},
   "outputs": [
    {
     "output_type": "stream",
     "name": "stdout",
     "text": [
      "100%|██████████████████████████████████████| 33.7k/33.7k [00:01<00:00, 17.7kB/s]\n",
      "Successfully submitted to House Prices - Advanced Regression Techniques"
     ]
    }
   ],
   "source": [
    "!kaggle competitions submit -f 'submission10.csv' -m 'top ns ensemble with small versions v2' house-prices-advanced-regression-techniques"
   ]
  },
  {
   "cell_type": "code",
   "execution_count": 307,
   "metadata": {},
   "outputs": [
    {
     "output_type": "stream",
     "name": "stdout",
     "text": [
      "fileName          date                 description                             status    publicScore  privateScore  \n----------------  -------------------  --------------------------------------  --------  -----------  ------------  \nsubmission10.csv  2021-05-07 16:05:25  top ns ensemble with small versions v2  complete  0.13050      None          \nsubmission9.csv   2021-05-07 15:57:13  top ns ensemble with small versions     complete  0.13287      None          \nsubmission8.csv   2021-05-06 07:28:46  top ns ensemble                         complete  0.13273      None          \nsubmission7.csv   2021-05-06 07:24:29  top 5s ensemble                         complete  0.13314      None          \nsubmission6.csv   2021-05-06 06:54:29  ensemble 4                              complete  0.13241      None          \nsubmission6.csv   2021-05-06 06:54:04  ensemble 4                              complete  0.13241      None          \nsubmission5.csv   2021-05-06 06:51:41  ensemble 3                              complete  0.13470      None          \nsubmission4.csv   2021-05-05 07:12:50  ensemble 2                              complete  0.13461      None          \nsubmission3.csv   2021-05-05 07:07:32  ensemble all                            complete  0.44883      None          \nsubmission3.csv   2021-05-05 07:03:26  ensemble all                            complete  0.13561      None          \nsubmission3.csv   2021-05-05 06:53:59  ensemble all                            complete  0.13561      None          \nsubmission2.csv   2021-05-04 07:17:54  grid search catboost                    complete  0.13561      None          \nsubmission1.csv   2021-05-03 11:30:27  first attempt random hypers catboost    complete  0.15473      None          \n"
     ]
    }
   ],
   "source": [
    "!kaggle competitions submissions -c house-prices-advanced-regression-techniques"
   ]
  },
  {
   "cell_type": "code",
   "execution_count": null,
   "metadata": {},
   "outputs": [],
   "source": []
  }
 ]
}