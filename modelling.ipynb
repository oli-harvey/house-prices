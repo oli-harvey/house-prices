{
 "metadata": {
  "language_info": {
   "codemirror_mode": {
    "name": "ipython",
    "version": 3
   },
   "file_extension": ".py",
   "mimetype": "text/x-python",
   "name": "python",
   "nbconvert_exporter": "python",
   "pygments_lexer": "ipython3",
   "version": "3.8.8"
  },
  "orig_nbformat": 2,
  "kernelspec": {
   "name": "python388jvsc74a57bd02cafb3199729848de48071f5cfc9db2ba6e5f31612348b291f81e9e98cb6629b",
   "display_name": "Python 3.8.8 64-bit ('titanic': conda)"
  }
 },
 "nbformat": 4,
 "nbformat_minor": 2,
 "cells": [
  {
   "cell_type": "code",
   "execution_count": 1,
   "metadata": {},
   "outputs": [],
   "source": [
    "%load_ext autoreload\n",
    "%autoreload 2"
   ]
  },
  {
   "cell_type": "code",
   "execution_count": 4,
   "metadata": {},
   "outputs": [],
   "source": [
    "import functions.process_data"
   ]
  },
  {
   "cell_type": "code",
   "execution_count": 5,
   "metadata": {},
   "outputs": [],
   "source": [
    "import pandas as pd \n",
    "import pandas_profiling as pdp\n",
    "import numpy as np\n",
    "import pprint as pp\n",
    "import seaborn as sns\n",
    "from matplotlib import pyplot as plt\n",
    "from catboost import Pool, CatBoostRegressor\n",
    "\n",
    "from sklearn.model_selection import RandomizedSearchCV\n",
    "from sklearn.model_selection import GridSearchCV\n",
    "from sklearn.model_selection import KFold\n",
    "from sklearn.ensemble import RandomForestRegressor\n",
    "from sklearn.linear_model import ElasticNet\n",
    "from sklearn.ensemble import VotingRegressor\n",
    "from sklearn.model_selection import cross_val_score\n",
    "\n",
    "\n",
    "pd.set_option('display.max_columns', None)\n",
    "pd.set_option('display.max_rows', None)"
   ]
  },
  {
   "cell_type": "code",
   "execution_count": 6,
   "metadata": {},
   "outputs": [
    {
     "output_type": "stream",
     "name": "stdout",
     "text": [
      "files downloaded for house-prices-advanced-regression-techniques competition\n   test.csv\n   data_description.txt\n   train.csv\n   sample_submission.csv\nlocated in /competition_data/\n"
     ]
    }
   ],
   "source": [
    "files = get_kaggle_data(\n",
    "    competition=\"house-prices-advanced-regression-techniques\"\n",
    "    )"
   ]
  },
  {
   "cell_type": "code",
   "execution_count": 7,
   "metadata": {},
   "outputs": [],
   "source": [
    "input_data = import_to_df(files)"
   ]
  },
  {
   "source": [
    "What files did we get?"
   ],
   "cell_type": "markdown",
   "metadata": {}
  },
  {
   "cell_type": "code",
   "execution_count": 8,
   "metadata": {},
   "outputs": [
    {
     "output_type": "execute_result",
     "data": {
      "text/plain": [
       "dict_keys(['test', 'train', 'sample_submission'])"
      ]
     },
     "metadata": {},
     "execution_count": 8
    }
   ],
   "source": [
    "input_data.keys()"
   ]
  },
  {
   "cell_type": "code",
   "execution_count": 9,
   "metadata": {},
   "outputs": [],
   "source": [
    "input_train_df = input_data['train']\n",
    "input_test_df = input_data['test']"
   ]
  },
  {
   "cell_type": "code",
   "execution_count": 16,
   "metadata": {},
   "outputs": [
    {
     "output_type": "stream",
     "name": "stderr",
     "text": [
      "/Users/oliverharvey/anaconda3/envs/titanic/lib/python3.8/site-packages/pandas/core/frame.py:4441: SettingWithCopyWarning: \nA value is trying to be set on a copy of a slice from a DataFrame\n\nSee the caveats in the documentation: https://pandas.pydata.org/pandas-docs/stable/user_guide/indexing.html#returning-a-view-versus-a-copy\n  return super().rename(\n/Users/oliverharvey/anaconda3/envs/titanic/lib/python3.8/site-packages/pandas/core/frame.py:4308: SettingWithCopyWarning: \nA value is trying to be set on a copy of a slice from a DataFrame\n\nSee the caveats in the documentation: https://pandas.pydata.org/pandas-docs/stable/user_guide/indexing.html#returning-a-view-versus-a-copy\n  return super().drop(\n"
     ]
    }
   ],
   "source": [
    "train_df = process_data(input_train_df)\n",
    "train_df = calculate_inflation(\n",
    "    data_with_price=train_df,\n",
    "    data_to_append_to=train_df,\n",
    "    group_by_cat=['OverallQual'],\n",
    "    group_by_band=['GrLivArea'],\n",
    "    year='YrSold',\n",
    "    price='SalePrice'\n",
    ")\n",
    "target = 'SalePrice'\n",
    "id_row = 'Id'\n",
    "train_predictors = [\n",
    "    c for c in train_df.columns \n",
    "    if target not in c\n",
    "    if id_row not in c\n",
    "]"
   ]
  },
  {
   "cell_type": "code",
   "execution_count": 12,
   "metadata": {},
   "outputs": [
    {
     "output_type": "error",
     "ename": "KeyError",
     "evalue": "\"Column 'SalePrice' does not exist!\"",
     "traceback": [
      "\u001b[0;31m---------------------------------------------------------------------------\u001b[0m",
      "\u001b[0;31mKeyError\u001b[0m                                  Traceback (most recent call last)",
      "\u001b[0;32m<ipython-input-12-a3e0b1b91a1a>\u001b[0m in \u001b[0;36m<module>\u001b[0;34m\u001b[0m\n\u001b[0;32m----> 1\u001b[0;31m \u001b[0mtest_df\u001b[0m \u001b[0;34m=\u001b[0m \u001b[0mprocess_data\u001b[0m\u001b[0;34m(\u001b[0m\u001b[0minput_test_df\u001b[0m\u001b[0;34m)\u001b[0m\u001b[0;34m\u001b[0m\u001b[0;34m\u001b[0m\u001b[0m\n\u001b[0m\u001b[1;32m      2\u001b[0m test_predictors = [\n\u001b[1;32m      3\u001b[0m     \u001b[0mc\u001b[0m \u001b[0;32mfor\u001b[0m \u001b[0mc\u001b[0m \u001b[0;32min\u001b[0m \u001b[0mtest_df\u001b[0m\u001b[0;34m.\u001b[0m\u001b[0mcolumns\u001b[0m\u001b[0;34m\u001b[0m\u001b[0;34m\u001b[0m\u001b[0m\n\u001b[1;32m      4\u001b[0m     \u001b[0;32mif\u001b[0m \u001b[0mtarget\u001b[0m \u001b[0;32mnot\u001b[0m \u001b[0;32min\u001b[0m \u001b[0mc\u001b[0m\u001b[0;34m\u001b[0m\u001b[0;34m\u001b[0m\u001b[0m\n\u001b[1;32m      5\u001b[0m     \u001b[0;32mif\u001b[0m \u001b[0mid_row\u001b[0m \u001b[0;32mnot\u001b[0m \u001b[0;32min\u001b[0m \u001b[0mc\u001b[0m\u001b[0;34m\u001b[0m\u001b[0;34m\u001b[0m\u001b[0m\n",
      "\u001b[0;32m~/Documents/VSCode_projects/house_prices/functions/process_data.py\u001b[0m in \u001b[0;36mprocess_data\u001b[0;34m(df)\u001b[0m\n\u001b[1;32m     16\u001b[0m \u001b[0;32mdef\u001b[0m \u001b[0mprocess_data\u001b[0m\u001b[0;34m(\u001b[0m\u001b[0mdf\u001b[0m\u001b[0;34m:\u001b[0m \u001b[0mpd\u001b[0m\u001b[0;34m.\u001b[0m\u001b[0mDataFrame\u001b[0m\u001b[0;34m)\u001b[0m \u001b[0;34m->\u001b[0m \u001b[0mpd\u001b[0m\u001b[0;34m.\u001b[0m\u001b[0mDataFrame\u001b[0m\u001b[0;34m:\u001b[0m\u001b[0;34m\u001b[0m\u001b[0;34m\u001b[0m\u001b[0m\n\u001b[1;32m     17\u001b[0m     \u001b[0mprocessed_df\u001b[0m \u001b[0;34m=\u001b[0m \u001b[0mdf\u001b[0m\u001b[0;34m.\u001b[0m\u001b[0mcopy\u001b[0m\u001b[0;34m(\u001b[0m\u001b[0;34m)\u001b[0m\u001b[0;34m\u001b[0m\u001b[0;34m\u001b[0m\u001b[0m\n\u001b[0;32m---> 18\u001b[0;31m     processed_df = calculate_inflation(\n\u001b[0m\u001b[1;32m     19\u001b[0m         \u001b[0mdata\u001b[0m\u001b[0;34m=\u001b[0m\u001b[0mprocessed_df\u001b[0m\u001b[0;34m,\u001b[0m\u001b[0;34m\u001b[0m\u001b[0;34m\u001b[0m\u001b[0m\n\u001b[1;32m     20\u001b[0m         \u001b[0mgroup_by_cat\u001b[0m\u001b[0;34m=\u001b[0m\u001b[0;34m[\u001b[0m\u001b[0;34m'OverallQual'\u001b[0m\u001b[0;34m]\u001b[0m\u001b[0;34m,\u001b[0m\u001b[0;34m\u001b[0m\u001b[0;34m\u001b[0m\u001b[0m\n",
      "\u001b[0;32m~/Documents/VSCode_projects/house_prices/functions/calculate_inflation.py\u001b[0m in \u001b[0;36mcalculate_inflation\u001b[0;34m(data, group_by_cat, group_by_band, year, price)\u001b[0m\n\u001b[1;32m     33\u001b[0m \u001b[0;34m\u001b[0m\u001b[0m\n\u001b[1;32m     34\u001b[0m     yearly_summary_df = (\n\u001b[0;32m---> 35\u001b[0;31m         \u001b[0mprocessed_df\u001b[0m\u001b[0;34m\u001b[0m\u001b[0;34m\u001b[0m\u001b[0m\n\u001b[0m\u001b[1;32m     36\u001b[0m             \u001b[0;34m.\u001b[0m\u001b[0mgroupby\u001b[0m\u001b[0;34m(\u001b[0m\u001b[0mgroup_by_full\u001b[0m\u001b[0;34m)\u001b[0m\u001b[0;34m\u001b[0m\u001b[0;34m\u001b[0m\u001b[0m\n\u001b[1;32m     37\u001b[0m             \u001b[0;34m.\u001b[0m\u001b[0magg\u001b[0m\u001b[0;34m(\u001b[0m\u001b[0mAvgPrice\u001b[0m \u001b[0;34m=\u001b[0m \u001b[0;34m(\u001b[0m\u001b[0mprice\u001b[0m\u001b[0;34m,\u001b[0m \u001b[0;34m'mean'\u001b[0m\u001b[0;34m)\u001b[0m\u001b[0;34m)\u001b[0m\u001b[0;34m\u001b[0m\u001b[0;34m\u001b[0m\u001b[0m\n",
      "\u001b[0;32m~/anaconda3/envs/titanic/lib/python3.8/site-packages/pandas/core/groupby/generic.py\u001b[0m in \u001b[0;36maggregate\u001b[0;34m(self, func, engine, engine_kwargs, *args, **kwargs)\u001b[0m\n\u001b[1;32m    943\u001b[0m         \u001b[0mfunc\u001b[0m \u001b[0;34m=\u001b[0m \u001b[0mmaybe_mangle_lambdas\u001b[0m\u001b[0;34m(\u001b[0m\u001b[0mfunc\u001b[0m\u001b[0;34m)\u001b[0m\u001b[0;34m\u001b[0m\u001b[0;34m\u001b[0m\u001b[0m\n\u001b[1;32m    944\u001b[0m \u001b[0;34m\u001b[0m\u001b[0m\n\u001b[0;32m--> 945\u001b[0;31m         \u001b[0mresult\u001b[0m\u001b[0;34m,\u001b[0m \u001b[0mhow\u001b[0m \u001b[0;34m=\u001b[0m \u001b[0maggregate\u001b[0m\u001b[0;34m(\u001b[0m\u001b[0mself\u001b[0m\u001b[0;34m,\u001b[0m \u001b[0mfunc\u001b[0m\u001b[0;34m,\u001b[0m \u001b[0;34m*\u001b[0m\u001b[0margs\u001b[0m\u001b[0;34m,\u001b[0m \u001b[0;34m**\u001b[0m\u001b[0mkwargs\u001b[0m\u001b[0;34m)\u001b[0m\u001b[0;34m\u001b[0m\u001b[0;34m\u001b[0m\u001b[0m\n\u001b[0m\u001b[1;32m    946\u001b[0m         \u001b[0;32mif\u001b[0m \u001b[0mhow\u001b[0m \u001b[0;32mis\u001b[0m \u001b[0;32mNone\u001b[0m\u001b[0;34m:\u001b[0m\u001b[0;34m\u001b[0m\u001b[0;34m\u001b[0m\u001b[0m\n\u001b[1;32m    947\u001b[0m             \u001b[0;32mreturn\u001b[0m \u001b[0mresult\u001b[0m\u001b[0;34m\u001b[0m\u001b[0;34m\u001b[0m\u001b[0m\n",
      "\u001b[0;32m~/anaconda3/envs/titanic/lib/python3.8/site-packages/pandas/core/aggregation.py\u001b[0m in \u001b[0;36maggregate\u001b[0;34m(obj, arg, *args, **kwargs)\u001b[0m\n\u001b[1;32m    580\u001b[0m     \u001b[0;32melif\u001b[0m \u001b[0mis_dict_like\u001b[0m\u001b[0;34m(\u001b[0m\u001b[0marg\u001b[0m\u001b[0;34m)\u001b[0m\u001b[0;34m:\u001b[0m\u001b[0;34m\u001b[0m\u001b[0;34m\u001b[0m\u001b[0m\n\u001b[1;32m    581\u001b[0m         \u001b[0marg\u001b[0m \u001b[0;34m=\u001b[0m \u001b[0mcast\u001b[0m\u001b[0;34m(\u001b[0m\u001b[0mAggFuncTypeDict\u001b[0m\u001b[0;34m,\u001b[0m \u001b[0marg\u001b[0m\u001b[0;34m)\u001b[0m\u001b[0;34m\u001b[0m\u001b[0;34m\u001b[0m\u001b[0m\n\u001b[0;32m--> 582\u001b[0;31m         \u001b[0;32mreturn\u001b[0m \u001b[0magg_dict_like\u001b[0m\u001b[0;34m(\u001b[0m\u001b[0mobj\u001b[0m\u001b[0;34m,\u001b[0m \u001b[0marg\u001b[0m\u001b[0;34m,\u001b[0m \u001b[0m_axis\u001b[0m\u001b[0;34m)\u001b[0m\u001b[0;34m,\u001b[0m \u001b[0;32mTrue\u001b[0m\u001b[0;34m\u001b[0m\u001b[0;34m\u001b[0m\u001b[0m\n\u001b[0m\u001b[1;32m    583\u001b[0m     \u001b[0;32melif\u001b[0m \u001b[0mis_list_like\u001b[0m\u001b[0;34m(\u001b[0m\u001b[0marg\u001b[0m\u001b[0;34m)\u001b[0m\u001b[0;34m:\u001b[0m\u001b[0;34m\u001b[0m\u001b[0;34m\u001b[0m\u001b[0m\n\u001b[1;32m    584\u001b[0m         \u001b[0;31m# we require a list, but not an 'str'\u001b[0m\u001b[0;34m\u001b[0m\u001b[0;34m\u001b[0m\u001b[0;34m\u001b[0m\u001b[0m\n",
      "\u001b[0;32m~/anaconda3/envs/titanic/lib/python3.8/site-packages/pandas/core/aggregation.py\u001b[0m in \u001b[0;36magg_dict_like\u001b[0;34m(obj, arg, _axis)\u001b[0m\n\u001b[1;32m    744\u001b[0m                 \u001b[0misinstance\u001b[0m\u001b[0;34m(\u001b[0m\u001b[0mselected_obj\u001b[0m\u001b[0;34m,\u001b[0m \u001b[0mABCDataFrame\u001b[0m\u001b[0;34m)\u001b[0m \u001b[0;32mand\u001b[0m \u001b[0mk\u001b[0m \u001b[0;32mnot\u001b[0m \u001b[0;32min\u001b[0m \u001b[0mselected_obj\u001b[0m\u001b[0;34m.\u001b[0m\u001b[0mcolumns\u001b[0m\u001b[0;34m\u001b[0m\u001b[0;34m\u001b[0m\u001b[0m\n\u001b[1;32m    745\u001b[0m             ):\n\u001b[0;32m--> 746\u001b[0;31m                 \u001b[0;32mraise\u001b[0m \u001b[0mKeyError\u001b[0m\u001b[0;34m(\u001b[0m\u001b[0;34mf\"Column '{k}' does not exist!\"\u001b[0m\u001b[0;34m)\u001b[0m\u001b[0;34m\u001b[0m\u001b[0;34m\u001b[0m\u001b[0m\n\u001b[0m\u001b[1;32m    747\u001b[0m \u001b[0;34m\u001b[0m\u001b[0m\n\u001b[1;32m    748\u001b[0m         \u001b[0marg\u001b[0m \u001b[0;34m=\u001b[0m \u001b[0mnew_arg\u001b[0m\u001b[0;34m\u001b[0m\u001b[0;34m\u001b[0m\u001b[0m\n",
      "\u001b[0;31mKeyError\u001b[0m: \"Column 'SalePrice' does not exist!\""
     ]
    }
   ],
   "source": [
    "test_df = process_data(input_test_df)\n",
    "test_df = calculate_inflation(\n",
    "    data_with_price=train_df,\n",
    "    data_to_append_to=test_df,\n",
    "    group_by_cat=['OverallQual'],\n",
    "    group_by_band=['GrLivArea'],\n",
    "    year='YrSold',\n",
    "    price='SalePrice'\n",
    ")\n",
    "test_predictors = [\n",
    "    c for c in test_df.columns \n",
    "    if target not in c\n",
    "    if id_row not in c\n",
    "]"
   ]
  },
  {
   "source": [
    "Only keep columns in both dfs. Needed in case one hots generate unique columns"
   ],
   "cell_type": "markdown",
   "metadata": {}
  },
  {
   "cell_type": "code",
   "execution_count": 203,
   "metadata": {},
   "outputs": [],
   "source": [
    "cols_to_use = list(set(train_predictors).intersection(test_predictors))"
   ]
  },
  {
   "source": [
    "Also create smaller feature set with decently correlated variables"
   ],
   "cell_type": "markdown",
   "metadata": {}
  },
  {
   "cell_type": "code",
   "execution_count": 276,
   "metadata": {},
   "outputs": [],
   "source": [
    "corr = train_df.corr()"
   ]
  },
  {
   "cell_type": "code",
   "execution_count": 279,
   "metadata": {},
   "outputs": [],
   "source": [
    "corr_target = abs(corr['SalePrice'])\n",
    "# corr_target.sort_values(ascending=False)\n",
    "relevant_features = corr_target[corr_target>0.3].index.tolist()"
   ]
  },
  {
   "cell_type": "code",
   "execution_count": 281,
   "metadata": {},
   "outputs": [],
   "source": [
    "# relevant_features\n",
    "cols_to_use_small = list(set(cols_to_use).intersection(relevant_features))"
   ]
  },
  {
   "cell_type": "code",
   "execution_count": 204,
   "metadata": {},
   "outputs": [
    {
     "output_type": "execute_result",
     "data": {
      "text/plain": [
       "(300, 312)"
      ]
     },
     "metadata": {},
     "execution_count": 204
    }
   ],
   "source": [
    "len(cols_to_use), len(train_predictors)"
   ]
  },
  {
   "source": [
    "Removed 12 columns"
   ],
   "cell_type": "markdown",
   "metadata": {}
  },
  {
   "cell_type": "code",
   "execution_count": 205,
   "metadata": {},
   "outputs": [],
   "source": [
    "X_train = train_df[cols_to_use]\n",
    "y_train = train_df[target]\n",
    "\n",
    "X_test = test_df[cols_to_use]\n",
    "y_test_labels = test_df[id_row]"
   ]
  },
  {
   "cell_type": "code",
   "execution_count": 282,
   "metadata": {},
   "outputs": [],
   "source": [
    "X_train_small = train_df[cols_to_use_small]\n",
    "X_test_small = test_df[cols_to_use_small]"
   ]
  },
  {
   "cell_type": "code",
   "execution_count": 207,
   "metadata": {
    "tags": [
     "outputPrepend"
    ]
   },
   "outputs": [
    {
     "output_type": "stream",
     "name": "stdout",
     "text": [
      "10:\tlearn: 39617.5605739\ttotal: 90.6ms\tremaining: 321ms\n",
      "12:\tlearn: 36424.2011626\ttotal: 108ms\tremaining: 307ms\n",
      "14:\tlearn: 33974.5931894\ttotal: 125ms\tremaining: 291ms\n",
      "16:\tlearn: 31942.4703043\ttotal: 141ms\tremaining: 273ms\n",
      "18:\tlearn: 30055.5118311\ttotal: 155ms\tremaining: 253ms\n",
      "20:\tlearn: 28276.8112317\ttotal: 171ms\tremaining: 236ms\n",
      "22:\tlearn: 26840.6392611\ttotal: 188ms\tremaining: 221ms\n",
      "24:\tlearn: 25681.5068385\ttotal: 208ms\tremaining: 208ms\n",
      "26:\tlearn: 24661.3305615\ttotal: 228ms\tremaining: 194ms\n",
      "28:\tlearn: 23641.9161530\ttotal: 248ms\tremaining: 180ms\n",
      "30:\tlearn: 22744.7427356\ttotal: 265ms\tremaining: 163ms\n",
      "32:\tlearn: 22161.4715119\ttotal: 283ms\tremaining: 146ms\n",
      "34:\tlearn: 21496.9518791\ttotal: 299ms\tremaining: 128ms\n",
      "36:\tlearn: 21002.1412097\ttotal: 315ms\tremaining: 111ms\n",
      "38:\tlearn: 20524.4605067\ttotal: 330ms\tremaining: 93.1ms\n",
      "40:\tlearn: 20055.4205508\ttotal: 346ms\tremaining: 75.8ms\n",
      "42:\tlearn: 19691.5150370\ttotal: 364ms\tremaining: 59.2ms\n",
      "44:\tlearn: 19332.2510059\ttotal: 382ms\tremaining: 42.5ms\n",
      "46:\tlearn: 18931.4366667\ttotal: 401ms\tremaining: 25.6ms\n",
      "48:\tlearn: 18634.0440623\ttotal: 417ms\tremaining: 8.51ms\n",
      "49:\tlearn: 18480.8879170\ttotal: 425ms\tremaining: 0us\n",
      "[CV] END depth=6, iterations=50, l2_leaf_reg=1, learning_rate=0.1; total time=   0.5s\n",
      "0:\tlearn: 80203.3375955\ttotal: 28.4ms\tremaining: 1.39s\n",
      "2:\tlearn: 79131.5165485\ttotal: 75ms\tremaining: 1.18s\n",
      "4:\tlearn: 78099.1867095\ttotal: 115ms\tremaining: 1.04s\n",
      "6:\tlearn: 77103.4945133\ttotal: 163ms\tremaining: 1000ms\n",
      "8:\tlearn: 76092.4870894\ttotal: 206ms\tremaining: 941ms\n",
      "10:\tlearn: 75097.9328470\ttotal: 254ms\tremaining: 902ms\n",
      "12:\tlearn: 74149.1405605\ttotal: 300ms\tremaining: 855ms\n",
      "14:\tlearn: 73202.1618850\ttotal: 347ms\tremaining: 810ms\n",
      "16:\tlearn: 72267.2672144\ttotal: 395ms\tremaining: 766ms\n",
      "18:\tlearn: 71359.8974631\ttotal: 450ms\tremaining: 734ms\n",
      "20:\tlearn: 70464.7355424\ttotal: 495ms\tremaining: 684ms\n",
      "22:\tlearn: 69544.7536784\ttotal: 545ms\tremaining: 639ms\n",
      "24:\tlearn: 68648.3861086\ttotal: 588ms\tremaining: 588ms\n",
      "26:\tlearn: 67758.6810406\ttotal: 633ms\tremaining: 539ms\n",
      "28:\tlearn: 66854.9294274\ttotal: 673ms\tremaining: 488ms\n",
      "30:\tlearn: 66008.8170063\ttotal: 713ms\tremaining: 437ms\n",
      "32:\tlearn: 65183.6994858\ttotal: 756ms\tremaining: 389ms\n",
      "34:\tlearn: 64356.1177036\ttotal: 800ms\tremaining: 343ms\n",
      "36:\tlearn: 63528.1688585\ttotal: 844ms\tremaining: 297ms\n",
      "38:\tlearn: 62756.2146604\ttotal: 886ms\tremaining: 250ms\n",
      "40:\tlearn: 62011.6448494\ttotal: 926ms\tremaining: 203ms\n",
      "42:\tlearn: 61232.8506741\ttotal: 968ms\tremaining: 158ms\n",
      "44:\tlearn: 60499.0821362\ttotal: 1.01s\tremaining: 112ms\n",
      "46:\tlearn: 59761.3472986\ttotal: 1.05s\tremaining: 67.3ms\n",
      "48:\tlearn: 59120.6291272\ttotal: 1.09s\tremaining: 22.3ms\n",
      "49:\tlearn: 58762.9817349\ttotal: 1.11s\tremaining: 0us\n",
      "[CV] END depth=8, iterations=50, l2_leaf_reg=1, learning_rate=0.01; total time=   1.2s\n",
      "0:\tlearn: 79706.0755818\ttotal: 18.5ms\tremaining: 907ms\n",
      "2:\tlearn: 78635.2143311\ttotal: 51.5ms\tremaining: 806ms\n",
      "4:\tlearn: 77539.2367673\ttotal: 93.7ms\tremaining: 844ms\n",
      "6:\tlearn: 76474.4176794\ttotal: 148ms\tremaining: 911ms\n",
      "8:\tlearn: 75451.6639591\ttotal: 213ms\tremaining: 971ms\n",
      "10:\tlearn: 74458.1395015\ttotal: 272ms\tremaining: 965ms\n",
      "12:\tlearn: 73494.7244190\ttotal: 329ms\tremaining: 938ms\n",
      "14:\tlearn: 72533.7848547\ttotal: 373ms\tremaining: 871ms\n",
      "16:\tlearn: 71598.2594495\ttotal: 430ms\tremaining: 835ms\n",
      "18:\tlearn: 70668.6740774\ttotal: 472ms\tremaining: 770ms\n",
      "20:\tlearn: 69752.7605651\ttotal: 510ms\tremaining: 704ms\n",
      "22:\tlearn: 68804.1763118\ttotal: 545ms\tremaining: 640ms\n",
      "24:\tlearn: 67920.8454153\ttotal: 583ms\tremaining: 583ms\n",
      "26:\tlearn: 67045.1504336\ttotal: 625ms\tremaining: 533ms\n",
      "28:\tlearn: 66210.3840425\ttotal: 668ms\tremaining: 484ms\n",
      "30:\tlearn: 65396.0941011\ttotal: 708ms\tremaining: 434ms\n",
      "32:\tlearn: 64587.2620239\ttotal: 745ms\tremaining: 384ms\n",
      "34:\tlearn: 63762.0899083\ttotal: 789ms\tremaining: 338ms\n",
      "36:\tlearn: 63007.8904679\ttotal: 840ms\tremaining: 295ms\n",
      "38:\tlearn: 62213.7130102\ttotal: 876ms\tremaining: 247ms\n",
      "40:\tlearn: 61482.8032950\ttotal: 912ms\tremaining: 200ms\n",
      "42:\tlearn: 60696.1623524\ttotal: 947ms\tremaining: 154ms\n",
      "44:\tlearn: 59949.3252406\ttotal: 989ms\tremaining: 110ms\n",
      "46:\tlearn: 59238.5809409\ttotal: 1.04s\tremaining: 66.5ms\n",
      "48:\tlearn: 58507.6882962\ttotal: 1.08s\tremaining: 22.1ms\n",
      "49:\tlearn: 58144.5846715\ttotal: 1.1s\tremaining: 0us\n",
      "[CV] END depth=8, iterations=50, l2_leaf_reg=1, learning_rate=0.01; total time=   1.2s\n",
      "0:\tlearn: 81718.8303736\ttotal: 18ms\tremaining: 882ms\n",
      "2:\tlearn: 80621.5196821\ttotal: 52.7ms\tremaining: 825ms\n",
      "4:\tlearn: 79575.5615340\ttotal: 92.3ms\tremaining: 831ms\n",
      "6:\tlearn: 78528.3302871\ttotal: 139ms\tremaining: 852ms\n",
      "8:\tlearn: 77434.8186392\ttotal: 189ms\tremaining: 862ms\n",
      "10:\tlearn: 76424.2598469\ttotal: 229ms\tremaining: 812ms\n",
      "12:\tlearn: 75505.9637399\ttotal: 268ms\tremaining: 762ms\n",
      "14:\tlearn: 74521.1096141\ttotal: 320ms\tremaining: 746ms\n",
      "16:\tlearn: 73517.7357383\ttotal: 371ms\tremaining: 721ms\n",
      "18:\tlearn: 72574.8322657\ttotal: 410ms\tremaining: 670ms\n",
      "20:\tlearn: 71633.2181999\ttotal: 447ms\tremaining: 617ms\n",
      "22:\tlearn: 70671.7770395\ttotal: 490ms\tremaining: 575ms\n",
      "24:\tlearn: 69769.6077543\ttotal: 536ms\tremaining: 536ms\n",
      "26:\tlearn: 68884.6456827\ttotal: 577ms\tremaining: 491ms\n",
      "28:\tlearn: 67972.9444409\ttotal: 624ms\tremaining: 452ms\n",
      "30:\tlearn: 67111.2828290\ttotal: 664ms\tremaining: 407ms\n",
      "32:\tlearn: 66221.5623030\ttotal: 726ms\tremaining: 374ms\n",
      "34:\tlearn: 65406.1558074\ttotal: 772ms\tremaining: 331ms\n",
      "36:\tlearn: 64562.4588361\ttotal: 811ms\tremaining: 285ms\n",
      "38:\tlearn: 63738.7505593\ttotal: 851ms\tremaining: 240ms\n",
      "40:\tlearn: 62952.1418744\ttotal: 899ms\tremaining: 197ms\n",
      "42:\tlearn: 62187.9281920\ttotal: 942ms\tremaining: 153ms\n",
      "44:\tlearn: 61439.8537493\ttotal: 981ms\tremaining: 109ms\n",
      "46:\tlearn: 60699.2067551\ttotal: 1.02s\tremaining: 65ms\n",
      "48:\tlearn: 59960.7767004\ttotal: 1.07s\tremaining: 21.8ms\n",
      "49:\tlearn: 59627.7937434\ttotal: 1.1s\tremaining: 0us\n",
      "[CV] END depth=8, iterations=50, l2_leaf_reg=1, learning_rate=0.01; total time=   1.2s\n",
      "0:\tlearn: 77328.4653845\ttotal: 17.5ms\tremaining: 857ms\n",
      "2:\tlearn: 76269.5024628\ttotal: 59ms\tremaining: 925ms\n",
      "4:\tlearn: 75253.8576355\ttotal: 111ms\tremaining: 995ms\n",
      "6:\tlearn: 74262.5265194\ttotal: 160ms\tremaining: 985ms\n",
      "8:\tlearn: 73242.0753079\ttotal: 210ms\tremaining: 956ms\n",
      "10:\tlearn: 72272.5409891\ttotal: 272ms\tremaining: 964ms\n",
      "12:\tlearn: 71344.7329472\ttotal: 329ms\tremaining: 937ms\n",
      "14:\tlearn: 70420.4007646\ttotal: 391ms\tremaining: 912ms\n",
      "16:\tlearn: 69502.5305612\ttotal: 436ms\tremaining: 847ms\n",
      "18:\tlearn: 68563.4475226\ttotal: 481ms\tremaining: 785ms\n",
      "20:\tlearn: 67678.0173230\ttotal: 525ms\tremaining: 725ms\n",
      "22:\tlearn: 66748.3427571\ttotal: 569ms\tremaining: 668ms\n",
      "24:\tlearn: 65888.2717463\ttotal: 614ms\tremaining: 614ms\n",
      "26:\tlearn: 65038.9577627\ttotal: 658ms\tremaining: 560ms\n",
      "28:\tlearn: 64254.7037948\ttotal: 705ms\tremaining: 511ms\n",
      "30:\tlearn: 63478.1767860\ttotal: 753ms\tremaining: 461ms\n",
      "32:\tlearn: 62678.3992536\ttotal: 805ms\tremaining: 415ms\n",
      "34:\tlearn: 61885.9818856\ttotal: 855ms\tremaining: 366ms\n",
      "36:\tlearn: 61116.9061228\ttotal: 906ms\tremaining: 318ms\n",
      "38:\tlearn: 60334.5521014\ttotal: 959ms\tremaining: 271ms\n",
      "40:\tlearn: 59585.8095612\ttotal: 1.01s\tremaining: 222ms\n",
      "42:\tlearn: 58889.5456187\ttotal: 1.06s\tremaining: 173ms\n",
      "44:\tlearn: 58169.4522412\ttotal: 1.12s\tremaining: 124ms\n",
      "46:\tlearn: 57432.9033060\ttotal: 1.17s\tremaining: 74.9ms\n",
      "48:\tlearn: 56750.8455296\ttotal: 1.22s\tremaining: 25ms\n",
      "49:\tlearn: 56414.0303080\ttotal: 1.25s\tremaining: 0us\n",
      "[CV] END depth=8, iterations=50, l2_leaf_reg=1, learning_rate=0.01; total time=   1.4s\n",
      "0:\tlearn: 74471.8431575\ttotal: 58.4ms\tremaining: 2.86s\n",
      "2:\tlearn: 73463.3511688\ttotal: 146ms\tremaining: 2.28s\n",
      "4:\tlearn: 72514.0912524\ttotal: 191ms\tremaining: 1.72s\n",
      "6:\tlearn: 71545.6362170\ttotal: 239ms\tremaining: 1.47s\n",
      "8:\tlearn: 70592.5559199\ttotal: 287ms\tremaining: 1.31s\n",
      "10:\tlearn: 69616.4556997\ttotal: 329ms\tremaining: 1.17s\n",
      "12:\tlearn: 68671.1618551\ttotal: 371ms\tremaining: 1.05s\n",
      "14:\tlearn: 67782.0696544\ttotal: 413ms\tremaining: 964ms\n",
      "16:\tlearn: 66873.9718056\ttotal: 463ms\tremaining: 899ms\n",
      "18:\tlearn: 66013.0983544\ttotal: 553ms\tremaining: 903ms\n",
      "20:\tlearn: 65118.7719504\ttotal: 634ms\tremaining: 876ms\n",
      "22:\tlearn: 64287.2009466\ttotal: 700ms\tremaining: 822ms\n",
      "24:\tlearn: 63489.4151180\ttotal: 766ms\tremaining: 766ms\n",
      "26:\tlearn: 62693.3834177\ttotal: 819ms\tremaining: 698ms\n",
      "28:\tlearn: 61867.7705888\ttotal: 863ms\tremaining: 625ms\n",
      "30:\tlearn: 61054.1023842\ttotal: 910ms\tremaining: 558ms\n",
      "32:\tlearn: 60302.1289040\ttotal: 940ms\tremaining: 484ms\n",
      "34:\tlearn: 59541.1259936\ttotal: 988ms\tremaining: 423ms\n",
      "36:\tlearn: 58803.1352307\ttotal: 1.04s\tremaining: 367ms\n",
      "38:\tlearn: 58084.0350493\ttotal: 1.1s\tremaining: 312ms\n",
      "40:\tlearn: 57392.5633537\ttotal: 1.15s\tremaining: 253ms\n",
      "42:\tlearn: 56703.0059408\ttotal: 1.19s\tremaining: 194ms\n",
      "44:\tlearn: 56016.0950238\ttotal: 1.25s\tremaining: 138ms\n",
      "46:\tlearn: 55336.6675232\ttotal: 1.3s\tremaining: 82.9ms\n",
      "48:\tlearn: 54662.1259800\ttotal: 1.35s\tremaining: 27.5ms\n",
      "49:\tlearn: 54327.2723834\ttotal: 1.37s\tremaining: 0us\n",
      "[CV] END depth=8, iterations=50, l2_leaf_reg=1, learning_rate=0.01; total time=   1.5s\n",
      "0:\tlearn: 76128.6648469\ttotal: 14.4ms\tremaining: 417ms\n",
      "2:\tlearn: 68217.3026701\ttotal: 40.5ms\tremaining: 365ms\n",
      "4:\tlearn: 62126.0482801\ttotal: 59.8ms\tremaining: 299ms\n",
      "6:\tlearn: 56735.8352352\ttotal: 79.7ms\tremaining: 262ms\n",
      "8:\tlearn: 52535.0756336\ttotal: 97.1ms\tremaining: 227ms\n",
      "10:\tlearn: 49088.9107662\ttotal: 140ms\tremaining: 242ms\n",
      "12:\tlearn: 45746.4851223\ttotal: 161ms\tremaining: 210ms\n",
      "14:\tlearn: 42603.0563122\ttotal: 191ms\tremaining: 191ms\n",
      "16:\tlearn: 40464.3264621\ttotal: 216ms\tremaining: 165ms\n",
      "18:\tlearn: 38333.3181305\ttotal: 244ms\tremaining: 141ms\n",
      "20:\tlearn: 36781.1734298\ttotal: 265ms\tremaining: 114ms\n",
      "22:\tlearn: 35114.4105718\ttotal: 283ms\tremaining: 86.3ms\n",
      "24:\tlearn: 33474.2672534\ttotal: 300ms\tremaining: 60.1ms\n",
      "26:\tlearn: 32709.0453382\ttotal: 322ms\tremaining: 35.8ms\n",
      "28:\tlearn: 31669.5507143\ttotal: 339ms\tremaining: 11.7ms\n",
      "29:\tlearn: 31504.1918703\ttotal: 346ms\tremaining: 0us\n",
      "[CV] END depth=6, iterations=30, l2_leaf_reg=9, learning_rate=0.1; total time=   0.5s\n",
      "0:\tlearn: 75540.9905517\ttotal: 10.9ms\tremaining: 315ms\n",
      "2:\tlearn: 68048.2546994\ttotal: 29ms\tremaining: 261ms\n",
      "4:\tlearn: 61597.7570573\ttotal: 45.3ms\tremaining: 226ms\n",
      "6:\tlearn: 56062.0537712\ttotal: 64.5ms\tremaining: 212ms\n",
      "8:\tlearn: 51916.4606840\ttotal: 90.5ms\tremaining: 211ms\n",
      "10:\tlearn: 47833.0965942\ttotal: 118ms\tremaining: 203ms\n",
      "12:\tlearn: 44450.0057321\ttotal: 143ms\tremaining: 187ms\n",
      "14:\tlearn: 41622.6288157\ttotal: 162ms\tremaining: 162ms\n",
      "16:\tlearn: 39277.5429630\ttotal: 183ms\tremaining: 140ms\n",
      "18:\tlearn: 37064.9064007\ttotal: 203ms\tremaining: 117ms\n",
      "20:\tlearn: 35973.4971857\ttotal: 222ms\tremaining: 94.9ms\n",
      "22:\tlearn: 34393.7982000\ttotal: 238ms\tremaining: 72.4ms\n",
      "24:\tlearn: 32878.4554175\ttotal: 255ms\tremaining: 51ms\n",
      "26:\tlearn: 31882.2657407\ttotal: 275ms\tremaining: 30.5ms\n",
      "28:\tlearn: 30796.2536730\ttotal: 320ms\tremaining: 11ms\n",
      "29:\tlearn: 30620.2330309\ttotal: 337ms\tremaining: 0us\n",
      "[CV] END depth=6, iterations=30, l2_leaf_reg=9, learning_rate=0.1; total time=   0.4s\n",
      "0:\tlearn: 77492.2835757\ttotal: 7.8ms\tremaining: 226ms\n",
      "2:\tlearn: 69531.7989762\ttotal: 26.6ms\tremaining: 239ms\n",
      "4:\tlearn: 63145.7926837\ttotal: 45.4ms\tremaining: 227ms\n",
      "6:\tlearn: 57114.4229773\ttotal: 67ms\tremaining: 220ms\n",
      "8:\tlearn: 52644.8467823\ttotal: 103ms\tremaining: 240ms\n",
      "10:\tlearn: 48660.4629156\ttotal: 126ms\tremaining: 218ms\n",
      "12:\tlearn: 45530.1608867\ttotal: 145ms\tremaining: 190ms\n",
      "14:\tlearn: 42612.5483359\ttotal: 162ms\tremaining: 162ms\n",
      "16:\tlearn: 40311.4068381\ttotal: 178ms\tremaining: 136ms\n",
      "18:\tlearn: 38268.2214876\ttotal: 196ms\tremaining: 113ms\n",
      "20:\tlearn: 36250.6585656\ttotal: 215ms\tremaining: 92.2ms\n",
      "22:\tlearn: 34807.6235948\ttotal: 236ms\tremaining: 71.7ms\n",
      "24:\tlearn: 33492.8648397\ttotal: 255ms\tremaining: 51.1ms\n",
      "26:\tlearn: 32766.8559385\ttotal: 276ms\tremaining: 30.7ms\n",
      "28:\tlearn: 32097.3110760\ttotal: 292ms\tremaining: 10.1ms\n",
      "29:\tlearn: 31968.8494406\ttotal: 302ms\tremaining: 0us\n",
      "[CV] END depth=6, iterations=30, l2_leaf_reg=9, learning_rate=0.1; total time=   0.4s\n",
      "0:\tlearn: 73696.0464179\ttotal: 11.1ms\tremaining: 322ms\n",
      "2:\tlearn: 66191.6794055\ttotal: 31.6ms\tremaining: 284ms\n",
      "4:\tlearn: 59700.7145326\ttotal: 51.6ms\tremaining: 258ms\n",
      "6:\tlearn: 54254.7626003\ttotal: 73.2ms\tremaining: 240ms\n",
      "8:\tlearn: 50011.6569968\ttotal: 90.8ms\tremaining: 212ms\n",
      "10:\tlearn: 46074.3879377\ttotal: 110ms\tremaining: 190ms\n",
      "12:\tlearn: 42921.9703685\ttotal: 129ms\tremaining: 168ms\n",
      "14:\tlearn: 40244.7453020\ttotal: 147ms\tremaining: 147ms\n",
      "16:\tlearn: 37781.2427920\ttotal: 167ms\tremaining: 127ms\n",
      "18:\tlearn: 35697.5930183\ttotal: 184ms\tremaining: 106ms\n",
      "20:\tlearn: 34032.7150733\ttotal: 205ms\tremaining: 87.9ms\n",
      "22:\tlearn: 32503.3121024\ttotal: 225ms\tremaining: 68.6ms\n",
      "24:\tlearn: 31205.8836510\ttotal: 245ms\tremaining: 49ms\n",
      "26:\tlearn: 30154.1376977\ttotal: 269ms\tremaining: 29.9ms\n",
      "28:\tlearn: 29289.2737481\ttotal: 290ms\tremaining: 10ms\n",
      "29:\tlearn: 28740.7498039\ttotal: 299ms\tremaining: 0us\n",
      "[CV] END depth=6, iterations=30, l2_leaf_reg=9, learning_rate=0.1; total time=   0.4s\n",
      "0:\tlearn: 70776.0684312\ttotal: 12.3ms\tremaining: 355ms\n",
      "2:\tlearn: 63452.4961510\ttotal: 41.6ms\tremaining: 374ms\n",
      "4:\tlearn: 57427.0601996\ttotal: 63ms\tremaining: 315ms\n",
      "6:\tlearn: 52157.4802634\ttotal: 84.8ms\tremaining: 279ms\n",
      "8:\tlearn: 47925.0425662\ttotal: 106ms\tremaining: 247ms\n",
      "10:\tlearn: 44020.1932102\ttotal: 129ms\tremaining: 224ms\n",
      "12:\tlearn: 40880.4414898\ttotal: 149ms\tremaining: 195ms\n",
      "14:\tlearn: 38449.9878306\ttotal: 169ms\tremaining: 169ms\n",
      "16:\tlearn: 36344.7323095\ttotal: 189ms\tremaining: 144ms\n",
      "18:\tlearn: 34427.9662861\ttotal: 209ms\tremaining: 121ms\n",
      "20:\tlearn: 32881.8464950\ttotal: 239ms\tremaining: 103ms\n",
      "22:\tlearn: 31367.0036219\ttotal: 271ms\tremaining: 82.5ms\n",
      "24:\tlearn: 30269.4026953\ttotal: 303ms\tremaining: 60.5ms\n",
      "26:\tlearn: 29233.5385338\ttotal: 328ms\tremaining: 36.4ms\n",
      "28:\tlearn: 28428.7027734\ttotal: 350ms\tremaining: 12.1ms\n",
      "29:\tlearn: 28043.7760219\ttotal: 360ms\tremaining: 0us\n",
      "[CV] END depth=6, iterations=30, l2_leaf_reg=9, learning_rate=0.1; total time=   0.5s\n",
      "0:\tlearn: 78167.4595852\ttotal: 8.9ms\tremaining: 258ms\n",
      "2:\tlearn: 73230.9367513\ttotal: 26.6ms\tremaining: 239ms\n",
      "4:\tlearn: 68947.0168982\ttotal: 44.9ms\tremaining: 224ms\n",
      "6:\tlearn: 65018.3547168\ttotal: 65.4ms\tremaining: 215ms\n",
      "8:\tlearn: 61122.5757417\ttotal: 84.5ms\tremaining: 197ms\n",
      "10:\tlearn: 57775.7865155\ttotal: 103ms\tremaining: 178ms\n",
      "12:\tlearn: 54669.3819523\ttotal: 121ms\tremaining: 158ms\n",
      "14:\tlearn: 51619.0307203\ttotal: 137ms\tremaining: 137ms\n",
      "16:\tlearn: 49115.7599838\ttotal: 159ms\tremaining: 122ms\n",
      "18:\tlearn: 46921.2838733\ttotal: 177ms\tremaining: 102ms\n",
      "20:\tlearn: 44743.2573953\ttotal: 194ms\tremaining: 83.3ms\n",
      "22:\tlearn: 42736.3043681\ttotal: 214ms\tremaining: 65.1ms\n",
      "24:\tlearn: 40653.5401386\ttotal: 232ms\tremaining: 46.5ms\n",
      "26:\tlearn: 38875.1050858\ttotal: 255ms\tremaining: 28.3ms\n",
      "28:\tlearn: 37558.1341195\ttotal: 275ms\tremaining: 9.47ms\n",
      "29:\tlearn: 36777.1657929\ttotal: 289ms\tremaining: 0us\n",
      "[CV] END depth=6, iterations=30, l2_leaf_reg=1, learning_rate=0.05; total time=   0.4s\n",
      "0:\tlearn: 77627.3121941\ttotal: 7.1ms\tremaining: 206ms\n",
      "2:\tlearn: 72812.5501226\ttotal: 25.7ms\tremaining: 231ms\n",
      "4:\tlearn: 68732.6896261\ttotal: 42.5ms\tremaining: 213ms\n",
      "6:\tlearn: 64835.4166535\ttotal: 60.6ms\tremaining: 199ms\n",
      "8:\tlearn: 61011.5446233\ttotal: 78.7ms\tremaining: 184ms\n",
      "10:\tlearn: 57786.8302861\ttotal: 97.4ms\tremaining: 168ms\n",
      "12:\tlearn: 54552.3874014\ttotal: 118ms\tremaining: 155ms\n",
      "14:\tlearn: 51757.3272035\ttotal: 137ms\tremaining: 137ms\n",
      "16:\tlearn: 49157.9415974\ttotal: 159ms\tremaining: 121ms\n",
      "18:\tlearn: 46671.4346834\ttotal: 180ms\tremaining: 104ms\n",
      "20:\tlearn: 44357.0167124\ttotal: 200ms\tremaining: 85.8ms\n",
      "22:\tlearn: 42450.0858391\ttotal: 222ms\tremaining: 67.4ms\n",
      "24:\tlearn: 40592.8207300\ttotal: 245ms\tremaining: 49.1ms\n",
      "26:\tlearn: 39002.0016768\ttotal: 268ms\tremaining: 29.8ms\n",
      "28:\tlearn: 37562.5829636\ttotal: 298ms\tremaining: 10.3ms\n",
      "29:\tlearn: 36814.1447610\ttotal: 313ms\tremaining: 0us\n",
      "[CV] END depth=6, iterations=30, l2_leaf_reg=1, learning_rate=0.05; total time=   0.4s\n",
      "0:\tlearn: 79521.0976947\ttotal: 16.3ms\tremaining: 474ms\n",
      "2:\tlearn: 74455.7263326\ttotal: 44.1ms\tremaining: 397ms\n",
      "4:\tlearn: 70171.3690177\ttotal: 64.9ms\tremaining: 324ms\n",
      "6:\tlearn: 65869.3782706\ttotal: 95.8ms\tremaining: 315ms\n",
      "8:\tlearn: 62045.5749953\ttotal: 115ms\tremaining: 269ms\n",
      "10:\tlearn: 58617.0486058\ttotal: 135ms\tremaining: 233ms\n",
      "12:\tlearn: 55452.9186906\ttotal: 152ms\tremaining: 199ms\n",
      "14:\tlearn: 52487.2349977\ttotal: 170ms\tremaining: 170ms\n",
      "16:\tlearn: 49818.3022956\ttotal: 187ms\tremaining: 143ms\n",
      "18:\tlearn: 47425.8226148\ttotal: 205ms\tremaining: 119ms\n",
      "20:\tlearn: 45174.1749490\ttotal: 223ms\tremaining: 95.7ms\n",
      "22:\tlearn: 43161.0913045\ttotal: 242ms\tremaining: 73.8ms\n",
      "24:\tlearn: 41396.0120855\ttotal: 260ms\tremaining: 51.9ms\n",
      "26:\tlearn: 39836.0842583\ttotal: 280ms\tremaining: 31.1ms\n",
      "28:\tlearn: 38119.4613980\ttotal: 301ms\tremaining: 10.4ms\n",
      "29:\tlearn: 37346.0096794\ttotal: 309ms\tremaining: 0us\n",
      "[CV] END depth=6, iterations=30, l2_leaf_reg=1, learning_rate=0.05; total time=   0.4s\n",
      "0:\tlearn: 75386.9256651\ttotal: 12.9ms\tremaining: 373ms\n",
      "2:\tlearn: 70695.1848156\ttotal: 35.7ms\tremaining: 321ms\n",
      "4:\tlearn: 66314.0370014\ttotal: 56.8ms\tremaining: 284ms\n",
      "6:\tlearn: 62179.4762043\ttotal: 80.3ms\tremaining: 264ms\n",
      "8:\tlearn: 58611.6010375\ttotal: 97.3ms\tremaining: 227ms\n",
      "10:\tlearn: 55475.1124453\ttotal: 116ms\tremaining: 200ms\n",
      "12:\tlearn: 52409.7553255\ttotal: 135ms\tremaining: 177ms\n",
      "14:\tlearn: 49499.7268261\ttotal: 156ms\tremaining: 156ms\n",
      "16:\tlearn: 47029.1338180\ttotal: 179ms\tremaining: 137ms\n",
      "18:\tlearn: 44660.0842934\ttotal: 199ms\tremaining: 115ms\n",
      "20:\tlearn: 42534.1214474\ttotal: 225ms\tremaining: 96.2ms\n",
      "22:\tlearn: 40607.2569319\ttotal: 251ms\tremaining: 76.4ms\n",
      "24:\tlearn: 38872.2907449\ttotal: 274ms\tremaining: 54.7ms\n",
      "26:\tlearn: 37310.7349286\ttotal: 292ms\tremaining: 32.4ms\n",
      "28:\tlearn: 35730.1559599\ttotal: 308ms\tremaining: 10.6ms\n",
      "29:\tlearn: 35018.4002285\ttotal: 318ms\tremaining: 0us\n",
      "[CV] END depth=6, iterations=30, l2_leaf_reg=1, learning_rate=0.05; total time=   0.4s\n",
      "0:\tlearn: 72509.7017425\ttotal: 9.89ms\tremaining: 287ms\n",
      "2:\tlearn: 67814.9371684\ttotal: 25.5ms\tremaining: 230ms\n",
      "4:\tlearn: 63551.7926832\ttotal: 40.3ms\tremaining: 202ms\n",
      "6:\tlearn: 59683.9871322\ttotal: 56.7ms\tremaining: 186ms\n",
      "8:\tlearn: 56205.7676540\ttotal: 72ms\tremaining: 168ms\n",
      "10:\tlearn: 52828.7976430\ttotal: 89.6ms\tremaining: 155ms\n",
      "12:\tlearn: 49938.9823984\ttotal: 116ms\tremaining: 152ms\n",
      "14:\tlearn: 47421.6985353\ttotal: 138ms\tremaining: 138ms\n",
      "16:\tlearn: 45157.7868713\ttotal: 162ms\tremaining: 124ms\n",
      "18:\tlearn: 43126.7509474\ttotal: 187ms\tremaining: 109ms\n",
      "20:\tlearn: 41099.9092931\ttotal: 208ms\tremaining: 89.3ms\n",
      "22:\tlearn: 39205.4490779\ttotal: 226ms\tremaining: 68.9ms\n",
      "24:\tlearn: 37589.4462187\ttotal: 245ms\tremaining: 49.1ms\n",
      "26:\tlearn: 36075.9818250\ttotal: 263ms\tremaining: 29.2ms\n",
      "28:\tlearn: 34673.9872021\ttotal: 280ms\tremaining: 9.65ms\n",
      "29:\tlearn: 33945.6858760\ttotal: 289ms\tremaining: 0us\n",
      "[CV] END depth=6, iterations=30, l2_leaf_reg=1, learning_rate=0.05; total time=   0.4s\n",
      "0:\tlearn: 74354.2189292\ttotal: 8.21ms\tremaining: 403ms\n",
      "2:\tlearn: 65164.2334164\ttotal: 26.2ms\tremaining: 410ms\n",
      "4:\tlearn: 57721.0035134\ttotal: 43.8ms\tremaining: 394ms\n",
      "6:\tlearn: 51678.7192431\ttotal: 59.8ms\tremaining: 367ms\n",
      "8:\tlearn: 47016.3912384\ttotal: 84.6ms\tremaining: 385ms\n",
      "10:\tlearn: 42738.6839544\ttotal: 110ms\tremaining: 389ms\n",
      "12:\tlearn: 39169.0891118\ttotal: 137ms\tremaining: 391ms\n",
      "14:\tlearn: 36293.0347630\ttotal: 163ms\tremaining: 380ms\n",
      "16:\tlearn: 33739.2297086\ttotal: 185ms\tremaining: 360ms\n",
      "18:\tlearn: 31588.6503877\ttotal: 206ms\tremaining: 336ms\n",
      "20:\tlearn: 29719.0174221\ttotal: 227ms\tremaining: 313ms\n",
      "22:\tlearn: 28435.5614545\ttotal: 244ms\tremaining: 286ms\n",
      "24:\tlearn: 26931.8134276\ttotal: 259ms\tremaining: 259ms\n",
      "26:\tlearn: 25682.1580445\ttotal: 279ms\tremaining: 237ms\n",
      "28:\tlearn: 24620.6093014\ttotal: 299ms\tremaining: 216ms\n",
      "30:\tlearn: 23734.3142585\ttotal: 320ms\tremaining: 196ms\n",
      "32:\tlearn: 22867.7713477\ttotal: 343ms\tremaining: 177ms\n",
      "34:\tlearn: 22289.8956388\ttotal: 370ms\tremaining: 159ms\n",
      "36:\tlearn: 21791.9830344\ttotal: 390ms\tremaining: 137ms\n",
      "38:\tlearn: 21282.0831733\ttotal: 409ms\tremaining: 115ms\n",
      "40:\tlearn: 20870.1413774\ttotal: 430ms\tremaining: 94.4ms\n",
      "42:\tlearn: 20552.9492341\ttotal: 447ms\tremaining: 72.8ms\n",
      "44:\tlearn: 20113.1143357\ttotal: 471ms\tremaining: 52.4ms\n",
      "46:\tlearn: 19771.7274869\ttotal: 491ms\tremaining: 31.3ms\n",
      "48:\tlearn: 19498.8169026\ttotal: 510ms\tremaining: 10.4ms\n",
      "49:\tlearn: 19375.3023631\ttotal: 522ms\tremaining: 0us\n",
      "{'learning_rate': 0.1, 'l2_leaf_reg': 1, 'iterations': 50, 'depth': 6}\n",
      "0.8585278043868932\n"
     ]
    }
   ],
   "source": [
    "# initialize Pool\n",
    "train_pool = Pool(X_train, y_train)\n",
    "test_pool = Pool(X_test) \n",
    "\n",
    "param_dist = {\n",
    "    'depth': [6,8,10],\n",
    "    'learning_rate' : [0.01, 0.05, 0.1],\n",
    "    'iterations'    : [30, 50, 100],\n",
    "    'l2_leaf_reg': [1, 3, 5, 7, 9]\n",
    "}\n",
    "#Instantiate RandomSearchCV object\n",
    "cbr = CatBoostRegressor()\n",
    "\n",
    "random_grid = RandomizedSearchCV(cbr, param_dist, cv =5)\n",
    "\n",
    "#Fit the model\n",
    "random_grid.fit(X_train, y_train, verbose=2)\n",
    "\n",
    "# Print the tuned parameters and score\n",
    "print(random_grid.best_params_)\n",
    "print(random_grid.best_score_)\n",
    "# specify the training parameters \n",
    "# model = CatBoostRegressor(\n",
    "#     iterations=5, \n",
    "#     depth=2, \n",
    "#     learning_rate=1, \n",
    "#     loss_function='RMSE'\n",
    "# )\n",
    "#train the model\n",
    "# model.fit(train_pool)\n",
    "# make the prediction using the resulting model\n",
    "# preds = model.predict(test_pool)"
   ]
  },
  {
   "source": [
    "Use these params to start grid search"
   ],
   "cell_type": "markdown",
   "metadata": {}
  },
  {
   "cell_type": "code",
   "execution_count": 211,
   "metadata": {},
   "outputs": [
    {
     "output_type": "stream",
     "name": "stdout",
     "text": [
      "Fitting 4 folds for each of 360 candidates, totalling 1440 fits\n",
      "0:\tlearn: 74353.9529798\ttotal: 9.33ms\tremaining: 1.39s\n",
      "1:\tlearn: 70159.1313692\ttotal: 20.6ms\tremaining: 1.53s\n",
      "2:\tlearn: 66430.1903925\ttotal: 33ms\tremaining: 1.61s\n",
      "3:\tlearn: 63025.8837024\ttotal: 40.7ms\tremaining: 1.49s\n",
      "4:\tlearn: 59531.1235834\ttotal: 46.3ms\tremaining: 1.34s\n",
      "5:\tlearn: 56358.1876305\ttotal: 53.8ms\tremaining: 1.29s\n",
      "6:\tlearn: 53558.2684332\ttotal: 59.3ms\tremaining: 1.21s\n",
      "7:\tlearn: 50977.4423207\ttotal: 64.8ms\tremaining: 1.15s\n",
      "8:\tlearn: 48695.6467326\ttotal: 77ms\tremaining: 1.21s\n",
      "9:\tlearn: 46717.4262634\ttotal: 82.1ms\tremaining: 1.15s\n",
      "10:\tlearn: 44638.0027421\ttotal: 87.6ms\tremaining: 1.11s\n",
      "11:\tlearn: 42811.6037596\ttotal: 92.5ms\tremaining: 1.06s\n",
      "12:\tlearn: 41337.7538629\ttotal: 101ms\tremaining: 1.06s\n",
      "13:\tlearn: 39852.3561403\ttotal: 106ms\tremaining: 1.03s\n",
      "14:\tlearn: 38533.2714695\ttotal: 113ms\tremaining: 1.01s\n",
      "15:\tlearn: 37230.3533307\ttotal: 123ms\tremaining: 1.03s\n",
      "16:\tlearn: 36157.7971783\ttotal: 129ms\tremaining: 1s\n",
      "17:\tlearn: 35339.7940686\ttotal: 136ms\tremaining: 996ms\n",
      "18:\tlearn: 34284.4536246\ttotal: 140ms\tremaining: 965ms\n",
      "19:\tlearn: 33430.3038510\ttotal: 146ms\tremaining: 950ms\n",
      "20:\tlearn: 32723.3958802\ttotal: 152ms\tremaining: 936ms\n",
      "21:\tlearn: 32182.4820565\ttotal: 162ms\tremaining: 944ms\n",
      "22:\tlearn: 31514.5670624\ttotal: 172ms\tremaining: 952ms\n",
      "23:\tlearn: 30801.7795825\ttotal: 180ms\tremaining: 947ms\n",
      "24:\tlearn: 30254.5710731\ttotal: 188ms\tremaining: 941ms\n",
      "25:\tlearn: 29711.9724519\ttotal: 204ms\tremaining: 975ms\n",
      "26:\tlearn: 29130.6503877\ttotal: 216ms\tremaining: 985ms\n",
      "27:\tlearn: 28555.9228753\ttotal: 222ms\tremaining: 968ms\n",
      "28:\tlearn: 28122.8584321\ttotal: 228ms\tremaining: 950ms\n",
      "29:\tlearn: 27784.4820278\ttotal: 234ms\tremaining: 935ms\n",
      "30:\tlearn: 27471.1178848\ttotal: 241ms\tremaining: 926ms\n",
      "31:\tlearn: 27179.0115827\ttotal: 248ms\tremaining: 914ms\n",
      "32:\tlearn: 26793.0813382\ttotal: 265ms\tremaining: 941ms\n",
      "33:\tlearn: 26330.8948239\ttotal: 271ms\tremaining: 925ms\n",
      "34:\tlearn: 26078.4287748\ttotal: 276ms\tremaining: 907ms\n",
      "35:\tlearn: 25736.7725024\ttotal: 281ms\tremaining: 889ms\n",
      "36:\tlearn: 25450.5580139\ttotal: 287ms\tremaining: 877ms\n",
      "37:\tlearn: 25133.9818554\ttotal: 293ms\tremaining: 862ms\n",
      "38:\tlearn: 24876.1589103\ttotal: 297ms\tremaining: 846ms\n",
      "39:\tlearn: 24662.2634033\ttotal: 307ms\tremaining: 844ms\n",
      "40:\tlearn: 24426.3592413\ttotal: 315ms\tremaining: 836ms\n",
      "41:\tlearn: 24134.5445071\ttotal: 321ms\tremaining: 826ms\n",
      "42:\tlearn: 23990.4403157\ttotal: 326ms\tremaining: 812ms\n",
      "43:\tlearn: 23810.2900009\ttotal: 335ms\tremaining: 808ms\n",
      "44:\tlearn: 23674.2208370\ttotal: 342ms\tremaining: 798ms\n",
      "45:\tlearn: 23425.2702217\ttotal: 349ms\tremaining: 788ms\n",
      "46:\tlearn: 23283.7557222\ttotal: 355ms\tremaining: 778ms\n",
      "47:\tlearn: 23152.8800052\ttotal: 363ms\tremaining: 771ms\n",
      "48:\tlearn: 22929.3447849\ttotal: 370ms\tremaining: 762ms\n",
      "49:\tlearn: 22792.9521946\ttotal: 380ms\tremaining: 759ms\n",
      "50:\tlearn: 22675.2511696\ttotal: 390ms\tremaining: 756ms\n",
      "51:\tlearn: 22587.5048045\ttotal: 395ms\tremaining: 745ms\n",
      "52:\tlearn: 22355.7058324\ttotal: 401ms\tremaining: 734ms\n",
      "53:\tlearn: 22211.5994233\ttotal: 408ms\tremaining: 726ms\n",
      "54:\tlearn: 22069.3347751\ttotal: 415ms\tremaining: 717ms\n",
      "55:\tlearn: 21976.1303942\ttotal: 427ms\tremaining: 717ms\n",
      "56:\tlearn: 21795.4001156\ttotal: 436ms\tremaining: 711ms\n",
      "57:\tlearn: 21677.0926967\ttotal: 442ms\tremaining: 701ms\n",
      "58:\tlearn: 21502.4548131\ttotal: 448ms\tremaining: 692ms\n",
      "59:\tlearn: 21358.4557142\ttotal: 455ms\tremaining: 683ms\n",
      "60:\tlearn: 21222.0291172\ttotal: 462ms\tremaining: 674ms\n",
      "61:\tlearn: 21108.1986920\ttotal: 469ms\tremaining: 666ms\n",
      "62:\tlearn: 20994.8699706\ttotal: 480ms\tremaining: 663ms\n",
      "63:\tlearn: 20895.3539632\ttotal: 487ms\tremaining: 654ms\n",
      "64:\tlearn: 20726.6193315\ttotal: 496ms\tremaining: 648ms\n",
      "65:\tlearn: 20585.9875216\ttotal: 508ms\tremaining: 646ms\n",
      "66:\tlearn: 20504.2951971\ttotal: 516ms\tremaining: 639ms\n",
      "67:\tlearn: 20382.0814542\ttotal: 522ms\tremaining: 630ms\n",
      "68:\tlearn: 20271.5108361\ttotal: 528ms\tremaining: 620ms\n",
      "69:\tlearn: 20145.7624811\ttotal: 543ms\tremaining: 621ms\n",
      "70:\tlearn: 20072.2126730\ttotal: 551ms\tremaining: 613ms\n",
      "71:\tlearn: 20002.8189666\ttotal: 560ms\tremaining: 607ms\n",
      "72:\tlearn: 19925.1830427\ttotal: 572ms\tremaining: 604ms\n",
      "73:\tlearn: 19852.7479013\ttotal: 580ms\tremaining: 595ms\n",
      "74:\tlearn: 19788.1955075\ttotal: 586ms\tremaining: 586ms\n",
      "75:\tlearn: 19702.3086193\ttotal: 593ms\tremaining: 578ms\n",
      "76:\tlearn: 19612.1238660\ttotal: 603ms\tremaining: 572ms\n",
      "77:\tlearn: 19542.5400443\ttotal: 618ms\tremaining: 570ms\n",
      "78:\tlearn: 19463.1772152\ttotal: 631ms\tremaining: 567ms\n",
      "79:\tlearn: 19401.8786829\ttotal: 639ms\tremaining: 559ms\n",
      "80:\tlearn: 19317.2398210\ttotal: 649ms\tremaining: 553ms\n",
      "81:\tlearn: 19223.7444318\ttotal: 656ms\tremaining: 544ms\n",
      "82:\tlearn: 19160.9969676\ttotal: 660ms\tremaining: 533ms\n",
      "83:\tlearn: 19073.3991314\ttotal: 667ms\tremaining: 524ms\n",
      "84:\tlearn: 18982.8269951\ttotal: 677ms\tremaining: 517ms\n",
      "85:\tlearn: 18915.9809361\ttotal: 690ms\tremaining: 514ms\n",
      "86:\tlearn: 18846.3194499\ttotal: 707ms\tremaining: 512ms\n",
      "87:\tlearn: 18750.2819379\ttotal: 733ms\tremaining: 517ms\n",
      "88:\tlearn: 18679.2572543\ttotal: 748ms\tremaining: 513ms\n",
      "89:\tlearn: 18627.3882843\ttotal: 780ms\tremaining: 520ms\n",
      "90:\tlearn: 18574.0317605\ttotal: 797ms\tremaining: 517ms\n",
      "91:\tlearn: 18495.9346414\ttotal: 819ms\tremaining: 516ms\n",
      "92:\tlearn: 18453.0846842\ttotal: 835ms\tremaining: 512ms\n",
      "93:\tlearn: 18367.0756872\ttotal: 858ms\tremaining: 511ms\n",
      "94:\tlearn: 18270.0364126\ttotal: 871ms\tremaining: 504ms\n",
      "95:\tlearn: 18188.3534201\ttotal: 883ms\tremaining: 497ms\n",
      "96:\tlearn: 18136.0599456\ttotal: 897ms\tremaining: 490ms\n",
      "97:\tlearn: 18052.7172929\ttotal: 919ms\tremaining: 488ms\n",
      "98:\tlearn: 18001.9846295\ttotal: 946ms\tremaining: 487ms\n",
      "99:\tlearn: 17929.7876773\ttotal: 965ms\tremaining: 483ms\n",
      "100:\tlearn: 17842.6284481\ttotal: 997ms\tremaining: 484ms\n",
      "101:\tlearn: 17786.4304923\ttotal: 1.04s\tremaining: 492ms\n",
      "102:\tlearn: 17709.6437740\ttotal: 1.12s\tremaining: 510ms\n",
      "103:\tlearn: 17651.7556462\ttotal: 1.15s\tremaining: 511ms\n",
      "104:\tlearn: 17563.1965538\ttotal: 1.18s\tremaining: 504ms\n",
      "105:\tlearn: 17504.6337764\ttotal: 1.19s\tremaining: 492ms\n",
      "106:\tlearn: 17442.4976408\ttotal: 1.2s\tremaining: 484ms\n",
      "107:\tlearn: 17396.5906805\ttotal: 1.23s\tremaining: 477ms\n",
      "108:\tlearn: 17356.4776536\ttotal: 1.24s\tremaining: 466ms\n",
      "109:\tlearn: 17263.0460620\ttotal: 1.25s\tremaining: 456ms\n",
      "110:\tlearn: 17220.5501174\ttotal: 1.27s\tremaining: 446ms\n",
      "111:\tlearn: 17188.4356583\ttotal: 1.28s\tremaining: 435ms\n",
      "112:\tlearn: 17103.9068361\ttotal: 1.3s\tremaining: 426ms\n",
      "113:\tlearn: 17045.9885142\ttotal: 1.32s\tremaining: 418ms\n",
      "114:\tlearn: 16975.3863728\ttotal: 1.34s\tremaining: 407ms\n",
      "115:\tlearn: 16934.6013085\ttotal: 1.35s\tremaining: 396ms\n",
      "116:\tlearn: 16887.3755477\ttotal: 1.36s\tremaining: 384ms\n",
      "117:\tlearn: 16828.7082902\ttotal: 1.38s\tremaining: 373ms\n",
      "118:\tlearn: 16772.9086192\ttotal: 1.39s\tremaining: 362ms\n",
      "119:\tlearn: 16738.3515733\ttotal: 1.4s\tremaining: 351ms\n",
      "120:\tlearn: 16693.2698748\ttotal: 1.42s\tremaining: 340ms\n",
      "121:\tlearn: 16657.4714196\ttotal: 1.43s\tremaining: 328ms\n",
      "122:\tlearn: 16589.7696319\ttotal: 1.47s\tremaining: 322ms\n",
      "123:\tlearn: 16535.7036151\ttotal: 1.48s\tremaining: 309ms\n",
      "124:\tlearn: 16455.2808215\ttotal: 1.49s\tremaining: 298ms\n",
      "125:\tlearn: 16422.8435763\ttotal: 1.5s\tremaining: 287ms\n",
      "126:\tlearn: 16389.6887081\ttotal: 1.52s\tremaining: 276ms\n",
      "127:\tlearn: 16348.9993392\ttotal: 1.53s\tremaining: 264ms\n",
      "128:\tlearn: 16270.5757639\ttotal: 1.55s\tremaining: 252ms\n",
      "129:\tlearn: 16218.5526216\ttotal: 1.57s\tremaining: 242ms\n",
      "130:\tlearn: 16153.4876842\ttotal: 1.6s\tremaining: 232ms\n",
      "131:\tlearn: 16096.6338309\ttotal: 1.61s\tremaining: 220ms\n",
      "132:\tlearn: 16028.5192493\ttotal: 1.62s\tremaining: 207ms\n",
      "133:\tlearn: 15978.1772628\ttotal: 1.68s\tremaining: 200ms\n",
      "134:\tlearn: 15940.0932861\ttotal: 1.74s\tremaining: 193ms\n",
      "135:\tlearn: 15885.3573086\ttotal: 1.77s\tremaining: 182ms\n",
      "136:\tlearn: 15844.1270650\ttotal: 1.79s\tremaining: 170ms\n",
      "137:\tlearn: 15792.0465879\ttotal: 1.8s\tremaining: 157ms\n",
      "138:\tlearn: 15753.3698467\ttotal: 1.82s\tremaining: 144ms\n",
      "139:\tlearn: 15688.9254215\ttotal: 1.84s\tremaining: 132ms\n",
      "140:\tlearn: 15627.1641385\ttotal: 1.86s\tremaining: 119ms\n",
      "141:\tlearn: 15592.1163816\ttotal: 1.88s\tremaining: 106ms\n",
      "142:\tlearn: 15530.0454585\ttotal: 1.89s\tremaining: 92.4ms\n",
      "143:\tlearn: 15514.2934312\ttotal: 1.89s\tremaining: 78.9ms\n",
      "144:\tlearn: 15482.1605931\ttotal: 1.91s\tremaining: 65.9ms\n",
      "145:\tlearn: 15436.2870881\ttotal: 1.92s\tremaining: 52.5ms\n",
      "146:\tlearn: 15387.4245380\ttotal: 1.92s\tremaining: 39.3ms\n",
      "147:\tlearn: 15335.8897541\ttotal: 1.93s\tremaining: 26.1ms\n",
      "148:\tlearn: 15302.0451444\ttotal: 1.94s\tremaining: 13ms\n",
      "149:\tlearn: 15268.3319102\ttotal: 1.95s\tremaining: 0us\n"
     ]
    },
    {
     "output_type": "execute_result",
     "data": {
      "text/plain": [
       "GridSearchCV(cv=4,\n",
       "             estimator=<catboost.core.CatBoostRegressor object at 0x7fb96c0812b0>,\n",
       "             n_jobs=-1,\n",
       "             param_grid={'depth': [4, 6, 10], 'iterations': [50, 80, 100, 150],\n",
       "                         'l2_leaf_reg': [1, 3, 5],\n",
       "                         'learning_rate': [0.05, 0.1, 0.2, 0.4, 0.8],\n",
       "                         'random_strength': [1, 2]},\n",
       "             verbose=1)"
      ]
     },
     "metadata": {},
     "execution_count": 211
    }
   ],
   "source": [
    "param_grid = {\n",
    "    'learning_rate': [0.05, 0.1, 0.2, 0.4, 0.8],\n",
    "    'iterations': [50, 80, 100, 150,], \n",
    "    'depth': [4,6,10],\n",
    "    'l2_leaf_reg': [1, 3, 5],\n",
    "    'random_strength': [1,2]\n",
    "}\n",
    "\n",
    "grid_search = GridSearchCV(estimator = cbr, param_grid = param_grid, \n",
    "                          cv = 4, n_jobs = -1, verbose = 1)\n",
    "grid_search.fit(X_train, y_train)"
   ]
  },
  {
   "cell_type": "code",
   "execution_count": 212,
   "metadata": {},
   "outputs": [
    {
     "output_type": "stream",
     "name": "stdout",
     "text": [
      "{'depth': 4, 'iterations': 150, 'l2_leaf_reg': 1, 'learning_rate': 0.1, 'random_strength': 1}\n0.8789847410809853\n"
     ]
    }
   ],
   "source": [
    "print(grid_search.best_params_)\n",
    "print(grid_search.best_score_)"
   ]
  },
  {
   "cell_type": "code",
   "execution_count": 285,
   "metadata": {},
   "outputs": [
    {
     "output_type": "stream",
     "name": "stdout",
     "text": [
      "Fitting 4 folds for each of 360 candidates, totalling 1440 fits\n",
      "0:\tlearn: 68320.5155412\ttotal: 52.4ms\tremaining: 4.14s\n",
      "1:\tlearn: 60241.0297156\ttotal: 106ms\tremaining: 4.12s\n",
      "2:\tlearn: 53919.3858586\ttotal: 150ms\tremaining: 3.86s\n",
      "3:\tlearn: 48283.6112880\ttotal: 195ms\tremaining: 3.7s\n",
      "4:\tlearn: 44236.6117771\ttotal: 227ms\tremaining: 3.41s\n",
      "5:\tlearn: 40926.4679700\ttotal: 268ms\tremaining: 3.31s\n",
      "6:\tlearn: 38278.9689674\ttotal: 308ms\tremaining: 3.21s\n",
      "7:\tlearn: 35747.0529618\ttotal: 349ms\tremaining: 3.14s\n",
      "8:\tlearn: 33640.1432039\ttotal: 390ms\tremaining: 3.08s\n",
      "9:\tlearn: 32137.3551152\ttotal: 426ms\tremaining: 2.98s\n",
      "10:\tlearn: 30461.6872348\ttotal: 460ms\tremaining: 2.89s\n",
      "11:\tlearn: 29163.9706023\ttotal: 499ms\tremaining: 2.82s\n",
      "12:\tlearn: 27832.7083433\ttotal: 538ms\tremaining: 2.77s\n",
      "13:\tlearn: 26800.4544658\ttotal: 575ms\tremaining: 2.71s\n",
      "14:\tlearn: 25949.2357129\ttotal: 614ms\tremaining: 2.66s\n",
      "15:\tlearn: 25328.5371871\ttotal: 646ms\tremaining: 2.58s\n",
      "16:\tlearn: 24752.0459579\ttotal: 681ms\tremaining: 2.52s\n",
      "17:\tlearn: 24207.2776155\ttotal: 725ms\tremaining: 2.5s\n",
      "18:\tlearn: 23791.7343001\ttotal: 766ms\tremaining: 2.46s\n",
      "19:\tlearn: 23269.1691217\ttotal: 805ms\tremaining: 2.42s\n",
      "20:\tlearn: 23001.7310227\ttotal: 841ms\tremaining: 2.36s\n",
      "21:\tlearn: 22557.0796866\ttotal: 875ms\tremaining: 2.31s\n",
      "22:\tlearn: 22287.7142285\ttotal: 915ms\tremaining: 2.27s\n",
      "23:\tlearn: 21994.4134660\ttotal: 957ms\tremaining: 2.23s\n",
      "24:\tlearn: 21764.2172059\ttotal: 994ms\tremaining: 2.19s\n",
      "25:\tlearn: 21453.8838529\ttotal: 1.03s\tremaining: 2.14s\n",
      "26:\tlearn: 21180.9005936\ttotal: 1.06s\tremaining: 2.09s\n",
      "27:\tlearn: 21044.3400103\ttotal: 1.1s\tremaining: 2.05s\n",
      "28:\tlearn: 20856.1698301\ttotal: 1.15s\tremaining: 2.02s\n",
      "29:\tlearn: 20621.4232167\ttotal: 1.19s\tremaining: 1.98s\n",
      "30:\tlearn: 20386.4153422\ttotal: 1.23s\tremaining: 1.94s\n",
      "31:\tlearn: 20251.9588923\ttotal: 1.26s\tremaining: 1.89s\n",
      "32:\tlearn: 20135.8249794\ttotal: 1.28s\tremaining: 1.82s\n",
      "33:\tlearn: 19965.7518359\ttotal: 1.31s\tremaining: 1.78s\n",
      "34:\tlearn: 19832.6757323\ttotal: 1.35s\tremaining: 1.74s\n",
      "35:\tlearn: 19764.9450571\ttotal: 1.39s\tremaining: 1.7s\n",
      "36:\tlearn: 19711.1478601\ttotal: 1.4s\tremaining: 1.63s\n",
      "37:\tlearn: 19601.8853933\ttotal: 1.44s\tremaining: 1.59s\n",
      "38:\tlearn: 19514.9571659\ttotal: 1.48s\tremaining: 1.55s\n",
      "39:\tlearn: 19360.4573682\ttotal: 1.51s\tremaining: 1.51s\n",
      "40:\tlearn: 19252.6561270\ttotal: 1.55s\tremaining: 1.48s\n",
      "41:\tlearn: 19075.1943022\ttotal: 1.6s\tremaining: 1.45s\n",
      "42:\tlearn: 18953.1264269\ttotal: 1.64s\tremaining: 1.41s\n",
      "43:\tlearn: 18701.7159197\ttotal: 1.68s\tremaining: 1.37s\n",
      "44:\tlearn: 18482.4295124\ttotal: 1.71s\tremaining: 1.33s\n",
      "45:\tlearn: 18296.6843159\ttotal: 1.75s\tremaining: 1.29s\n",
      "46:\tlearn: 18261.5553830\ttotal: 1.79s\tremaining: 1.26s\n",
      "47:\tlearn: 18199.7028768\ttotal: 1.81s\tremaining: 1.21s\n",
      "48:\tlearn: 18108.2809582\ttotal: 1.85s\tremaining: 1.17s\n",
      "49:\tlearn: 18084.9929359\ttotal: 1.88s\tremaining: 1.13s\n",
      "50:\tlearn: 17970.2599445\ttotal: 1.92s\tremaining: 1.09s\n",
      "51:\tlearn: 17867.7571244\ttotal: 1.95s\tremaining: 1.05s\n",
      "52:\tlearn: 17818.0200053\ttotal: 1.99s\tremaining: 1.01s\n",
      "53:\tlearn: 17699.3895168\ttotal: 2.04s\tremaining: 980ms\n",
      "54:\tlearn: 17525.6138697\ttotal: 2.08s\tremaining: 943ms\n",
      "55:\tlearn: 17430.9937343\ttotal: 2.11s\tremaining: 906ms\n",
      "56:\tlearn: 17417.2873511\ttotal: 2.15s\tremaining: 868ms\n",
      "57:\tlearn: 17251.3598489\ttotal: 2.19s\tremaining: 830ms\n",
      "58:\tlearn: 17121.5093885\ttotal: 2.22s\tremaining: 791ms\n",
      "59:\tlearn: 16966.7928122\ttotal: 2.26s\tremaining: 753ms\n",
      "60:\tlearn: 16867.0747585\ttotal: 2.3s\tremaining: 716ms\n",
      "61:\tlearn: 16856.3110920\ttotal: 2.34s\tremaining: 680ms\n",
      "62:\tlearn: 16673.7255923\ttotal: 2.38s\tremaining: 641ms\n",
      "63:\tlearn: 16542.1095279\ttotal: 2.41s\tremaining: 603ms\n",
      "64:\tlearn: 16446.0603538\ttotal: 2.46s\tremaining: 567ms\n",
      "65:\tlearn: 16282.3041536\ttotal: 2.49s\tremaining: 528ms\n",
      "66:\tlearn: 16178.1353197\ttotal: 2.53s\tremaining: 491ms\n",
      "67:\tlearn: 16071.4445394\ttotal: 2.56s\tremaining: 452ms\n",
      "68:\tlearn: 16063.2583772\ttotal: 2.59s\tremaining: 414ms\n",
      "69:\tlearn: 15997.3002012\ttotal: 2.63s\tremaining: 376ms\n",
      "70:\tlearn: 15926.8732787\ttotal: 2.68s\tremaining: 340ms\n",
      "71:\tlearn: 15772.8912418\ttotal: 2.72s\tremaining: 302ms\n",
      "72:\tlearn: 15645.6312746\ttotal: 2.75s\tremaining: 264ms\n",
      "73:\tlearn: 15529.4349322\ttotal: 2.78s\tremaining: 226ms\n",
      "74:\tlearn: 15416.7548413\ttotal: 2.83s\tremaining: 189ms\n",
      "75:\tlearn: 15307.2539780\ttotal: 2.88s\tremaining: 151ms\n",
      "76:\tlearn: 15196.0734674\ttotal: 2.92s\tremaining: 114ms\n",
      "77:\tlearn: 15078.9974990\ttotal: 2.96s\tremaining: 75.8ms\n",
      "78:\tlearn: 14952.7103222\ttotal: 2.99s\tremaining: 37.9ms\n",
      "79:\tlearn: 14846.4282516\ttotal: 3.04s\tremaining: 0us\n"
     ]
    },
    {
     "output_type": "execute_result",
     "data": {
      "text/plain": [
       "GridSearchCV(cv=4,\n",
       "             estimator=<catboost.core.CatBoostRegressor object at 0x7fb96c0812b0>,\n",
       "             n_jobs=-1,\n",
       "             param_grid={'depth': [4, 6, 10], 'iterations': [50, 80, 100, 150],\n",
       "                         'l2_leaf_reg': [1, 3, 5],\n",
       "                         'learning_rate': [0.05, 0.1, 0.2, 0.4, 0.8],\n",
       "                         'random_strength': [1, 2]},\n",
       "             verbose=1)"
      ]
     },
     "metadata": {},
     "execution_count": 285
    }
   ],
   "source": [
    "grid_search_small = GridSearchCV(estimator = cbr, param_grid = param_grid, \n",
    "                          cv = 4, n_jobs = -1, verbose = 1)\n",
    "grid_search_small.fit(X_train_small, y_train)"
   ]
  },
  {
   "cell_type": "code",
   "execution_count": 286,
   "metadata": {},
   "outputs": [
    {
     "output_type": "stream",
     "name": "stdout",
     "text": [
      "{'depth': 6, 'iterations': 80, 'l2_leaf_reg': 3, 'learning_rate': 0.2, 'random_strength': 1}\n0.8614599373271481\n"
     ]
    }
   ],
   "source": [
    "print(grid_search_small.best_params_)\n",
    "print(grid_search_small.best_score_)"
   ]
  },
  {
   "cell_type": "code",
   "execution_count": 213,
   "metadata": {},
   "outputs": [],
   "source": [
    "best_cb = CatBoostRegressor(**grid_search.best_params_)"
   ]
  },
  {
   "cell_type": "code",
   "execution_count": 214,
   "metadata": {},
   "outputs": [],
   "source": [
    "manual_cb = CatBoostRegressor(**{'depth': 10, 'iterations': 200, 'l2_leaf_reg': 5, 'learning_rate': 0.4, 'random_strength': 2})"
   ]
  },
  {
   "source": [
    "## Random Forest\n",
    "\n",
    "First use random search again"
   ],
   "cell_type": "markdown",
   "metadata": {}
  },
  {
   "cell_type": "code",
   "execution_count": 120,
   "metadata": {},
   "outputs": [],
   "source": [
    "# Number of trees in random forest\n",
    "n_estimators = [int(x) for x in np.linspace(start = 200, stop = 2000, num = 10)]\n",
    "# Number of features to consider at every split\n",
    "max_features = ['auto', 'sqrt']\n",
    "# Maximum number of levels in tree\n",
    "max_depth = [int(x) for x in np.linspace(10, 110, num = 11)]\n",
    "max_depth.append(None)\n",
    "# Minimum number of samples required to split a node\n",
    "min_samples_split = [2, 5, 10, 40]\n",
    "# Minimum number of samples required at each leaf node\n",
    "min_samples_leaf = [1, 2, 4, 5, 10, 50]\n",
    "# Method of selecting samples for training each tree\n",
    "bootstrap = [True, False]\n",
    "# Create the random grid\n",
    "random_grid = {\n",
    "    'n_estimators': n_estimators,\n",
    "    'max_features': max_features,\n",
    "    'max_depth': max_depth,\n",
    "    'min_samples_split': min_samples_split,\n",
    "    'min_samples_leaf': min_samples_leaf,\n",
    "    'bootstrap': bootstrap\n",
    "}"
   ]
  },
  {
   "cell_type": "code",
   "execution_count": 121,
   "metadata": {},
   "outputs": [
    {
     "output_type": "stream",
     "name": "stdout",
     "text": [
      "Fitting 5 folds for each of 100 candidates, totalling 500 fits\n"
     ]
    },
    {
     "output_type": "execute_result",
     "data": {
      "text/plain": [
       "RandomizedSearchCV(cv=5, estimator=RandomForestRegressor(), n_iter=100,\n",
       "                   n_jobs=-1,\n",
       "                   param_distributions={'bootstrap': [True, False],\n",
       "                                        'max_depth': [10, 20, 30, 40, 50, 60,\n",
       "                                                      70, 80, 90, 100, 110,\n",
       "                                                      None],\n",
       "                                        'max_features': ['auto', 'sqrt'],\n",
       "                                        'min_samples_leaf': [1, 2, 4, 5, 10,\n",
       "                                                             50],\n",
       "                                        'min_samples_split': [2, 5, 10, 40],\n",
       "                                        'n_estimators': [200, 400, 600, 800,\n",
       "                                                         1000, 1200, 1400, 1600,\n",
       "                                                         1800, 2000]},\n",
       "                   random_state=42, verbose=2)"
      ]
     },
     "metadata": {},
     "execution_count": 121
    }
   ],
   "source": [
    "rf = RandomForestRegressor()\n",
    "rf_random = RandomizedSearchCV(estimator = rf, param_distributions = random_grid, n_iter = 100, cv = 5, verbose=2, random_state=42, n_jobs = -1)\n",
    "# Fit the random search model\n",
    "rf_random.fit(X_train, y_train)"
   ]
  },
  {
   "cell_type": "code",
   "execution_count": 123,
   "metadata": {},
   "outputs": [
    {
     "output_type": "display_data",
     "data": {
      "text/plain": "{'n_estimators': 1200,\n 'min_samples_split': 2,\n 'min_samples_leaf': 1,\n 'max_features': 'sqrt',\n 'max_depth': 110,\n 'bootstrap': False}"
     },
     "metadata": {}
    },
    {
     "output_type": "display_data",
     "data": {
      "text/plain": "0.8644008815472926"
     },
     "metadata": {}
    }
   ],
   "source": [
    "display(rf_random.best_params_)\n",
    "display(rf_random.best_score_)"
   ]
  },
  {
   "cell_type": "code",
   "execution_count": 175,
   "metadata": {},
   "outputs": [],
   "source": [
    "best_rf_rand = RandomForestRegressor(**rf_random.best_params_)"
   ]
  },
  {
   "source": [
    "Use these parameters to create full grid search"
   ],
   "cell_type": "markdown",
   "metadata": {}
  },
  {
   "cell_type": "code",
   "execution_count": 215,
   "metadata": {},
   "outputs": [
    {
     "output_type": "stream",
     "name": "stdout",
     "text": [
      "Fitting 5 folds for each of 108 candidates, totalling 540 fits\n"
     ]
    },
    {
     "output_type": "execute_result",
     "data": {
      "text/plain": [
       "GridSearchCV(cv=5, estimator=RandomForestRegressor(), n_jobs=-1,\n",
       "             param_grid={'bootstrap': [False], 'max_depth': [100, 110, 120],\n",
       "                         'max_features': ['sqrt'],\n",
       "                         'min_samples_leaf': [1, 10, 50],\n",
       "                         'min_samples_split': [2, 6, 12, 18],\n",
       "                         'n_estimators': [1000, 1200, 1400]},\n",
       "             verbose=2)"
      ]
     },
     "metadata": {},
     "execution_count": 215
    }
   ],
   "source": [
    "rf_param_grid = {\n",
    "    'bootstrap': [False],\n",
    "    'max_depth': [ 100, 110, 120],\n",
    "    'max_features': ['sqrt'],\n",
    "    'min_samples_leaf': [ 1, 10, 50],\n",
    "    'min_samples_split': [ 2, 6, 12, 18],\n",
    "    'n_estimators': [ 1000, 1200, 1400]\n",
    "}\n",
    "\n",
    "rf_grid_search = GridSearchCV(estimator = rf, param_grid = rf_param_grid, \n",
    "                          cv = 5, n_jobs = -1, verbose = 2)\n",
    "rf_grid_search.fit(X_train, y_train)"
   ]
  },
  {
   "cell_type": "code",
   "execution_count": 216,
   "metadata": {},
   "outputs": [
    {
     "output_type": "display_data",
     "data": {
      "text/plain": "{'bootstrap': False,\n 'max_depth': 100,\n 'max_features': 'sqrt',\n 'min_samples_leaf': 1,\n 'min_samples_split': 2,\n 'n_estimators': 1200}"
     },
     "metadata": {}
    },
    {
     "output_type": "display_data",
     "data": {
      "text/plain": "0.8604519890431638"
     },
     "metadata": {}
    }
   ],
   "source": [
    "display(rf_grid_search.best_params_)\n",
    "display(rf_grid_search.best_score_)"
   ]
  },
  {
   "cell_type": "code",
   "execution_count": 287,
   "metadata": {},
   "outputs": [
    {
     "output_type": "stream",
     "name": "stdout",
     "text": [
      "Fitting 5 folds for each of 108 candidates, totalling 540 fits\n"
     ]
    },
    {
     "output_type": "execute_result",
     "data": {
      "text/plain": [
       "GridSearchCV(cv=5, estimator=RandomForestRegressor(), n_jobs=-1,\n",
       "             param_grid={'bootstrap': [False], 'max_depth': [100, 110, 120],\n",
       "                         'max_features': ['sqrt'],\n",
       "                         'min_samples_leaf': [1, 10, 50],\n",
       "                         'min_samples_split': [2, 6, 12, 18],\n",
       "                         'n_estimators': [1000, 1200, 1400]},\n",
       "             verbose=2)"
      ]
     },
     "metadata": {},
     "execution_count": 287
    }
   ],
   "source": [
    "rf_grid_search_small = GridSearchCV(estimator = rf, param_grid = rf_param_grid, \n",
    "                          cv = 5, n_jobs = -1, verbose = 2)\n",
    "rf_grid_search_small.fit(X_train_small, y_train)"
   ]
  },
  {
   "cell_type": "code",
   "execution_count": 288,
   "metadata": {},
   "outputs": [
    {
     "output_type": "display_data",
     "data": {
      "text/plain": "{'bootstrap': False,\n 'max_depth': 120,\n 'max_features': 'sqrt',\n 'min_samples_leaf': 1,\n 'min_samples_split': 2,\n 'n_estimators': 1400}"
     },
     "metadata": {}
    },
    {
     "output_type": "display_data",
     "data": {
      "text/plain": "0.8646889087423275"
     },
     "metadata": {}
    }
   ],
   "source": [
    "display(rf_grid_search_small.best_params_)\n",
    "display(rf_grid_search_small.best_score_)"
   ]
  },
  {
   "cell_type": "code",
   "execution_count": 217,
   "metadata": {},
   "outputs": [],
   "source": [
    "best_rf = RandomForestRegressor(**rf_grid_search.best_params_)"
   ]
  },
  {
   "source": [
    "## Elastic Search\n",
    "Try a linear model for rounding off ensembling. Apparently this is good for many features not enough obs"
   ],
   "cell_type": "markdown",
   "metadata": {}
  },
  {
   "cell_type": "code",
   "execution_count": 289,
   "metadata": {},
   "outputs": [
    {
     "output_type": "stream",
     "name": "stdout",
     "text": [
      "Fitting 5 folds for each of 30 candidates, totalling 150 fits\n",
      "/Users/oliverharvey/anaconda3/envs/titanic/lib/python3.8/site-packages/sklearn/model_selection/_search.py:918: UserWarning: One or more of the test scores are non-finite: [0.80296783 0.80296527 0.80296011 0.8029549  0.80294163        nan\n",
      " 0.80384405 0.80380894 0.80372137 0.80360102 0.80294174        nan\n",
      " 0.80294163 0.80294163 0.80294163 0.80294163 0.80294163        nan\n",
      " 0.73171771 0.73304775 0.73652086 0.74177239 0.80368416        nan\n",
      " 0.7193208  0.71938918 0.71966137 0.72033568 0.80535976        nan]\n",
      "  warnings.warn(\n",
      "/Users/oliverharvey/anaconda3/envs/titanic/lib/python3.8/site-packages/sklearn/linear_model/_coordinate_descent.py:530: ConvergenceWarning: Objective did not converge. You might want to increase the number of iterations. Duality gap: 237804370874.63586, tolerance: 920791133.4609975\n",
      "  model = cd_fast.enet_coordinate_descent(\n"
     ]
    },
    {
     "output_type": "execute_result",
     "data": {
      "text/plain": [
       "GridSearchCV(cv=5, estimator=ElasticNet(), n_jobs=-1,\n",
       "             param_grid={'alpha': [1e-05, 0.001, 0.0, 10.0, 100.0],\n",
       "                         'l1_ratio': [0, 0.1, 0.3, 0.5, 1, 2]},\n",
       "             verbose=2)"
      ]
     },
     "metadata": {},
     "execution_count": 289
    }
   ],
   "source": [
    "en_grid = {\n",
    "    'alpha': [1e-5, 1e-3, 0.0, 10.0, 100.0],\n",
    "    'l1_ratio': [0,0.1, 0.3, 0.5, 1, 2]\n",
    "}\n",
    "en = ElasticNet()\n",
    "en_grid_search = GridSearchCV(estimator = en, param_grid = en_grid, \n",
    "                          cv = 5, n_jobs = -1, verbose = 2)\n",
    "en_grid_search.fit(X_train_small, y_train)"
   ]
  },
  {
   "cell_type": "code",
   "execution_count": 290,
   "metadata": {},
   "outputs": [
    {
     "output_type": "display_data",
     "data": {
      "text/plain": "{'alpha': 100.0, 'l1_ratio': 1}"
     },
     "metadata": {}
    },
    {
     "output_type": "display_data",
     "data": {
      "text/plain": "0.8053597604488232"
     },
     "metadata": {}
    }
   ],
   "source": [
    "display(en_grid_search.best_params_)\n",
    "display(en_grid_search.best_score_)"
   ]
  },
  {
   "cell_type": "code",
   "execution_count": 177,
   "metadata": {},
   "outputs": [
    {
     "output_type": "execute_result",
     "data": {
      "text/plain": [
       "ElasticNet(alpha=100.0, l1_ratio=1)"
      ]
     },
     "metadata": {},
     "execution_count": 177
    }
   ],
   "source": [
    "best_en = ElasticNet(**en_grid_search.best_params_)\n",
    "best_en"
   ]
  },
  {
   "source": [
    "Ensemble them all together"
   ],
   "cell_type": "markdown",
   "metadata": {}
  },
  {
   "cell_type": "code",
   "execution_count": 294,
   "metadata": {},
   "outputs": [],
   "source": [
    "def top_n_models(search_results, n, model, prefix):\n",
    "    results = pd.DataFrame(search_results.cv_results_)\n",
    "    results.sort_values(by='rank_test_score', inplace=True)\n",
    "    top_n = results.loc[results.index[:5], 'params'].to_list()\n",
    "    models = []\n",
    "    for i, param in enumerate(top_n):\n",
    "        label = f'{prefix}_{i}'\n",
    "        model_instance = model(**param)\n",
    "        models.append((label, model_instance))\n",
    "    return models\n",
    "\n",
    "catboost_5 = top_n_models(grid_search, 2, CatBoostRegressor, \"Catboost_grid\")\n",
    "catboost_small_5 = top_n_models(grid_search_small, 1, CatBoostRegressor, \"Catboost_small_grid\")\n",
    "rf_5 = top_n_models(rf_grid_search, 1, RandomForestRegressor, \"RF_grid\")\n",
    "rf_small_5 = top_n_models(rf_grid_search_small, 1, RandomForestRegressor, \"RF_small_grid\")"
   ]
  },
  {
   "cell_type": "code",
   "execution_count": 302,
   "metadata": {},
   "outputs": [],
   "source": [
    "# cv = KFold(n_splits=5, random_state=1, shuffle=True)\n",
    "\n",
    "ensemble = VotingRegressor(\n",
    "    estimators=[\n",
    "        *catboost_5,\n",
    "        *rf_5,\n",
    "        *catboost_small_5,\n",
    "        # *rf_small_5,\n",
    "        # ('ElasticNet', best_en),\n",
    "        # ('RF Grid', best_rf),\n",
    "        # ('RF Random', best_rf_rand),\n",
    "        # ('Grad Boost', best_cb),\n",
    "        # ('My catboost', manual_cb)\n",
    "    ])\n",
    "# scores_best_ens = cross_val_score(ensemble, X_train, y_train, cv=cv, n_jobs=-1)\n",
    "# scores_best_ens"
   ]
  },
  {
   "cell_type": "code",
   "execution_count": 303,
   "metadata": {
    "tags": [
     "outputPrepend"
    ]
   },
   "outputs": [
    {
     "output_type": "stream",
     "name": "stdout",
     "text": [
      "n: 14252.6871975\ttotal: 598ms\tremaining: 281ms\n",
      "68:\tlearn: 14168.4838216\ttotal: 608ms\tremaining: 273ms\n",
      "69:\tlearn: 14093.1807157\ttotal: 617ms\tremaining: 265ms\n",
      "70:\tlearn: 13971.0958502\ttotal: 627ms\tremaining: 256ms\n",
      "71:\tlearn: 13843.9640791\ttotal: 637ms\tremaining: 248ms\n",
      "72:\tlearn: 13705.5346125\ttotal: 647ms\tremaining: 239ms\n",
      "73:\tlearn: 13576.5771494\ttotal: 657ms\tremaining: 231ms\n",
      "74:\tlearn: 13515.2333327\ttotal: 665ms\tremaining: 222ms\n",
      "75:\tlearn: 13430.1493269\ttotal: 676ms\tremaining: 214ms\n",
      "76:\tlearn: 13310.8064332\ttotal: 686ms\tremaining: 205ms\n",
      "77:\tlearn: 13216.5320479\ttotal: 694ms\tremaining: 196ms\n",
      "78:\tlearn: 13106.3753496\ttotal: 702ms\tremaining: 187ms\n",
      "79:\tlearn: 13034.4092712\ttotal: 709ms\tremaining: 177ms\n",
      "80:\tlearn: 12896.9274627\ttotal: 716ms\tremaining: 168ms\n",
      "81:\tlearn: 12788.0802086\ttotal: 724ms\tremaining: 159ms\n",
      "82:\tlearn: 12700.5412606\ttotal: 731ms\tremaining: 150ms\n",
      "83:\tlearn: 12584.0005357\ttotal: 740ms\tremaining: 141ms\n",
      "84:\tlearn: 12454.3014641\ttotal: 747ms\tremaining: 132ms\n",
      "85:\tlearn: 12382.5872422\ttotal: 755ms\tremaining: 123ms\n",
      "86:\tlearn: 12310.2501248\ttotal: 761ms\tremaining: 114ms\n",
      "87:\tlearn: 12224.6987470\ttotal: 767ms\tremaining: 105ms\n",
      "88:\tlearn: 12157.9404703\ttotal: 775ms\tremaining: 95.7ms\n",
      "89:\tlearn: 12057.0781394\ttotal: 782ms\tremaining: 86.8ms\n",
      "90:\tlearn: 12013.3924839\ttotal: 789ms\tremaining: 78ms\n",
      "91:\tlearn: 11926.4585173\ttotal: 797ms\tremaining: 69.3ms\n",
      "92:\tlearn: 11861.8857264\ttotal: 803ms\tremaining: 60.5ms\n",
      "93:\tlearn: 11800.7617650\ttotal: 810ms\tremaining: 51.7ms\n",
      "94:\tlearn: 11753.6827381\ttotal: 817ms\tremaining: 43ms\n",
      "95:\tlearn: 11683.5408916\ttotal: 823ms\tremaining: 34.3ms\n",
      "96:\tlearn: 11664.0269486\ttotal: 830ms\tremaining: 25.7ms\n",
      "97:\tlearn: 11534.2822565\ttotal: 837ms\tremaining: 17.1ms\n",
      "98:\tlearn: 11441.1369353\ttotal: 844ms\tremaining: 8.52ms\n",
      "99:\tlearn: 11403.6063889\ttotal: 851ms\tremaining: 0us\n",
      "0:\tlearn: 70695.0020718\ttotal: 8.61ms\tremaining: 852ms\n",
      "1:\tlearn: 62466.6488188\ttotal: 17.2ms\tremaining: 844ms\n",
      "2:\tlearn: 57083.7366329\ttotal: 25.9ms\tremaining: 838ms\n",
      "3:\tlearn: 52019.8491415\ttotal: 34.8ms\tremaining: 834ms\n",
      "4:\tlearn: 48027.4520784\ttotal: 42.3ms\tremaining: 804ms\n",
      "5:\tlearn: 44163.4856124\ttotal: 51.7ms\tremaining: 810ms\n",
      "6:\tlearn: 40958.3753889\ttotal: 60.6ms\tremaining: 806ms\n",
      "7:\tlearn: 38941.8652244\ttotal: 69.5ms\tremaining: 799ms\n",
      "8:\tlearn: 37128.5686202\ttotal: 77.2ms\tremaining: 780ms\n",
      "9:\tlearn: 35581.6635269\ttotal: 86.1ms\tremaining: 775ms\n",
      "10:\tlearn: 34265.8432254\ttotal: 92.9ms\tremaining: 752ms\n",
      "11:\tlearn: 32837.5224320\ttotal: 101ms\tremaining: 738ms\n",
      "12:\tlearn: 31586.1740325\ttotal: 107ms\tremaining: 716ms\n",
      "13:\tlearn: 30589.3430648\ttotal: 114ms\tremaining: 700ms\n",
      "14:\tlearn: 29917.8545415\ttotal: 122ms\tremaining: 689ms\n",
      "15:\tlearn: 28998.9158827\ttotal: 130ms\tremaining: 681ms\n",
      "16:\tlearn: 28383.4248125\ttotal: 137ms\tremaining: 669ms\n",
      "17:\tlearn: 27791.2898679\ttotal: 144ms\tremaining: 656ms\n",
      "18:\tlearn: 27014.5636011\ttotal: 151ms\tremaining: 645ms\n",
      "19:\tlearn: 26638.8747837\ttotal: 159ms\tremaining: 636ms\n",
      "20:\tlearn: 26230.0149766\ttotal: 165ms\tremaining: 621ms\n",
      "21:\tlearn: 25956.3607579\ttotal: 172ms\tremaining: 608ms\n",
      "22:\tlearn: 25429.8853902\ttotal: 179ms\tremaining: 598ms\n",
      "23:\tlearn: 24936.3535205\ttotal: 186ms\tremaining: 588ms\n",
      "24:\tlearn: 24775.5785377\ttotal: 194ms\tremaining: 581ms\n",
      "25:\tlearn: 24406.0740993\ttotal: 201ms\tremaining: 573ms\n",
      "26:\tlearn: 24055.7274169\ttotal: 209ms\tremaining: 564ms\n",
      "27:\tlearn: 23843.9517300\ttotal: 216ms\tremaining: 555ms\n",
      "28:\tlearn: 23433.1035600\ttotal: 224ms\tremaining: 548ms\n",
      "29:\tlearn: 23149.4808949\ttotal: 232ms\tremaining: 540ms\n",
      "30:\tlearn: 22937.7297331\ttotal: 239ms\tremaining: 531ms\n",
      "31:\tlearn: 22714.9556775\ttotal: 246ms\tremaining: 522ms\n",
      "32:\tlearn: 22477.9690888\ttotal: 253ms\tremaining: 514ms\n",
      "33:\tlearn: 22313.7215945\ttotal: 259ms\tremaining: 502ms\n",
      "34:\tlearn: 22068.1158624\ttotal: 268ms\tremaining: 498ms\n",
      "35:\tlearn: 21943.7139534\ttotal: 278ms\tremaining: 495ms\n",
      "36:\tlearn: 21715.0332666\ttotal: 287ms\tremaining: 489ms\n",
      "37:\tlearn: 21578.2925267\ttotal: 296ms\tremaining: 483ms\n",
      "38:\tlearn: 21338.6863180\ttotal: 306ms\tremaining: 479ms\n",
      "39:\tlearn: 20990.8561517\ttotal: 317ms\tremaining: 475ms\n",
      "40:\tlearn: 20754.1716281\ttotal: 327ms\tremaining: 471ms\n",
      "41:\tlearn: 20657.0137774\ttotal: 338ms\tremaining: 467ms\n",
      "42:\tlearn: 20568.2524867\ttotal: 348ms\tremaining: 461ms\n",
      "43:\tlearn: 20491.7320317\ttotal: 356ms\tremaining: 454ms\n",
      "44:\tlearn: 20364.8907237\ttotal: 362ms\tremaining: 442ms\n",
      "45:\tlearn: 20140.7475921\ttotal: 371ms\tremaining: 435ms\n",
      "46:\tlearn: 19910.2604076\ttotal: 380ms\tremaining: 429ms\n",
      "47:\tlearn: 19611.1745737\ttotal: 388ms\tremaining: 421ms\n",
      "48:\tlearn: 19387.7615472\ttotal: 398ms\tremaining: 414ms\n",
      "49:\tlearn: 19204.1207559\ttotal: 406ms\tremaining: 406ms\n",
      "50:\tlearn: 19050.0490687\ttotal: 413ms\tremaining: 397ms\n",
      "51:\tlearn: 18840.7050755\ttotal: 420ms\tremaining: 388ms\n",
      "52:\tlearn: 18783.1124410\ttotal: 429ms\tremaining: 380ms\n",
      "53:\tlearn: 18736.1031740\ttotal: 436ms\tremaining: 371ms\n",
      "54:\tlearn: 18668.7879003\ttotal: 443ms\tremaining: 362ms\n",
      "55:\tlearn: 18626.8223721\ttotal: 449ms\tremaining: 353ms\n",
      "56:\tlearn: 18533.1736775\ttotal: 456ms\tremaining: 344ms\n",
      "57:\tlearn: 18326.8050462\ttotal: 464ms\tremaining: 336ms\n",
      "58:\tlearn: 18244.0785440\ttotal: 470ms\tremaining: 327ms\n",
      "59:\tlearn: 18027.2109552\ttotal: 478ms\tremaining: 318ms\n",
      "60:\tlearn: 17841.9071951\ttotal: 484ms\tremaining: 309ms\n",
      "61:\tlearn: 17640.7039267\ttotal: 490ms\tremaining: 301ms\n",
      "62:\tlearn: 17574.2490983\ttotal: 497ms\tremaining: 292ms\n",
      "63:\tlearn: 17367.3935849\ttotal: 503ms\tremaining: 283ms\n",
      "64:\tlearn: 17239.4333893\ttotal: 510ms\tremaining: 275ms\n",
      "65:\tlearn: 17085.2377313\ttotal: 516ms\tremaining: 266ms\n",
      "66:\tlearn: 17060.0720661\ttotal: 523ms\tremaining: 258ms\n",
      "67:\tlearn: 16876.0301077\ttotal: 530ms\tremaining: 249ms\n",
      "68:\tlearn: 16707.3905580\ttotal: 537ms\tremaining: 241ms\n",
      "69:\tlearn: 16573.6869948\ttotal: 543ms\tremaining: 233ms\n",
      "70:\tlearn: 16553.4408845\ttotal: 549ms\tremaining: 224ms\n",
      "71:\tlearn: 16356.1430960\ttotal: 557ms\tremaining: 216ms\n",
      "72:\tlearn: 16336.9844144\ttotal: 564ms\tremaining: 209ms\n",
      "73:\tlearn: 16184.1582957\ttotal: 572ms\tremaining: 201ms\n",
      "74:\tlearn: 16166.6780306\ttotal: 580ms\tremaining: 193ms\n",
      "75:\tlearn: 16149.5527310\ttotal: 589ms\tremaining: 186ms\n",
      "76:\tlearn: 16134.6293365\ttotal: 597ms\tremaining: 178ms\n",
      "77:\tlearn: 16112.8634139\ttotal: 605ms\tremaining: 171ms\n",
      "78:\tlearn: 15906.6442286\ttotal: 615ms\tremaining: 163ms\n",
      "79:\tlearn: 15752.3532188\ttotal: 624ms\tremaining: 156ms\n",
      "80:\tlearn: 15679.7072470\ttotal: 633ms\tremaining: 149ms\n",
      "81:\tlearn: 15528.3045758\ttotal: 644ms\tremaining: 141ms\n",
      "82:\tlearn: 15394.0279665\ttotal: 655ms\tremaining: 134ms\n",
      "83:\tlearn: 15295.6528923\ttotal: 665ms\tremaining: 127ms\n",
      "84:\tlearn: 15217.5075325\ttotal: 674ms\tremaining: 119ms\n",
      "85:\tlearn: 15099.4732373\ttotal: 683ms\tremaining: 111ms\n",
      "86:\tlearn: 14987.7261328\ttotal: 691ms\tremaining: 103ms\n",
      "87:\tlearn: 14844.5261895\ttotal: 701ms\tremaining: 95.6ms\n",
      "88:\tlearn: 14704.9708329\ttotal: 708ms\tremaining: 87.5ms\n",
      "89:\tlearn: 14647.7771329\ttotal: 717ms\tremaining: 79.7ms\n",
      "90:\tlearn: 14529.2294320\ttotal: 725ms\tremaining: 71.7ms\n",
      "91:\tlearn: 14449.7764598\ttotal: 732ms\tremaining: 63.7ms\n",
      "92:\tlearn: 14307.9907205\ttotal: 740ms\tremaining: 55.7ms\n",
      "93:\tlearn: 14239.4932470\ttotal: 747ms\tremaining: 47.7ms\n",
      "94:\tlearn: 14136.7581058\ttotal: 754ms\tremaining: 39.7ms\n",
      "95:\tlearn: 14026.0857505\ttotal: 762ms\tremaining: 31.7ms\n",
      "96:\tlearn: 13882.3805139\ttotal: 769ms\tremaining: 23.8ms\n",
      "97:\tlearn: 13821.0861986\ttotal: 776ms\tremaining: 15.8ms\n",
      "98:\tlearn: 13760.0910108\ttotal: 782ms\tremaining: 7.9ms\n",
      "99:\tlearn: 13672.7160017\ttotal: 789ms\tremaining: 0us\n",
      "0:\tlearn: 69908.7706833\ttotal: 6.03ms\tremaining: 899ms\n",
      "1:\tlearn: 61327.4781272\ttotal: 12.4ms\tremaining: 915ms\n",
      "2:\tlearn: 55121.4260965\ttotal: 19.3ms\tremaining: 946ms\n",
      "3:\tlearn: 50143.9294020\ttotal: 25.6ms\tremaining: 935ms\n",
      "4:\tlearn: 45829.0357428\ttotal: 33.4ms\tremaining: 968ms\n",
      "5:\tlearn: 42222.0853395\ttotal: 40.6ms\tremaining: 975ms\n",
      "6:\tlearn: 39352.3454513\ttotal: 48ms\tremaining: 981ms\n",
      "7:\tlearn: 36694.7804495\ttotal: 55.4ms\tremaining: 983ms\n",
      "8:\tlearn: 34690.5297940\ttotal: 64.2ms\tremaining: 1s\n",
      "9:\tlearn: 33057.2317024\ttotal: 71.7ms\tremaining: 1s\n",
      "10:\tlearn: 31262.3246220\ttotal: 80.8ms\tremaining: 1.02s\n",
      "11:\tlearn: 29826.7080475\ttotal: 90.1ms\tremaining: 1.04s\n",
      "12:\tlearn: 28558.3957470\ttotal: 98.6ms\tremaining: 1.04s\n",
      "13:\tlearn: 27607.7717512\ttotal: 108ms\tremaining: 1.05s\n",
      "14:\tlearn: 26723.7295312\ttotal: 117ms\tremaining: 1.05s\n",
      "15:\tlearn: 25946.7849492\ttotal: 126ms\tremaining: 1.06s\n",
      "16:\tlearn: 25382.5466752\ttotal: 134ms\tremaining: 1.05s\n",
      "17:\tlearn: 24700.3395864\ttotal: 142ms\tremaining: 1.04s\n",
      "18:\tlearn: 24080.8496493\ttotal: 149ms\tremaining: 1.03s\n",
      "19:\tlearn: 23668.8035227\ttotal: 157ms\tremaining: 1.02s\n",
      "20:\tlearn: 23263.8033301\ttotal: 165ms\tremaining: 1.01s\n",
      "21:\tlearn: 22901.4013740\ttotal: 173ms\tremaining: 1.01s\n",
      "22:\tlearn: 22521.0967511\ttotal: 181ms\tremaining: 1000ms\n",
      "23:\tlearn: 22035.0559768\ttotal: 189ms\tremaining: 991ms\n",
      "24:\tlearn: 21703.1794788\ttotal: 196ms\tremaining: 980ms\n",
      "25:\tlearn: 21292.7956411\ttotal: 204ms\tremaining: 972ms\n",
      "26:\tlearn: 20926.3238106\ttotal: 212ms\tremaining: 964ms\n",
      "27:\tlearn: 20731.3007902\ttotal: 220ms\tremaining: 957ms\n",
      "28:\tlearn: 20591.0695541\ttotal: 227ms\tremaining: 946ms\n",
      "29:\tlearn: 20332.0595788\ttotal: 234ms\tremaining: 937ms\n",
      "30:\tlearn: 20068.8469953\ttotal: 242ms\tremaining: 928ms\n",
      "31:\tlearn: 19830.5181094\ttotal: 249ms\tremaining: 917ms\n",
      "32:\tlearn: 19668.6179083\ttotal: 253ms\tremaining: 897ms\n",
      "33:\tlearn: 19466.4573148\ttotal: 260ms\tremaining: 886ms\n",
      "34:\tlearn: 19306.0926605\ttotal: 268ms\tremaining: 880ms\n",
      "35:\tlearn: 19100.2056327\ttotal: 275ms\tremaining: 870ms\n",
      "36:\tlearn: 18921.4149851\ttotal: 281ms\tremaining: 858ms\n",
      "37:\tlearn: 18796.9615359\ttotal: 288ms\tremaining: 849ms\n",
      "38:\tlearn: 18586.0758829\ttotal: 295ms\tremaining: 839ms\n",
      "39:\tlearn: 18406.6018794\ttotal: 301ms\tremaining: 829ms\n",
      "40:\tlearn: 18298.9119394\ttotal: 308ms\tremaining: 818ms\n",
      "41:\tlearn: 18098.0314915\ttotal: 315ms\tremaining: 810ms\n",
      "42:\tlearn: 17897.0778486\ttotal: 321ms\tremaining: 799ms\n",
      "43:\tlearn: 17719.3769900\ttotal: 327ms\tremaining: 789ms\n",
      "44:\tlearn: 17617.4914303\ttotal: 335ms\tremaining: 781ms\n",
      "45:\tlearn: 17520.1323988\ttotal: 341ms\tremaining: 772ms\n",
      "46:\tlearn: 17342.6040145\ttotal: 349ms\tremaining: 765ms\n",
      "47:\tlearn: 17184.6612711\ttotal: 357ms\tremaining: 758ms\n",
      "48:\tlearn: 16964.9577484\ttotal: 366ms\tremaining: 754ms\n",
      "49:\tlearn: 16865.3865273\ttotal: 375ms\tremaining: 751ms\n",
      "50:\tlearn: 16647.2435640\ttotal: 387ms\tremaining: 751ms\n",
      "51:\tlearn: 16464.1505487\ttotal: 397ms\tremaining: 749ms\n",
      "52:\tlearn: 16277.8969178\ttotal: 408ms\tremaining: 747ms\n",
      "53:\tlearn: 16097.5120592\ttotal: 417ms\tremaining: 742ms\n",
      "54:\tlearn: 15950.0450460\ttotal: 428ms\tremaining: 739ms\n",
      "55:\tlearn: 15809.0136257\ttotal: 436ms\tremaining: 732ms\n",
      "56:\tlearn: 15730.2218590\ttotal: 445ms\tremaining: 726ms\n",
      "57:\tlearn: 15612.7668043\ttotal: 453ms\tremaining: 719ms\n",
      "58:\tlearn: 15456.4851592\ttotal: 462ms\tremaining: 713ms\n",
      "59:\tlearn: 15338.7301700\ttotal: 470ms\tremaining: 704ms\n",
      "60:\tlearn: 15143.3608811\ttotal: 478ms\tremaining: 697ms\n",
      "61:\tlearn: 15038.4632633\ttotal: 485ms\tremaining: 689ms\n",
      "62:\tlearn: 14936.0861774\ttotal: 494ms\tremaining: 682ms\n",
      "63:\tlearn: 14814.3699583\ttotal: 502ms\tremaining: 674ms\n",
      "64:\tlearn: 14731.3393764\ttotal: 512ms\tremaining: 670ms\n",
      "65:\tlearn: 14566.8202992\ttotal: 520ms\tremaining: 662ms\n",
      "66:\tlearn: 14435.0773461\ttotal: 528ms\tremaining: 654ms\n",
      "67:\tlearn: 14252.6871975\ttotal: 535ms\tremaining: 645ms\n",
      "68:\tlearn: 14168.4838216\ttotal: 542ms\tremaining: 636ms\n",
      "69:\tlearn: 14093.1807157\ttotal: 548ms\tremaining: 627ms\n",
      "70:\tlearn: 13971.0958502\ttotal: 556ms\tremaining: 619ms\n",
      "71:\tlearn: 13843.9640791\ttotal: 563ms\tremaining: 610ms\n",
      "72:\tlearn: 13705.5346125\ttotal: 571ms\tremaining: 602ms\n",
      "73:\tlearn: 13576.5771494\ttotal: 577ms\tremaining: 593ms\n",
      "74:\tlearn: 13515.2333327\ttotal: 584ms\tremaining: 584ms\n",
      "75:\tlearn: 13430.1493269\ttotal: 592ms\tremaining: 576ms\n",
      "76:\tlearn: 13310.8064332\ttotal: 599ms\tremaining: 568ms\n",
      "77:\tlearn: 13216.5320479\ttotal: 605ms\tremaining: 559ms\n",
      "78:\tlearn: 13106.3753496\ttotal: 612ms\tremaining: 550ms\n",
      "79:\tlearn: 13034.4092712\ttotal: 618ms\tremaining: 541ms\n",
      "80:\tlearn: 12896.9274627\ttotal: 626ms\tremaining: 533ms\n",
      "81:\tlearn: 12788.0802086\ttotal: 633ms\tremaining: 525ms\n",
      "82:\tlearn: 12700.5412606\ttotal: 640ms\tremaining: 517ms\n",
      "83:\tlearn: 12584.0005357\ttotal: 648ms\tremaining: 509ms\n",
      "84:\tlearn: 12454.3014641\ttotal: 655ms\tremaining: 501ms\n",
      "85:\tlearn: 12382.5872422\ttotal: 662ms\tremaining: 492ms\n",
      "86:\tlearn: 12310.2501248\ttotal: 670ms\tremaining: 485ms\n",
      "87:\tlearn: 12224.6987470\ttotal: 678ms\tremaining: 478ms\n",
      "88:\tlearn: 12157.9404703\ttotal: 686ms\tremaining: 470ms\n",
      "89:\tlearn: 12057.0781394\ttotal: 696ms\tremaining: 464ms\n",
      "90:\tlearn: 12013.3924839\ttotal: 705ms\tremaining: 457ms\n",
      "91:\tlearn: 11926.4585173\ttotal: 716ms\tremaining: 451ms\n",
      "92:\tlearn: 11861.8857264\ttotal: 727ms\tremaining: 446ms\n",
      "93:\tlearn: 11800.7617650\ttotal: 736ms\tremaining: 439ms\n",
      "94:\tlearn: 11753.6827381\ttotal: 750ms\tremaining: 434ms\n",
      "95:\tlearn: 11683.5408916\ttotal: 758ms\tremaining: 426ms\n",
      "96:\tlearn: 11664.0269486\ttotal: 767ms\tremaining: 419ms\n",
      "97:\tlearn: 11534.2822565\ttotal: 776ms\tremaining: 412ms\n",
      "98:\tlearn: 11441.1369353\ttotal: 784ms\tremaining: 404ms\n",
      "99:\tlearn: 11403.6063889\ttotal: 795ms\tremaining: 397ms\n",
      "100:\tlearn: 11314.9146117\ttotal: 806ms\tremaining: 391ms\n",
      "101:\tlearn: 11248.8559587\ttotal: 815ms\tremaining: 384ms\n",
      "102:\tlearn: 11169.8397005\ttotal: 827ms\tremaining: 377ms\n",
      "103:\tlearn: 11159.4993761\ttotal: 837ms\tremaining: 370ms\n",
      "104:\tlearn: 11050.4342809\ttotal: 846ms\tremaining: 363ms\n",
      "105:\tlearn: 11040.6443329\ttotal: 854ms\tremaining: 354ms\n",
      "106:\tlearn: 10945.0994971\ttotal: 862ms\tremaining: 346ms\n",
      "107:\tlearn: 10868.6915695\ttotal: 870ms\tremaining: 338ms\n",
      "108:\tlearn: 10792.1090747\ttotal: 878ms\tremaining: 330ms\n",
      "109:\tlearn: 10702.2224494\ttotal: 886ms\tremaining: 322ms\n",
      "110:\tlearn: 10640.6251952\ttotal: 895ms\tremaining: 315ms\n",
      "111:\tlearn: 10552.4607931\ttotal: 904ms\tremaining: 307ms\n",
      "112:\tlearn: 10464.2279114\ttotal: 912ms\tremaining: 299ms\n",
      "113:\tlearn: 10391.7706092\ttotal: 921ms\tremaining: 291ms\n",
      "114:\tlearn: 10308.0351003\ttotal: 929ms\tremaining: 283ms\n",
      "115:\tlearn: 10231.7033000\ttotal: 937ms\tremaining: 275ms\n",
      "116:\tlearn: 10195.6808088\ttotal: 945ms\tremaining: 266ms\n",
      "117:\tlearn: 10176.0722823\ttotal: 954ms\tremaining: 259ms\n",
      "118:\tlearn: 10102.2419391\ttotal: 962ms\tremaining: 251ms\n",
      "119:\tlearn: 10056.1516764\ttotal: 971ms\tremaining: 243ms\n",
      "120:\tlearn: 9989.6278316\ttotal: 979ms\tremaining: 235ms\n",
      "121:\tlearn: 9906.1725907\ttotal: 986ms\tremaining: 226ms\n",
      "122:\tlearn: 9814.3265264\ttotal: 993ms\tremaining: 218ms\n",
      "123:\tlearn: 9755.7191208\ttotal: 1s\tremaining: 210ms\n",
      "124:\tlearn: 9703.0250665\ttotal: 1.01s\tremaining: 201ms\n",
      "125:\tlearn: 9623.9185441\ttotal: 1.01s\tremaining: 193ms\n",
      "126:\tlearn: 9616.7138286\ttotal: 1.02s\tremaining: 185ms\n",
      "127:\tlearn: 9562.9446157\ttotal: 1.03s\tremaining: 177ms\n",
      "128:\tlearn: 9556.9307812\ttotal: 1.04s\tremaining: 169ms\n",
      "129:\tlearn: 9538.8653819\ttotal: 1.04s\tremaining: 160ms\n",
      "130:\tlearn: 9503.4112820\ttotal: 1.05s\tremaining: 152ms\n",
      "131:\tlearn: 9403.8495307\ttotal: 1.06s\tremaining: 144ms\n",
      "132:\tlearn: 9334.9708823\ttotal: 1.07s\tremaining: 136ms\n",
      "133:\tlearn: 9329.9062342\ttotal: 1.07s\tremaining: 128ms\n",
      "134:\tlearn: 9272.2652281\ttotal: 1.08s\tremaining: 120ms\n",
      "135:\tlearn: 9245.7404151\ttotal: 1.09s\tremaining: 112ms\n",
      "136:\tlearn: 9213.5006884\ttotal: 1.1s\tremaining: 104ms\n",
      "137:\tlearn: 9206.3672479\ttotal: 1.11s\tremaining: 96.3ms\n",
      "138:\tlearn: 9162.1527099\ttotal: 1.11s\tremaining: 88.3ms\n",
      "139:\tlearn: 9147.1354720\ttotal: 1.12s\tremaining: 80.3ms\n",
      "140:\tlearn: 9142.1047731\ttotal: 1.13s\tremaining: 72.4ms\n",
      "141:\tlearn: 9081.9709955\ttotal: 1.14s\tremaining: 64.3ms\n",
      "142:\tlearn: 9043.9359564\ttotal: 1.15s\tremaining: 56.3ms\n",
      "143:\tlearn: 8992.5467540\ttotal: 1.16s\tremaining: 48.2ms\n",
      "144:\tlearn: 8944.1984214\ttotal: 1.17s\tremaining: 40.2ms\n",
      "145:\tlearn: 8936.8014500\ttotal: 1.18s\tremaining: 32.3ms\n",
      "146:\tlearn: 8886.0011953\ttotal: 1.19s\tremaining: 24.3ms\n",
      "147:\tlearn: 8840.8766311\ttotal: 1.2s\tremaining: 16.2ms\n",
      "148:\tlearn: 8789.5344701\ttotal: 1.21s\tremaining: 8.13ms\n",
      "149:\tlearn: 8755.1323778\ttotal: 1.22s\tremaining: 0us\n",
      "0:\tlearn: 70695.0020718\ttotal: 8.91ms\tremaining: 704ms\n",
      "1:\tlearn: 62466.6488188\ttotal: 15.8ms\tremaining: 617ms\n",
      "2:\tlearn: 57083.7366329\ttotal: 24ms\tremaining: 617ms\n",
      "3:\tlearn: 52019.8491415\ttotal: 31.3ms\tremaining: 595ms\n",
      "4:\tlearn: 48027.4520784\ttotal: 38.4ms\tremaining: 576ms\n",
      "5:\tlearn: 44163.4856124\ttotal: 47.2ms\tremaining: 582ms\n",
      "6:\tlearn: 40958.3753889\ttotal: 55.4ms\tremaining: 578ms\n",
      "7:\tlearn: 38941.8652244\ttotal: 63.2ms\tremaining: 569ms\n",
      "8:\tlearn: 37128.5686202\ttotal: 70.3ms\tremaining: 554ms\n",
      "9:\tlearn: 35581.6635269\ttotal: 78ms\tremaining: 546ms\n",
      "10:\tlearn: 34265.8432254\ttotal: 84.8ms\tremaining: 532ms\n",
      "11:\tlearn: 32837.5224320\ttotal: 93.7ms\tremaining: 531ms\n",
      "12:\tlearn: 31586.1740325\ttotal: 103ms\tremaining: 531ms\n",
      "13:\tlearn: 30589.3430648\ttotal: 111ms\tremaining: 525ms\n",
      "14:\tlearn: 29917.8545415\ttotal: 119ms\tremaining: 518ms\n",
      "15:\tlearn: 28998.9158827\ttotal: 127ms\tremaining: 508ms\n",
      "16:\tlearn: 28383.4248125\ttotal: 136ms\tremaining: 506ms\n",
      "17:\tlearn: 27791.2898679\ttotal: 145ms\tremaining: 501ms\n",
      "18:\tlearn: 27014.5636011\ttotal: 154ms\tremaining: 494ms\n",
      "19:\tlearn: 26638.8747837\ttotal: 161ms\tremaining: 483ms\n",
      "20:\tlearn: 26230.0149766\ttotal: 169ms\tremaining: 474ms\n",
      "21:\tlearn: 25956.3607579\ttotal: 177ms\tremaining: 466ms\n",
      "22:\tlearn: 25429.8853902\ttotal: 185ms\tremaining: 459ms\n",
      "23:\tlearn: 24936.3535205\ttotal: 194ms\tremaining: 452ms\n",
      "24:\tlearn: 24775.5785377\ttotal: 201ms\tremaining: 442ms\n",
      "25:\tlearn: 24406.0740993\ttotal: 208ms\tremaining: 432ms\n",
      "26:\tlearn: 24055.7274169\ttotal: 215ms\tremaining: 423ms\n",
      "27:\tlearn: 23843.9517300\ttotal: 222ms\tremaining: 413ms\n",
      "28:\tlearn: 23433.1035600\ttotal: 230ms\tremaining: 404ms\n",
      "29:\tlearn: 23149.4808949\ttotal: 238ms\tremaining: 396ms\n",
      "30:\tlearn: 22937.7297331\ttotal: 245ms\tremaining: 387ms\n",
      "31:\tlearn: 22714.9556775\ttotal: 252ms\tremaining: 379ms\n",
      "32:\tlearn: 22477.9690888\ttotal: 260ms\tremaining: 370ms\n",
      "33:\tlearn: 22313.7215945\ttotal: 265ms\tremaining: 358ms\n",
      "34:\tlearn: 22068.1158624\ttotal: 272ms\tremaining: 350ms\n",
      "35:\tlearn: 21943.7139534\ttotal: 281ms\tremaining: 343ms\n",
      "36:\tlearn: 21715.0332666\ttotal: 288ms\tremaining: 334ms\n",
      "37:\tlearn: 21578.2925267\ttotal: 295ms\tremaining: 327ms\n",
      "38:\tlearn: 21338.6863180\ttotal: 302ms\tremaining: 318ms\n",
      "39:\tlearn: 20990.8561517\ttotal: 309ms\tremaining: 309ms\n",
      "40:\tlearn: 20754.1716281\ttotal: 317ms\tremaining: 301ms\n",
      "41:\tlearn: 20657.0137774\ttotal: 324ms\tremaining: 293ms\n",
      "42:\tlearn: 20568.2524867\ttotal: 332ms\tremaining: 286ms\n",
      "43:\tlearn: 20491.7320317\ttotal: 340ms\tremaining: 278ms\n",
      "44:\tlearn: 20364.8907237\ttotal: 345ms\tremaining: 268ms\n",
      "45:\tlearn: 20140.7475921\ttotal: 351ms\tremaining: 260ms\n",
      "46:\tlearn: 19910.2604076\ttotal: 359ms\tremaining: 252ms\n",
      "47:\tlearn: 19611.1745737\ttotal: 366ms\tremaining: 244ms\n",
      "48:\tlearn: 19387.7615472\ttotal: 374ms\tremaining: 237ms\n",
      "49:\tlearn: 19204.1207559\ttotal: 381ms\tremaining: 229ms\n",
      "50:\tlearn: 19050.0490687\ttotal: 389ms\tremaining: 221ms\n",
      "51:\tlearn: 18840.7050755\ttotal: 396ms\tremaining: 213ms\n",
      "52:\tlearn: 18783.1124410\ttotal: 403ms\tremaining: 205ms\n",
      "53:\tlearn: 18736.1031740\ttotal: 410ms\tremaining: 198ms\n",
      "54:\tlearn: 18668.7879003\ttotal: 417ms\tremaining: 190ms\n",
      "55:\tlearn: 18626.8223721\ttotal: 425ms\tremaining: 182ms\n",
      "56:\tlearn: 18533.1736775\ttotal: 432ms\tremaining: 174ms\n",
      "57:\tlearn: 18326.8050462\ttotal: 441ms\tremaining: 167ms\n",
      "58:\tlearn: 18244.0785440\ttotal: 450ms\tremaining: 160ms\n",
      "59:\tlearn: 18027.2109552\ttotal: 458ms\tremaining: 153ms\n",
      "60:\tlearn: 17841.9071951\ttotal: 467ms\tremaining: 145ms\n",
      "61:\tlearn: 17640.7039267\ttotal: 475ms\tremaining: 138ms\n",
      "62:\tlearn: 17574.2490983\ttotal: 484ms\tremaining: 131ms\n",
      "63:\tlearn: 17367.3935849\ttotal: 491ms\tremaining: 123ms\n",
      "64:\tlearn: 17239.4333893\ttotal: 498ms\tremaining: 115ms\n",
      "65:\tlearn: 17085.2377313\ttotal: 507ms\tremaining: 108ms\n",
      "66:\tlearn: 17060.0720661\ttotal: 515ms\tremaining: 99.9ms\n",
      "67:\tlearn: 16876.0301077\ttotal: 523ms\tremaining: 92.2ms\n",
      "68:\tlearn: 16707.3905580\ttotal: 533ms\tremaining: 84.9ms\n",
      "69:\tlearn: 16573.6869948\ttotal: 540ms\tremaining: 77.2ms\n",
      "70:\tlearn: 16553.4408845\ttotal: 547ms\tremaining: 69.4ms\n",
      "71:\tlearn: 16356.1430960\ttotal: 555ms\tremaining: 61.6ms\n",
      "72:\tlearn: 16336.9844144\ttotal: 563ms\tremaining: 54ms\n",
      "73:\tlearn: 16184.1582957\ttotal: 571ms\tremaining: 46.3ms\n",
      "74:\tlearn: 16166.6780306\ttotal: 579ms\tremaining: 38.6ms\n",
      "75:\tlearn: 16149.5527310\ttotal: 587ms\tremaining: 30.9ms\n",
      "76:\tlearn: 16134.6293365\ttotal: 597ms\tremaining: 23.3ms\n",
      "77:\tlearn: 16112.8634139\ttotal: 604ms\tremaining: 15.5ms\n",
      "78:\tlearn: 15906.6442286\ttotal: 613ms\tremaining: 7.76ms\n",
      "79:\tlearn: 15752.3532188\ttotal: 621ms\tremaining: 0us\n"
     ]
    },
    {
     "output_type": "execute_result",
     "data": {
      "text/plain": [
       "VotingRegressor(estimators=[('Catboost_grid_0',\n",
       "                             <catboost.core.CatBoostRegressor object at 0x7fb9ceeb10a0>),\n",
       "                            ('Catboost_grid_1',\n",
       "                             <catboost.core.CatBoostRegressor object at 0x7fb9ceeb1f40>),\n",
       "                            ('Catboost_grid_2',\n",
       "                             <catboost.core.CatBoostRegressor object at 0x7fb9d28bfbe0>),\n",
       "                            ('Catboost_grid_3',\n",
       "                             <catboost.core.CatBoostRegressor object at 0x7fb9d28bff10>),\n",
       "                            ('Catboost_grid_4'...\n",
       "                             <catboost.core.CatBoostRegressor object at 0x7fb9ceeb1580>),\n",
       "                            ('Catboost_small_grid_1',\n",
       "                             <catboost.core.CatBoostRegressor object at 0x7fb9ceeb1460>),\n",
       "                            ('Catboost_small_grid_2',\n",
       "                             <catboost.core.CatBoostRegressor object at 0x7fb9ceeb1220>),\n",
       "                            ('Catboost_small_grid_3',\n",
       "                             <catboost.core.CatBoostRegressor object at 0x7fb9cdf708e0>),\n",
       "                            ('Catboost_small_grid_4',\n",
       "                             <catboost.core.CatBoostRegressor object at 0x7fb9cdf70dc0>)])"
      ]
     },
     "metadata": {},
     "execution_count": 303
    }
   ],
   "source": [
    "ensemble.fit(X_train, y_train)"
   ]
  },
  {
   "source": [
    "# make preds and submit"
   ],
   "cell_type": "markdown",
   "metadata": {}
  },
  {
   "cell_type": "code",
   "execution_count": 304,
   "metadata": {},
   "outputs": [],
   "source": [
    "y_pred = ensemble.predict(X_test)\n",
    "\n",
    "submission_df = pd.DataFrame()\n",
    "submission_df[id_row] = y_test_labels\n",
    "submission_df[target] = y_pred"
   ]
  },
  {
   "cell_type": "code",
   "execution_count": 298,
   "metadata": {},
   "outputs": [
    {
     "output_type": "execute_result",
     "data": {
      "text/plain": [
       "     Id      SalePrice\n",
       "0  1461  124260.892478\n",
       "1  1469  183318.720394\n",
       "2  1470  126755.855889\n",
       "3  1472   98566.403669\n",
       "4  1473  101133.980599"
      ],
      "text/html": "<div>\n<style scoped>\n    .dataframe tbody tr th:only-of-type {\n        vertical-align: middle;\n    }\n\n    .dataframe tbody tr th {\n        vertical-align: top;\n    }\n\n    .dataframe thead th {\n        text-align: right;\n    }\n</style>\n<table border=\"1\" class=\"dataframe\">\n  <thead>\n    <tr style=\"text-align: right;\">\n      <th></th>\n      <th>Id</th>\n      <th>SalePrice</th>\n    </tr>\n  </thead>\n  <tbody>\n    <tr>\n      <th>0</th>\n      <td>1461</td>\n      <td>124260.892478</td>\n    </tr>\n    <tr>\n      <th>1</th>\n      <td>1469</td>\n      <td>183318.720394</td>\n    </tr>\n    <tr>\n      <th>2</th>\n      <td>1470</td>\n      <td>126755.855889</td>\n    </tr>\n    <tr>\n      <th>3</th>\n      <td>1472</td>\n      <td>98566.403669</td>\n    </tr>\n    <tr>\n      <th>4</th>\n      <td>1473</td>\n      <td>101133.980599</td>\n    </tr>\n  </tbody>\n</table>\n</div>"
     },
     "metadata": {},
     "execution_count": 298
    }
   ],
   "source": [
    "submission_df.head()"
   ]
  },
  {
   "cell_type": "code",
   "execution_count": 233,
   "metadata": {},
   "outputs": [
    {
     "output_type": "execute_result",
     "data": {
      "text/plain": [
       "     Id      SalePrice\n",
       "0  1461  169277.052498\n",
       "1  1462  187758.393989\n",
       "2  1463  183583.683570\n",
       "3  1464  179317.477511\n",
       "4  1465  150730.079977"
      ],
      "text/html": "<div>\n<style scoped>\n    .dataframe tbody tr th:only-of-type {\n        vertical-align: middle;\n    }\n\n    .dataframe tbody tr th {\n        vertical-align: top;\n    }\n\n    .dataframe thead th {\n        text-align: right;\n    }\n</style>\n<table border=\"1\" class=\"dataframe\">\n  <thead>\n    <tr style=\"text-align: right;\">\n      <th></th>\n      <th>Id</th>\n      <th>SalePrice</th>\n    </tr>\n  </thead>\n  <tbody>\n    <tr>\n      <th>0</th>\n      <td>1461</td>\n      <td>169277.052498</td>\n    </tr>\n    <tr>\n      <th>1</th>\n      <td>1462</td>\n      <td>187758.393989</td>\n    </tr>\n    <tr>\n      <th>2</th>\n      <td>1463</td>\n      <td>183583.683570</td>\n    </tr>\n    <tr>\n      <th>3</th>\n      <td>1464</td>\n      <td>179317.477511</td>\n    </tr>\n    <tr>\n      <th>4</th>\n      <td>1465</td>\n      <td>150730.079977</td>\n    </tr>\n  </tbody>\n</table>\n</div>"
     },
     "metadata": {},
     "execution_count": 233
    }
   ],
   "source": [
    "input_data['sample_submission'].head()"
   ]
  },
  {
   "cell_type": "code",
   "execution_count": 305,
   "metadata": {},
   "outputs": [],
   "source": [
    "submission_df.to_csv('submission10.csv', index=False)"
   ]
  },
  {
   "cell_type": "code",
   "execution_count": 306,
   "metadata": {},
   "outputs": [
    {
     "output_type": "stream",
     "name": "stdout",
     "text": [
      "100%|██████████████████████████████████████| 33.7k/33.7k [00:01<00:00, 17.7kB/s]\n",
      "Successfully submitted to House Prices - Advanced Regression Techniques"
     ]
    }
   ],
   "source": [
    "!kaggle competitions submit -f 'submission10.csv' -m 'top ns ensemble with small versions v2' house-prices-advanced-regression-techniques"
   ]
  },
  {
   "cell_type": "code",
   "execution_count": 307,
   "metadata": {},
   "outputs": [
    {
     "output_type": "stream",
     "name": "stdout",
     "text": [
      "fileName          date                 description                             status    publicScore  privateScore  \n----------------  -------------------  --------------------------------------  --------  -----------  ------------  \nsubmission10.csv  2021-05-07 16:05:25  top ns ensemble with small versions v2  complete  0.13050      None          \nsubmission9.csv   2021-05-07 15:57:13  top ns ensemble with small versions     complete  0.13287      None          \nsubmission8.csv   2021-05-06 07:28:46  top ns ensemble                         complete  0.13273      None          \nsubmission7.csv   2021-05-06 07:24:29  top 5s ensemble                         complete  0.13314      None          \nsubmission6.csv   2021-05-06 06:54:29  ensemble 4                              complete  0.13241      None          \nsubmission6.csv   2021-05-06 06:54:04  ensemble 4                              complete  0.13241      None          \nsubmission5.csv   2021-05-06 06:51:41  ensemble 3                              complete  0.13470      None          \nsubmission4.csv   2021-05-05 07:12:50  ensemble 2                              complete  0.13461      None          \nsubmission3.csv   2021-05-05 07:07:32  ensemble all                            complete  0.44883      None          \nsubmission3.csv   2021-05-05 07:03:26  ensemble all                            complete  0.13561      None          \nsubmission3.csv   2021-05-05 06:53:59  ensemble all                            complete  0.13561      None          \nsubmission2.csv   2021-05-04 07:17:54  grid search catboost                    complete  0.13561      None          \nsubmission1.csv   2021-05-03 11:30:27  first attempt random hypers catboost    complete  0.15473      None          \n"
     ]
    }
   ],
   "source": [
    "!kaggle competitions submissions -c house-prices-advanced-regression-techniques"
   ]
  },
  {
   "cell_type": "code",
   "execution_count": null,
   "metadata": {},
   "outputs": [],
   "source": []
  }
 ]
}