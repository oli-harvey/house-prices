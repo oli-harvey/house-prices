{
 "metadata": {
  "language_info": {
   "codemirror_mode": {
    "name": "ipython",
    "version": 3
   },
   "file_extension": ".py",
   "mimetype": "text/x-python",
   "name": "python",
   "nbconvert_exporter": "python",
   "pygments_lexer": "ipython3",
   "version": "3.8.8"
  },
  "orig_nbformat": 2,
  "kernelspec": {
   "name": "python388jvsc74a57bd02cafb3199729848de48071f5cfc9db2ba6e5f31612348b291f81e9e98cb6629b",
   "display_name": "Python 3.8.8 64-bit ('titanic': conda)"
  }
 },
 "nbformat": 4,
 "nbformat_minor": 2,
 "cells": [
  {
   "cell_type": "code",
   "execution_count": 35,
   "metadata": {},
   "outputs": [],
   "source": [
    "%load_ext autoreload\n",
    "%autoreload 2"
   ]
  },
  {
   "cell_type": "code",
   "execution_count": 36,
   "metadata": {},
   "outputs": [
    {
     "output_type": "stream",
     "name": "stdout",
     "text": [
      "import_to_df imported\nadd_had_remod_flag imported\nget_kaggle_data imported\nadd_years_since imported\nadd_year_remod_pre1950_flag imported\nquality_to_number imported\nadd_dummies_multiple_columns imported\nadd_value_dummies_multiple_columns imported\nprocess_data imported\nsum_onehots imported\nadd_zero_flag imported\n"
     ]
    }
   ],
   "source": [
    "import os \n",
    "funcs = os.listdir('functions')\n",
    "\n",
    "for func in funcs:\n",
    "    if func.startswith('__') or func == 'import_all_functions.py':\n",
    "        continue\n",
    "    func = func.replace('.py','')\n",
    "    print(f'{func} imported')\n",
    "    exec(f'from functions.{func} import *')"
   ]
  },
  {
   "cell_type": "code",
   "execution_count": 60,
   "metadata": {},
   "outputs": [],
   "source": [
    "import pandas as pd \n",
    "import pandas_profiling as pdp\n",
    "import numpy as np\n",
    "import pprint as pp\n",
    "import seaborn as sns\n",
    "from matplotlib import pyplot as plt\n",
    "from catboost import Pool, CatBoostRegressor\n",
    "\n",
    "from sklearn.model_selection import RandomizedSearchCV\n",
    "from sklearn.model_selection import GridSearchCV\n",
    "\n",
    "pd.set_option('display.max_columns', None)\n",
    "pd.set_option('display.max_rows', None)"
   ]
  },
  {
   "cell_type": "code",
   "execution_count": 39,
   "metadata": {},
   "outputs": [
    {
     "output_type": "stream",
     "name": "stdout",
     "text": [
      "files downloaded for house-prices-advanced-regression-techniques competition\n   test.csv\n   data_description.txt\n   train.csv\n   sample_submission.csv\nlocated in /competition_data/\n"
     ]
    }
   ],
   "source": [
    "files = get_kaggle_data(\n",
    "    competition=\"house-prices-advanced-regression-techniques\"\n",
    "    )"
   ]
  },
  {
   "cell_type": "code",
   "execution_count": 40,
   "metadata": {},
   "outputs": [],
   "source": [
    "input_data = import_to_df(files)"
   ]
  },
  {
   "source": [
    "What files did we get?"
   ],
   "cell_type": "markdown",
   "metadata": {}
  },
  {
   "cell_type": "code",
   "execution_count": 41,
   "metadata": {},
   "outputs": [
    {
     "output_type": "execute_result",
     "data": {
      "text/plain": [
       "dict_keys(['test', 'train', 'sample_submission'])"
      ]
     },
     "metadata": {},
     "execution_count": 41
    }
   ],
   "source": [
    "input_data.keys()"
   ]
  },
  {
   "cell_type": "code",
   "execution_count": 42,
   "metadata": {},
   "outputs": [],
   "source": [
    "input_train_df = input_data['train']\n",
    "input_test_df = input_data['test']"
   ]
  },
  {
   "cell_type": "code",
   "execution_count": 51,
   "metadata": {},
   "outputs": [],
   "source": [
    "train_df = process_data(input_train_df)\n",
    "target = 'SalePrice'\n",
    "id_row = 'Id'\n",
    "train_predictors = [\n",
    "    c for c in train_df.columns \n",
    "    if target not in c\n",
    "    if id_row not in c\n",
    "]"
   ]
  },
  {
   "cell_type": "code",
   "execution_count": 52,
   "metadata": {},
   "outputs": [],
   "source": [
    "test_df = process_data(input_test_df)\n",
    "test_predictors = [\n",
    "    c for c in test_df.columns \n",
    "    if target not in c\n",
    "    if id_row not in c\n",
    "]"
   ]
  },
  {
   "source": [
    "Only keep columns in both dfs. Needed in case one hots generate unique columns"
   ],
   "cell_type": "markdown",
   "metadata": {}
  },
  {
   "cell_type": "code",
   "execution_count": 53,
   "metadata": {},
   "outputs": [],
   "source": [
    "cols_to_use = list(set(train_predictors).intersection(test_predictors))"
   ]
  },
  {
   "cell_type": "code",
   "execution_count": 54,
   "metadata": {},
   "outputs": [
    {
     "output_type": "execute_result",
     "data": {
      "text/plain": [
       "(299, 311)"
      ]
     },
     "metadata": {},
     "execution_count": 54
    }
   ],
   "source": [
    "len(cols_to_use), len(train_predictors)"
   ]
  },
  {
   "source": [
    "Removed 1 column"
   ],
   "cell_type": "markdown",
   "metadata": {}
  },
  {
   "cell_type": "code",
   "execution_count": 72,
   "metadata": {},
   "outputs": [],
   "source": [
    "X_train = train_df[cols_to_use]\n",
    "y_train = train_df[target]\n",
    "\n",
    "X_test = test_df[cols_to_use]\n",
    "y_test_labels = test_df[id_row]"
   ]
  },
  {
   "cell_type": "code",
   "execution_count": 70,
   "metadata": {
    "tags": [
     "outputPrepend"
    ]
   },
   "outputs": [
    {
     "output_type": "stream",
     "name": "stdout",
     "text": [
      "rn: 32039.9469452\ttotal: 296ms\tremaining: 172ms\n",
      "19:\tlearn: 31149.5784444\ttotal: 314ms\tremaining: 157ms\n",
      "20:\tlearn: 30200.3276447\ttotal: 334ms\tremaining: 143ms\n",
      "21:\tlearn: 29271.1078993\ttotal: 351ms\tremaining: 128ms\n",
      "22:\tlearn: 28440.6989498\ttotal: 366ms\tremaining: 111ms\n",
      "23:\tlearn: 27792.2170077\ttotal: 382ms\tremaining: 95.5ms\n",
      "24:\tlearn: 27072.3377598\ttotal: 397ms\tremaining: 79.4ms\n",
      "25:\tlearn: 26525.5007408\ttotal: 412ms\tremaining: 63.4ms\n",
      "26:\tlearn: 26041.1314299\ttotal: 427ms\tremaining: 47.4ms\n",
      "27:\tlearn: 25433.0977811\ttotal: 442ms\tremaining: 31.6ms\n",
      "28:\tlearn: 24981.6446972\ttotal: 457ms\tremaining: 15.7ms\n",
      "29:\tlearn: 24445.0113691\ttotal: 473ms\tremaining: 0us\n",
      "0:\tlearn: 78344.6109856\ttotal: 6.58ms\tremaining: 191ms\n",
      "1:\tlearn: 76050.5624874\ttotal: 11.4ms\tremaining: 159ms\n",
      "2:\tlearn: 74092.9698826\ttotal: 16.3ms\tremaining: 147ms\n",
      "3:\tlearn: 71903.7402277\ttotal: 21.1ms\tremaining: 137ms\n",
      "4:\tlearn: 69817.1996084\ttotal: 25.8ms\tremaining: 129ms\n",
      "5:\tlearn: 67875.0080707\ttotal: 31.3ms\tremaining: 125ms\n",
      "6:\tlearn: 65818.5835059\ttotal: 36.6ms\tremaining: 120ms\n",
      "7:\tlearn: 64071.0600683\ttotal: 41.6ms\tremaining: 114ms\n",
      "8:\tlearn: 62379.9238033\ttotal: 46.9ms\tremaining: 109ms\n",
      "9:\tlearn: 60648.7089625\ttotal: 52.5ms\tremaining: 105ms\n",
      "10:\tlearn: 59080.6242332\ttotal: 57.9ms\tremaining: 100ms\n",
      "11:\tlearn: 57506.4180980\ttotal: 63.9ms\tremaining: 95.9ms\n",
      "12:\tlearn: 56083.7183668\ttotal: 69.6ms\tremaining: 91.1ms\n",
      "13:\tlearn: 54767.4696585\ttotal: 75.6ms\tremaining: 86.4ms\n",
      "14:\tlearn: 53394.8758282\ttotal: 82.5ms\tremaining: 82.5ms\n",
      "15:\tlearn: 51989.6189082\ttotal: 88.5ms\tremaining: 77.4ms\n",
      "16:\tlearn: 50678.6224617\ttotal: 94.6ms\tremaining: 72.4ms\n",
      "17:\tlearn: 49500.9090010\ttotal: 100ms\tremaining: 66.9ms\n",
      "18:\tlearn: 48236.0333647\ttotal: 106ms\tremaining: 61.6ms\n",
      "19:\tlearn: 47143.0460699\ttotal: 113ms\tremaining: 56.3ms\n",
      "20:\tlearn: 46041.4025813\ttotal: 120ms\tremaining: 51.3ms\n",
      "21:\tlearn: 44979.2234369\ttotal: 127ms\tremaining: 46.1ms\n",
      "22:\tlearn: 44006.0206103\ttotal: 133ms\tremaining: 40.5ms\n",
      "23:\tlearn: 43089.3010401\ttotal: 139ms\tremaining: 34.8ms\n",
      "24:\tlearn: 42311.7997841\ttotal: 146ms\tremaining: 29.2ms\n",
      "25:\tlearn: 41495.6526442\ttotal: 152ms\tremaining: 23.4ms\n",
      "26:\tlearn: 40764.2673698\ttotal: 159ms\tremaining: 17.7ms\n",
      "27:\tlearn: 40088.1619199\ttotal: 166ms\tremaining: 11.9ms\n",
      "28:\tlearn: 39361.7925789\ttotal: 174ms\tremaining: 6ms\n",
      "29:\tlearn: 38662.3830701\ttotal: 181ms\tremaining: 0us\n",
      "0:\tlearn: 76592.7366018\ttotal: 6.46ms\tremaining: 187ms\n",
      "1:\tlearn: 74292.5770071\ttotal: 11.7ms\tremaining: 164ms\n",
      "2:\tlearn: 72248.2772803\ttotal: 16.2ms\tremaining: 146ms\n",
      "3:\tlearn: 70346.0682644\ttotal: 21.1ms\tremaining: 137ms\n",
      "4:\tlearn: 68162.5637327\ttotal: 25.8ms\tremaining: 129ms\n",
      "5:\tlearn: 65975.5946447\ttotal: 30.6ms\tremaining: 122ms\n",
      "6:\tlearn: 64019.8940869\ttotal: 35.4ms\tremaining: 116ms\n",
      "7:\tlearn: 62216.8209002\ttotal: 40.5ms\tremaining: 111ms\n",
      "8:\tlearn: 60713.6670410\ttotal: 45.6ms\tremaining: 106ms\n",
      "9:\tlearn: 59041.5722480\ttotal: 50.9ms\tremaining: 102ms\n",
      "10:\tlearn: 57484.6344823\ttotal: 57.2ms\tremaining: 98.8ms\n",
      "11:\tlearn: 56042.8611311\ttotal: 62.8ms\tremaining: 94.1ms\n",
      "12:\tlearn: 54753.8317852\ttotal: 69.4ms\tremaining: 90.8ms\n",
      "13:\tlearn: 53486.5877944\ttotal: 76.2ms\tremaining: 87.1ms\n",
      "14:\tlearn: 52162.4305778\ttotal: 88.3ms\tremaining: 88.3ms\n",
      "15:\tlearn: 50943.3612396\ttotal: 101ms\tremaining: 88.1ms\n",
      "16:\tlearn: 49774.2815106\ttotal: 111ms\tremaining: 85.2ms\n",
      "17:\tlearn: 48536.1903099\ttotal: 123ms\tremaining: 81.7ms\n",
      "18:\tlearn: 47481.3746671\ttotal: 138ms\tremaining: 80.1ms\n",
      "19:\tlearn: 46422.7922774\ttotal: 154ms\tremaining: 77.1ms\n",
      "20:\tlearn: 45524.5470961\ttotal: 163ms\tremaining: 69.9ms\n",
      "21:\tlearn: 44604.2349169\ttotal: 171ms\tremaining: 62.1ms\n",
      "22:\tlearn: 43541.2583590\ttotal: 178ms\tremaining: 54.1ms\n",
      "23:\tlearn: 42607.3755190\ttotal: 185ms\tremaining: 46.2ms\n",
      "24:\tlearn: 41733.2469975\ttotal: 191ms\tremaining: 38.3ms\n",
      "25:\tlearn: 40810.8934325\ttotal: 199ms\tremaining: 30.6ms\n",
      "26:\tlearn: 40088.9898039\ttotal: 205ms\tremaining: 22.8ms\n",
      "27:\tlearn: 39291.5134601\ttotal: 212ms\tremaining: 15.1ms\n",
      "28:\tlearn: 38540.1475346\ttotal: 218ms\tremaining: 7.5ms\n",
      "29:\tlearn: 37761.1173823\ttotal: 224ms\tremaining: 0us\n",
      "0:\tlearn: 74965.5992133\ttotal: 6.77ms\tremaining: 196ms\n",
      "1:\tlearn: 72667.7614011\ttotal: 13ms\tremaining: 182ms\n",
      "2:\tlearn: 70492.6637114\ttotal: 19.7ms\tremaining: 177ms\n",
      "3:\tlearn: 68308.2447108\ttotal: 25.9ms\tremaining: 169ms\n",
      "4:\tlearn: 66273.2983092\ttotal: 32.3ms\tremaining: 162ms\n",
      "5:\tlearn: 64234.7203604\ttotal: 39.1ms\tremaining: 156ms\n",
      "6:\tlearn: 62434.9060931\ttotal: 45ms\tremaining: 148ms\n",
      "7:\tlearn: 60991.3026038\ttotal: 52.2ms\tremaining: 143ms\n",
      "8:\tlearn: 59295.7568153\ttotal: 58.4ms\tremaining: 136ms\n",
      "9:\tlearn: 57730.2358634\ttotal: 64.3ms\tremaining: 129ms\n",
      "10:\tlearn: 56319.1135601\ttotal: 71ms\tremaining: 123ms\n",
      "11:\tlearn: 54793.8527225\ttotal: 76.7ms\tremaining: 115ms\n",
      "12:\tlearn: 53467.1143809\ttotal: 82.3ms\tremaining: 108ms\n",
      "13:\tlearn: 52120.7571996\ttotal: 87.7ms\tremaining: 100ms\n",
      "14:\tlearn: 50725.6947692\ttotal: 93ms\tremaining: 93ms\n",
      "15:\tlearn: 49448.5385653\ttotal: 99.6ms\tremaining: 87.1ms\n",
      "16:\tlearn: 48294.3116339\ttotal: 106ms\tremaining: 81.1ms\n",
      "17:\tlearn: 47299.5162562\ttotal: 112ms\tremaining: 74.4ms\n",
      "18:\tlearn: 46230.3938674\ttotal: 117ms\tremaining: 67.8ms\n",
      "19:\tlearn: 45213.3448460\ttotal: 123ms\tremaining: 61.5ms\n",
      "20:\tlearn: 44186.4893599\ttotal: 128ms\tremaining: 55ms\n",
      "21:\tlearn: 43224.0075245\ttotal: 134ms\tremaining: 48.8ms\n",
      "22:\tlearn: 42347.6940945\ttotal: 140ms\tremaining: 42.6ms\n",
      "23:\tlearn: 41511.3228743\ttotal: 146ms\tremaining: 36.5ms\n",
      "24:\tlearn: 40713.2339510\ttotal: 152ms\tremaining: 30.4ms\n",
      "25:\tlearn: 39942.5124330\ttotal: 158ms\tremaining: 24.3ms\n",
      "26:\tlearn: 39266.6050000\ttotal: 164ms\tremaining: 18.2ms\n",
      "27:\tlearn: 38720.0584238\ttotal: 169ms\tremaining: 12.1ms\n",
      "28:\tlearn: 38175.4823230\ttotal: 175ms\tremaining: 6.02ms\n",
      "29:\tlearn: 37474.2956511\ttotal: 181ms\tremaining: 0us\n",
      "0:\tlearn: 78888.3401236\ttotal: 5.61ms\tremaining: 163ms\n",
      "1:\tlearn: 76321.9487521\ttotal: 11.4ms\tremaining: 159ms\n",
      "2:\tlearn: 74144.8108496\ttotal: 17.6ms\tremaining: 159ms\n",
      "3:\tlearn: 72122.8048697\ttotal: 22.6ms\tremaining: 147ms\n",
      "4:\tlearn: 69880.4544625\ttotal: 27.9ms\tremaining: 140ms\n",
      "5:\tlearn: 67885.0080619\ttotal: 33.6ms\tremaining: 135ms\n",
      "6:\tlearn: 66004.1211177\ttotal: 39ms\tremaining: 128ms\n",
      "7:\tlearn: 64132.8958020\ttotal: 44.8ms\tremaining: 123ms\n",
      "8:\tlearn: 62445.6577488\ttotal: 50.5ms\tremaining: 118ms\n",
      "9:\tlearn: 60792.5128982\ttotal: 57.2ms\tremaining: 114ms\n",
      "10:\tlearn: 59136.4380807\ttotal: 63.6ms\tremaining: 110ms\n",
      "11:\tlearn: 57661.1843146\ttotal: 69.6ms\tremaining: 104ms\n",
      "12:\tlearn: 56180.9981999\ttotal: 75.6ms\tremaining: 98.9ms\n",
      "13:\tlearn: 54777.4072044\ttotal: 81.3ms\tremaining: 92.9ms\n",
      "14:\tlearn: 53439.9095485\ttotal: 87.2ms\tremaining: 87.2ms\n",
      "15:\tlearn: 52295.1966443\ttotal: 93.2ms\tremaining: 81.5ms\n",
      "16:\tlearn: 51111.8249332\ttotal: 99.2ms\tremaining: 75.9ms\n",
      "17:\tlearn: 50007.3022801\ttotal: 105ms\tremaining: 70.3ms\n",
      "18:\tlearn: 48789.7717527\ttotal: 112ms\tremaining: 64.7ms\n",
      "19:\tlearn: 47613.2277899\ttotal: 117ms\tremaining: 58.7ms\n",
      "20:\tlearn: 46522.1440797\ttotal: 123ms\tremaining: 52.9ms\n",
      "21:\tlearn: 45505.2139023\ttotal: 129ms\tremaining: 46.8ms\n",
      "22:\tlearn: 44661.0881328\ttotal: 134ms\tremaining: 40.9ms\n",
      "23:\tlearn: 43766.6170201\ttotal: 140ms\tremaining: 35.1ms\n",
      "24:\tlearn: 42787.3793897\ttotal: 145ms\tremaining: 29.1ms\n",
      "25:\tlearn: 41919.9229633\ttotal: 151ms\tremaining: 23.2ms\n",
      "26:\tlearn: 41184.0983583\ttotal: 157ms\tremaining: 17.4ms\n",
      "27:\tlearn: 40467.8509744\ttotal: 162ms\tremaining: 11.6ms\n",
      "28:\tlearn: 39710.8896893\ttotal: 168ms\tremaining: 5.78ms\n",
      "29:\tlearn: 39048.2399958\ttotal: 173ms\tremaining: 0us\n",
      "0:\tlearn: 76456.0620551\ttotal: 5.33ms\tremaining: 154ms\n",
      "1:\tlearn: 74136.8627409\ttotal: 11.5ms\tremaining: 161ms\n",
      "2:\tlearn: 71910.0785300\ttotal: 17.1ms\tremaining: 154ms\n",
      "3:\tlearn: 69748.4470012\ttotal: 23ms\tremaining: 150ms\n",
      "4:\tlearn: 67921.3390028\ttotal: 28.6ms\tremaining: 143ms\n",
      "5:\tlearn: 65856.6254130\ttotal: 34ms\tremaining: 136ms\n",
      "6:\tlearn: 63929.9258487\ttotal: 39.8ms\tremaining: 131ms\n",
      "7:\tlearn: 62094.7021465\ttotal: 45.8ms\tremaining: 126ms\n",
      "8:\tlearn: 60420.9300198\ttotal: 52.1ms\tremaining: 121ms\n",
      "9:\tlearn: 58815.9300823\ttotal: 59ms\tremaining: 118ms\n",
      "10:\tlearn: 57156.9300588\ttotal: 65.1ms\tremaining: 112ms\n",
      "11:\tlearn: 55615.5974785\ttotal: 71.1ms\tremaining: 107ms\n",
      "12:\tlearn: 54196.3663282\ttotal: 77.7ms\tremaining: 102ms\n",
      "13:\tlearn: 52821.9261417\ttotal: 84.3ms\tremaining: 96.4ms\n",
      "14:\tlearn: 51612.4567685\ttotal: 91.2ms\tremaining: 91.2ms\n",
      "15:\tlearn: 50450.8690645\ttotal: 98.7ms\tremaining: 86.3ms\n",
      "16:\tlearn: 49250.2162921\ttotal: 105ms\tremaining: 80.4ms\n",
      "17:\tlearn: 48169.0511470\ttotal: 112ms\tremaining: 74.7ms\n",
      "18:\tlearn: 47090.7770172\ttotal: 119ms\tremaining: 68.7ms\n",
      "19:\tlearn: 46190.1145544\ttotal: 125ms\tremaining: 62.5ms\n",
      "20:\tlearn: 45225.3373255\ttotal: 131ms\tremaining: 56.2ms\n",
      "21:\tlearn: 44270.9625319\ttotal: 138ms\tremaining: 50.1ms\n",
      "22:\tlearn: 43332.0812912\ttotal: 144ms\tremaining: 44ms\n",
      "23:\tlearn: 42460.3559043\ttotal: 150ms\tremaining: 37.5ms\n",
      "24:\tlearn: 41581.7711402\ttotal: 157ms\tremaining: 31.4ms\n",
      "25:\tlearn: 40700.4284272\ttotal: 163ms\tremaining: 25ms\n",
      "26:\tlearn: 39950.8016351\ttotal: 169ms\tremaining: 18.8ms\n",
      "27:\tlearn: 39120.0349654\ttotal: 175ms\tremaining: 12.5ms\n",
      "28:\tlearn: 38458.2212427\ttotal: 181ms\tremaining: 6.24ms\n",
      "29:\tlearn: 37815.2971321\ttotal: 187ms\tremaining: 0us\n",
      "0:\tlearn: 80128.6492803\ttotal: 39.7ms\tremaining: 1.15s\n",
      "1:\tlearn: 79625.7800487\ttotal: 117ms\tremaining: 1.64s\n",
      "2:\tlearn: 79123.9022176\ttotal: 190ms\tremaining: 1.71s\n",
      "3:\tlearn: 78704.6622939\ttotal: 257ms\tremaining: 1.67s\n",
      "4:\tlearn: 78233.7866368\ttotal: 339ms\tremaining: 1.69s\n",
      "5:\tlearn: 77797.7427976\ttotal: 421ms\tremaining: 1.68s\n",
      "6:\tlearn: 77321.0835554\ttotal: 504ms\tremaining: 1.65s\n",
      "7:\tlearn: 76817.4053765\ttotal: 579ms\tremaining: 1.59s\n",
      "8:\tlearn: 76344.7571349\ttotal: 655ms\tremaining: 1.53s\n",
      "9:\tlearn: 75946.0797538\ttotal: 727ms\tremaining: 1.45s\n",
      "10:\tlearn: 75518.7453384\ttotal: 809ms\tremaining: 1.4s\n",
      "11:\tlearn: 75081.8212246\ttotal: 887ms\tremaining: 1.33s\n",
      "12:\tlearn: 74633.6487056\ttotal: 958ms\tremaining: 1.25s\n",
      "13:\tlearn: 74186.6543040\ttotal: 1.05s\tremaining: 1.2s\n",
      "14:\tlearn: 73737.8045494\ttotal: 1.11s\tremaining: 1.11s\n",
      "15:\tlearn: 73322.3135592\ttotal: 1.2s\tremaining: 1.05s\n",
      "16:\tlearn: 72891.7913815\ttotal: 1.28s\tremaining: 978ms\n",
      "17:\tlearn: 72469.4546971\ttotal: 1.35s\tremaining: 902ms\n",
      "18:\tlearn: 72005.6619405\ttotal: 1.42s\tremaining: 823ms\n",
      "19:\tlearn: 71555.0761561\ttotal: 1.5s\tremaining: 752ms\n",
      "20:\tlearn: 71153.6891660\ttotal: 1.58s\tremaining: 677ms\n",
      "21:\tlearn: 70802.8775645\ttotal: 1.66s\tremaining: 605ms\n",
      "22:\tlearn: 70387.9279584\ttotal: 1.75s\tremaining: 532ms\n",
      "23:\tlearn: 70022.8587827\ttotal: 1.83s\tremaining: 457ms\n",
      "24:\tlearn: 69636.8151524\ttotal: 1.91s\tremaining: 382ms\n",
      "25:\tlearn: 69225.6674687\ttotal: 1.99s\tremaining: 307ms\n",
      "26:\tlearn: 68799.6859465\ttotal: 2.07s\tremaining: 230ms\n",
      "27:\tlearn: 68389.8698462\ttotal: 2.15s\tremaining: 153ms\n",
      "28:\tlearn: 67989.4728006\ttotal: 2.24s\tremaining: 77.2ms\n",
      "29:\tlearn: 67612.4230692\ttotal: 2.31s\tremaining: 0us\n",
      "0:\tlearn: 78501.9330990\ttotal: 65.9ms\tremaining: 1.91s\n",
      "1:\tlearn: 78032.1471820\ttotal: 152ms\tremaining: 2.13s\n",
      "2:\tlearn: 77594.8372090\ttotal: 230ms\tremaining: 2.07s\n",
      "3:\tlearn: 77147.2313197\ttotal: 312ms\tremaining: 2.02s\n",
      "4:\tlearn: 76674.0717701\ttotal: 399ms\tremaining: 1.99s\n",
      "5:\tlearn: 76211.4423391\ttotal: 483ms\tremaining: 1.93s\n",
      "6:\tlearn: 75758.7882667\ttotal: 568ms\tremaining: 1.87s\n",
      "7:\tlearn: 75255.9468761\ttotal: 656ms\tremaining: 1.8s\n",
      "8:\tlearn: 74782.2740370\ttotal: 740ms\tremaining: 1.73s\n",
      "9:\tlearn: 74331.9637285\ttotal: 823ms\tremaining: 1.65s\n",
      "10:\tlearn: 73877.6566983\ttotal: 913ms\tremaining: 1.58s\n",
      "11:\tlearn: 73429.1534047\ttotal: 987ms\tremaining: 1.48s\n",
      "12:\tlearn: 72988.3595345\ttotal: 1.07s\tremaining: 1.39s\n",
      "13:\tlearn: 72561.4372711\ttotal: 1.16s\tremaining: 1.32s\n",
      "14:\tlearn: 72093.8969447\ttotal: 1.24s\tremaining: 1.24s\n",
      "15:\tlearn: 71671.5350291\ttotal: 1.32s\tremaining: 1.16s\n",
      "16:\tlearn: 71236.0231431\ttotal: 1.41s\tremaining: 1.08s\n",
      "17:\tlearn: 70782.3048913\ttotal: 1.49s\tremaining: 993ms\n",
      "18:\tlearn: 70351.8057656\ttotal: 1.57s\tremaining: 911ms\n",
      "19:\tlearn: 69950.8569454\ttotal: 1.66s\tremaining: 832ms\n",
      "20:\tlearn: 69540.9355008\ttotal: 1.74s\tremaining: 744ms\n",
      "21:\tlearn: 69186.8397608\ttotal: 1.82s\tremaining: 662ms\n",
      "22:\tlearn: 68759.4872258\ttotal: 1.9s\tremaining: 578ms\n",
      "23:\tlearn: 68387.1013516\ttotal: 1.98s\tremaining: 495ms\n",
      "24:\tlearn: 67980.4761259\ttotal: 2.06s\tremaining: 411ms\n",
      "25:\tlearn: 67586.7510934\ttotal: 2.15s\tremaining: 331ms\n",
      "26:\tlearn: 67172.3160891\ttotal: 2.23s\tremaining: 248ms\n",
      "27:\tlearn: 66779.0929904\ttotal: 2.32s\tremaining: 166ms\n",
      "28:\tlearn: 66420.0345109\ttotal: 2.42s\tremaining: 83.3ms\n",
      "29:\tlearn: 66061.6612322\ttotal: 2.49s\tremaining: 0us\n",
      "0:\tlearn: 76916.5416586\ttotal: 70ms\tremaining: 2.03s\n",
      "1:\tlearn: 76440.9454386\ttotal: 151ms\tremaining: 2.11s\n",
      "2:\tlearn: 75952.4986233\ttotal: 237ms\tremaining: 2.13s\n",
      "3:\tlearn: 75454.3857213\ttotal: 313ms\tremaining: 2.03s\n",
      "4:\tlearn: 74978.7301892\ttotal: 393ms\tremaining: 1.96s\n",
      "5:\tlearn: 74497.9039958\ttotal: 468ms\tremaining: 1.87s\n",
      "6:\tlearn: 74074.0371550\ttotal: 545ms\tremaining: 1.79s\n",
      "7:\tlearn: 73658.3480649\ttotal: 629ms\tremaining: 1.73s\n",
      "8:\tlearn: 73263.9699518\ttotal: 708ms\tremaining: 1.65s\n",
      "9:\tlearn: 72831.3160698\ttotal: 789ms\tremaining: 1.58s\n",
      "10:\tlearn: 72424.7195309\ttotal: 880ms\tremaining: 1.52s\n",
      "11:\tlearn: 71948.2827708\ttotal: 961ms\tremaining: 1.44s\n",
      "12:\tlearn: 71507.1714289\ttotal: 1.03s\tremaining: 1.35s\n",
      "13:\tlearn: 71113.9399292\ttotal: 1.12s\tremaining: 1.28s\n",
      "14:\tlearn: 70668.6963064\ttotal: 1.19s\tremaining: 1.19s\n",
      "15:\tlearn: 70239.9435675\ttotal: 1.27s\tremaining: 1.11s\n",
      "16:\tlearn: 69828.7472185\ttotal: 1.35s\tremaining: 1.03s\n",
      "17:\tlearn: 69391.9397841\ttotal: 1.42s\tremaining: 949ms\n",
      "18:\tlearn: 69000.0593185\ttotal: 1.5s\tremaining: 869ms\n",
      "19:\tlearn: 68565.3777432\ttotal: 1.58s\tremaining: 792ms\n",
      "20:\tlearn: 68184.6910931\ttotal: 1.67s\tremaining: 717ms\n",
      "21:\tlearn: 67789.6242920\ttotal: 1.75s\tremaining: 636ms\n",
      "22:\tlearn: 67383.5914839\ttotal: 1.8s\tremaining: 547ms\n",
      "23:\tlearn: 66985.0197820\ttotal: 1.88s\tremaining: 469ms\n",
      "24:\tlearn: 66590.7215827\ttotal: 1.96s\tremaining: 391ms\n",
      "25:\tlearn: 66216.4048706\ttotal: 2.04s\tremaining: 314ms\n",
      "26:\tlearn: 65874.5887469\ttotal: 2.12s\tremaining: 236ms\n",
      "27:\tlearn: 65481.4098793\ttotal: 2.2s\tremaining: 157ms\n",
      "28:\tlearn: 65125.5278821\ttotal: 2.29s\tremaining: 78.9ms\n",
      "29:\tlearn: 64751.7222153\ttotal: 2.36s\tremaining: 0us\n",
      "0:\tlearn: 80797.9381015\ttotal: 70.9ms\tremaining: 2.06s\n",
      "1:\tlearn: 80287.5854972\ttotal: 152ms\tremaining: 2.12s\n",
      "2:\tlearn: 79795.2130871\ttotal: 231ms\tremaining: 2.08s\n",
      "3:\tlearn: 79286.1973726\ttotal: 321ms\tremaining: 2.08s\n",
      "4:\tlearn: 78815.7528512\ttotal: 411ms\tremaining: 2.05s\n",
      "5:\tlearn: 78357.8463991\ttotal: 488ms\tremaining: 1.95s\n",
      "6:\tlearn: 77861.7445896\ttotal: 567ms\tremaining: 1.86s\n",
      "7:\tlearn: 77393.4409083\ttotal: 655ms\tremaining: 1.8s\n",
      "8:\tlearn: 76926.8227286\ttotal: 733ms\tremaining: 1.71s\n",
      "9:\tlearn: 76518.4878223\ttotal: 811ms\tremaining: 1.62s\n",
      "10:\tlearn: 76082.0090508\ttotal: 901ms\tremaining: 1.56s\n",
      "11:\tlearn: 75637.5781291\ttotal: 979ms\tremaining: 1.47s\n",
      "12:\tlearn: 75187.0978981\ttotal: 1.05s\tremaining: 1.37s\n",
      "13:\tlearn: 74751.8268436\ttotal: 1.14s\tremaining: 1.3s\n",
      "14:\tlearn: 74269.4421394\ttotal: 1.23s\tremaining: 1.23s\n",
      "15:\tlearn: 73838.1201437\ttotal: 1.31s\tremaining: 1.15s\n",
      "16:\tlearn: 73391.6795675\ttotal: 1.39s\tremaining: 1.06s\n",
      "17:\tlearn: 72969.5879893\ttotal: 1.47s\tremaining: 981ms\n",
      "18:\tlearn: 72566.5913095\ttotal: 1.55s\tremaining: 896ms\n",
      "19:\tlearn: 72120.9423424\ttotal: 1.64s\tremaining: 818ms\n",
      "20:\tlearn: 71740.6422786\ttotal: 1.72s\tremaining: 735ms\n",
      "21:\tlearn: 71319.7888020\ttotal: 1.74s\tremaining: 632ms\n",
      "22:\tlearn: 70904.6858794\ttotal: 1.82s\tremaining: 555ms\n",
      "23:\tlearn: 70473.1177120\ttotal: 1.91s\tremaining: 477ms\n",
      "24:\tlearn: 70074.0773566\ttotal: 1.98s\tremaining: 396ms\n",
      "25:\tlearn: 69698.2566301\ttotal: 2.06s\tremaining: 316ms\n",
      "26:\tlearn: 69295.7730693\ttotal: 2.15s\tremaining: 238ms\n",
      "27:\tlearn: 68970.4464920\ttotal: 2.23s\tremaining: 159ms\n",
      "28:\tlearn: 68543.6736025\ttotal: 2.31s\tremaining: 79.6ms\n",
      "29:\tlearn: 68137.7226593\ttotal: 2.4s\tremaining: 0us\n",
      "0:\tlearn: 78264.9760710\ttotal: 65.5ms\tremaining: 1.9s\n",
      "1:\tlearn: 77811.8631975\ttotal: 169ms\tremaining: 2.36s\n",
      "2:\tlearn: 77299.3146561\ttotal: 251ms\tremaining: 2.26s\n",
      "3:\tlearn: 76835.2204231\ttotal: 336ms\tremaining: 2.19s\n",
      "4:\tlearn: 76349.1949143\ttotal: 433ms\tremaining: 2.16s\n",
      "5:\tlearn: 75880.5865442\ttotal: 508ms\tremaining: 2.03s\n",
      "6:\tlearn: 75388.2613704\ttotal: 601ms\tremaining: 1.97s\n",
      "7:\tlearn: 74927.2717718\ttotal: 684ms\tremaining: 1.88s\n",
      "8:\tlearn: 74466.7591654\ttotal: 762ms\tremaining: 1.78s\n",
      "9:\tlearn: 74009.1389195\ttotal: 851ms\tremaining: 1.7s\n",
      "10:\tlearn: 73571.4799811\ttotal: 948ms\tremaining: 1.64s\n",
      "11:\tlearn: 73110.2340935\ttotal: 1.03s\tremaining: 1.54s\n",
      "12:\tlearn: 72666.0331215\ttotal: 1.12s\tremaining: 1.46s\n",
      "13:\tlearn: 72222.4233293\ttotal: 1.2s\tremaining: 1.38s\n",
      "14:\tlearn: 71812.0945657\ttotal: 1.29s\tremaining: 1.29s\n",
      "15:\tlearn: 71399.0369551\ttotal: 1.38s\tremaining: 1.21s\n",
      "16:\tlearn: 70969.1831215\ttotal: 1.48s\tremaining: 1.13s\n",
      "17:\tlearn: 70574.6610915\ttotal: 1.56s\tremaining: 1.04s\n",
      "18:\tlearn: 70169.9172896\ttotal: 1.65s\tremaining: 957ms\n",
      "19:\tlearn: 69738.3193646\ttotal: 1.75s\tremaining: 875ms\n",
      "20:\tlearn: 69334.2953616\ttotal: 1.84s\tremaining: 787ms\n",
      "21:\tlearn: 68909.4102567\ttotal: 1.93s\tremaining: 700ms\n",
      "22:\tlearn: 68542.4587860\ttotal: 2.01s\tremaining: 613ms\n",
      "23:\tlearn: 68134.2771817\ttotal: 2.09s\tremaining: 524ms\n",
      "24:\tlearn: 67739.0397638\ttotal: 2.2s\tremaining: 439ms\n",
      "25:\tlearn: 67353.2529823\ttotal: 2.29s\tremaining: 352ms\n",
      "26:\tlearn: 66968.3719700\ttotal: 2.37s\tremaining: 263ms\n",
      "27:\tlearn: 66593.9013283\ttotal: 2.46s\tremaining: 176ms\n",
      "28:\tlearn: 66224.1904471\ttotal: 2.55s\tremaining: 88ms\n",
      "29:\tlearn: 65844.8601699\ttotal: 2.63s\tremaining: 0us\n",
      "0:\tlearn: 74490.4448802\ttotal: 7.66ms\tremaining: 375ms\n",
      "1:\tlearn: 69878.0202259\ttotal: 14.2ms\tremaining: 340ms\n",
      "2:\tlearn: 65698.0703648\ttotal: 20.9ms\tremaining: 327ms\n",
      "3:\tlearn: 62107.4280083\ttotal: 27.2ms\tremaining: 313ms\n",
      "4:\tlearn: 58868.0536888\ttotal: 34.1ms\tremaining: 307ms\n",
      "5:\tlearn: 55807.6906022\ttotal: 40.6ms\tremaining: 298ms\n",
      "6:\tlearn: 53087.8735128\ttotal: 46.6ms\tremaining: 286ms\n",
      "7:\tlearn: 50574.4245956\ttotal: 53.5ms\tremaining: 281ms\n",
      "8:\tlearn: 47957.1175961\ttotal: 60.1ms\tremaining: 274ms\n",
      "9:\tlearn: 45702.8012376\ttotal: 66.9ms\tremaining: 268ms\n",
      "10:\tlearn: 43819.3666848\ttotal: 74.7ms\tremaining: 265ms\n",
      "11:\tlearn: 42135.1864593\ttotal: 81.9ms\tremaining: 259ms\n",
      "12:\tlearn: 40606.3336543\ttotal: 90ms\tremaining: 256ms\n",
      "13:\tlearn: 39145.2706575\ttotal: 97.6ms\tremaining: 251ms\n",
      "14:\tlearn: 37800.0487355\ttotal: 105ms\tremaining: 246ms\n",
      "15:\tlearn: 36445.9136760\ttotal: 113ms\tremaining: 240ms\n",
      "16:\tlearn: 35292.8390610\ttotal: 120ms\tremaining: 234ms\n",
      "17:\tlearn: 34178.7683607\ttotal: 128ms\tremaining: 227ms\n",
      "18:\tlearn: 33236.2846609\ttotal: 136ms\tremaining: 221ms\n",
      "19:\tlearn: 32237.5702066\ttotal: 149ms\tremaining: 223ms\n",
      "20:\tlearn: 31468.4641910\ttotal: 158ms\tremaining: 218ms\n",
      "21:\tlearn: 30652.8256730\ttotal: 165ms\tremaining: 210ms\n",
      "22:\tlearn: 29953.3107961\ttotal: 173ms\tremaining: 203ms\n",
      "23:\tlearn: 29214.5890508\ttotal: 180ms\tremaining: 195ms\n",
      "24:\tlearn: 28566.7105292\ttotal: 187ms\tremaining: 187ms\n",
      "25:\tlearn: 27997.9659487\ttotal: 194ms\tremaining: 179ms\n",
      "26:\tlearn: 27262.9982656\ttotal: 201ms\tremaining: 171ms\n",
      "27:\tlearn: 26778.6760316\ttotal: 210ms\tremaining: 165ms\n",
      "28:\tlearn: 26309.5231575\ttotal: 218ms\tremaining: 158ms\n",
      "29:\tlearn: 25840.1054351\ttotal: 226ms\tremaining: 151ms\n",
      "30:\tlearn: 25408.8237382\ttotal: 234ms\tremaining: 143ms\n",
      "31:\tlearn: 25063.9894450\ttotal: 241ms\tremaining: 136ms\n",
      "32:\tlearn: 24733.7263416\ttotal: 249ms\tremaining: 128ms\n",
      "33:\tlearn: 24359.5901768\ttotal: 256ms\tremaining: 121ms\n",
      "34:\tlearn: 23991.1468516\ttotal: 263ms\tremaining: 113ms\n",
      "35:\tlearn: 23677.3129743\ttotal: 270ms\tremaining: 105ms\n",
      "36:\tlearn: 23382.1951244\ttotal: 277ms\tremaining: 97.4ms\n",
      "37:\tlearn: 23076.7348929\ttotal: 284ms\tremaining: 89.8ms\n",
      "38:\tlearn: 22886.2451604\ttotal: 292ms\tremaining: 82.2ms\n",
      "39:\tlearn: 22650.8033519\ttotal: 300ms\tremaining: 74.9ms\n",
      "40:\tlearn: 22470.5779196\ttotal: 307ms\tremaining: 67.4ms\n",
      "41:\tlearn: 22209.9555774\ttotal: 314ms\tremaining: 59.8ms\n",
      "42:\tlearn: 22044.0112437\ttotal: 321ms\tremaining: 52.2ms\n",
      "43:\tlearn: 21819.1545832\ttotal: 328ms\tremaining: 44.7ms\n",
      "44:\tlearn: 21661.1344064\ttotal: 334ms\tremaining: 37.1ms\n",
      "45:\tlearn: 21456.2942835\ttotal: 341ms\tremaining: 29.6ms\n",
      "46:\tlearn: 21306.0814486\ttotal: 348ms\tremaining: 22.2ms\n",
      "47:\tlearn: 21167.4597343\ttotal: 354ms\tremaining: 14.8ms\n",
      "48:\tlearn: 21014.9861884\ttotal: 361ms\tremaining: 7.36ms\n",
      "49:\tlearn: 20962.5586565\ttotal: 367ms\tremaining: 0us\n",
      "{'learning_rate': 0.1, 'iterations': 50, 'depth': 6}\n",
      "0.8592559485791803\n"
     ]
    }
   ],
   "source": [
    "# initialize Pool\n",
    "train_pool = Pool(X_train, y_train)\n",
    "test_pool = Pool(X_test) \n",
    "\n",
    "param_dist = {\n",
    "    'depth': [6,8,10],\n",
    "    'learning_rate' : [0.01, 0.05, 0.1],\n",
    "    'iterations'    : [30, 50, 100]\n",
    "}\n",
    "#Instantiate RandomSearchCV object\n",
    "cbr = CatBoostRegressor()\n",
    "\n",
    "random_grid = RandomizedSearchCV(cbr, param_dist, cv =5)\n",
    "\n",
    "#Fit the model\n",
    "random_grid.fit(X_train, y_train)\n",
    "\n",
    "# Print the tuned parameters and score\n",
    "print(random_grid.best_params_)\n",
    "print(random_grid.best_score_)\n",
    "# specify the training parameters \n",
    "# model = CatBoostRegressor(\n",
    "#     iterations=5, \n",
    "#     depth=2, \n",
    "#     learning_rate=1, \n",
    "#     loss_function='RMSE'\n",
    "# )\n",
    "#train the model\n",
    "# model.fit(train_pool)\n",
    "# make the prediction using the resulting model\n",
    "# preds = model.predict(test_pool)"
   ]
  },
  {
   "cell_type": "code",
   "execution_count": 77,
   "metadata": {},
   "outputs": [],
   "source": [
    "y_pred = random_grid.predict(X_test)\n",
    "\n",
    "submission_df = pd.DataFrame()\n",
    "submission_df[id_row] = y_test_labels\n",
    "submission_df[target] = y_pred"
   ]
  },
  {
   "cell_type": "code",
   "execution_count": 78,
   "metadata": {},
   "outputs": [
    {
     "output_type": "execute_result",
     "data": {
      "text/plain": [
       "     Id      SalePrice\n",
       "0  1461  124061.734713\n",
       "1  1462  156696.494915\n",
       "2  1463  178224.018442\n",
       "3  1464  180193.317506\n",
       "4  1465  191269.212375"
      ],
      "text/html": "<div>\n<style scoped>\n    .dataframe tbody tr th:only-of-type {\n        vertical-align: middle;\n    }\n\n    .dataframe tbody tr th {\n        vertical-align: top;\n    }\n\n    .dataframe thead th {\n        text-align: right;\n    }\n</style>\n<table border=\"1\" class=\"dataframe\">\n  <thead>\n    <tr style=\"text-align: right;\">\n      <th></th>\n      <th>Id</th>\n      <th>SalePrice</th>\n    </tr>\n  </thead>\n  <tbody>\n    <tr>\n      <th>0</th>\n      <td>1461</td>\n      <td>124061.734713</td>\n    </tr>\n    <tr>\n      <th>1</th>\n      <td>1462</td>\n      <td>156696.494915</td>\n    </tr>\n    <tr>\n      <th>2</th>\n      <td>1463</td>\n      <td>178224.018442</td>\n    </tr>\n    <tr>\n      <th>3</th>\n      <td>1464</td>\n      <td>180193.317506</td>\n    </tr>\n    <tr>\n      <th>4</th>\n      <td>1465</td>\n      <td>191269.212375</td>\n    </tr>\n  </tbody>\n</table>\n</div>"
     },
     "metadata": {},
     "execution_count": 78
    }
   ],
   "source": [
    "submission_df.head()"
   ]
  },
  {
   "cell_type": "code",
   "execution_count": 79,
   "metadata": {},
   "outputs": [
    {
     "output_type": "execute_result",
     "data": {
      "text/plain": [
       "     Id      SalePrice\n",
       "0  1461  169277.052498\n",
       "1  1462  187758.393989\n",
       "2  1463  183583.683570\n",
       "3  1464  179317.477511\n",
       "4  1465  150730.079977"
      ],
      "text/html": "<div>\n<style scoped>\n    .dataframe tbody tr th:only-of-type {\n        vertical-align: middle;\n    }\n\n    .dataframe tbody tr th {\n        vertical-align: top;\n    }\n\n    .dataframe thead th {\n        text-align: right;\n    }\n</style>\n<table border=\"1\" class=\"dataframe\">\n  <thead>\n    <tr style=\"text-align: right;\">\n      <th></th>\n      <th>Id</th>\n      <th>SalePrice</th>\n    </tr>\n  </thead>\n  <tbody>\n    <tr>\n      <th>0</th>\n      <td>1461</td>\n      <td>169277.052498</td>\n    </tr>\n    <tr>\n      <th>1</th>\n      <td>1462</td>\n      <td>187758.393989</td>\n    </tr>\n    <tr>\n      <th>2</th>\n      <td>1463</td>\n      <td>183583.683570</td>\n    </tr>\n    <tr>\n      <th>3</th>\n      <td>1464</td>\n      <td>179317.477511</td>\n    </tr>\n    <tr>\n      <th>4</th>\n      <td>1465</td>\n      <td>150730.079977</td>\n    </tr>\n  </tbody>\n</table>\n</div>"
     },
     "metadata": {},
     "execution_count": 79
    }
   ],
   "source": [
    "input_data['sample_submission'].head()"
   ]
  },
  {
   "cell_type": "code",
   "execution_count": 80,
   "metadata": {},
   "outputs": [],
   "source": [
    "submission_df.to_csv('submission1.csv', index=False)"
   ]
  },
  {
   "cell_type": "code",
   "execution_count": 83,
   "metadata": {},
   "outputs": [
    {
     "output_type": "stream",
     "name": "stdout",
     "text": [
      "100%|██████████████████████████████████████| 33.7k/33.7k [00:02<00:00, 16.7kB/s]\n",
      "Successfully submitted to House Prices - Advanced Regression Techniques"
     ]
    }
   ],
   "source": [
    "!kaggle competitions submit -f 'submission1.csv' -m 'first attempt random hypers catboost' house-prices-advanced-regression-techniques"
   ]
  },
  {
   "cell_type": "code",
   "execution_count": 84,
   "metadata": {},
   "outputs": [
    {
     "output_type": "stream",
     "name": "stdout",
     "text": [
      "fileName         date                 description                           status    publicScore  privateScore  \n---------------  -------------------  ------------------------------------  --------  -----------  ------------  \nsubmission1.csv  2021-05-03 11:30:27  first attempt random hypers catboost  complete  0.15473      None          \n"
     ]
    }
   ],
   "source": [
    "!kaggle competitions submissions -c house-prices-advanced-regression-techniques"
   ]
  },
  {
   "cell_type": "code",
   "execution_count": null,
   "metadata": {},
   "outputs": [],
   "source": []
  }
 ]
}