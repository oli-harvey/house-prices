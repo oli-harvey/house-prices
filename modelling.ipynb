{
 "metadata": {
  "language_info": {
   "codemirror_mode": {
    "name": "ipython",
    "version": 3
   },
   "file_extension": ".py",
   "mimetype": "text/x-python",
   "name": "python",
   "nbconvert_exporter": "python",
   "pygments_lexer": "ipython3",
   "version": "3.8.8"
  },
  "orig_nbformat": 2,
  "kernelspec": {
   "name": "python388jvsc74a57bd02cafb3199729848de48071f5cfc9db2ba6e5f31612348b291f81e9e98cb6629b",
   "display_name": "Python 3.8.8 64-bit ('titanic': conda)"
  }
 },
 "nbformat": 4,
 "nbformat_minor": 2,
 "cells": [
  {
   "cell_type": "code",
   "execution_count": 35,
   "metadata": {},
   "outputs": [],
   "source": [
    "%load_ext autoreload\n",
    "%autoreload 2"
   ]
  },
  {
   "cell_type": "code",
   "execution_count": 36,
   "metadata": {},
   "outputs": [
    {
     "output_type": "stream",
     "name": "stdout",
     "text": [
      "import_to_df imported\nadd_had_remod_flag imported\nget_kaggle_data imported\nadd_years_since imported\nadd_year_remod_pre1950_flag imported\nquality_to_number imported\nadd_dummies_multiple_columns imported\nadd_value_dummies_multiple_columns imported\nprocess_data imported\nsum_onehots imported\nadd_zero_flag imported\n"
     ]
    }
   ],
   "source": [
    "import os \n",
    "funcs = os.listdir('functions')\n",
    "\n",
    "for func in funcs:\n",
    "    if func.startswith('__') or func == 'import_all_functions.py':\n",
    "        continue\n",
    "    func = func.replace('.py','')\n",
    "    print(f'{func} imported')\n",
    "    exec(f'from functions.{func} import *')"
   ]
  },
  {
   "cell_type": "code",
   "execution_count": 138,
   "metadata": {},
   "outputs": [],
   "source": [
    "import pandas as pd \n",
    "import pandas_profiling as pdp\n",
    "import numpy as np\n",
    "import pprint as pp\n",
    "import seaborn as sns\n",
    "from matplotlib import pyplot as plt\n",
    "from catboost import Pool, CatBoostRegressor\n",
    "\n",
    "from sklearn.model_selection import RandomizedSearchCV\n",
    "from sklearn.model_selection import GridSearchCV\n",
    "from sklearn.model_selection import KFold\n",
    "from sklearn.ensemble import RandomForestRegressor\n",
    "from sklearn.linear_model import ElasticNet\n",
    "from sklearn.ensemble import VotingRegressor\n",
    "from sklearn.model_selection import cross_val_score\n",
    "\n",
    "\n",
    "pd.set_option('display.max_columns', None)\n",
    "pd.set_option('display.max_rows', None)"
   ]
  },
  {
   "cell_type": "code",
   "execution_count": 39,
   "metadata": {},
   "outputs": [
    {
     "output_type": "stream",
     "name": "stdout",
     "text": [
      "files downloaded for house-prices-advanced-regression-techniques competition\n   test.csv\n   data_description.txt\n   train.csv\n   sample_submission.csv\nlocated in /competition_data/\n"
     ]
    }
   ],
   "source": [
    "files = get_kaggle_data(\n",
    "    competition=\"house-prices-advanced-regression-techniques\"\n",
    "    )"
   ]
  },
  {
   "cell_type": "code",
   "execution_count": 40,
   "metadata": {},
   "outputs": [],
   "source": [
    "input_data = import_to_df(files)"
   ]
  },
  {
   "source": [
    "What files did we get?"
   ],
   "cell_type": "markdown",
   "metadata": {}
  },
  {
   "cell_type": "code",
   "execution_count": 41,
   "metadata": {},
   "outputs": [
    {
     "output_type": "execute_result",
     "data": {
      "text/plain": [
       "dict_keys(['test', 'train', 'sample_submission'])"
      ]
     },
     "metadata": {},
     "execution_count": 41
    }
   ],
   "source": [
    "input_data.keys()"
   ]
  },
  {
   "cell_type": "code",
   "execution_count": 42,
   "metadata": {},
   "outputs": [],
   "source": [
    "input_train_df = input_data['train']\n",
    "input_test_df = input_data['test']"
   ]
  },
  {
   "cell_type": "code",
   "execution_count": 115,
   "metadata": {},
   "outputs": [],
   "source": [
    "train_df = process_data(input_train_df)\n",
    "target = 'SalePrice'\n",
    "id_row = 'Id'\n",
    "train_predictors = [\n",
    "    c for c in train_df.columns \n",
    "    if target not in c\n",
    "    if id_row not in c\n",
    "]"
   ]
  },
  {
   "cell_type": "code",
   "execution_count": 116,
   "metadata": {},
   "outputs": [],
   "source": [
    "test_df = process_data(input_test_df)\n",
    "test_predictors = [\n",
    "    c for c in test_df.columns \n",
    "    if target not in c\n",
    "    if id_row not in c\n",
    "]"
   ]
  },
  {
   "source": [
    "Only keep columns in both dfs. Needed in case one hots generate unique columns"
   ],
   "cell_type": "markdown",
   "metadata": {}
  },
  {
   "cell_type": "code",
   "execution_count": 117,
   "metadata": {},
   "outputs": [],
   "source": [
    "cols_to_use = list(set(train_predictors).intersection(test_predictors))"
   ]
  },
  {
   "cell_type": "code",
   "execution_count": 118,
   "metadata": {},
   "outputs": [
    {
     "output_type": "execute_result",
     "data": {
      "text/plain": [
       "(299, 311)"
      ]
     },
     "metadata": {},
     "execution_count": 118
    }
   ],
   "source": [
    "len(cols_to_use), len(train_predictors)"
   ]
  },
  {
   "source": [
    "Removed 1 column"
   ],
   "cell_type": "markdown",
   "metadata": {}
  },
  {
   "cell_type": "code",
   "execution_count": 119,
   "metadata": {},
   "outputs": [],
   "source": [
    "X_train = train_df[cols_to_use]\n",
    "y_train = train_df[target]\n",
    "\n",
    "X_test = test_df[cols_to_use]\n",
    "y_test_labels = test_df[id_row]"
   ]
  },
  {
   "cell_type": "code",
   "execution_count": 93,
   "metadata": {
    "tags": [
     "outputPrepend"
    ]
   },
   "outputs": [
    {
     "output_type": "stream",
     "name": "stdout",
     "text": [
      "1\ttotal: 1.06s\tremaining: 335ms\n",
      "38:\tlearn: 34110.5693836\ttotal: 1.09s\tremaining: 308ms\n",
      "39:\tlearn: 33729.1323280\ttotal: 1.12s\tremaining: 279ms\n",
      "40:\tlearn: 33282.1824698\ttotal: 1.14s\tremaining: 251ms\n",
      "41:\tlearn: 32868.8721144\ttotal: 1.17s\tremaining: 222ms\n",
      "42:\tlearn: 32421.3925510\ttotal: 1.2s\tremaining: 195ms\n",
      "43:\tlearn: 32011.2473726\ttotal: 1.22s\tremaining: 167ms\n",
      "44:\tlearn: 31583.6707582\ttotal: 1.25s\tremaining: 139ms\n",
      "45:\tlearn: 31265.0101817\ttotal: 1.27s\tremaining: 111ms\n",
      "46:\tlearn: 30991.0426080\ttotal: 1.3s\tremaining: 83ms\n",
      "47:\tlearn: 30588.0991227\ttotal: 1.32s\tremaining: 55.1ms\n",
      "48:\tlearn: 30224.3412273\ttotal: 1.34s\tremaining: 27.5ms\n",
      "49:\tlearn: 29967.6079067\ttotal: 1.36s\tremaining: 0us\n",
      "0:\tlearn: 79005.8355710\ttotal: 17.7ms\tremaining: 866ms\n",
      "1:\tlearn: 76557.5544958\ttotal: 39.2ms\tremaining: 942ms\n",
      "2:\tlearn: 74555.6492547\ttotal: 65.5ms\tremaining: 1.03s\n",
      "3:\tlearn: 72519.3838503\ttotal: 92.1ms\tremaining: 1.06s\n",
      "4:\tlearn: 70536.9026578\ttotal: 119ms\tremaining: 1.07s\n",
      "5:\tlearn: 68617.8677199\ttotal: 150ms\tremaining: 1.1s\n",
      "6:\tlearn: 66918.5488233\ttotal: 182ms\tremaining: 1.12s\n",
      "7:\tlearn: 65221.9591005\ttotal: 214ms\tremaining: 1.12s\n",
      "8:\tlearn: 63585.3329792\ttotal: 245ms\tremaining: 1.12s\n",
      "9:\tlearn: 61960.8045742\ttotal: 276ms\tremaining: 1.1s\n",
      "10:\tlearn: 60507.7872854\ttotal: 305ms\tremaining: 1.08s\n",
      "11:\tlearn: 59004.5314231\ttotal: 334ms\tremaining: 1.06s\n",
      "12:\tlearn: 57712.6544758\ttotal: 357ms\tremaining: 1.02s\n",
      "13:\tlearn: 56348.0097681\ttotal: 379ms\tremaining: 975ms\n",
      "14:\tlearn: 55008.3572628\ttotal: 401ms\tremaining: 935ms\n",
      "15:\tlearn: 53768.6072295\ttotal: 428ms\tremaining: 909ms\n",
      "16:\tlearn: 52649.7285316\ttotal: 455ms\tremaining: 883ms\n",
      "17:\tlearn: 51585.4983556\ttotal: 479ms\tremaining: 852ms\n",
      "18:\tlearn: 50457.7590747\ttotal: 500ms\tremaining: 816ms\n",
      "19:\tlearn: 49353.3958649\ttotal: 527ms\tremaining: 790ms\n",
      "20:\tlearn: 48306.4903308\ttotal: 555ms\tremaining: 766ms\n",
      "21:\tlearn: 47367.8280150\ttotal: 586ms\tremaining: 746ms\n",
      "22:\tlearn: 46393.5180504\ttotal: 617ms\tremaining: 725ms\n",
      "23:\tlearn: 45446.2049553\ttotal: 650ms\tremaining: 704ms\n",
      "24:\tlearn: 44588.3259787\ttotal: 692ms\tremaining: 692ms\n",
      "25:\tlearn: 43888.6588628\ttotal: 725ms\tremaining: 670ms\n",
      "26:\tlearn: 43148.0679446\ttotal: 755ms\tremaining: 643ms\n",
      "27:\tlearn: 42396.1288959\ttotal: 786ms\tremaining: 618ms\n",
      "28:\tlearn: 41724.0819752\ttotal: 811ms\tremaining: 587ms\n",
      "29:\tlearn: 41248.0489625\ttotal: 840ms\tremaining: 560ms\n",
      "30:\tlearn: 40608.2204485\ttotal: 868ms\tremaining: 532ms\n",
      "31:\tlearn: 39932.1574436\ttotal: 889ms\tremaining: 500ms\n",
      "32:\tlearn: 39290.0582179\ttotal: 929ms\tremaining: 479ms\n",
      "33:\tlearn: 38662.9580139\ttotal: 984ms\tremaining: 463ms\n",
      "34:\tlearn: 38084.6590889\ttotal: 1.01s\tremaining: 434ms\n",
      "35:\tlearn: 37526.8608649\ttotal: 1.05s\tremaining: 410ms\n",
      "36:\tlearn: 36991.7643344\ttotal: 1.08s\tremaining: 381ms\n",
      "37:\tlearn: 36474.3936088\ttotal: 1.11s\tremaining: 350ms\n",
      "38:\tlearn: 36016.6754714\ttotal: 1.13s\tremaining: 319ms\n",
      "39:\tlearn: 35490.4662876\ttotal: 1.15s\tremaining: 288ms\n",
      "40:\tlearn: 35011.2749196\ttotal: 1.17s\tremaining: 258ms\n",
      "41:\tlearn: 34551.7258779\ttotal: 1.2s\tremaining: 228ms\n",
      "42:\tlearn: 34156.5586807\ttotal: 1.22s\tremaining: 198ms\n",
      "43:\tlearn: 33860.2607574\ttotal: 1.24s\tremaining: 169ms\n",
      "44:\tlearn: 33491.8394746\ttotal: 1.26s\tremaining: 140ms\n",
      "45:\tlearn: 33119.3074659\ttotal: 1.28s\tremaining: 112ms\n",
      "46:\tlearn: 32759.7390815\ttotal: 1.31s\tremaining: 83.4ms\n",
      "47:\tlearn: 32419.7815681\ttotal: 1.33s\tremaining: 55.3ms\n",
      "48:\tlearn: 32154.8187477\ttotal: 1.35s\tremaining: 27.6ms\n",
      "49:\tlearn: 31754.5127189\ttotal: 1.37s\tremaining: 0us\n",
      "0:\tlearn: 76554.3846783\ttotal: 25.7ms\tremaining: 1.26s\n",
      "1:\tlearn: 74343.4673973\ttotal: 55.7ms\tremaining: 1.34s\n",
      "2:\tlearn: 72368.7922360\ttotal: 93.1ms\tremaining: 1.46s\n",
      "3:\tlearn: 70384.8190879\ttotal: 134ms\tremaining: 1.54s\n",
      "4:\tlearn: 68609.9286466\ttotal: 173ms\tremaining: 1.56s\n",
      "5:\tlearn: 66773.3735745\ttotal: 217ms\tremaining: 1.59s\n",
      "6:\tlearn: 65189.2415159\ttotal: 258ms\tremaining: 1.58s\n",
      "7:\tlearn: 63831.5195403\ttotal: 297ms\tremaining: 1.56s\n",
      "8:\tlearn: 62328.6702908\ttotal: 322ms\tremaining: 1.47s\n",
      "9:\tlearn: 60649.0917674\ttotal: 346ms\tremaining: 1.38s\n",
      "10:\tlearn: 59048.5861274\ttotal: 380ms\tremaining: 1.35s\n",
      "11:\tlearn: 57617.2813265\ttotal: 416ms\tremaining: 1.32s\n",
      "12:\tlearn: 56212.5471373\ttotal: 464ms\tremaining: 1.32s\n",
      "13:\tlearn: 54838.1590914\ttotal: 512ms\tremaining: 1.32s\n",
      "14:\tlearn: 53495.2621295\ttotal: 546ms\tremaining: 1.27s\n",
      "15:\tlearn: 52129.4604518\ttotal: 581ms\tremaining: 1.23s\n",
      "16:\tlearn: 51150.3666774\ttotal: 609ms\tremaining: 1.18s\n",
      "17:\tlearn: 50117.8984601\ttotal: 636ms\tremaining: 1.13s\n",
      "18:\tlearn: 49034.5622653\ttotal: 676ms\tremaining: 1.1s\n",
      "19:\tlearn: 48080.8655997\ttotal: 703ms\tremaining: 1.05s\n",
      "20:\tlearn: 47141.5282201\ttotal: 732ms\tremaining: 1.01s\n",
      "21:\tlearn: 46146.7118110\ttotal: 771ms\tremaining: 981ms\n",
      "22:\tlearn: 45232.6671686\ttotal: 801ms\tremaining: 940ms\n",
      "23:\tlearn: 44393.8764671\ttotal: 825ms\tremaining: 894ms\n",
      "24:\tlearn: 43570.1864634\ttotal: 848ms\tremaining: 848ms\n",
      "25:\tlearn: 42763.8670983\ttotal: 872ms\tremaining: 805ms\n",
      "26:\tlearn: 42029.7774383\ttotal: 910ms\tremaining: 775ms\n",
      "27:\tlearn: 41253.4501027\ttotal: 937ms\tremaining: 736ms\n",
      "28:\tlearn: 40598.8067489\ttotal: 974ms\tremaining: 705ms\n",
      "29:\tlearn: 39885.4092766\ttotal: 1s\tremaining: 667ms\n",
      "30:\tlearn: 39274.2141190\ttotal: 1.03s\tremaining: 632ms\n",
      "31:\tlearn: 38629.9475502\ttotal: 1.07s\tremaining: 600ms\n",
      "32:\tlearn: 38008.9305666\ttotal: 1.09s\tremaining: 564ms\n",
      "33:\tlearn: 37322.1359584\ttotal: 1.13s\tremaining: 532ms\n",
      "34:\tlearn: 36729.3313153\ttotal: 1.17s\tremaining: 503ms\n",
      "35:\tlearn: 36229.0025770\ttotal: 1.2s\tremaining: 467ms\n",
      "36:\tlearn: 35713.2573553\ttotal: 1.23s\tremaining: 431ms\n",
      "37:\tlearn: 35169.5290062\ttotal: 1.26s\tremaining: 397ms\n",
      "38:\tlearn: 34729.0031351\ttotal: 1.29s\tremaining: 364ms\n",
      "39:\tlearn: 34278.6264895\ttotal: 1.32s\tremaining: 330ms\n",
      "40:\tlearn: 33855.3773837\ttotal: 1.34s\tremaining: 295ms\n",
      "41:\tlearn: 33479.3294696\ttotal: 1.38s\tremaining: 262ms\n",
      "42:\tlearn: 33053.4172987\ttotal: 1.41s\tremaining: 229ms\n",
      "43:\tlearn: 32659.5157794\ttotal: 1.43s\tremaining: 195ms\n",
      "44:\tlearn: 32195.5654354\ttotal: 1.46s\tremaining: 162ms\n",
      "45:\tlearn: 31758.9028906\ttotal: 1.48s\tremaining: 129ms\n",
      "46:\tlearn: 31388.1375312\ttotal: 1.5s\tremaining: 96ms\n",
      "47:\tlearn: 31004.3894983\ttotal: 1.53s\tremaining: 63.6ms\n",
      "48:\tlearn: 30640.7019630\ttotal: 1.55s\tremaining: 31.6ms\n",
      "49:\tlearn: 30320.1674486\ttotal: 1.57s\tremaining: 0us\n",
      "0:\tlearn: 76112.7891130\ttotal: 10.9ms\tremaining: 315ms\n",
      "1:\tlearn: 71930.2710890\ttotal: 18.8ms\tremaining: 263ms\n",
      "2:\tlearn: 68324.3773352\ttotal: 26.8ms\tremaining: 241ms\n",
      "3:\tlearn: 64492.6042784\ttotal: 35.6ms\tremaining: 231ms\n",
      "4:\tlearn: 60906.3642386\ttotal: 45.7ms\tremaining: 229ms\n",
      "5:\tlearn: 57677.7982541\ttotal: 55.5ms\tremaining: 222ms\n",
      "6:\tlearn: 54581.4411326\ttotal: 66.6ms\tremaining: 219ms\n",
      "7:\tlearn: 52244.8401758\ttotal: 77.5ms\tremaining: 213ms\n",
      "8:\tlearn: 49820.4508159\ttotal: 86.2ms\tremaining: 201ms\n",
      "9:\tlearn: 47398.1400797\ttotal: 95.9ms\tremaining: 192ms\n",
      "10:\tlearn: 45116.8015570\ttotal: 105ms\tremaining: 181ms\n",
      "11:\tlearn: 43266.9191744\ttotal: 115ms\tremaining: 173ms\n",
      "12:\tlearn: 41676.4693831\ttotal: 123ms\tremaining: 161ms\n",
      "13:\tlearn: 39998.9326404\ttotal: 132ms\tremaining: 151ms\n",
      "14:\tlearn: 38386.5558096\ttotal: 143ms\tremaining: 143ms\n",
      "15:\tlearn: 36909.7107427\ttotal: 155ms\tremaining: 136ms\n",
      "16:\tlearn: 35659.7287965\ttotal: 165ms\tremaining: 126ms\n",
      "17:\tlearn: 34594.1164292\ttotal: 176ms\tremaining: 117ms\n",
      "18:\tlearn: 33313.4663510\ttotal: 187ms\tremaining: 108ms\n",
      "19:\tlearn: 32383.2407458\ttotal: 197ms\tremaining: 98.7ms\n",
      "20:\tlearn: 31613.0262202\ttotal: 207ms\tremaining: 88.7ms\n",
      "21:\tlearn: 30867.8905861\ttotal: 218ms\tremaining: 79.4ms\n",
      "22:\tlearn: 30056.8582184\ttotal: 229ms\tremaining: 69.8ms\n",
      "23:\tlearn: 29463.3805184\ttotal: 246ms\tremaining: 61.5ms\n",
      "24:\tlearn: 28869.5971050\ttotal: 258ms\tremaining: 51.6ms\n",
      "25:\tlearn: 28237.6061935\ttotal: 270ms\tremaining: 41.5ms\n",
      "26:\tlearn: 27663.4461308\ttotal: 282ms\tremaining: 31.3ms\n",
      "27:\tlearn: 27088.9310431\ttotal: 294ms\tremaining: 21ms\n",
      "28:\tlearn: 26564.6810709\ttotal: 306ms\tremaining: 10.5ms\n",
      "29:\tlearn: 26091.4004812\ttotal: 315ms\tremaining: 0us\n",
      "0:\tlearn: 74233.6579711\ttotal: 12.5ms\tremaining: 361ms\n",
      "1:\tlearn: 69857.7593425\ttotal: 22.6ms\tremaining: 317ms\n",
      "2:\tlearn: 66152.8928508\ttotal: 38.6ms\tremaining: 347ms\n",
      "3:\tlearn: 62681.9018165\ttotal: 46.9ms\tremaining: 305ms\n",
      "4:\tlearn: 59414.3709155\ttotal: 56ms\tremaining: 280ms\n",
      "5:\tlearn: 56174.0897462\ttotal: 67.9ms\tremaining: 272ms\n",
      "6:\tlearn: 53232.3478313\ttotal: 86.8ms\tremaining: 285ms\n",
      "7:\tlearn: 50539.7632062\ttotal: 99.1ms\tremaining: 272ms\n",
      "8:\tlearn: 48296.1778602\ttotal: 109ms\tremaining: 255ms\n",
      "9:\tlearn: 46000.4012499\ttotal: 121ms\tremaining: 242ms\n",
      "10:\tlearn: 44064.2034613\ttotal: 138ms\tremaining: 239ms\n",
      "11:\tlearn: 42316.2062698\ttotal: 149ms\tremaining: 223ms\n",
      "12:\tlearn: 40785.4604691\ttotal: 159ms\tremaining: 208ms\n",
      "13:\tlearn: 39316.5168216\ttotal: 170ms\tremaining: 194ms\n",
      "14:\tlearn: 37909.8989387\ttotal: 186ms\tremaining: 186ms\n",
      "15:\tlearn: 36552.7603403\ttotal: 197ms\tremaining: 173ms\n",
      "16:\tlearn: 35267.5920181\ttotal: 208ms\tremaining: 159ms\n",
      "17:\tlearn: 33958.6406478\ttotal: 217ms\tremaining: 144ms\n",
      "18:\tlearn: 33039.6033923\ttotal: 233ms\tremaining: 135ms\n",
      "19:\tlearn: 32044.5563523\ttotal: 241ms\tremaining: 121ms\n",
      "20:\tlearn: 31173.6752076\ttotal: 251ms\tremaining: 107ms\n",
      "21:\tlearn: 30447.8503154\ttotal: 261ms\tremaining: 94.9ms\n",
      "22:\tlearn: 29750.7035633\ttotal: 279ms\tremaining: 84.9ms\n",
      "23:\tlearn: 29165.6481093\ttotal: 290ms\tremaining: 72.5ms\n",
      "24:\tlearn: 28534.6720187\ttotal: 300ms\tremaining: 60ms\n",
      "25:\tlearn: 28008.7366404\ttotal: 310ms\tremaining: 47.7ms\n",
      "26:\tlearn: 27495.4820945\ttotal: 330ms\tremaining: 36.7ms\n",
      "27:\tlearn: 26911.0783488\ttotal: 344ms\tremaining: 24.6ms\n",
      "28:\tlearn: 26481.4331653\ttotal: 359ms\tremaining: 12.4ms\n",
      "29:\tlearn: 25931.3666693\ttotal: 379ms\tremaining: 0us\n",
      "0:\tlearn: 72609.0089725\ttotal: 12.7ms\tremaining: 369ms\n",
      "1:\tlearn: 68183.4351871\ttotal: 22.5ms\tremaining: 315ms\n",
      "2:\tlearn: 64272.7192830\ttotal: 31.7ms\tremaining: 285ms\n",
      "3:\tlearn: 60528.6430739\ttotal: 40.6ms\tremaining: 264ms\n",
      "4:\tlearn: 57383.1849321\ttotal: 57.2ms\tremaining: 286ms\n",
      "5:\tlearn: 54285.0636535\ttotal: 67.5ms\tremaining: 270ms\n",
      "6:\tlearn: 51682.3278414\ttotal: 76.3ms\tremaining: 251ms\n",
      "7:\tlearn: 49513.3321124\ttotal: 86.6ms\tremaining: 238ms\n",
      "8:\tlearn: 47329.7942544\ttotal: 106ms\tremaining: 246ms\n",
      "9:\tlearn: 45407.0551927\ttotal: 119ms\tremaining: 238ms\n",
      "10:\tlearn: 43647.9972807\ttotal: 128ms\tremaining: 222ms\n",
      "11:\tlearn: 41882.0079796\ttotal: 148ms\tremaining: 223ms\n",
      "12:\tlearn: 40347.9380296\ttotal: 158ms\tremaining: 207ms\n",
      "13:\tlearn: 38695.8364644\ttotal: 167ms\tremaining: 190ms\n",
      "14:\tlearn: 37210.6194846\ttotal: 176ms\tremaining: 176ms\n",
      "15:\tlearn: 35962.8453972\ttotal: 185ms\tremaining: 162ms\n",
      "16:\tlearn: 34746.8185582\ttotal: 200ms\tremaining: 153ms\n",
      "17:\tlearn: 33861.1852095\ttotal: 210ms\tremaining: 140ms\n",
      "18:\tlearn: 32884.2953161\ttotal: 218ms\tremaining: 126ms\n",
      "19:\tlearn: 32048.2638127\ttotal: 227ms\tremaining: 113ms\n",
      "20:\tlearn: 31099.4913447\ttotal: 238ms\tremaining: 102ms\n",
      "21:\tlearn: 30334.4974529\ttotal: 248ms\tremaining: 90ms\n",
      "22:\tlearn: 29481.5095312\ttotal: 257ms\tremaining: 78.2ms\n",
      "23:\tlearn: 28879.1056874\ttotal: 269ms\tremaining: 67.2ms\n",
      "24:\tlearn: 28388.4981409\ttotal: 278ms\tremaining: 55.6ms\n",
      "25:\tlearn: 27920.6534806\ttotal: 295ms\tremaining: 45.4ms\n",
      "26:\tlearn: 27408.6751539\ttotal: 305ms\tremaining: 33.9ms\n",
      "27:\tlearn: 27010.0461804\ttotal: 315ms\tremaining: 22.5ms\n",
      "28:\tlearn: 26691.0212414\ttotal: 325ms\tremaining: 11.2ms\n",
      "29:\tlearn: 26335.9989446\ttotal: 343ms\tremaining: 0us\n",
      "0:\tlearn: 76591.7021392\ttotal: 9.61ms\tremaining: 279ms\n",
      "1:\tlearn: 71707.3951749\ttotal: 19.1ms\tremaining: 267ms\n",
      "2:\tlearn: 67841.3649702\ttotal: 35.6ms\tremaining: 321ms\n",
      "3:\tlearn: 64241.2983700\ttotal: 52.7ms\tremaining: 342ms\n",
      "4:\tlearn: 60423.1489693\ttotal: 66.1ms\tremaining: 330ms\n",
      "5:\tlearn: 57329.2617477\ttotal: 87.6ms\tremaining: 350ms\n",
      "6:\tlearn: 54668.5244647\ttotal: 100ms\tremaining: 329ms\n",
      "7:\tlearn: 52026.0167127\ttotal: 111ms\tremaining: 306ms\n",
      "8:\tlearn: 49712.6691005\ttotal: 131ms\tremaining: 306ms\n",
      "9:\tlearn: 47603.8824048\ttotal: 145ms\tremaining: 291ms\n",
      "10:\tlearn: 45523.4431121\ttotal: 158ms\tremaining: 272ms\n",
      "11:\tlearn: 43571.6567318\ttotal: 168ms\tremaining: 252ms\n",
      "12:\tlearn: 41898.0924073\ttotal: 185ms\tremaining: 242ms\n",
      "13:\tlearn: 40229.8744674\ttotal: 194ms\tremaining: 222ms\n",
      "14:\tlearn: 38897.4237535\ttotal: 203ms\tremaining: 203ms\n",
      "15:\tlearn: 37648.9868182\ttotal: 213ms\tremaining: 186ms\n",
      "16:\tlearn: 36451.3741742\ttotal: 228ms\tremaining: 174ms\n",
      "17:\tlearn: 35282.6309907\ttotal: 239ms\tremaining: 159ms\n",
      "18:\tlearn: 34233.0824613\ttotal: 248ms\tremaining: 144ms\n",
      "19:\tlearn: 33334.7223689\ttotal: 257ms\tremaining: 128ms\n",
      "20:\tlearn: 32517.3845537\ttotal: 276ms\tremaining: 118ms\n",
      "21:\tlearn: 31544.7451565\ttotal: 286ms\tremaining: 104ms\n",
      "22:\tlearn: 30916.2212109\ttotal: 293ms\tremaining: 89.3ms\n",
      "23:\tlearn: 30286.1066574\ttotal: 304ms\tremaining: 76ms\n",
      "24:\tlearn: 29530.2735945\ttotal: 314ms\tremaining: 62.8ms\n",
      "25:\tlearn: 28896.9655448\ttotal: 331ms\tremaining: 50.9ms\n",
      "26:\tlearn: 28348.3663155\ttotal: 340ms\tremaining: 37.8ms\n",
      "27:\tlearn: 27915.5793616\ttotal: 348ms\tremaining: 24.9ms\n",
      "28:\tlearn: 27370.4215528\ttotal: 357ms\tremaining: 12.3ms\n",
      "29:\tlearn: 26922.3599884\ttotal: 374ms\tremaining: 0us\n",
      "0:\tlearn: 74177.3494826\ttotal: 8.42ms\tremaining: 244ms\n",
      "1:\tlearn: 69781.6981152\ttotal: 17.3ms\tremaining: 242ms\n",
      "2:\tlearn: 65800.7909710\ttotal: 33ms\tremaining: 297ms\n",
      "3:\tlearn: 62133.2870632\ttotal: 40.8ms\tremaining: 265ms\n",
      "4:\tlearn: 58926.0647650\ttotal: 48.7ms\tremaining: 244ms\n",
      "5:\tlearn: 55854.5902102\ttotal: 57.1ms\tremaining: 228ms\n",
      "6:\tlearn: 52842.5454727\ttotal: 66.9ms\tremaining: 220ms\n",
      "7:\tlearn: 50227.9745551\ttotal: 83.3ms\tremaining: 229ms\n",
      "8:\tlearn: 47950.5895991\ttotal: 93.7ms\tremaining: 219ms\n",
      "9:\tlearn: 45578.4257104\ttotal: 106ms\tremaining: 211ms\n",
      "10:\tlearn: 43408.0376707\ttotal: 115ms\tremaining: 199ms\n",
      "11:\tlearn: 41545.7621620\ttotal: 130ms\tremaining: 196ms\n",
      "12:\tlearn: 40130.8248077\ttotal: 139ms\tremaining: 182ms\n",
      "13:\tlearn: 38724.4885900\ttotal: 148ms\tremaining: 169ms\n",
      "14:\tlearn: 37536.6438305\ttotal: 157ms\tremaining: 157ms\n",
      "15:\tlearn: 36320.9320696\ttotal: 175ms\tremaining: 153ms\n",
      "16:\tlearn: 35191.5598391\ttotal: 185ms\tremaining: 141ms\n",
      "17:\tlearn: 34061.1775724\ttotal: 194ms\tremaining: 129ms\n",
      "18:\tlearn: 33145.0449085\ttotal: 204ms\tremaining: 118ms\n",
      "19:\tlearn: 32325.6721945\ttotal: 221ms\tremaining: 110ms\n",
      "20:\tlearn: 31600.5537261\ttotal: 228ms\tremaining: 97.7ms\n",
      "21:\tlearn: 30935.3972344\ttotal: 237ms\tremaining: 86.3ms\n",
      "22:\tlearn: 30290.5317931\ttotal: 245ms\tremaining: 74.6ms\n",
      "23:\tlearn: 29619.3671514\ttotal: 252ms\tremaining: 63ms\n",
      "24:\tlearn: 28887.2603411\ttotal: 269ms\tremaining: 53.9ms\n",
      "25:\tlearn: 28299.1701795\ttotal: 280ms\tremaining: 43.1ms\n",
      "26:\tlearn: 27786.3275627\ttotal: 291ms\tremaining: 32.4ms\n",
      "27:\tlearn: 27266.8486898\ttotal: 303ms\tremaining: 21.6ms\n",
      "28:\tlearn: 26739.0998138\ttotal: 322ms\tremaining: 11.1ms\n",
      "29:\tlearn: 26166.2495534\ttotal: 337ms\tremaining: 0us\n",
      "0:\tlearn: 77087.1639249\ttotal: 36.5ms\tremaining: 3.61s\n",
      "1:\tlearn: 74829.8321621\ttotal: 58.5ms\tremaining: 2.87s\n",
      "2:\tlearn: 72789.7447689\ttotal: 91.7ms\tremaining: 2.96s\n",
      "3:\tlearn: 70629.5826318\ttotal: 116ms\tremaining: 2.77s\n",
      "4:\tlearn: 68667.8731952\ttotal: 144ms\tremaining: 2.73s\n",
      "5:\tlearn: 66848.0134825\ttotal: 176ms\tremaining: 2.75s\n",
      "6:\tlearn: 64995.1555901\ttotal: 197ms\tremaining: 2.62s\n",
      "7:\tlearn: 63237.7957950\ttotal: 230ms\tremaining: 2.65s\n",
      "8:\tlearn: 61505.3605055\ttotal: 254ms\tremaining: 2.57s\n",
      "9:\tlearn: 59830.7664522\ttotal: 286ms\tremaining: 2.57s\n",
      "10:\tlearn: 58177.0458470\ttotal: 318ms\tremaining: 2.57s\n",
      "11:\tlearn: 56740.5878622\ttotal: 344ms\tremaining: 2.52s\n",
      "12:\tlearn: 55364.0996814\ttotal: 380ms\tremaining: 2.54s\n",
      "13:\tlearn: 54128.4647581\ttotal: 414ms\tremaining: 2.54s\n",
      "14:\tlearn: 52812.9182626\ttotal: 448ms\tremaining: 2.54s\n",
      "15:\tlearn: 51656.7027699\ttotal: 480ms\tremaining: 2.52s\n",
      "16:\tlearn: 50400.2646689\ttotal: 507ms\tremaining: 2.47s\n",
      "17:\tlearn: 49293.0097651\ttotal: 534ms\tremaining: 2.43s\n",
      "18:\tlearn: 48133.5679197\ttotal: 570ms\tremaining: 2.43s\n",
      "19:\tlearn: 47064.6166712\ttotal: 594ms\tremaining: 2.38s\n",
      "20:\tlearn: 45846.0159218\ttotal: 625ms\tremaining: 2.35s\n",
      "21:\tlearn: 44840.6326547\ttotal: 663ms\tremaining: 2.35s\n",
      "22:\tlearn: 44006.5603896\ttotal: 700ms\tremaining: 2.34s\n",
      "23:\tlearn: 43161.7890740\ttotal: 723ms\tremaining: 2.29s\n",
      "24:\tlearn: 42299.7665393\ttotal: 756ms\tremaining: 2.27s\n",
      "25:\tlearn: 41528.9253714\ttotal: 800ms\tremaining: 2.28s\n",
      "26:\tlearn: 40730.4189665\ttotal: 836ms\tremaining: 2.26s\n",
      "27:\tlearn: 39951.1429550\ttotal: 865ms\tremaining: 2.22s\n",
      "28:\tlearn: 39333.4562239\ttotal: 901ms\tremaining: 2.21s\n",
      "29:\tlearn: 38616.0285670\ttotal: 932ms\tremaining: 2.17s\n",
      "30:\tlearn: 38034.0219942\ttotal: 966ms\tremaining: 2.15s\n",
      "31:\tlearn: 37356.8079184\ttotal: 1000ms\tremaining: 2.12s\n",
      "32:\tlearn: 36684.2219979\ttotal: 1.03s\tremaining: 2.1s\n",
      "33:\tlearn: 36128.4931813\ttotal: 1.06s\tremaining: 2.06s\n",
      "34:\tlearn: 35577.9110792\ttotal: 1.09s\tremaining: 2.04s\n",
      "35:\tlearn: 34985.7692246\ttotal: 1.13s\tremaining: 2.01s\n",
      "36:\tlearn: 34440.1105330\ttotal: 1.15s\tremaining: 1.97s\n",
      "37:\tlearn: 33930.1734599\ttotal: 1.19s\tremaining: 1.94s\n",
      "38:\tlearn: 33450.2527386\ttotal: 1.21s\tremaining: 1.89s\n",
      "39:\tlearn: 32911.9688359\ttotal: 1.24s\tremaining: 1.86s\n",
      "40:\tlearn: 32425.2256140\ttotal: 1.27s\tremaining: 1.82s\n",
      "41:\tlearn: 31989.0874807\ttotal: 1.3s\tremaining: 1.79s\n",
      "42:\tlearn: 31598.2368333\ttotal: 1.33s\tremaining: 1.76s\n",
      "43:\tlearn: 31230.9424329\ttotal: 1.35s\tremaining: 1.72s\n",
      "44:\tlearn: 30834.2812418\ttotal: 1.39s\tremaining: 1.69s\n",
      "45:\tlearn: 30454.6185352\ttotal: 1.41s\tremaining: 1.66s\n",
      "46:\tlearn: 30108.0076800\ttotal: 1.44s\tremaining: 1.63s\n",
      "47:\tlearn: 29762.4441435\ttotal: 1.47s\tremaining: 1.59s\n",
      "48:\tlearn: 29402.4262382\ttotal: 1.5s\tremaining: 1.56s\n",
      "49:\tlearn: 29023.2236342\ttotal: 1.53s\tremaining: 1.53s\n",
      "50:\tlearn: 28625.1955726\ttotal: 1.55s\tremaining: 1.49s\n",
      "51:\tlearn: 28285.5211522\ttotal: 1.58s\tremaining: 1.46s\n",
      "52:\tlearn: 27966.7945126\ttotal: 1.6s\tremaining: 1.42s\n",
      "53:\tlearn: 27737.3396914\ttotal: 1.62s\tremaining: 1.38s\n",
      "54:\tlearn: 27508.3449670\ttotal: 1.65s\tremaining: 1.35s\n",
      "55:\tlearn: 27246.2363773\ttotal: 1.68s\tremaining: 1.32s\n",
      "56:\tlearn: 27007.6042515\ttotal: 1.71s\tremaining: 1.29s\n",
      "57:\tlearn: 26723.8995109\ttotal: 1.74s\tremaining: 1.26s\n",
      "58:\tlearn: 26425.9119676\ttotal: 1.77s\tremaining: 1.23s\n",
      "59:\tlearn: 26238.2510605\ttotal: 1.79s\tremaining: 1.2s\n",
      "60:\tlearn: 26011.4664259\ttotal: 1.82s\tremaining: 1.17s\n",
      "61:\tlearn: 25731.7299700\ttotal: 1.85s\tremaining: 1.13s\n",
      "62:\tlearn: 25486.2230340\ttotal: 1.87s\tremaining: 1.1s\n",
      "63:\tlearn: 25229.8511550\ttotal: 1.89s\tremaining: 1.06s\n",
      "64:\tlearn: 25037.3515669\ttotal: 1.91s\tremaining: 1.03s\n",
      "65:\tlearn: 24868.9648884\ttotal: 1.93s\tremaining: 993ms\n",
      "66:\tlearn: 24685.8281872\ttotal: 1.95s\tremaining: 962ms\n",
      "67:\tlearn: 24469.3402619\ttotal: 1.98s\tremaining: 933ms\n",
      "68:\tlearn: 24265.9985680\ttotal: 2.02s\tremaining: 909ms\n",
      "69:\tlearn: 24067.5471680\ttotal: 2.07s\tremaining: 886ms\n",
      "70:\tlearn: 23874.9101760\ttotal: 2.1s\tremaining: 857ms\n",
      "71:\tlearn: 23717.1966850\ttotal: 2.14s\tremaining: 831ms\n",
      "72:\tlearn: 23563.6646081\ttotal: 2.17s\tremaining: 804ms\n",
      "73:\tlearn: 23379.3778400\ttotal: 2.2s\tremaining: 772ms\n",
      "74:\tlearn: 23199.3703645\ttotal: 2.22s\tremaining: 741ms\n",
      "75:\tlearn: 23036.6119753\ttotal: 2.25s\tremaining: 710ms\n",
      "76:\tlearn: 22884.9146614\ttotal: 2.27s\tremaining: 679ms\n",
      "77:\tlearn: 22753.4636926\ttotal: 2.3s\tremaining: 649ms\n",
      "78:\tlearn: 22578.3328586\ttotal: 2.32s\tremaining: 617ms\n",
      "79:\tlearn: 22426.9293206\ttotal: 2.34s\tremaining: 586ms\n",
      "80:\tlearn: 22307.6666988\ttotal: 2.37s\tremaining: 557ms\n",
      "81:\tlearn: 22189.2742192\ttotal: 2.4s\tremaining: 526ms\n",
      "82:\tlearn: 22050.8053185\ttotal: 2.42s\tremaining: 496ms\n",
      "83:\tlearn: 21907.4800699\ttotal: 2.45s\tremaining: 467ms\n",
      "84:\tlearn: 21793.5533092\ttotal: 2.48s\tremaining: 437ms\n",
      "85:\tlearn: 21650.6005643\ttotal: 2.5s\tremaining: 407ms\n",
      "86:\tlearn: 21543.9487167\ttotal: 2.52s\tremaining: 377ms\n",
      "87:\tlearn: 21421.6887727\ttotal: 2.54s\tremaining: 347ms\n",
      "88:\tlearn: 21329.1046055\ttotal: 2.57s\tremaining: 318ms\n",
      "89:\tlearn: 21242.0085499\ttotal: 2.6s\tremaining: 288ms\n",
      "90:\tlearn: 21111.6035384\ttotal: 2.62s\tremaining: 259ms\n",
      "91:\tlearn: 21008.2950688\ttotal: 2.64s\tremaining: 230ms\n",
      "92:\tlearn: 20911.5219822\ttotal: 2.67s\tremaining: 201ms\n",
      "93:\tlearn: 20794.1732580\ttotal: 2.69s\tremaining: 172ms\n",
      "94:\tlearn: 20689.2303634\ttotal: 2.71s\tremaining: 143ms\n",
      "95:\tlearn: 20572.2420873\ttotal: 2.73s\tremaining: 114ms\n",
      "96:\tlearn: 20441.1211509\ttotal: 2.77s\tremaining: 85.5ms\n",
      "97:\tlearn: 20352.8008238\ttotal: 2.8s\tremaining: 57.2ms\n",
      "98:\tlearn: 20260.1179638\ttotal: 2.83s\tremaining: 28.6ms\n",
      "99:\tlearn: 20132.7404500\ttotal: 2.86s\tremaining: 0us\n",
      "{'learning_rate': 0.05, 'l2_leaf_reg': 5, 'iterations': 100, 'depth': 8}\n",
      "0.8478039285923558\n"
     ]
    }
   ],
   "source": [
    "# initialize Pool\n",
    "train_pool = Pool(X_train, y_train)\n",
    "test_pool = Pool(X_test) \n",
    "\n",
    "param_dist = {\n",
    "    'depth': [6,8,10],\n",
    "    'learning_rate' : [0.01, 0.05, 0.1],\n",
    "    'iterations'    : [30, 50, 100],\n",
    "    'l2_leaf_reg': [1, 3, 5, 7, 9]\n",
    "}\n",
    "#Instantiate RandomSearchCV object\n",
    "cbr = CatBoostRegressor()\n",
    "\n",
    "random_grid = RandomizedSearchCV(cbr, param_dist, cv =5)\n",
    "\n",
    "#Fit the model\n",
    "random_grid.fit(X_train, y_train, verbose=2)\n",
    "\n",
    "# Print the tuned parameters and score\n",
    "print(random_grid.best_params_)\n",
    "print(random_grid.best_score_)\n",
    "# specify the training parameters \n",
    "# model = CatBoostRegressor(\n",
    "#     iterations=5, \n",
    "#     depth=2, \n",
    "#     learning_rate=1, \n",
    "#     loss_function='RMSE'\n",
    "# )\n",
    "#train the model\n",
    "# model.fit(train_pool)\n",
    "# make the prediction using the resulting model\n",
    "# preds = model.predict(test_pool)"
   ]
  },
  {
   "source": [
    "Use these params to start grid search"
   ],
   "cell_type": "markdown",
   "metadata": {}
  },
  {
   "cell_type": "code",
   "execution_count": 98,
   "metadata": {},
   "outputs": [
    {
     "output_type": "stream",
     "name": "stdout",
     "text": [
      "Fitting 3 folds for each of 72 candidates, totalling 216 fits\n",
      "0:\tlearn: 75041.9249194\ttotal: 5.28ms\tremaining: 787ms\n",
      "1:\tlearn: 70608.9577935\ttotal: 12.1ms\tremaining: 896ms\n",
      "2:\tlearn: 66771.8136501\ttotal: 16.4ms\tremaining: 805ms\n",
      "3:\tlearn: 63069.0289300\ttotal: 20.8ms\tremaining: 759ms\n",
      "4:\tlearn: 59650.5016395\ttotal: 26.5ms\tremaining: 767ms\n",
      "5:\tlearn: 56738.5533641\ttotal: 31.6ms\tremaining: 759ms\n",
      "6:\tlearn: 54529.2532115\ttotal: 36.8ms\tremaining: 751ms\n",
      "7:\tlearn: 52290.3892366\ttotal: 42.6ms\tremaining: 757ms\n",
      "8:\tlearn: 50019.7825485\ttotal: 48.2ms\tremaining: 755ms\n",
      "9:\tlearn: 48122.7219634\ttotal: 56.2ms\tremaining: 787ms\n",
      "10:\tlearn: 46099.6746810\ttotal: 62.6ms\tremaining: 792ms\n",
      "11:\tlearn: 44454.5407451\ttotal: 70.9ms\tremaining: 816ms\n",
      "12:\tlearn: 43031.5694179\ttotal: 76.8ms\tremaining: 810ms\n",
      "13:\tlearn: 41630.6898660\ttotal: 82.2ms\tremaining: 799ms\n",
      "14:\tlearn: 40496.7922046\ttotal: 88.6ms\tremaining: 797ms\n",
      "15:\tlearn: 39378.3427527\ttotal: 93.9ms\tremaining: 786ms\n",
      "16:\tlearn: 38344.9145233\ttotal: 99.6ms\tremaining: 780ms\n",
      "17:\tlearn: 37405.3541515\ttotal: 105ms\tremaining: 770ms\n",
      "18:\tlearn: 36479.5512528\ttotal: 110ms\tremaining: 761ms\n",
      "19:\tlearn: 35780.1171962\ttotal: 117ms\tremaining: 760ms\n",
      "20:\tlearn: 35069.0350430\ttotal: 123ms\tremaining: 759ms\n",
      "21:\tlearn: 34299.6120980\ttotal: 131ms\tremaining: 764ms\n",
      "22:\tlearn: 33664.8206316\ttotal: 138ms\tremaining: 762ms\n",
      "23:\tlearn: 32966.2319320\ttotal: 144ms\tremaining: 755ms\n",
      "24:\tlearn: 32344.8938531\ttotal: 151ms\tremaining: 757ms\n",
      "25:\tlearn: 32190.1020734\ttotal: 157ms\tremaining: 748ms\n",
      "26:\tlearn: 31686.9067722\ttotal: 165ms\tremaining: 751ms\n",
      "27:\tlearn: 31188.1155860\ttotal: 173ms\tremaining: 753ms\n",
      "28:\tlearn: 30738.8423184\ttotal: 179ms\tremaining: 748ms\n",
      "29:\tlearn: 30189.8200273\ttotal: 185ms\tremaining: 739ms\n",
      "30:\tlearn: 29800.6992699\ttotal: 190ms\tremaining: 729ms\n",
      "31:\tlearn: 29527.1414139\ttotal: 197ms\tremaining: 727ms\n",
      "32:\tlearn: 29054.5808075\ttotal: 202ms\tremaining: 716ms\n",
      "33:\tlearn: 28753.9723839\ttotal: 208ms\tremaining: 708ms\n",
      "34:\tlearn: 28430.4633850\ttotal: 214ms\tremaining: 704ms\n",
      "35:\tlearn: 28067.4374117\ttotal: 219ms\tremaining: 695ms\n",
      "36:\tlearn: 27623.7668201\ttotal: 228ms\tremaining: 696ms\n",
      "37:\tlearn: 27284.4044047\ttotal: 234ms\tremaining: 690ms\n",
      "38:\tlearn: 27144.8378803\ttotal: 240ms\tremaining: 684ms\n",
      "39:\tlearn: 27074.9021518\ttotal: 246ms\tremaining: 676ms\n",
      "40:\tlearn: 26983.8176598\ttotal: 252ms\tremaining: 670ms\n",
      "41:\tlearn: 26726.5868966\ttotal: 260ms\tremaining: 670ms\n",
      "42:\tlearn: 26492.4910169\ttotal: 266ms\tremaining: 662ms\n",
      "43:\tlearn: 26247.1898566\ttotal: 272ms\tremaining: 655ms\n",
      "44:\tlearn: 25988.0481831\ttotal: 279ms\tremaining: 650ms\n",
      "45:\tlearn: 25923.1844399\ttotal: 285ms\tremaining: 644ms\n",
      "46:\tlearn: 25723.1548173\ttotal: 290ms\tremaining: 636ms\n",
      "47:\tlearn: 25427.0080434\ttotal: 295ms\tremaining: 627ms\n",
      "48:\tlearn: 25229.6319393\ttotal: 301ms\tremaining: 620ms\n",
      "49:\tlearn: 25079.0599306\ttotal: 308ms\tremaining: 616ms\n",
      "50:\tlearn: 24895.2720172\ttotal: 315ms\tremaining: 611ms\n",
      "51:\tlearn: 24706.2959294\ttotal: 321ms\tremaining: 604ms\n",
      "52:\tlearn: 24483.0186568\ttotal: 326ms\tremaining: 596ms\n",
      "53:\tlearn: 24300.2377898\ttotal: 332ms\tremaining: 590ms\n",
      "54:\tlearn: 24163.3228245\ttotal: 337ms\tremaining: 583ms\n",
      "55:\tlearn: 24034.4777100\ttotal: 342ms\tremaining: 574ms\n",
      "56:\tlearn: 23871.5678360\ttotal: 350ms\tremaining: 571ms\n",
      "57:\tlearn: 23777.1063889\ttotal: 354ms\tremaining: 562ms\n",
      "58:\tlearn: 23608.2387025\ttotal: 360ms\tremaining: 555ms\n",
      "59:\tlearn: 23548.0529213\ttotal: 368ms\tremaining: 552ms\n",
      "60:\tlearn: 23423.6699744\ttotal: 374ms\tremaining: 545ms\n",
      "61:\tlearn: 23235.4447439\ttotal: 381ms\tremaining: 541ms\n",
      "62:\tlearn: 23152.6277886\ttotal: 388ms\tremaining: 535ms\n",
      "63:\tlearn: 23020.5762722\ttotal: 395ms\tremaining: 531ms\n",
      "64:\tlearn: 22889.9670123\ttotal: 400ms\tremaining: 524ms\n",
      "65:\tlearn: 22840.4073690\ttotal: 409ms\tremaining: 521ms\n",
      "66:\tlearn: 22728.5138086\ttotal: 415ms\tremaining: 515ms\n",
      "67:\tlearn: 22613.6914502\ttotal: 421ms\tremaining: 508ms\n",
      "68:\tlearn: 22496.6520080\ttotal: 427ms\tremaining: 501ms\n",
      "69:\tlearn: 22343.2525927\ttotal: 432ms\tremaining: 494ms\n",
      "70:\tlearn: 22259.1677672\ttotal: 439ms\tremaining: 489ms\n",
      "71:\tlearn: 22147.3350066\ttotal: 444ms\tremaining: 481ms\n",
      "72:\tlearn: 22000.7307970\ttotal: 451ms\tremaining: 475ms\n",
      "73:\tlearn: 21875.3998342\ttotal: 458ms\tremaining: 471ms\n",
      "74:\tlearn: 21777.9048619\ttotal: 464ms\tremaining: 464ms\n",
      "75:\tlearn: 21689.5857902\ttotal: 474ms\tremaining: 462ms\n",
      "76:\tlearn: 21573.8926726\ttotal: 480ms\tremaining: 455ms\n",
      "77:\tlearn: 21524.0678803\ttotal: 487ms\tremaining: 450ms\n",
      "78:\tlearn: 21485.5430774\ttotal: 494ms\tremaining: 444ms\n",
      "79:\tlearn: 21352.6609706\ttotal: 506ms\tremaining: 442ms\n",
      "80:\tlearn: 21255.4204416\ttotal: 519ms\tremaining: 442ms\n",
      "81:\tlearn: 21143.0024538\ttotal: 524ms\tremaining: 435ms\n",
      "82:\tlearn: 21043.1315940\ttotal: 531ms\tremaining: 429ms\n",
      "83:\tlearn: 20998.2431327\ttotal: 537ms\tremaining: 422ms\n",
      "84:\tlearn: 20920.7581930\ttotal: 545ms\tremaining: 417ms\n",
      "85:\tlearn: 20865.9502262\ttotal: 554ms\tremaining: 412ms\n",
      "86:\tlearn: 20834.1804850\ttotal: 562ms\tremaining: 407ms\n",
      "87:\tlearn: 20753.3688515\ttotal: 568ms\tremaining: 400ms\n",
      "88:\tlearn: 20668.8374890\ttotal: 575ms\tremaining: 394ms\n",
      "89:\tlearn: 20553.6194404\ttotal: 581ms\tremaining: 387ms\n",
      "90:\tlearn: 20481.5681986\ttotal: 587ms\tremaining: 380ms\n",
      "91:\tlearn: 20358.2642893\ttotal: 596ms\tremaining: 376ms\n",
      "92:\tlearn: 20325.9745335\ttotal: 603ms\tremaining: 370ms\n",
      "93:\tlearn: 20223.6547955\ttotal: 614ms\tremaining: 366ms\n",
      "94:\tlearn: 20165.5288495\ttotal: 626ms\tremaining: 362ms\n",
      "95:\tlearn: 20099.9229778\ttotal: 636ms\tremaining: 357ms\n",
      "96:\tlearn: 20049.4780406\ttotal: 646ms\tremaining: 353ms\n",
      "97:\tlearn: 19968.5632133\ttotal: 657ms\tremaining: 348ms\n",
      "98:\tlearn: 19872.7414396\ttotal: 665ms\tremaining: 343ms\n",
      "99:\tlearn: 19831.4350506\ttotal: 675ms\tremaining: 337ms\n",
      "100:\tlearn: 19784.8034837\ttotal: 683ms\tremaining: 331ms\n",
      "101:\tlearn: 19743.7972765\ttotal: 691ms\tremaining: 325ms\n",
      "102:\tlearn: 19729.5426083\ttotal: 699ms\tremaining: 319ms\n",
      "103:\tlearn: 19715.8555324\ttotal: 707ms\tremaining: 313ms\n",
      "104:\tlearn: 19702.7106767\ttotal: 714ms\tremaining: 306ms\n",
      "105:\tlearn: 19690.0841284\ttotal: 723ms\tremaining: 300ms\n",
      "106:\tlearn: 19674.6013646\ttotal: 730ms\tremaining: 294ms\n",
      "107:\tlearn: 19662.9808691\ttotal: 737ms\tremaining: 287ms\n",
      "108:\tlearn: 19584.5653565\ttotal: 749ms\tremaining: 282ms\n",
      "109:\tlearn: 19538.6925016\ttotal: 757ms\tremaining: 275ms\n",
      "110:\tlearn: 19448.5974855\ttotal: 768ms\tremaining: 270ms\n",
      "111:\tlearn: 19372.2994326\ttotal: 780ms\tremaining: 265ms\n",
      "112:\tlearn: 19300.3826823\ttotal: 788ms\tremaining: 258ms\n",
      "113:\tlearn: 19227.0259741\ttotal: 800ms\tremaining: 253ms\n",
      "114:\tlearn: 19150.8131667\ttotal: 809ms\tremaining: 246ms\n",
      "115:\tlearn: 19090.0746252\ttotal: 816ms\tremaining: 239ms\n",
      "116:\tlearn: 19032.4883193\ttotal: 825ms\tremaining: 233ms\n",
      "117:\tlearn: 19019.2251900\ttotal: 832ms\tremaining: 226ms\n",
      "118:\tlearn: 18993.3559798\ttotal: 841ms\tremaining: 219ms\n",
      "119:\tlearn: 18920.0319171\ttotal: 850ms\tremaining: 213ms\n",
      "120:\tlearn: 18842.6680400\ttotal: 860ms\tremaining: 206ms\n",
      "121:\tlearn: 18819.5354097\ttotal: 866ms\tremaining: 199ms\n",
      "122:\tlearn: 18744.9816890\ttotal: 874ms\tremaining: 192ms\n",
      "123:\tlearn: 18672.7011912\ttotal: 882ms\tremaining: 185ms\n",
      "124:\tlearn: 18626.8984343\ttotal: 891ms\tremaining: 178ms\n",
      "125:\tlearn: 18563.1847475\ttotal: 900ms\tremaining: 171ms\n",
      "126:\tlearn: 18499.2481139\ttotal: 910ms\tremaining: 165ms\n",
      "127:\tlearn: 18465.9725315\ttotal: 922ms\tremaining: 158ms\n",
      "128:\tlearn: 18417.8512152\ttotal: 931ms\tremaining: 151ms\n",
      "129:\tlearn: 18373.5650563\ttotal: 936ms\tremaining: 144ms\n",
      "130:\tlearn: 18304.3712927\ttotal: 943ms\tremaining: 137ms\n",
      "131:\tlearn: 18287.6113549\ttotal: 953ms\tremaining: 130ms\n",
      "132:\tlearn: 18241.2593588\ttotal: 959ms\tremaining: 123ms\n",
      "133:\tlearn: 18190.0805186\ttotal: 967ms\tremaining: 115ms\n",
      "134:\tlearn: 18161.7111642\ttotal: 972ms\tremaining: 108ms\n",
      "135:\tlearn: 18093.0510351\ttotal: 979ms\tremaining: 101ms\n",
      "136:\tlearn: 18066.1506514\ttotal: 985ms\tremaining: 93.5ms\n",
      "137:\tlearn: 18013.7560481\ttotal: 991ms\tremaining: 86.2ms\n",
      "138:\tlearn: 17969.9583198\ttotal: 1000ms\tremaining: 79.1ms\n",
      "139:\tlearn: 17936.3176911\ttotal: 1s\tremaining: 71.8ms\n",
      "140:\tlearn: 17926.3481069\ttotal: 1.01s\tremaining: 64.6ms\n",
      "141:\tlearn: 17874.3401314\ttotal: 1.02s\tremaining: 57.4ms\n",
      "142:\tlearn: 17839.8284857\ttotal: 1.03s\tremaining: 50.4ms\n",
      "143:\tlearn: 17796.4533685\ttotal: 1.03s\tremaining: 43.1ms\n",
      "144:\tlearn: 17759.2819649\ttotal: 1.04s\tremaining: 36ms\n",
      "145:\tlearn: 17749.8341041\ttotal: 1.05s\tremaining: 28.8ms\n",
      "146:\tlearn: 17716.7095485\ttotal: 1.06s\tremaining: 21.7ms\n",
      "147:\tlearn: 17669.4741149\ttotal: 1.07s\tremaining: 14.4ms\n",
      "148:\tlearn: 17616.3409037\ttotal: 1.08s\tremaining: 7.23ms\n",
      "149:\tlearn: 17606.7791241\ttotal: 1.08s\tremaining: 0us\n"
     ]
    },
    {
     "output_type": "execute_result",
     "data": {
      "text/plain": [
       "GridSearchCV(cv=3,\n",
       "             estimator=<catboost.core.CatBoostRegressor object at 0x7fb9d23a5340>,\n",
       "             n_jobs=-1,\n",
       "             param_grid={'depth': [4, 8, 10], 'iterations': [80, 100, 150],\n",
       "                         'l2_leaf_reg': [5, 7], 'learning_rate': [0.05, 0.1],\n",
       "                         'random_strength': [1, 2]},\n",
       "             verbose=1)"
      ]
     },
     "metadata": {},
     "execution_count": 98
    }
   ],
   "source": [
    "param_grid = {\n",
    "    'learning_rate': [0.05, 0.1],\n",
    "    'iterations': [80, 100, 150,], \n",
    "    'depth': [4,8,10],\n",
    "    'l2_leaf_reg': [5, 7,],\n",
    "    'random_strength': [1,2]\n",
    "}\n",
    "\n",
    "grid_search = GridSearchCV(estimator = cbr, param_grid = param_grid, \n",
    "                          cv = 3, n_jobs = -1, verbose = 1)\n",
    "grid_search.fit(X_train, y_train)"
   ]
  },
  {
   "cell_type": "code",
   "execution_count": 99,
   "metadata": {},
   "outputs": [
    {
     "output_type": "stream",
     "name": "stdout",
     "text": [
      "{'depth': 4, 'iterations': 150, 'l2_leaf_reg': 5, 'learning_rate': 0.1, 'random_strength': 1}\n0.8819582287128055\n"
     ]
    }
   ],
   "source": [
    "print(grid_search.best_params_)\n",
    "print(grid_search.best_score_)"
   ]
  },
  {
   "source": [
    "## Random Forest\n",
    "\n",
    "First use random search again"
   ],
   "cell_type": "markdown",
   "metadata": {}
  },
  {
   "cell_type": "code",
   "execution_count": 120,
   "metadata": {},
   "outputs": [],
   "source": [
    "# Number of trees in random forest\n",
    "n_estimators = [int(x) for x in np.linspace(start = 200, stop = 2000, num = 10)]\n",
    "# Number of features to consider at every split\n",
    "max_features = ['auto', 'sqrt']\n",
    "# Maximum number of levels in tree\n",
    "max_depth = [int(x) for x in np.linspace(10, 110, num = 11)]\n",
    "max_depth.append(None)\n",
    "# Minimum number of samples required to split a node\n",
    "min_samples_split = [2, 5, 10, 40]\n",
    "# Minimum number of samples required at each leaf node\n",
    "min_samples_leaf = [1, 2, 4, 5, 10, 50]\n",
    "# Method of selecting samples for training each tree\n",
    "bootstrap = [True, False]\n",
    "# Create the random grid\n",
    "random_grid = {\n",
    "    'n_estimators': n_estimators,\n",
    "    'max_features': max_features,\n",
    "    'max_depth': max_depth,\n",
    "    'min_samples_split': min_samples_split,\n",
    "    'min_samples_leaf': min_samples_leaf,\n",
    "    'bootstrap': bootstrap\n",
    "}"
   ]
  },
  {
   "cell_type": "code",
   "execution_count": 121,
   "metadata": {},
   "outputs": [
    {
     "output_type": "stream",
     "name": "stdout",
     "text": [
      "Fitting 5 folds for each of 100 candidates, totalling 500 fits\n"
     ]
    },
    {
     "output_type": "execute_result",
     "data": {
      "text/plain": [
       "RandomizedSearchCV(cv=5, estimator=RandomForestRegressor(), n_iter=100,\n",
       "                   n_jobs=-1,\n",
       "                   param_distributions={'bootstrap': [True, False],\n",
       "                                        'max_depth': [10, 20, 30, 40, 50, 60,\n",
       "                                                      70, 80, 90, 100, 110,\n",
       "                                                      None],\n",
       "                                        'max_features': ['auto', 'sqrt'],\n",
       "                                        'min_samples_leaf': [1, 2, 4, 5, 10,\n",
       "                                                             50],\n",
       "                                        'min_samples_split': [2, 5, 10, 40],\n",
       "                                        'n_estimators': [200, 400, 600, 800,\n",
       "                                                         1000, 1200, 1400, 1600,\n",
       "                                                         1800, 2000]},\n",
       "                   random_state=42, verbose=2)"
      ]
     },
     "metadata": {},
     "execution_count": 121
    }
   ],
   "source": [
    "rf = RandomForestRegressor()\n",
    "rf_random = RandomizedSearchCV(estimator = rf, param_distributions = random_grid, n_iter = 100, cv = 5, verbose=2, random_state=42, n_jobs = -1)\n",
    "# Fit the random search model\n",
    "rf_random.fit(X_train, y_train)"
   ]
  },
  {
   "cell_type": "code",
   "execution_count": 123,
   "metadata": {},
   "outputs": [
    {
     "output_type": "display_data",
     "data": {
      "text/plain": "{'n_estimators': 1200,\n 'min_samples_split': 2,\n 'min_samples_leaf': 1,\n 'max_features': 'sqrt',\n 'max_depth': 110,\n 'bootstrap': False}"
     },
     "metadata": {}
    },
    {
     "output_type": "display_data",
     "data": {
      "text/plain": "0.8644008815472926"
     },
     "metadata": {}
    }
   ],
   "source": [
    "display(rf_random.best_params_)\n",
    "display(rf_random.best_score_)"
   ]
  },
  {
   "source": [
    "Use these parameters to create full grid search"
   ],
   "cell_type": "markdown",
   "metadata": {}
  },
  {
   "cell_type": "code",
   "execution_count": 125,
   "metadata": {},
   "outputs": [
    {
     "output_type": "stream",
     "name": "stdout",
     "text": [
      "Fitting 5 folds for each of 108 candidates, totalling 540 fits\n"
     ]
    },
    {
     "output_type": "execute_result",
     "data": {
      "text/plain": [
       "GridSearchCV(cv=5, estimator=RandomForestRegressor(), n_jobs=-1,\n",
       "             param_grid={'bootstrap': [False], 'max_depth': [100, 110, 120],\n",
       "                         'max_features': ['sqrt'],\n",
       "                         'min_samples_leaf': [1, 10, 50],\n",
       "                         'min_samples_split': [2, 6, 12, 18],\n",
       "                         'n_estimators': [1000, 1200, 1400]},\n",
       "             verbose=2)"
      ]
     },
     "metadata": {},
     "execution_count": 125
    }
   ],
   "source": [
    "rf_param_grid = {\n",
    "    'bootstrap': [False],\n",
    "    'max_depth': [ 100, 110, 120],\n",
    "    'max_features': ['sqrt'],\n",
    "    'min_samples_leaf': [ 1, 10, 50],\n",
    "    'min_samples_split': [ 2, 6, 12, 18],\n",
    "    'n_estimators': [ 1000, 1200, 1400]\n",
    "}\n",
    "\n",
    "rf_grid_search = GridSearchCV(estimator = rf, param_grid = rf_param_grid, \n",
    "                          cv = 5, n_jobs = -1, verbose = 2)\n",
    "rf_grid_search.fit(X_train, y_train)"
   ]
  },
  {
   "cell_type": "code",
   "execution_count": 126,
   "metadata": {},
   "outputs": [
    {
     "output_type": "display_data",
     "data": {
      "text/plain": "{'bootstrap': False,\n 'max_depth': 110,\n 'max_features': 'sqrt',\n 'min_samples_leaf': 1,\n 'min_samples_split': 2,\n 'n_estimators': 1200}"
     },
     "metadata": {}
    },
    {
     "output_type": "display_data",
     "data": {
      "text/plain": "0.8654819443903559"
     },
     "metadata": {}
    }
   ],
   "source": [
    "display(rf_grid_search.best_params_)\n",
    "display(rf_grid_search.best_score_)"
   ]
  },
  {
   "source": [
    "## Elastic Search\n",
    "Try a linear model for rounding off ensembling. Apparently this is good for many features not enough obs"
   ],
   "cell_type": "markdown",
   "metadata": {}
  },
  {
   "cell_type": "code",
   "execution_count": 129,
   "metadata": {},
   "outputs": [],
   "source": [
    "en_grid = {\n",
    "    'alpha': [1e-5, 1e-4, 1e-3, 1e-2, 1e-1, 0.0, 1.0, 10.0, 100.0],\n",
    "    'l1_ratio': np.arange(0, 1, 0.01)\n",
    "}\n",
    "en = ElasticNet()\n",
    "en_grid_search = GridSearchCV(estimator = en, param_grid = en_grid, \n",
    "                          cv = 10, n_jobs = -1, verbose = 2)"
   ]
  },
  {
   "cell_type": "code",
   "execution_count": 130,
   "metadata": {},
   "outputs": [
    {
     "output_type": "display_data",
     "data": {
      "text/plain": "{'bootstrap': False,\n 'max_depth': 110,\n 'max_features': 'sqrt',\n 'min_samples_leaf': 1,\n 'min_samples_split': 2,\n 'n_estimators': 1200}"
     },
     "metadata": {}
    },
    {
     "output_type": "display_data",
     "data": {
      "text/plain": "0.8654819443903559"
     },
     "metadata": {}
    }
   ],
   "source": [
    "display(rf_grid_search.best_params_)\n",
    "display(rf_grid_search.best_score_)"
   ]
  },
  {
   "source": [
    "Ensemble them all together"
   ],
   "cell_type": "markdown",
   "metadata": {}
  },
  {
   "cell_type": "code",
   "execution_count": 139,
   "metadata": {},
   "outputs": [
    {
     "output_type": "error",
     "ename": "TypeError",
     "evalue": "__init__() got an unexpected keyword argument 'voting'",
     "traceback": [
      "\u001b[0;31m---------------------------------------------------------------------------\u001b[0m",
      "\u001b[0;31mTypeError\u001b[0m                                 Traceback (most recent call last)",
      "\u001b[0;32m<ipython-input-139-15bc845a1986>\u001b[0m in \u001b[0;36m<module>\u001b[0;34m\u001b[0m\n\u001b[1;32m      1\u001b[0m \u001b[0mcv\u001b[0m \u001b[0;34m=\u001b[0m \u001b[0mKFold\u001b[0m\u001b[0;34m(\u001b[0m\u001b[0mn_splits\u001b[0m\u001b[0;34m=\u001b[0m\u001b[0;36m5\u001b[0m\u001b[0;34m,\u001b[0m \u001b[0mrandom_state\u001b[0m\u001b[0;34m=\u001b[0m\u001b[0;36m1\u001b[0m\u001b[0;34m,\u001b[0m \u001b[0mshuffle\u001b[0m\u001b[0;34m=\u001b[0m\u001b[0;32mTrue\u001b[0m\u001b[0;34m)\u001b[0m\u001b[0;34m\u001b[0m\u001b[0;34m\u001b[0m\u001b[0m\n\u001b[1;32m      2\u001b[0m \u001b[0;34m\u001b[0m\u001b[0m\n\u001b[0;32m----> 3\u001b[0;31m ensemble = VotingRegressor(\n\u001b[0m\u001b[1;32m      4\u001b[0m     estimators=[\n\u001b[1;32m      5\u001b[0m         \u001b[0;34m(\u001b[0m\u001b[0;34m'ElasticNet'\u001b[0m\u001b[0;34m,\u001b[0m \u001b[0men_grid_search\u001b[0m\u001b[0;34m)\u001b[0m\u001b[0;34m,\u001b[0m\u001b[0;34m\u001b[0m\u001b[0;34m\u001b[0m\u001b[0m\n",
      "\u001b[0;32m~/anaconda3/envs/titanic/lib/python3.8/site-packages/sklearn/utils/validation.py\u001b[0m in \u001b[0;36minner_f\u001b[0;34m(*args, **kwargs)\u001b[0m\n\u001b[1;32m     61\u001b[0m             \u001b[0mextra_args\u001b[0m \u001b[0;34m=\u001b[0m \u001b[0mlen\u001b[0m\u001b[0;34m(\u001b[0m\u001b[0margs\u001b[0m\u001b[0;34m)\u001b[0m \u001b[0;34m-\u001b[0m \u001b[0mlen\u001b[0m\u001b[0;34m(\u001b[0m\u001b[0mall_args\u001b[0m\u001b[0;34m)\u001b[0m\u001b[0;34m\u001b[0m\u001b[0;34m\u001b[0m\u001b[0m\n\u001b[1;32m     62\u001b[0m             \u001b[0;32mif\u001b[0m \u001b[0mextra_args\u001b[0m \u001b[0;34m<=\u001b[0m \u001b[0;36m0\u001b[0m\u001b[0;34m:\u001b[0m\u001b[0;34m\u001b[0m\u001b[0;34m\u001b[0m\u001b[0m\n\u001b[0;32m---> 63\u001b[0;31m                 \u001b[0;32mreturn\u001b[0m \u001b[0mf\u001b[0m\u001b[0;34m(\u001b[0m\u001b[0;34m*\u001b[0m\u001b[0margs\u001b[0m\u001b[0;34m,\u001b[0m \u001b[0;34m**\u001b[0m\u001b[0mkwargs\u001b[0m\u001b[0;34m)\u001b[0m\u001b[0;34m\u001b[0m\u001b[0;34m\u001b[0m\u001b[0m\n\u001b[0m\u001b[1;32m     64\u001b[0m \u001b[0;34m\u001b[0m\u001b[0m\n\u001b[1;32m     65\u001b[0m             \u001b[0;31m# extra_args > 0\u001b[0m\u001b[0;34m\u001b[0m\u001b[0;34m\u001b[0m\u001b[0;34m\u001b[0m\u001b[0m\n",
      "\u001b[0;31mTypeError\u001b[0m: __init__() got an unexpected keyword argument 'voting'"
     ]
    }
   ],
   "source": [
    "cv = KFold(n_splits=5, random_state=1, shuffle=True)\n",
    "\n",
    "ensemble = VotingRegressor(\n",
    "    estimators=[\n",
    "        ('ElasticNet', en_grid_search),\n",
    "        ('RF Grid', rf_grid_search),\n",
    "        ('RF Random', rf_random),\n",
    "        ('Grad Boost', grid_search)\n",
    "    ])\n",
    "scores_best_ens = cross_val_score(ensemble, X_train, y_train, cv=cv, n_jobs=-1)\n",
    "scores_best_ens"
   ]
  },
  {
   "source": [
    "# make preds and submit"
   ],
   "cell_type": "markdown",
   "metadata": {}
  },
  {
   "cell_type": "code",
   "execution_count": 100,
   "metadata": {},
   "outputs": [],
   "source": [
    "y_pred = grid_search.predict(X_test)\n",
    "\n",
    "submission_df = pd.DataFrame()\n",
    "submission_df[id_row] = y_test_labels\n",
    "submission_df[target] = y_pred"
   ]
  },
  {
   "cell_type": "code",
   "execution_count": 101,
   "metadata": {},
   "outputs": [
    {
     "output_type": "execute_result",
     "data": {
      "text/plain": [
       "     Id      SalePrice\n",
       "0  1461  128494.894968\n",
       "1  1462  163919.356654\n",
       "2  1463  175741.863058\n",
       "3  1464  185275.158473\n",
       "4  1465  190155.918799"
      ],
      "text/html": "<div>\n<style scoped>\n    .dataframe tbody tr th:only-of-type {\n        vertical-align: middle;\n    }\n\n    .dataframe tbody tr th {\n        vertical-align: top;\n    }\n\n    .dataframe thead th {\n        text-align: right;\n    }\n</style>\n<table border=\"1\" class=\"dataframe\">\n  <thead>\n    <tr style=\"text-align: right;\">\n      <th></th>\n      <th>Id</th>\n      <th>SalePrice</th>\n    </tr>\n  </thead>\n  <tbody>\n    <tr>\n      <th>0</th>\n      <td>1461</td>\n      <td>128494.894968</td>\n    </tr>\n    <tr>\n      <th>1</th>\n      <td>1462</td>\n      <td>163919.356654</td>\n    </tr>\n    <tr>\n      <th>2</th>\n      <td>1463</td>\n      <td>175741.863058</td>\n    </tr>\n    <tr>\n      <th>3</th>\n      <td>1464</td>\n      <td>185275.158473</td>\n    </tr>\n    <tr>\n      <th>4</th>\n      <td>1465</td>\n      <td>190155.918799</td>\n    </tr>\n  </tbody>\n</table>\n</div>"
     },
     "metadata": {},
     "execution_count": 101
    }
   ],
   "source": [
    "submission_df.head()"
   ]
  },
  {
   "cell_type": "code",
   "execution_count": 102,
   "metadata": {},
   "outputs": [
    {
     "output_type": "execute_result",
     "data": {
      "text/plain": [
       "     Id      SalePrice\n",
       "0  1461  169277.052498\n",
       "1  1462  187758.393989\n",
       "2  1463  183583.683570\n",
       "3  1464  179317.477511\n",
       "4  1465  150730.079977"
      ],
      "text/html": "<div>\n<style scoped>\n    .dataframe tbody tr th:only-of-type {\n        vertical-align: middle;\n    }\n\n    .dataframe tbody tr th {\n        vertical-align: top;\n    }\n\n    .dataframe thead th {\n        text-align: right;\n    }\n</style>\n<table border=\"1\" class=\"dataframe\">\n  <thead>\n    <tr style=\"text-align: right;\">\n      <th></th>\n      <th>Id</th>\n      <th>SalePrice</th>\n    </tr>\n  </thead>\n  <tbody>\n    <tr>\n      <th>0</th>\n      <td>1461</td>\n      <td>169277.052498</td>\n    </tr>\n    <tr>\n      <th>1</th>\n      <td>1462</td>\n      <td>187758.393989</td>\n    </tr>\n    <tr>\n      <th>2</th>\n      <td>1463</td>\n      <td>183583.683570</td>\n    </tr>\n    <tr>\n      <th>3</th>\n      <td>1464</td>\n      <td>179317.477511</td>\n    </tr>\n    <tr>\n      <th>4</th>\n      <td>1465</td>\n      <td>150730.079977</td>\n    </tr>\n  </tbody>\n</table>\n</div>"
     },
     "metadata": {},
     "execution_count": 102
    }
   ],
   "source": [
    "input_data['sample_submission'].head()"
   ]
  },
  {
   "cell_type": "code",
   "execution_count": 104,
   "metadata": {},
   "outputs": [],
   "source": [
    "submission_df.to_csv('submission2.csv', index=False)"
   ]
  },
  {
   "cell_type": "code",
   "execution_count": 105,
   "metadata": {},
   "outputs": [
    {
     "output_type": "stream",
     "name": "stdout",
     "text": [
      "100%|██████████████████████████████████████| 33.6k/33.6k [00:02<00:00, 12.2kB/s]\n",
      "Successfully submitted to House Prices - Advanced Regression Techniques"
     ]
    }
   ],
   "source": [
    "!kaggle competitions submit -f 'submission2.csv' -m 'grid search catboost' house-prices-advanced-regression-techniques"
   ]
  },
  {
   "cell_type": "code",
   "execution_count": 108,
   "metadata": {},
   "outputs": [
    {
     "output_type": "stream",
     "name": "stdout",
     "text": [
      "fileName         date                 description                           status    publicScore  privateScore  \n---------------  -------------------  ------------------------------------  --------  -----------  ------------  \nsubmission2.csv  2021-05-04 07:17:54  grid search catboost                  complete  0.13561      None          \nsubmission1.csv  2021-05-03 11:30:27  first attempt random hypers catboost  complete  0.15473      None          \n"
     ]
    }
   ],
   "source": [
    "!kaggle competitions submissions -c house-prices-advanced-regression-techniques"
   ]
  },
  {
   "cell_type": "code",
   "execution_count": null,
   "metadata": {},
   "outputs": [],
   "source": []
  }
 ]
}