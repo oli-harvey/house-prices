{
 "metadata": {
  "language_info": {
   "codemirror_mode": {
    "name": "ipython",
    "version": 3
   },
   "file_extension": ".py",
   "mimetype": "text/x-python",
   "name": "python",
   "nbconvert_exporter": "python",
   "pygments_lexer": "ipython3",
   "version": "3.8.8"
  },
  "orig_nbformat": 2,
  "kernelspec": {
   "name": "python388jvsc74a57bd02cafb3199729848de48071f5cfc9db2ba6e5f31612348b291f81e9e98cb6629b",
   "display_name": "Python 3.8.8 64-bit ('titanic': conda)"
  }
 },
 "nbformat": 4,
 "nbformat_minor": 2,
 "cells": [
  {
   "cell_type": "code",
   "execution_count": 35,
   "metadata": {},
   "outputs": [],
   "source": [
    "%load_ext autoreload\n",
    "%autoreload 2"
   ]
  },
  {
   "cell_type": "code",
   "execution_count": 36,
   "metadata": {},
   "outputs": [
    {
     "output_type": "stream",
     "name": "stdout",
     "text": [
      "import_to_df imported\nadd_had_remod_flag imported\nget_kaggle_data imported\nadd_years_since imported\nadd_year_remod_pre1950_flag imported\nquality_to_number imported\nadd_dummies_multiple_columns imported\nadd_value_dummies_multiple_columns imported\nprocess_data imported\nsum_onehots imported\nadd_zero_flag imported\n"
     ]
    }
   ],
   "source": [
    "import os \n",
    "funcs = os.listdir('functions')\n",
    "\n",
    "for func in funcs:\n",
    "    if func.startswith('__') or func == 'import_all_functions.py':\n",
    "        continue\n",
    "    func = func.replace('.py','')\n",
    "    print(f'{func} imported')\n",
    "    exec(f'from functions.{func} import *')"
   ]
  },
  {
   "cell_type": "code",
   "execution_count": 60,
   "metadata": {},
   "outputs": [],
   "source": [
    "import pandas as pd \n",
    "import pandas_profiling as pdp\n",
    "import numpy as np\n",
    "import pprint as pp\n",
    "import seaborn as sns\n",
    "from matplotlib import pyplot as plt\n",
    "from catboost import Pool, CatBoostRegressor\n",
    "\n",
    "from sklearn.model_selection import RandomizedSearchCV\n",
    "from sklearn.model_selection import GridSearchCV\n",
    "\n",
    "pd.set_option('display.max_columns', None)\n",
    "pd.set_option('display.max_rows', None)"
   ]
  },
  {
   "cell_type": "code",
   "execution_count": 39,
   "metadata": {},
   "outputs": [
    {
     "output_type": "stream",
     "name": "stdout",
     "text": [
      "files downloaded for house-prices-advanced-regression-techniques competition\n   test.csv\n   data_description.txt\n   train.csv\n   sample_submission.csv\nlocated in /competition_data/\n"
     ]
    }
   ],
   "source": [
    "files = get_kaggle_data(\n",
    "    competition=\"house-prices-advanced-regression-techniques\"\n",
    "    )"
   ]
  },
  {
   "cell_type": "code",
   "execution_count": 40,
   "metadata": {},
   "outputs": [],
   "source": [
    "input_data = import_to_df(files)"
   ]
  },
  {
   "source": [
    "What files did we get?"
   ],
   "cell_type": "markdown",
   "metadata": {}
  },
  {
   "cell_type": "code",
   "execution_count": 41,
   "metadata": {},
   "outputs": [
    {
     "output_type": "execute_result",
     "data": {
      "text/plain": [
       "dict_keys(['test', 'train', 'sample_submission'])"
      ]
     },
     "metadata": {},
     "execution_count": 41
    }
   ],
   "source": [
    "input_data.keys()"
   ]
  },
  {
   "cell_type": "code",
   "execution_count": 42,
   "metadata": {},
   "outputs": [],
   "source": [
    "input_train_df = input_data['train']\n",
    "input_test_df = input_data['test']"
   ]
  },
  {
   "cell_type": "code",
   "execution_count": 51,
   "metadata": {},
   "outputs": [],
   "source": [
    "train_df = process_data(input_train_df)\n",
    "target = 'SalePrice'\n",
    "id_row = 'Id'\n",
    "train_predictors = [\n",
    "    c for c in train_df.columns \n",
    "    if target not in c\n",
    "    if id_row not in c\n",
    "]"
   ]
  },
  {
   "cell_type": "code",
   "execution_count": 52,
   "metadata": {},
   "outputs": [],
   "source": [
    "test_df = process_data(input_test_df)\n",
    "test_predictors = [\n",
    "    c for c in test_df.columns \n",
    "    if target not in c\n",
    "    if id_row not in c\n",
    "]"
   ]
  },
  {
   "source": [
    "Only keep columns in both dfs. Needed in case one hots generate unique columns"
   ],
   "cell_type": "markdown",
   "metadata": {}
  },
  {
   "cell_type": "code",
   "execution_count": 53,
   "metadata": {},
   "outputs": [],
   "source": [
    "cols_to_use = list(set(train_predictors).intersection(test_predictors))"
   ]
  },
  {
   "cell_type": "code",
   "execution_count": 54,
   "metadata": {},
   "outputs": [
    {
     "output_type": "execute_result",
     "data": {
      "text/plain": [
       "(299, 311)"
      ]
     },
     "metadata": {},
     "execution_count": 54
    }
   ],
   "source": [
    "len(cols_to_use), len(train_predictors)"
   ]
  },
  {
   "source": [
    "Removed 1 column"
   ],
   "cell_type": "markdown",
   "metadata": {}
  },
  {
   "cell_type": "code",
   "execution_count": 72,
   "metadata": {},
   "outputs": [],
   "source": [
    "X_train = train_df[cols_to_use]\n",
    "y_train = train_df[target]\n",
    "\n",
    "X_test = test_df[cols_to_use]\n",
    "y_test_labels = test_df[id_row]"
   ]
  },
  {
   "cell_type": "code",
   "execution_count": 85,
   "metadata": {
    "tags": [
     "outputPrepend"
    ]
   },
   "outputs": [
    {
     "output_type": "stream",
     "name": "stdout",
     "text": [
      "6:\tlearn: 63331.1111201\ttotal: 725ms\tremaining: 255ms\n",
      "37:\tlearn: 62968.8217085\ttotal: 743ms\tremaining: 234ms\n",
      "38:\tlearn: 62642.4241541\ttotal: 760ms\tremaining: 214ms\n",
      "39:\tlearn: 62319.6938427\ttotal: 776ms\tremaining: 194ms\n",
      "40:\tlearn: 62033.5395782\ttotal: 792ms\tremaining: 174ms\n",
      "41:\tlearn: 61723.6266532\ttotal: 809ms\tremaining: 154ms\n",
      "42:\tlearn: 61401.9725999\ttotal: 825ms\tremaining: 134ms\n",
      "43:\tlearn: 61118.0338932\ttotal: 841ms\tremaining: 115ms\n",
      "44:\tlearn: 60820.3036122\ttotal: 857ms\tremaining: 95.3ms\n",
      "45:\tlearn: 60507.3271044\ttotal: 876ms\tremaining: 76.2ms\n",
      "46:\tlearn: 60222.8285269\ttotal: 896ms\tremaining: 57.2ms\n",
      "47:\tlearn: 59876.3071992\ttotal: 916ms\tremaining: 38.2ms\n",
      "48:\tlearn: 59581.3068975\ttotal: 933ms\tremaining: 19ms\n",
      "49:\tlearn: 59333.3774788\ttotal: 951ms\tremaining: 0us\n",
      "0:\tlearn: 80780.0355211\ttotal: 14.8ms\tremaining: 725ms\n",
      "1:\tlearn: 80272.6468614\ttotal: 28.1ms\tremaining: 675ms\n",
      "2:\tlearn: 79845.3640258\ttotal: 42.4ms\tremaining: 664ms\n",
      "3:\tlearn: 79400.8024405\ttotal: 60.7ms\tremaining: 698ms\n",
      "4:\tlearn: 78932.3117738\ttotal: 81ms\tremaining: 729ms\n",
      "5:\tlearn: 78452.2339436\ttotal: 107ms\tremaining: 787ms\n",
      "6:\tlearn: 78028.0000470\ttotal: 127ms\tremaining: 778ms\n",
      "7:\tlearn: 77611.0712239\ttotal: 132ms\tremaining: 693ms\n",
      "8:\tlearn: 77215.0237034\ttotal: 148ms\tremaining: 676ms\n",
      "9:\tlearn: 76775.1874373\ttotal: 166ms\tremaining: 664ms\n",
      "10:\tlearn: 76348.2543543\ttotal: 182ms\tremaining: 645ms\n",
      "11:\tlearn: 75979.2579564\ttotal: 196ms\tremaining: 622ms\n",
      "12:\tlearn: 75550.0566013\ttotal: 212ms\tremaining: 603ms\n",
      "13:\tlearn: 75106.8903923\ttotal: 226ms\tremaining: 581ms\n",
      "14:\tlearn: 74709.4889969\ttotal: 241ms\tremaining: 563ms\n",
      "15:\tlearn: 74302.4307177\ttotal: 258ms\tremaining: 548ms\n",
      "16:\tlearn: 73898.3448081\ttotal: 277ms\tremaining: 538ms\n",
      "17:\tlearn: 73489.3082260\ttotal: 294ms\tremaining: 523ms\n",
      "18:\tlearn: 73115.2363907\ttotal: 312ms\tremaining: 509ms\n",
      "19:\tlearn: 72666.3968952\ttotal: 318ms\tremaining: 477ms\n",
      "20:\tlearn: 72252.3100161\ttotal: 335ms\tremaining: 463ms\n",
      "21:\tlearn: 71826.8412070\ttotal: 353ms\tremaining: 449ms\n",
      "22:\tlearn: 71502.0036487\ttotal: 368ms\tremaining: 432ms\n",
      "23:\tlearn: 71122.2415535\ttotal: 384ms\tremaining: 416ms\n",
      "24:\tlearn: 70759.8801077\ttotal: 400ms\tremaining: 400ms\n",
      "25:\tlearn: 70371.1539178\ttotal: 415ms\tremaining: 383ms\n",
      "26:\tlearn: 70014.9646106\ttotal: 429ms\tremaining: 366ms\n",
      "27:\tlearn: 69665.4105279\ttotal: 445ms\tremaining: 349ms\n",
      "28:\tlearn: 69302.1252391\ttotal: 461ms\tremaining: 334ms\n",
      "29:\tlearn: 68949.5292000\ttotal: 477ms\tremaining: 318ms\n",
      "30:\tlearn: 68595.0953161\ttotal: 494ms\tremaining: 303ms\n",
      "31:\tlearn: 68278.6804982\ttotal: 510ms\tremaining: 287ms\n",
      "32:\tlearn: 67918.5462672\ttotal: 528ms\tremaining: 272ms\n",
      "33:\tlearn: 67561.2786178\ttotal: 543ms\tremaining: 256ms\n",
      "34:\tlearn: 67230.1801011\ttotal: 559ms\tremaining: 240ms\n",
      "35:\tlearn: 66881.9463252\ttotal: 575ms\tremaining: 223ms\n",
      "36:\tlearn: 66553.4753007\ttotal: 590ms\tremaining: 207ms\n",
      "37:\tlearn: 66212.1778722\ttotal: 606ms\tremaining: 191ms\n",
      "38:\tlearn: 65874.0475896\ttotal: 621ms\tremaining: 175ms\n",
      "39:\tlearn: 65563.6580379\ttotal: 636ms\tremaining: 159ms\n",
      "40:\tlearn: 65268.8762044\ttotal: 652ms\tremaining: 143ms\n",
      "41:\tlearn: 64961.9007439\ttotal: 668ms\tremaining: 127ms\n",
      "42:\tlearn: 64639.7700820\ttotal: 684ms\tremaining: 111ms\n",
      "43:\tlearn: 64305.0441458\ttotal: 701ms\tremaining: 95.5ms\n",
      "44:\tlearn: 64029.0871230\ttotal: 718ms\tremaining: 79.7ms\n",
      "45:\tlearn: 63711.6422265\ttotal: 734ms\tremaining: 63.8ms\n",
      "46:\tlearn: 63384.2434205\ttotal: 750ms\tremaining: 47.9ms\n",
      "47:\tlearn: 63074.6541868\ttotal: 766ms\tremaining: 31.9ms\n",
      "48:\tlearn: 62771.3308614\ttotal: 781ms\tremaining: 15.9ms\n",
      "49:\tlearn: 62444.0273545\ttotal: 797ms\tremaining: 0us\n",
      "0:\tlearn: 78333.8545845\ttotal: 14.6ms\tremaining: 714ms\n",
      "1:\tlearn: 77876.7333066\ttotal: 29.2ms\tremaining: 700ms\n",
      "2:\tlearn: 77452.4315951\ttotal: 44.6ms\tremaining: 699ms\n",
      "3:\tlearn: 77010.7443664\ttotal: 62.6ms\tremaining: 720ms\n",
      "4:\tlearn: 76599.4886401\ttotal: 78.9ms\tremaining: 710ms\n",
      "5:\tlearn: 76161.2842357\ttotal: 96.7ms\tremaining: 709ms\n",
      "6:\tlearn: 75715.4231112\ttotal: 114ms\tremaining: 697ms\n",
      "7:\tlearn: 75340.0543781\ttotal: 130ms\tremaining: 681ms\n",
      "8:\tlearn: 74949.8890382\ttotal: 145ms\tremaining: 660ms\n",
      "9:\tlearn: 74535.4499377\ttotal: 160ms\tremaining: 640ms\n",
      "10:\tlearn: 74077.6409253\ttotal: 175ms\tremaining: 620ms\n",
      "11:\tlearn: 73718.6163038\ttotal: 190ms\tremaining: 602ms\n",
      "12:\tlearn: 73273.6829142\ttotal: 205ms\tremaining: 583ms\n",
      "13:\tlearn: 72843.6859599\ttotal: 221ms\tremaining: 567ms\n",
      "14:\tlearn: 72432.2332463\ttotal: 238ms\tremaining: 555ms\n",
      "15:\tlearn: 71995.1001158\ttotal: 257ms\tremaining: 547ms\n",
      "16:\tlearn: 71612.4572292\ttotal: 277ms\tremaining: 538ms\n",
      "17:\tlearn: 71227.4515519\ttotal: 297ms\tremaining: 528ms\n",
      "18:\tlearn: 70823.8998677\ttotal: 314ms\tremaining: 513ms\n",
      "19:\tlearn: 70456.3782709\ttotal: 331ms\tremaining: 496ms\n",
      "20:\tlearn: 70073.6453944\ttotal: 347ms\tremaining: 480ms\n",
      "21:\tlearn: 69681.7730884\ttotal: 363ms\tremaining: 462ms\n",
      "22:\tlearn: 69292.7725325\ttotal: 378ms\tremaining: 443ms\n",
      "23:\tlearn: 68917.8504007\ttotal: 393ms\tremaining: 425ms\n",
      "24:\tlearn: 68549.2607460\ttotal: 408ms\tremaining: 408ms\n",
      "25:\tlearn: 68207.5236637\ttotal: 425ms\tremaining: 392ms\n",
      "26:\tlearn: 67835.7458725\ttotal: 430ms\tremaining: 366ms\n",
      "27:\tlearn: 67514.8992369\ttotal: 447ms\tremaining: 351ms\n",
      "28:\tlearn: 67138.7197555\ttotal: 467ms\tremaining: 338ms\n",
      "29:\tlearn: 66793.9670049\ttotal: 491ms\tremaining: 327ms\n",
      "30:\tlearn: 66501.3108381\ttotal: 505ms\tremaining: 309ms\n",
      "31:\tlearn: 66119.1503182\ttotal: 525ms\tremaining: 295ms\n",
      "32:\tlearn: 65745.4484262\ttotal: 544ms\tremaining: 280ms\n",
      "33:\tlearn: 65380.1299218\ttotal: 552ms\tremaining: 260ms\n",
      "34:\tlearn: 65052.9252682\ttotal: 570ms\tremaining: 244ms\n",
      "35:\tlearn: 64712.1305024\ttotal: 590ms\tremaining: 229ms\n",
      "36:\tlearn: 64390.9265676\ttotal: 609ms\tremaining: 214ms\n",
      "37:\tlearn: 64095.3299483\ttotal: 633ms\tremaining: 200ms\n",
      "38:\tlearn: 63778.4257952\ttotal: 656ms\tremaining: 185ms\n",
      "39:\tlearn: 63459.0045882\ttotal: 677ms\tremaining: 169ms\n",
      "40:\tlearn: 63123.2512235\ttotal: 698ms\tremaining: 153ms\n",
      "41:\tlearn: 62775.5531097\ttotal: 720ms\tremaining: 137ms\n",
      "42:\tlearn: 62465.0575757\ttotal: 745ms\tremaining: 121ms\n",
      "43:\tlearn: 62121.1497799\ttotal: 765ms\tremaining: 104ms\n",
      "44:\tlearn: 61819.9956763\ttotal: 786ms\tremaining: 87.3ms\n",
      "45:\tlearn: 61524.0246630\ttotal: 807ms\tremaining: 70.2ms\n",
      "46:\tlearn: 61221.8490875\ttotal: 828ms\tremaining: 52.9ms\n",
      "47:\tlearn: 60912.0207157\ttotal: 850ms\tremaining: 35.4ms\n",
      "48:\tlearn: 60596.2802628\ttotal: 872ms\tremaining: 17.8ms\n",
      "49:\tlearn: 60315.2398525\ttotal: 881ms\tremaining: 0us\n",
      "0:\tlearn: 80128.6492803\ttotal: 40.5ms\tremaining: 1.18s\n",
      "1:\tlearn: 79625.7800487\ttotal: 133ms\tremaining: 1.86s\n",
      "2:\tlearn: 79123.9022176\ttotal: 235ms\tremaining: 2.11s\n",
      "3:\tlearn: 78704.6622939\ttotal: 323ms\tremaining: 2.1s\n",
      "4:\tlearn: 78233.7866368\ttotal: 412ms\tremaining: 2.06s\n",
      "5:\tlearn: 77797.7427976\ttotal: 491ms\tremaining: 1.96s\n",
      "6:\tlearn: 77321.0835554\ttotal: 574ms\tremaining: 1.89s\n",
      "7:\tlearn: 76817.4053765\ttotal: 692ms\tremaining: 1.9s\n",
      "8:\tlearn: 76344.7571349\ttotal: 806ms\tremaining: 1.88s\n",
      "9:\tlearn: 75946.0797538\ttotal: 903ms\tremaining: 1.8s\n",
      "10:\tlearn: 75518.7453384\ttotal: 1s\tremaining: 1.73s\n",
      "11:\tlearn: 75081.8212246\ttotal: 1.08s\tremaining: 1.61s\n",
      "12:\tlearn: 74633.6487056\ttotal: 1.16s\tremaining: 1.51s\n",
      "13:\tlearn: 74186.6543040\ttotal: 1.25s\tremaining: 1.43s\n",
      "14:\tlearn: 73737.8045494\ttotal: 1.32s\tremaining: 1.32s\n",
      "15:\tlearn: 73322.3135592\ttotal: 1.41s\tremaining: 1.24s\n",
      "16:\tlearn: 72891.7913815\ttotal: 1.53s\tremaining: 1.17s\n",
      "17:\tlearn: 72469.4546971\ttotal: 1.62s\tremaining: 1.08s\n",
      "18:\tlearn: 72005.6619405\ttotal: 1.71s\tremaining: 990ms\n",
      "19:\tlearn: 71555.0761561\ttotal: 1.79s\tremaining: 894ms\n",
      "20:\tlearn: 71153.6891660\ttotal: 1.87s\tremaining: 800ms\n",
      "21:\tlearn: 70802.8775645\ttotal: 1.95s\tremaining: 710ms\n",
      "22:\tlearn: 70387.9279584\ttotal: 2.04s\tremaining: 619ms\n",
      "23:\tlearn: 70022.8587827\ttotal: 2.11s\tremaining: 528ms\n",
      "24:\tlearn: 69636.8151524\ttotal: 2.2s\tremaining: 440ms\n",
      "25:\tlearn: 69225.6674687\ttotal: 2.27s\tremaining: 350ms\n",
      "26:\tlearn: 68799.6859465\ttotal: 2.36s\tremaining: 262ms\n",
      "27:\tlearn: 68389.8698462\ttotal: 2.45s\tremaining: 175ms\n",
      "28:\tlearn: 67989.4728006\ttotal: 2.53s\tremaining: 87.1ms\n",
      "29:\tlearn: 67612.4230692\ttotal: 2.6s\tremaining: 0us\n",
      "0:\tlearn: 78501.9330990\ttotal: 70.7ms\tremaining: 2.05s\n",
      "1:\tlearn: 78032.1471820\ttotal: 158ms\tremaining: 2.22s\n",
      "2:\tlearn: 77594.8372090\ttotal: 245ms\tremaining: 2.21s\n",
      "3:\tlearn: 77147.2313197\ttotal: 325ms\tremaining: 2.11s\n",
      "4:\tlearn: 76674.0717701\ttotal: 409ms\tremaining: 2.04s\n",
      "5:\tlearn: 76211.4423391\ttotal: 494ms\tremaining: 1.97s\n",
      "6:\tlearn: 75758.7882667\ttotal: 578ms\tremaining: 1.9s\n",
      "7:\tlearn: 75255.9468761\ttotal: 670ms\tremaining: 1.84s\n",
      "8:\tlearn: 74782.2740370\ttotal: 757ms\tremaining: 1.76s\n",
      "9:\tlearn: 74331.9637285\ttotal: 836ms\tremaining: 1.67s\n",
      "10:\tlearn: 73877.6566983\ttotal: 928ms\tremaining: 1.6s\n",
      "11:\tlearn: 73429.1534047\ttotal: 1.01s\tremaining: 1.52s\n",
      "12:\tlearn: 72988.3595345\ttotal: 1.09s\tremaining: 1.43s\n",
      "13:\tlearn: 72561.4372711\ttotal: 1.18s\tremaining: 1.34s\n",
      "14:\tlearn: 72093.8969447\ttotal: 1.27s\tremaining: 1.27s\n",
      "15:\tlearn: 71671.5350291\ttotal: 1.34s\tremaining: 1.17s\n",
      "16:\tlearn: 71236.0231431\ttotal: 1.43s\tremaining: 1.09s\n",
      "17:\tlearn: 70782.3048913\ttotal: 1.51s\tremaining: 1s\n",
      "18:\tlearn: 70351.8057656\ttotal: 1.59s\tremaining: 922ms\n",
      "19:\tlearn: 69950.8569454\ttotal: 1.68s\tremaining: 839ms\n",
      "20:\tlearn: 69540.9355008\ttotal: 1.76s\tremaining: 757ms\n",
      "21:\tlearn: 69186.8397608\ttotal: 1.85s\tremaining: 671ms\n",
      "22:\tlearn: 68759.4872258\ttotal: 1.93s\tremaining: 588ms\n",
      "23:\tlearn: 68387.1013516\ttotal: 2.02s\tremaining: 506ms\n",
      "24:\tlearn: 67980.4761259\ttotal: 2.1s\tremaining: 420ms\n",
      "25:\tlearn: 67586.7510934\ttotal: 2.17s\tremaining: 334ms\n",
      "26:\tlearn: 67172.3160891\ttotal: 2.26s\tremaining: 251ms\n",
      "27:\tlearn: 66779.0929904\ttotal: 2.34s\tremaining: 167ms\n",
      "28:\tlearn: 66420.0345109\ttotal: 2.44s\tremaining: 84.1ms\n",
      "29:\tlearn: 66061.6612322\ttotal: 2.52s\tremaining: 0us\n",
      "0:\tlearn: 76916.5416586\ttotal: 67.8ms\tremaining: 1.97s\n",
      "1:\tlearn: 76440.9454386\ttotal: 150ms\tremaining: 2.11s\n",
      "2:\tlearn: 75952.4986233\ttotal: 236ms\tremaining: 2.13s\n",
      "3:\tlearn: 75454.3857213\ttotal: 308ms\tremaining: 2s\n",
      "4:\tlearn: 74978.7301892\ttotal: 396ms\tremaining: 1.98s\n",
      "5:\tlearn: 74497.9039958\ttotal: 478ms\tremaining: 1.91s\n",
      "6:\tlearn: 74074.0371550\ttotal: 546ms\tremaining: 1.79s\n",
      "7:\tlearn: 73658.3480649\ttotal: 631ms\tremaining: 1.74s\n",
      "8:\tlearn: 73263.9699518\ttotal: 716ms\tremaining: 1.67s\n",
      "9:\tlearn: 72831.3160698\ttotal: 795ms\tremaining: 1.59s\n",
      "10:\tlearn: 72424.7195309\ttotal: 870ms\tremaining: 1.5s\n",
      "11:\tlearn: 71948.2827708\ttotal: 940ms\tremaining: 1.41s\n",
      "12:\tlearn: 71507.1714289\ttotal: 1.01s\tremaining: 1.32s\n",
      "13:\tlearn: 71113.9399292\ttotal: 1.09s\tremaining: 1.25s\n",
      "14:\tlearn: 70668.6963064\ttotal: 1.17s\tremaining: 1.17s\n",
      "15:\tlearn: 70239.9435675\ttotal: 1.25s\tremaining: 1.09s\n",
      "16:\tlearn: 69828.7472185\ttotal: 1.34s\tremaining: 1.03s\n",
      "17:\tlearn: 69391.9397841\ttotal: 1.42s\tremaining: 949ms\n",
      "18:\tlearn: 69000.0593185\ttotal: 1.51s\tremaining: 875ms\n",
      "19:\tlearn: 68565.3777432\ttotal: 1.59s\tremaining: 796ms\n",
      "20:\tlearn: 68184.6910931\ttotal: 1.67s\tremaining: 715ms\n",
      "21:\tlearn: 67789.6242920\ttotal: 1.75s\tremaining: 637ms\n",
      "22:\tlearn: 67383.5914839\ttotal: 1.8s\tremaining: 547ms\n",
      "23:\tlearn: 66985.0197820\ttotal: 1.87s\tremaining: 468ms\n",
      "24:\tlearn: 66590.7215827\ttotal: 1.95s\tremaining: 390ms\n",
      "25:\tlearn: 66216.4048706\ttotal: 2.03s\tremaining: 312ms\n",
      "26:\tlearn: 65874.5887469\ttotal: 2.11s\tremaining: 234ms\n",
      "27:\tlearn: 65481.4098793\ttotal: 2.19s\tremaining: 156ms\n",
      "28:\tlearn: 65125.5278821\ttotal: 2.27s\tremaining: 78.2ms\n",
      "29:\tlearn: 64751.7222153\ttotal: 2.35s\tremaining: 0us\n",
      "0:\tlearn: 80797.9381015\ttotal: 55.9ms\tremaining: 1.62s\n",
      "1:\tlearn: 80287.5854972\ttotal: 145ms\tremaining: 2.03s\n",
      "2:\tlearn: 79795.2130871\ttotal: 229ms\tremaining: 2.06s\n",
      "3:\tlearn: 79286.1973726\ttotal: 313ms\tremaining: 2.04s\n",
      "4:\tlearn: 78815.7528512\ttotal: 400ms\tremaining: 2s\n",
      "5:\tlearn: 78357.8463991\ttotal: 478ms\tremaining: 1.91s\n",
      "6:\tlearn: 77861.7445896\ttotal: 555ms\tremaining: 1.82s\n",
      "7:\tlearn: 77393.4409083\ttotal: 636ms\tremaining: 1.75s\n",
      "8:\tlearn: 76926.8227286\ttotal: 708ms\tremaining: 1.65s\n",
      "9:\tlearn: 76518.4878223\ttotal: 787ms\tremaining: 1.57s\n",
      "10:\tlearn: 76082.0090508\ttotal: 873ms\tremaining: 1.51s\n",
      "11:\tlearn: 75637.5781291\ttotal: 950ms\tremaining: 1.43s\n",
      "12:\tlearn: 75187.0978981\ttotal: 1.03s\tremaining: 1.34s\n",
      "13:\tlearn: 74751.8268436\ttotal: 1.11s\tremaining: 1.27s\n",
      "14:\tlearn: 74269.4421394\ttotal: 1.18s\tremaining: 1.18s\n",
      "15:\tlearn: 73838.1201437\ttotal: 1.25s\tremaining: 1.1s\n",
      "16:\tlearn: 73391.6795675\ttotal: 1.33s\tremaining: 1.02s\n",
      "17:\tlearn: 72969.5879893\ttotal: 1.41s\tremaining: 937ms\n",
      "18:\tlearn: 72566.5913095\ttotal: 1.48s\tremaining: 857ms\n",
      "19:\tlearn: 72120.9423424\ttotal: 1.56s\tremaining: 781ms\n",
      "20:\tlearn: 71740.6422786\ttotal: 1.64s\tremaining: 703ms\n",
      "21:\tlearn: 71319.7888020\ttotal: 1.66s\tremaining: 604ms\n",
      "22:\tlearn: 70904.6858794\ttotal: 1.74s\tremaining: 529ms\n",
      "23:\tlearn: 70473.1177120\ttotal: 1.82s\tremaining: 456ms\n",
      "24:\tlearn: 70074.0773566\ttotal: 1.9s\tremaining: 380ms\n",
      "25:\tlearn: 69698.2566301\ttotal: 1.97s\tremaining: 303ms\n",
      "26:\tlearn: 69295.7730693\ttotal: 2.05s\tremaining: 228ms\n",
      "27:\tlearn: 68970.4464920\ttotal: 2.14s\tremaining: 153ms\n",
      "28:\tlearn: 68543.6736025\ttotal: 2.23s\tremaining: 76.8ms\n",
      "29:\tlearn: 68137.7226593\ttotal: 2.33s\tremaining: 0us\n",
      "0:\tlearn: 78264.9760710\ttotal: 93.2ms\tremaining: 2.7s\n",
      "1:\tlearn: 77811.8631975\ttotal: 182ms\tremaining: 2.55s\n",
      "2:\tlearn: 77299.3146561\ttotal: 257ms\tremaining: 2.32s\n",
      "3:\tlearn: 76835.2204231\ttotal: 347ms\tremaining: 2.26s\n",
      "4:\tlearn: 76349.1949143\ttotal: 435ms\tremaining: 2.17s\n",
      "5:\tlearn: 75880.5865442\ttotal: 511ms\tremaining: 2.04s\n",
      "6:\tlearn: 75388.2613704\ttotal: 591ms\tremaining: 1.94s\n",
      "7:\tlearn: 74927.2717718\ttotal: 692ms\tremaining: 1.9s\n",
      "8:\tlearn: 74466.7591654\ttotal: 783ms\tremaining: 1.83s\n",
      "9:\tlearn: 74009.1389195\ttotal: 897ms\tremaining: 1.79s\n",
      "10:\tlearn: 73571.4799811\ttotal: 999ms\tremaining: 1.73s\n",
      "11:\tlearn: 73110.2340935\ttotal: 1.09s\tremaining: 1.64s\n",
      "12:\tlearn: 72666.0331215\ttotal: 1.18s\tremaining: 1.54s\n",
      "13:\tlearn: 72222.4233293\ttotal: 1.25s\tremaining: 1.43s\n",
      "14:\tlearn: 71812.0945657\ttotal: 1.33s\tremaining: 1.33s\n",
      "15:\tlearn: 71399.0369551\ttotal: 1.41s\tremaining: 1.24s\n",
      "16:\tlearn: 70969.1831215\ttotal: 1.5s\tremaining: 1.14s\n",
      "17:\tlearn: 70574.6610915\ttotal: 1.57s\tremaining: 1.05s\n",
      "18:\tlearn: 70169.9172896\ttotal: 1.66s\tremaining: 962ms\n",
      "19:\tlearn: 69738.3193646\ttotal: 1.76s\tremaining: 882ms\n",
      "20:\tlearn: 69334.2953616\ttotal: 1.84s\tremaining: 790ms\n",
      "21:\tlearn: 68909.4102567\ttotal: 1.93s\tremaining: 703ms\n",
      "22:\tlearn: 68542.4587860\ttotal: 2.02s\tremaining: 614ms\n",
      "23:\tlearn: 68134.2771817\ttotal: 2.09s\tremaining: 524ms\n",
      "24:\tlearn: 67739.0397638\ttotal: 2.17s\tremaining: 435ms\n",
      "25:\tlearn: 67353.2529823\ttotal: 2.25s\tremaining: 347ms\n",
      "26:\tlearn: 66968.3719700\ttotal: 2.34s\tremaining: 260ms\n",
      "27:\tlearn: 66593.9013283\ttotal: 2.41s\tremaining: 172ms\n",
      "28:\tlearn: 66224.1904471\ttotal: 2.5s\tremaining: 86.1ms\n",
      "29:\tlearn: 65844.8601699\ttotal: 2.57s\tremaining: 0us\n",
      "0:\tlearn: 75402.6246344\ttotal: 82.4ms\tremaining: 8.15s\n",
      "1:\tlearn: 71602.9193455\ttotal: 170ms\tremaining: 8.32s\n",
      "2:\tlearn: 67643.6002425\ttotal: 243ms\tremaining: 7.85s\n",
      "3:\tlearn: 64352.3952760\ttotal: 329ms\tremaining: 7.9s\n",
      "4:\tlearn: 61805.0935005\ttotal: 417ms\tremaining: 7.93s\n",
      "5:\tlearn: 58606.8152971\ttotal: 504ms\tremaining: 7.89s\n",
      "6:\tlearn: 55782.0499281\ttotal: 595ms\tremaining: 7.91s\n",
      "7:\tlearn: 53703.4359912\ttotal: 675ms\tremaining: 7.77s\n",
      "8:\tlearn: 51236.3761857\ttotal: 759ms\tremaining: 7.68s\n",
      "9:\tlearn: 49011.6611541\ttotal: 852ms\tremaining: 7.67s\n",
      "10:\tlearn: 47219.8841327\ttotal: 943ms\tremaining: 7.63s\n",
      "11:\tlearn: 45539.4335457\ttotal: 1.04s\tremaining: 7.63s\n",
      "12:\tlearn: 43808.5647921\ttotal: 1.16s\tremaining: 7.74s\n",
      "13:\tlearn: 42188.0213529\ttotal: 1.26s\tremaining: 7.78s\n",
      "14:\tlearn: 40748.3787199\ttotal: 1.36s\tremaining: 7.71s\n",
      "15:\tlearn: 39531.3533578\ttotal: 1.47s\tremaining: 7.7s\n",
      "16:\tlearn: 38205.5556408\ttotal: 1.57s\tremaining: 7.66s\n",
      "17:\tlearn: 36875.6225789\ttotal: 1.63s\tremaining: 7.41s\n",
      "18:\tlearn: 35754.6335468\ttotal: 1.72s\tremaining: 7.32s\n",
      "19:\tlearn: 34741.8458590\ttotal: 1.8s\tremaining: 7.21s\n",
      "20:\tlearn: 33883.1639661\ttotal: 1.93s\tremaining: 7.25s\n",
      "21:\tlearn: 32897.6229841\ttotal: 2.04s\tremaining: 7.22s\n",
      "22:\tlearn: 32173.5886227\ttotal: 2.14s\tremaining: 7.17s\n",
      "23:\tlearn: 31227.5125143\ttotal: 2.22s\tremaining: 7.04s\n",
      "24:\tlearn: 30499.4949162\ttotal: 2.32s\tremaining: 6.95s\n",
      "25:\tlearn: 29916.7884372\ttotal: 2.4s\tremaining: 6.83s\n",
      "26:\tlearn: 29261.6743205\ttotal: 2.48s\tremaining: 6.71s\n",
      "27:\tlearn: 28634.0596580\ttotal: 2.57s\tremaining: 6.61s\n",
      "28:\tlearn: 28021.1476277\ttotal: 2.66s\tremaining: 6.52s\n",
      "29:\tlearn: 27546.8448033\ttotal: 2.74s\tremaining: 6.4s\n",
      "30:\tlearn: 26962.9482459\ttotal: 2.84s\tremaining: 6.32s\n",
      "31:\tlearn: 26543.7253976\ttotal: 2.89s\tremaining: 6.14s\n",
      "32:\tlearn: 26185.1633811\ttotal: 2.97s\tremaining: 6.04s\n",
      "33:\tlearn: 25790.3725621\ttotal: 3.06s\tremaining: 5.93s\n",
      "34:\tlearn: 25430.4984684\ttotal: 3.15s\tremaining: 5.85s\n",
      "35:\tlearn: 24975.2648655\ttotal: 3.24s\tremaining: 5.76s\n",
      "36:\tlearn: 24638.4840288\ttotal: 3.33s\tremaining: 5.67s\n",
      "37:\tlearn: 24302.7165514\ttotal: 3.41s\tremaining: 5.57s\n",
      "38:\tlearn: 23990.8846181\ttotal: 3.5s\tremaining: 5.47s\n",
      "39:\tlearn: 23721.3987691\ttotal: 3.59s\tremaining: 5.38s\n",
      "40:\tlearn: 23370.4211127\ttotal: 3.67s\tremaining: 5.29s\n",
      "41:\tlearn: 23050.7621443\ttotal: 3.76s\tremaining: 5.19s\n",
      "42:\tlearn: 22719.4052961\ttotal: 3.85s\tremaining: 5.11s\n",
      "43:\tlearn: 22437.6786040\ttotal: 3.94s\tremaining: 5.02s\n",
      "44:\tlearn: 22171.3577676\ttotal: 4.03s\tremaining: 4.92s\n",
      "45:\tlearn: 21898.1999654\ttotal: 4.11s\tremaining: 4.83s\n",
      "46:\tlearn: 21723.4652918\ttotal: 4.2s\tremaining: 4.74s\n",
      "47:\tlearn: 21567.0380048\ttotal: 4.28s\tremaining: 4.63s\n",
      "48:\tlearn: 21355.0459062\ttotal: 4.36s\tremaining: 4.54s\n",
      "49:\tlearn: 21069.9945450\ttotal: 4.45s\tremaining: 4.45s\n",
      "50:\tlearn: 20854.6779408\ttotal: 4.53s\tremaining: 4.35s\n",
      "51:\tlearn: 20642.2416247\ttotal: 4.62s\tremaining: 4.26s\n",
      "52:\tlearn: 20416.2006594\ttotal: 4.71s\tremaining: 4.17s\n",
      "53:\tlearn: 20265.5711918\ttotal: 4.79s\tremaining: 4.08s\n",
      "54:\tlearn: 20096.8265559\ttotal: 4.88s\tremaining: 4s\n",
      "55:\tlearn: 19917.8104128\ttotal: 4.97s\tremaining: 3.9s\n",
      "56:\tlearn: 19718.9058401\ttotal: 5.05s\tremaining: 3.81s\n",
      "57:\tlearn: 19538.7253183\ttotal: 5.22s\tremaining: 3.78s\n",
      "58:\tlearn: 19335.9532529\ttotal: 5.33s\tremaining: 3.71s\n",
      "59:\tlearn: 19181.0635266\ttotal: 5.43s\tremaining: 3.62s\n",
      "60:\tlearn: 18999.5181019\ttotal: 5.56s\tremaining: 3.55s\n",
      "61:\tlearn: 18894.5053378\ttotal: 5.65s\tremaining: 3.46s\n",
      "62:\tlearn: 18736.6492456\ttotal: 5.75s\tremaining: 3.38s\n",
      "63:\tlearn: 18573.4295863\ttotal: 5.86s\tremaining: 3.29s\n",
      "64:\tlearn: 18455.0815999\ttotal: 5.97s\tremaining: 3.21s\n",
      "65:\tlearn: 18296.9352064\ttotal: 6.07s\tremaining: 3.13s\n",
      "66:\tlearn: 18154.8013806\ttotal: 6.17s\tremaining: 3.04s\n",
      "67:\tlearn: 18001.4093685\ttotal: 6.26s\tremaining: 2.94s\n",
      "68:\tlearn: 17840.1039643\ttotal: 6.34s\tremaining: 2.85s\n",
      "69:\tlearn: 17730.6078013\ttotal: 6.44s\tremaining: 2.76s\n",
      "70:\tlearn: 17564.5213269\ttotal: 6.52s\tremaining: 2.66s\n",
      "71:\tlearn: 17429.7019066\ttotal: 6.61s\tremaining: 2.57s\n",
      "72:\tlearn: 17296.4342217\ttotal: 6.7s\tremaining: 2.48s\n",
      "73:\tlearn: 17208.3339750\ttotal: 6.79s\tremaining: 2.38s\n",
      "74:\tlearn: 17075.2031432\ttotal: 6.89s\tremaining: 2.3s\n",
      "75:\tlearn: 16941.1165419\ttotal: 6.98s\tremaining: 2.2s\n",
      "76:\tlearn: 16796.6729149\ttotal: 7.07s\tremaining: 2.11s\n",
      "77:\tlearn: 16694.1010149\ttotal: 7.17s\tremaining: 2.02s\n",
      "78:\tlearn: 16562.0407913\ttotal: 7.29s\tremaining: 1.94s\n",
      "79:\tlearn: 16477.8047030\ttotal: 7.39s\tremaining: 1.85s\n",
      "80:\tlearn: 16377.2430757\ttotal: 7.5s\tremaining: 1.76s\n",
      "81:\tlearn: 16306.2108241\ttotal: 7.6s\tremaining: 1.67s\n",
      "82:\tlearn: 16215.0862420\ttotal: 7.72s\tremaining: 1.58s\n",
      "83:\tlearn: 16154.9018357\ttotal: 7.82s\tremaining: 1.49s\n",
      "84:\tlearn: 16018.5315876\ttotal: 7.93s\tremaining: 1.4s\n",
      "85:\tlearn: 15915.6835246\ttotal: 8.03s\tremaining: 1.31s\n",
      "86:\tlearn: 15777.6734126\ttotal: 8.12s\tremaining: 1.21s\n",
      "87:\tlearn: 15676.8085168\ttotal: 8.21s\tremaining: 1.12s\n",
      "88:\tlearn: 15586.8649300\ttotal: 8.31s\tremaining: 1.03s\n",
      "89:\tlearn: 15556.6966681\ttotal: 8.31s\tremaining: 924ms\n",
      "90:\tlearn: 15521.2195945\ttotal: 8.4s\tremaining: 831ms\n",
      "91:\tlearn: 15465.9954293\ttotal: 8.48s\tremaining: 737ms\n",
      "92:\tlearn: 15408.5220323\ttotal: 8.58s\tremaining: 646ms\n",
      "93:\tlearn: 15340.9718735\ttotal: 8.7s\tremaining: 555ms\n",
      "94:\tlearn: 15316.6555868\ttotal: 8.71s\tremaining: 458ms\n",
      "95:\tlearn: 15299.2754207\ttotal: 8.8s\tremaining: 367ms\n",
      "96:\tlearn: 15221.7158860\ttotal: 8.95s\tremaining: 277ms\n",
      "97:\tlearn: 15080.0055368\ttotal: 9.04s\tremaining: 185ms\n",
      "98:\tlearn: 15007.3099836\ttotal: 9.06s\tremaining: 91.5ms\n",
      "99:\tlearn: 14907.7261437\ttotal: 9.16s\tremaining: 0us\n",
      "{'learning_rate': 0.1, 'l2_leaf_reg': 7, 'iterations': 100, 'depth': 10}\n",
      "0.8599244960073511\n"
     ]
    }
   ],
   "source": [
    "# initialize Pool\n",
    "train_pool = Pool(X_train, y_train)\n",
    "test_pool = Pool(X_test) \n",
    "\n",
    "param_dist = {\n",
    "    'depth': [6,8,10],\n",
    "    'learning_rate' : [0.01, 0.05, 0.1],\n",
    "    'iterations'    : [30, 50, 100],\n",
    "    'l2_leaf_reg': [1, 3, 5, 7, 9]\n",
    "}\n",
    "#Instantiate RandomSearchCV object\n",
    "cbr = CatBoostRegressor()\n",
    "\n",
    "random_grid = RandomizedSearchCV(cbr, param_dist, cv =5)\n",
    "\n",
    "#Fit the model\n",
    "random_grid.fit(X_train, y_train)\n",
    "\n",
    "# Print the tuned parameters and score\n",
    "print(random_grid.best_params_)\n",
    "print(random_grid.best_score_)\n",
    "# specify the training parameters \n",
    "# model = CatBoostRegressor(\n",
    "#     iterations=5, \n",
    "#     depth=2, \n",
    "#     learning_rate=1, \n",
    "#     loss_function='RMSE'\n",
    "# )\n",
    "#train the model\n",
    "# model.fit(train_pool)\n",
    "# make the prediction using the resulting model\n",
    "# preds = model.predict(test_pool)"
   ]
  },
  {
   "source": [
    "Use these params to start grid search"
   ],
   "cell_type": "markdown",
   "metadata": {}
  },
  {
   "cell_type": "code",
   "execution_count": 87,
   "metadata": {},
   "outputs": [],
   "source": [
    "param_grid = {\n",
    "    'learning_rate': [0.05, 0.1, 0.15, 0.2, 0.3, 0.4],\n",
    "    'iterations': [60, 80, 100, 150, 200], \n",
    "    'depth': [4,7,8,10,12,24],\n",
    "    'l2_leaf_reg': [5, 7, 8, 9],\n",
    "    'random_strength': [1,2,3]\n",
    "}\n",
    "\n",
    "grid_search = GridSearchCV(estimator = cbr, param_grid = param_grid, \n",
    "                          cv = 5, n_jobs = -1, verbose = 2)\n",
    "grid_search.fit(X_train, y_train)"
   ]
  },
  {
   "cell_type": "code",
   "execution_count": null,
   "metadata": {},
   "outputs": [],
   "source": [
    "print(grid_search.best_params_)\n",
    "print(grid_search.best_score_)"
   ]
  },
  {
   "source": [
    "# make preds and submit"
   ],
   "cell_type": "markdown",
   "metadata": {}
  },
  {
   "cell_type": "code",
   "execution_count": 77,
   "metadata": {},
   "outputs": [],
   "source": [
    "y_pred = random_grid.predict(X_test)\n",
    "\n",
    "submission_df = pd.DataFrame()\n",
    "submission_df[id_row] = y_test_labels\n",
    "submission_df[target] = y_pred"
   ]
  },
  {
   "cell_type": "code",
   "execution_count": 78,
   "metadata": {},
   "outputs": [
    {
     "output_type": "execute_result",
     "data": {
      "text/plain": [
       "     Id      SalePrice\n",
       "0  1461  124061.734713\n",
       "1  1462  156696.494915\n",
       "2  1463  178224.018442\n",
       "3  1464  180193.317506\n",
       "4  1465  191269.212375"
      ],
      "text/html": "<div>\n<style scoped>\n    .dataframe tbody tr th:only-of-type {\n        vertical-align: middle;\n    }\n\n    .dataframe tbody tr th {\n        vertical-align: top;\n    }\n\n    .dataframe thead th {\n        text-align: right;\n    }\n</style>\n<table border=\"1\" class=\"dataframe\">\n  <thead>\n    <tr style=\"text-align: right;\">\n      <th></th>\n      <th>Id</th>\n      <th>SalePrice</th>\n    </tr>\n  </thead>\n  <tbody>\n    <tr>\n      <th>0</th>\n      <td>1461</td>\n      <td>124061.734713</td>\n    </tr>\n    <tr>\n      <th>1</th>\n      <td>1462</td>\n      <td>156696.494915</td>\n    </tr>\n    <tr>\n      <th>2</th>\n      <td>1463</td>\n      <td>178224.018442</td>\n    </tr>\n    <tr>\n      <th>3</th>\n      <td>1464</td>\n      <td>180193.317506</td>\n    </tr>\n    <tr>\n      <th>4</th>\n      <td>1465</td>\n      <td>191269.212375</td>\n    </tr>\n  </tbody>\n</table>\n</div>"
     },
     "metadata": {},
     "execution_count": 78
    }
   ],
   "source": [
    "submission_df.head()"
   ]
  },
  {
   "cell_type": "code",
   "execution_count": 79,
   "metadata": {},
   "outputs": [
    {
     "output_type": "execute_result",
     "data": {
      "text/plain": [
       "     Id      SalePrice\n",
       "0  1461  169277.052498\n",
       "1  1462  187758.393989\n",
       "2  1463  183583.683570\n",
       "3  1464  179317.477511\n",
       "4  1465  150730.079977"
      ],
      "text/html": "<div>\n<style scoped>\n    .dataframe tbody tr th:only-of-type {\n        vertical-align: middle;\n    }\n\n    .dataframe tbody tr th {\n        vertical-align: top;\n    }\n\n    .dataframe thead th {\n        text-align: right;\n    }\n</style>\n<table border=\"1\" class=\"dataframe\">\n  <thead>\n    <tr style=\"text-align: right;\">\n      <th></th>\n      <th>Id</th>\n      <th>SalePrice</th>\n    </tr>\n  </thead>\n  <tbody>\n    <tr>\n      <th>0</th>\n      <td>1461</td>\n      <td>169277.052498</td>\n    </tr>\n    <tr>\n      <th>1</th>\n      <td>1462</td>\n      <td>187758.393989</td>\n    </tr>\n    <tr>\n      <th>2</th>\n      <td>1463</td>\n      <td>183583.683570</td>\n    </tr>\n    <tr>\n      <th>3</th>\n      <td>1464</td>\n      <td>179317.477511</td>\n    </tr>\n    <tr>\n      <th>4</th>\n      <td>1465</td>\n      <td>150730.079977</td>\n    </tr>\n  </tbody>\n</table>\n</div>"
     },
     "metadata": {},
     "execution_count": 79
    }
   ],
   "source": [
    "input_data['sample_submission'].head()"
   ]
  },
  {
   "cell_type": "code",
   "execution_count": 80,
   "metadata": {},
   "outputs": [],
   "source": [
    "submission_df.to_csv('submission1.csv', index=False)"
   ]
  },
  {
   "cell_type": "code",
   "execution_count": 83,
   "metadata": {},
   "outputs": [
    {
     "output_type": "stream",
     "name": "stdout",
     "text": [
      "100%|██████████████████████████████████████| 33.7k/33.7k [00:02<00:00, 16.7kB/s]\n",
      "Successfully submitted to House Prices - Advanced Regression Techniques"
     ]
    }
   ],
   "source": [
    "!kaggle competitions submit -f 'submission1.csv' -m 'first attempt random hypers catboost' house-prices-advanced-regression-techniques"
   ]
  },
  {
   "cell_type": "code",
   "execution_count": 84,
   "metadata": {},
   "outputs": [
    {
     "output_type": "stream",
     "name": "stdout",
     "text": [
      "fileName         date                 description                           status    publicScore  privateScore  \n---------------  -------------------  ------------------------------------  --------  -----------  ------------  \nsubmission1.csv  2021-05-03 11:30:27  first attempt random hypers catboost  complete  0.15473      None          \n"
     ]
    }
   ],
   "source": [
    "!kaggle competitions submissions -c house-prices-advanced-regression-techniques"
   ]
  },
  {
   "cell_type": "code",
   "execution_count": null,
   "metadata": {},
   "outputs": [],
   "source": []
  }
 ]
}