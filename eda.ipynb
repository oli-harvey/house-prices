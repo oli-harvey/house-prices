{
 "metadata": {
  "language_info": {
   "codemirror_mode": {
    "name": "ipython",
    "version": 3
   },
   "file_extension": ".py",
   "mimetype": "text/x-python",
   "name": "python",
   "nbconvert_exporter": "python",
   "pygments_lexer": "ipython3",
   "version": "3.8.8"
  },
  "orig_nbformat": 2,
  "kernelspec": {
   "name": "python388jvsc74a57bd02cafb3199729848de48071f5cfc9db2ba6e5f31612348b291f81e9e98cb6629b",
   "display_name": "Python 3.8.8 64-bit ('titanic': conda)"
  }
 },
 "nbformat": 4,
 "nbformat_minor": 2,
 "cells": [
  {
   "cell_type": "code",
   "execution_count": 1,
   "metadata": {},
   "outputs": [],
   "source": [
    "%load_ext autoreload\n",
    "%autoreload 2"
   ]
  },
  {
   "cell_type": "code",
   "execution_count": 2,
   "metadata": {},
   "outputs": [
    {
     "output_type": "stream",
     "name": "stdout",
     "text": [
      "import_to_df imported\n",
      "process_year_remod imported\n",
      "get_kaggle_data imported\n",
      "process_data imported\n"
     ]
    }
   ],
   "source": [
    "import os \n",
    "funcs = os.listdir('functions')\n",
    "\n",
    "for func in funcs:\n",
    "    if func.startswith('__') or func == 'import_all_functions.py':\n",
    "        continue\n",
    "    func = func.replace('.py','')\n",
    "    print(f'{func} imported')\n",
    "    exec(f'from functions.{func} import *')"
   ]
  },
  {
   "cell_type": "code",
   "execution_count": 93,
   "metadata": {},
   "outputs": [],
   "source": [
    "import pandas as pd \n",
    "import pandas_profiling as pdp\n",
    "import numpy as np\n",
    "import pprint as pp\n",
    "import seaborn as sns\n",
    "from matplotlib import pyplot as plt\n",
    "\n",
    "pd.set_option('display.max_columns', None)"
   ]
  },
  {
   "cell_type": "code",
   "execution_count": 4,
   "metadata": {},
   "outputs": [
    {
     "output_type": "stream",
     "name": "stdout",
     "text": [
      "files downloaded for house-prices-advanced-regression-techniques competition\n   test.csv\n   data_description.txt\n   train.csv\n   sample_submission.csv\nlocated in /competition_data/\n"
     ]
    }
   ],
   "source": [
    "files = get_kaggle_data(\n",
    "    competition=\"house-prices-advanced-regression-techniques\"\n",
    "    )"
   ]
  },
  {
   "cell_type": "code",
   "execution_count": 5,
   "metadata": {},
   "outputs": [],
   "source": [
    "input_data = import_to_df(files)"
   ]
  },
  {
   "source": [
    "What files did we get?"
   ],
   "cell_type": "markdown",
   "metadata": {}
  },
  {
   "cell_type": "code",
   "execution_count": 6,
   "metadata": {},
   "outputs": [
    {
     "output_type": "execute_result",
     "data": {
      "text/plain": [
       "dict_keys(['test', 'train', 'sample_submission'])"
      ]
     },
     "metadata": {},
     "execution_count": 6
    }
   ],
   "source": [
    "input_data.keys()"
   ]
  },
  {
   "cell_type": "code",
   "execution_count": 7,
   "metadata": {},
   "outputs": [],
   "source": [
    "input_train_df = input_data['train']\n",
    "input_test_df = input_data['test']"
   ]
  },
  {
   "cell_type": "code",
   "execution_count": 86,
   "metadata": {},
   "outputs": [
    {
     "output_type": "stream",
     "name": "stderr",
     "text": [
      "Summarize dataset:  92%|█████████▏| 87/95 [00:10<00:00, 191.68it/s, Calculate cramers correlation]/Users/oliverharvey/anaconda3/envs/titanic/lib/python3.8/site-packages/pandas_profiling/model/correlations.py:101: UserWarning: There was an attempt to calculate the cramers correlation, but this failed.\n",
      "To hide this warning, disable the calculation\n",
      "(using `df.profile_report(correlations={\"cramers\": {\"calculate\": False}})`\n",
      "If this is problematic for your use case, please report this as an issue:\n",
      "https://github.com/pandas-profiling/pandas-profiling/issues\n",
      "(include the error message: 'No data; `observed` has size 0.')\n",
      "  warnings.warn(\n",
      "Summarize dataset: 100%|██████████| 95/95 [02:42<00:00,  1.71s/it, Completed]\n",
      "Generate report structure: 100%|██████████| 1/1 [00:33<00:00, 33.88s/it]\n",
      "Render HTML: 100%|██████████| 1/1 [00:34<00:00, 34.29s/it]\n",
      "Export report to file: 100%|██████████| 1/1 [00:00<00:00,  9.26it/s]\n"
     ]
    }
   ],
   "source": [
    "# Dont keep report cached - slows down notebook too much\n",
    "pdp.ProfileReport(input_train_df)\n",
    "\n",
    "profile = pdp.ProfileReport(input_train_df)\n",
    "profile.to_file(output_file='PandasProfile_house_prices.html')"
   ]
  },
  {
   "cell_type": "code",
   "execution_count": 9,
   "metadata": {},
   "outputs": [
    {
     "output_type": "stream",
     "name": "stdout",
     "text": [
      "Index(['Id', 'MSSubClass', 'MSZoning', 'LotFrontage', 'LotArea', 'Street',\n       'Alley', 'LotShape', 'LandContour', 'Utilities', 'LotConfig',\n       'LandSlope', 'Neighborhood', 'Condition1', 'Condition2', 'BldgType',\n       'HouseStyle', 'OverallQual', 'OverallCond', 'YearBuilt', 'YearRemodAdd',\n       'RoofStyle', 'RoofMatl', 'Exterior1st', 'Exterior2nd', 'MasVnrType',\n       'MasVnrArea', 'ExterQual', 'ExterCond', 'Foundation', 'BsmtQual',\n       'BsmtCond', 'BsmtExposure', 'BsmtFinType1', 'BsmtFinSF1',\n       'BsmtFinType2', 'BsmtFinSF2', 'BsmtUnfSF', 'TotalBsmtSF', 'Heating',\n       'HeatingQC', 'CentralAir', 'Electrical', '1stFlrSF', '2ndFlrSF',\n       'LowQualFinSF', 'GrLivArea', 'BsmtFullBath', 'BsmtHalfBath', 'FullBath',\n       'HalfBath', 'BedroomAbvGr', 'KitchenAbvGr', 'KitchenQual',\n       'TotRmsAbvGrd', 'Functional', 'Fireplaces', 'FireplaceQu', 'GarageType',\n       'GarageYrBlt', 'GarageFinish', 'GarageCars', 'GarageArea', 'GarageQual',\n       'GarageCond', 'PavedDrive', 'WoodDeckSF', 'OpenPorchSF',\n       'EnclosedPorch', '3SsnPorch', 'ScreenPorch', 'PoolArea', 'PoolQC',\n       'Fence', 'MiscFeature', 'MiscVal', 'MoSold', 'YrSold', 'SaleType',\n       'SaleCondition', 'SalePrice'],\n      dtype='object')\n"
     ]
    }
   ],
   "source": [
    "pp.pprint(input_train_df.columns)"
   ]
  },
  {
   "source": [
    "MSSubClass needs to be categorical.  \n",
    "LotFrontage has missing values - inpute these.  \n",
    "Lot Area has some silly high values - might be mistake.  \n",
    "Street rarely gravel.  \n",
    "Alley mostly missing. has same categories as street - gravel or pave.  \n",
    "Utilies only has 1 NoSeWa value, all Allpub otherwise.  \n",
    "Condition1 and 2 both contain same - transform to one hots shared.  \n",
    "YearRemodAdd has suspicious peak in 1950 - maybe seperate this as a before 1950 flag and remove from column.  \n",
    "YearRemodAdd is same as construction date if no remod - compare these and maybe remove the ones that arent remods.  \n",
    "Exterior has 2 columns - transform into shared one hots.  \n",
    "Count how many materials exterior is made from.  \n",
    "MSSubClass has few missing values.  \n",
    "MasVnrArea has lots of zeros - seperate as a flag?  \n",
    "MSSubClass missing values.  \n",
    "BsmtCond missing values.  \n",
    "BsmtExposure missing values.  \n",
    "BsmtFinType1 missing values.  \n",
    "BsmtFinType2 missing and duplicates BsmtFinType1 - make into 1 hots should fix this.  \n",
    "count how many basement fintypes there arent.  \n",
    "BsmtFinSF1 lots of 0s.  \n",
    "BsmtFinSF2 lots of 0s.  \n",
    "These relate to FinTypes so also create categories of sqfoot per fintypes.  \n",
    "2ndFlrSF lots of 0s - presumably no 2nd floor. better as seperate flag.  \n",
    "LowQualFinSF mostly 0s.  \n",
    "All categorical quality columns better as number probably.  \n",
    "FireplaceQu missing values where no Fireplace.  \n",
    "Garagetype missing values for no garage.  \n",
    "GarageYrBuilt and finish and quality missing values for no garage.  \n",
    "Other garage variables 0s for no garage.  \n",
    "WooddeckSF 0s.  \n",
    "OpenPorchSF 0s.  \n",
    "Other porch columns 0s.  \n",
    "Fence mostly missing.  \n",
    "MiscFeature mostly missing but ok as 1 hots.  \n",
    "MiscValue mostly 0s and then high values.  \n",
    "MoSold should be categorical.  \n",
    "Sale price could be tricky - maybe combine with year sold. Do we need to calculate inflation by area?  \n",
    "Check for columns that are ordinal catagories and make into number as well.  "
   ],
   "cell_type": "markdown",
   "metadata": {}
  },
  {
   "cell_type": "code",
   "execution_count": 71,
   "metadata": {},
   "outputs": [],
   "source": [
    "dummy_cols = ['MSSubClass', 'MSZoning', 'Alley', 'MoSold', 'SaleType']\n",
    "# these ones need combining after turning into dummies since values spread over pairs of columns\n",
    "dummy_pairs = {\n",
    "    'Condition': ['Condition1', 'Condition2'],\n",
    "    'Exterior': ['Exterior1st', 'Exterior2nd'],\n",
    "    'BsmtFinType': ['BsmtFinType1', 'BsmtFinType2', 'LowQualFinSF']\n",
    "}\n",
    "\n",
    "# these ones have values that correspond to the categories so make dummies afterwards but also make these first\n",
    "value_dummies = {\n",
    "    'BsmtFinTypeSF': (['BsmtFinType1', 'BsmtFinType2'], ['BsmtFinSF1', 'BsmtFinSF2'])\n",
    "}\n",
    "impute_cols = ['LotFrontage']\n",
    "zero_flags = [\n",
    "    'MasVnrArea', '2ndFlrSF', 'BsmtFinSF1', 'BsmtFinSF2', 'LowQualFinSF', 'GarageYrBlt', \n",
    "    'WoodDeckSF', 'OpenPorchSF', 'EnclosedPorch', '3SsnPorch', 'ScreenPorch'\n",
    "]\n",
    "drop_cols = ['Utilities']\n",
    "\n",
    "quality_cols_convert = [\n",
    "    'ExterQual', 'ExterCond', 'BsmtQual', 'BsmtCond', 'BsmtExposure',\n",
    "    'BsmtFinType1', 'BsmtFinType2', 'HeatingQC', 'KitchenQual', 'Functional',\n",
    "    'FireplaceQu', 'GarageQual', 'GarageCond', 'PoolQC', 'Fence'\n",
    "]\n",
    "\n",
    "columns_to_calculate_years_since =[\n",
    "    ('YearBuilt', 'YrSold'),\n",
    "    ('YearRemodAdd', 'YrSold'),\n",
    "]"
   ]
  },
  {
   "cell_type": "code",
   "execution_count": 11,
   "metadata": {},
   "outputs": [
    {
     "output_type": "execute_result",
     "data": {
      "text/plain": [
       "count    1460.000000\n",
       "mean     1984.865753\n",
       "std        20.645407\n",
       "min      1950.000000\n",
       "25%      1967.000000\n",
       "50%      1994.000000\n",
       "75%      2004.000000\n",
       "max      2010.000000\n",
       "Name: YearRemodAdd, dtype: float64"
      ]
     },
     "metadata": {},
     "execution_count": 11
    }
   ],
   "source": [
    "input_train_df['YearRemodAdd'].describe()"
   ]
  },
  {
   "source": [
    "Missing values in LotFrontage. Is it specific lot shapes?"
   ],
   "cell_type": "markdown",
   "metadata": {}
  },
  {
   "cell_type": "code",
   "execution_count": 28,
   "metadata": {},
   "outputs": [
    {
     "output_type": "execute_result",
     "data": {
      "text/plain": [
       "          missing  count        mean  missing_pct\n",
       "LotShape                                         \n",
       "IR1         167.0    317   76.094637     0.345041\n",
       "IR2          15.0     26   76.500000     0.365854\n",
       "IR3           3.0      7  138.428571     0.300000\n",
       "Reg          74.0    851   67.038778     0.080000"
      ],
      "text/html": "<div>\n<style scoped>\n    .dataframe tbody tr th:only-of-type {\n        vertical-align: middle;\n    }\n\n    .dataframe tbody tr th {\n        vertical-align: top;\n    }\n\n    .dataframe thead th {\n        text-align: right;\n    }\n</style>\n<table border=\"1\" class=\"dataframe\">\n  <thead>\n    <tr style=\"text-align: right;\">\n      <th></th>\n      <th>missing</th>\n      <th>count</th>\n      <th>mean</th>\n      <th>missing_pct</th>\n    </tr>\n    <tr>\n      <th>LotShape</th>\n      <th></th>\n      <th></th>\n      <th></th>\n      <th></th>\n    </tr>\n  </thead>\n  <tbody>\n    <tr>\n      <th>IR1</th>\n      <td>167.0</td>\n      <td>317</td>\n      <td>76.094637</td>\n      <td>0.345041</td>\n    </tr>\n    <tr>\n      <th>IR2</th>\n      <td>15.0</td>\n      <td>26</td>\n      <td>76.500000</td>\n      <td>0.365854</td>\n    </tr>\n    <tr>\n      <th>IR3</th>\n      <td>3.0</td>\n      <td>7</td>\n      <td>138.428571</td>\n      <td>0.300000</td>\n    </tr>\n    <tr>\n      <th>Reg</th>\n      <td>74.0</td>\n      <td>851</td>\n      <td>67.038778</td>\n      <td>0.080000</td>\n    </tr>\n  </tbody>\n</table>\n</div>"
     },
     "metadata": {},
     "execution_count": 28
    }
   ],
   "source": [
    "lotshape_stats = (\n",
    "    input_train_df\n",
    "        .groupby('LotShape')\n",
    "        .agg({\n",
    "            'LotFrontage': [\n",
    "                lambda x: x.isna().sum(), \n",
    "                'count', \n",
    "                'mean']\n",
    "            })\n",
    ")\n",
    "\n",
    "lotshape_stats.columns = lotshape_stats.columns.droplevel(0)\n",
    "lotshape_stats.rename(columns={'<lambda_0>': 'missing'}, inplace=True)\n",
    "lotshape_stats['missing_pct'] = (\n",
    "    lotshape_stats['missing'] /\n",
    "    (lotshape_stats['missing'] + lotshape_stats['count'])\n",
    ")\n",
    "lotshape_stats"
   ]
  },
  {
   "source": [
    "Seems to be fairly high in the irregular shaped lots.  \n",
    "Hopefully using decent inputer will pick up on this.  "
   ],
   "cell_type": "markdown",
   "metadata": {}
  },
  {
   "source": [
    "Take a look a LotArea outliers in more detail.  "
   ],
   "cell_type": "markdown",
   "metadata": {}
  },
  {
   "cell_type": "code",
   "execution_count": 35,
   "metadata": {},
   "outputs": [
    {
     "output_type": "display_data",
     "data": {
      "text/plain": "count      1460.000000\nmean      10516.828082\nstd        9981.264932\nmin        1300.000000\n25%        7553.500000\n50%        9478.500000\n75%       11601.500000\nmax      215245.000000\nName: LotArea, dtype: float64"
     },
     "metadata": {}
    },
    {
     "output_type": "display_data",
     "data": {
      "text/plain": "        Id  MSSubClass MSZoning  LotFrontage  LotArea Street Alley LotShape  \\\n313    314          20       RL        150.0   215245   Pave   NaN      IR3   \n335    336         190       RL          NaN   164660   Grvl   NaN      IR1   \n249    250          50       RL          NaN   159000   Pave   NaN      IR2   \n706    707          20       RL          NaN   115149   Pave   NaN      IR2   \n451    452          20       RL         62.0    70761   Pave   NaN      IR1   \n...    ...         ...      ...          ...      ...    ...   ...      ...   \n1115  1116          20       RL         93.0    12085   Pave   NaN      Reg   \n988    989          60       RL          NaN    12046   Pave   NaN      IR1   \n238    239          20       RL         93.0    12030   Pave   NaN      Reg   \n359    360          60       RL         78.0    12011   Pave   NaN      IR1   \n157    158          60       RL         92.0    12003   Pave   NaN      Reg   \n\n     LandContour Utilities  ... PoolArea PoolQC Fence MiscFeature MiscVal  \\\n313          Low    AllPub  ...        0    NaN   NaN         NaN       0   \n335          HLS    AllPub  ...        0    NaN   NaN        Shed     700   \n249          Low    AllPub  ...        0    NaN   NaN        Shed     500   \n706          Low    AllPub  ...        0    NaN   NaN         NaN       0   \n451          Low    AllPub  ...        0    NaN   NaN         NaN       0   \n...          ...       ...  ...      ...    ...   ...         ...     ...   \n1115         Lvl    AllPub  ...        0    NaN   NaN         NaN       0   \n988          Lvl    AllPub  ...        0    NaN   NaN         NaN       0   \n238          Lvl    AllPub  ...        0    NaN   NaN         NaN       0   \n359          Lvl    AllPub  ...        0    NaN   NaN         NaN       0   \n157          Lvl    AllPub  ...        0    NaN   NaN         NaN       0   \n\n     MoSold YrSold  SaleType  SaleCondition  SalePrice  \n313       6   2009        WD         Normal     375000  \n335       8   2008        WD         Normal     228950  \n249       6   2007        WD         Normal     277000  \n706       6   2007        WD         Normal     302000  \n451      12   2006        WD         Normal     280000  \n...     ...    ...       ...            ...        ...  \n1115     11   2007       New        Partial     318000  \n988       6   2007        WD         Normal     195000  \n238      12   2007       New        Partial     318000  \n359       6   2006        WD         Normal     280000  \n157       5   2010       New        Partial     269500  \n\n[318 rows x 81 columns]",
      "text/html": "<div>\n<style scoped>\n    .dataframe tbody tr th:only-of-type {\n        vertical-align: middle;\n    }\n\n    .dataframe tbody tr th {\n        vertical-align: top;\n    }\n\n    .dataframe thead th {\n        text-align: right;\n    }\n</style>\n<table border=\"1\" class=\"dataframe\">\n  <thead>\n    <tr style=\"text-align: right;\">\n      <th></th>\n      <th>Id</th>\n      <th>MSSubClass</th>\n      <th>MSZoning</th>\n      <th>LotFrontage</th>\n      <th>LotArea</th>\n      <th>Street</th>\n      <th>Alley</th>\n      <th>LotShape</th>\n      <th>LandContour</th>\n      <th>Utilities</th>\n      <th>...</th>\n      <th>PoolArea</th>\n      <th>PoolQC</th>\n      <th>Fence</th>\n      <th>MiscFeature</th>\n      <th>MiscVal</th>\n      <th>MoSold</th>\n      <th>YrSold</th>\n      <th>SaleType</th>\n      <th>SaleCondition</th>\n      <th>SalePrice</th>\n    </tr>\n  </thead>\n  <tbody>\n    <tr>\n      <th>313</th>\n      <td>314</td>\n      <td>20</td>\n      <td>RL</td>\n      <td>150.0</td>\n      <td>215245</td>\n      <td>Pave</td>\n      <td>NaN</td>\n      <td>IR3</td>\n      <td>Low</td>\n      <td>AllPub</td>\n      <td>...</td>\n      <td>0</td>\n      <td>NaN</td>\n      <td>NaN</td>\n      <td>NaN</td>\n      <td>0</td>\n      <td>6</td>\n      <td>2009</td>\n      <td>WD</td>\n      <td>Normal</td>\n      <td>375000</td>\n    </tr>\n    <tr>\n      <th>335</th>\n      <td>336</td>\n      <td>190</td>\n      <td>RL</td>\n      <td>NaN</td>\n      <td>164660</td>\n      <td>Grvl</td>\n      <td>NaN</td>\n      <td>IR1</td>\n      <td>HLS</td>\n      <td>AllPub</td>\n      <td>...</td>\n      <td>0</td>\n      <td>NaN</td>\n      <td>NaN</td>\n      <td>Shed</td>\n      <td>700</td>\n      <td>8</td>\n      <td>2008</td>\n      <td>WD</td>\n      <td>Normal</td>\n      <td>228950</td>\n    </tr>\n    <tr>\n      <th>249</th>\n      <td>250</td>\n      <td>50</td>\n      <td>RL</td>\n      <td>NaN</td>\n      <td>159000</td>\n      <td>Pave</td>\n      <td>NaN</td>\n      <td>IR2</td>\n      <td>Low</td>\n      <td>AllPub</td>\n      <td>...</td>\n      <td>0</td>\n      <td>NaN</td>\n      <td>NaN</td>\n      <td>Shed</td>\n      <td>500</td>\n      <td>6</td>\n      <td>2007</td>\n      <td>WD</td>\n      <td>Normal</td>\n      <td>277000</td>\n    </tr>\n    <tr>\n      <th>706</th>\n      <td>707</td>\n      <td>20</td>\n      <td>RL</td>\n      <td>NaN</td>\n      <td>115149</td>\n      <td>Pave</td>\n      <td>NaN</td>\n      <td>IR2</td>\n      <td>Low</td>\n      <td>AllPub</td>\n      <td>...</td>\n      <td>0</td>\n      <td>NaN</td>\n      <td>NaN</td>\n      <td>NaN</td>\n      <td>0</td>\n      <td>6</td>\n      <td>2007</td>\n      <td>WD</td>\n      <td>Normal</td>\n      <td>302000</td>\n    </tr>\n    <tr>\n      <th>451</th>\n      <td>452</td>\n      <td>20</td>\n      <td>RL</td>\n      <td>62.0</td>\n      <td>70761</td>\n      <td>Pave</td>\n      <td>NaN</td>\n      <td>IR1</td>\n      <td>Low</td>\n      <td>AllPub</td>\n      <td>...</td>\n      <td>0</td>\n      <td>NaN</td>\n      <td>NaN</td>\n      <td>NaN</td>\n      <td>0</td>\n      <td>12</td>\n      <td>2006</td>\n      <td>WD</td>\n      <td>Normal</td>\n      <td>280000</td>\n    </tr>\n    <tr>\n      <th>...</th>\n      <td>...</td>\n      <td>...</td>\n      <td>...</td>\n      <td>...</td>\n      <td>...</td>\n      <td>...</td>\n      <td>...</td>\n      <td>...</td>\n      <td>...</td>\n      <td>...</td>\n      <td>...</td>\n      <td>...</td>\n      <td>...</td>\n      <td>...</td>\n      <td>...</td>\n      <td>...</td>\n      <td>...</td>\n      <td>...</td>\n      <td>...</td>\n      <td>...</td>\n      <td>...</td>\n    </tr>\n    <tr>\n      <th>1115</th>\n      <td>1116</td>\n      <td>20</td>\n      <td>RL</td>\n      <td>93.0</td>\n      <td>12085</td>\n      <td>Pave</td>\n      <td>NaN</td>\n      <td>Reg</td>\n      <td>Lvl</td>\n      <td>AllPub</td>\n      <td>...</td>\n      <td>0</td>\n      <td>NaN</td>\n      <td>NaN</td>\n      <td>NaN</td>\n      <td>0</td>\n      <td>11</td>\n      <td>2007</td>\n      <td>New</td>\n      <td>Partial</td>\n      <td>318000</td>\n    </tr>\n    <tr>\n      <th>988</th>\n      <td>989</td>\n      <td>60</td>\n      <td>RL</td>\n      <td>NaN</td>\n      <td>12046</td>\n      <td>Pave</td>\n      <td>NaN</td>\n      <td>IR1</td>\n      <td>Lvl</td>\n      <td>AllPub</td>\n      <td>...</td>\n      <td>0</td>\n      <td>NaN</td>\n      <td>NaN</td>\n      <td>NaN</td>\n      <td>0</td>\n      <td>6</td>\n      <td>2007</td>\n      <td>WD</td>\n      <td>Normal</td>\n      <td>195000</td>\n    </tr>\n    <tr>\n      <th>238</th>\n      <td>239</td>\n      <td>20</td>\n      <td>RL</td>\n      <td>93.0</td>\n      <td>12030</td>\n      <td>Pave</td>\n      <td>NaN</td>\n      <td>Reg</td>\n      <td>Lvl</td>\n      <td>AllPub</td>\n      <td>...</td>\n      <td>0</td>\n      <td>NaN</td>\n      <td>NaN</td>\n      <td>NaN</td>\n      <td>0</td>\n      <td>12</td>\n      <td>2007</td>\n      <td>New</td>\n      <td>Partial</td>\n      <td>318000</td>\n    </tr>\n    <tr>\n      <th>359</th>\n      <td>360</td>\n      <td>60</td>\n      <td>RL</td>\n      <td>78.0</td>\n      <td>12011</td>\n      <td>Pave</td>\n      <td>NaN</td>\n      <td>IR1</td>\n      <td>Lvl</td>\n      <td>AllPub</td>\n      <td>...</td>\n      <td>0</td>\n      <td>NaN</td>\n      <td>NaN</td>\n      <td>NaN</td>\n      <td>0</td>\n      <td>6</td>\n      <td>2006</td>\n      <td>WD</td>\n      <td>Normal</td>\n      <td>280000</td>\n    </tr>\n    <tr>\n      <th>157</th>\n      <td>158</td>\n      <td>60</td>\n      <td>RL</td>\n      <td>92.0</td>\n      <td>12003</td>\n      <td>Pave</td>\n      <td>NaN</td>\n      <td>Reg</td>\n      <td>Lvl</td>\n      <td>AllPub</td>\n      <td>...</td>\n      <td>0</td>\n      <td>NaN</td>\n      <td>NaN</td>\n      <td>NaN</td>\n      <td>0</td>\n      <td>5</td>\n      <td>2010</td>\n      <td>New</td>\n      <td>Partial</td>\n      <td>269500</td>\n    </tr>\n  </tbody>\n</table>\n<p>318 rows × 81 columns</p>\n</div>"
     },
     "metadata": {}
    }
   ],
   "source": [
    "display(input_train_df['LotArea'].describe())\n",
    "display(input_train_df.loc[\n",
    "    input_train_df['LotArea'] > 12_000,\n",
    "    :].sort_values('LotArea', ascending=False)\n",
    ")"
   ]
  },
  {
   "source": [
    "Ok does seem like a calculation error but since using decision tree based algos prob not a big issue at this stage and don't know if its definitely wrong.  "
   ],
   "cell_type": "markdown",
   "metadata": {}
  },
  {
   "source": [
    "Whats going on with multiple exteriors? Would expect them to be null if only 1 but there are no missing values. \n",
    "Maybe they have repeated the first material?"
   ],
   "cell_type": "markdown",
   "metadata": {}
  },
  {
   "cell_type": "code",
   "execution_count": 26,
   "metadata": {},
   "outputs": [
    {
     "output_type": "execute_result",
     "data": {
      "text/plain": [
       "     Exterior1st Exterior2nd\n",
       "0        VinylSd     VinylSd\n",
       "1        MetalSd     MetalSd\n",
       "2        VinylSd     VinylSd\n",
       "4        VinylSd     VinylSd\n",
       "5        VinylSd     VinylSd\n",
       "...          ...         ...\n",
       "1454     VinylSd     VinylSd\n",
       "1455     VinylSd     VinylSd\n",
       "1456     Plywood     Plywood\n",
       "1458     MetalSd     MetalSd\n",
       "1459     HdBoard     HdBoard\n",
       "\n",
       "[1245 rows x 2 columns]"
      ],
      "text/html": "<div>\n<style scoped>\n    .dataframe tbody tr th:only-of-type {\n        vertical-align: middle;\n    }\n\n    .dataframe tbody tr th {\n        vertical-align: top;\n    }\n\n    .dataframe thead th {\n        text-align: right;\n    }\n</style>\n<table border=\"1\" class=\"dataframe\">\n  <thead>\n    <tr style=\"text-align: right;\">\n      <th></th>\n      <th>Exterior1st</th>\n      <th>Exterior2nd</th>\n    </tr>\n  </thead>\n  <tbody>\n    <tr>\n      <th>0</th>\n      <td>VinylSd</td>\n      <td>VinylSd</td>\n    </tr>\n    <tr>\n      <th>1</th>\n      <td>MetalSd</td>\n      <td>MetalSd</td>\n    </tr>\n    <tr>\n      <th>2</th>\n      <td>VinylSd</td>\n      <td>VinylSd</td>\n    </tr>\n    <tr>\n      <th>4</th>\n      <td>VinylSd</td>\n      <td>VinylSd</td>\n    </tr>\n    <tr>\n      <th>5</th>\n      <td>VinylSd</td>\n      <td>VinylSd</td>\n    </tr>\n    <tr>\n      <th>...</th>\n      <td>...</td>\n      <td>...</td>\n    </tr>\n    <tr>\n      <th>1454</th>\n      <td>VinylSd</td>\n      <td>VinylSd</td>\n    </tr>\n    <tr>\n      <th>1455</th>\n      <td>VinylSd</td>\n      <td>VinylSd</td>\n    </tr>\n    <tr>\n      <th>1456</th>\n      <td>Plywood</td>\n      <td>Plywood</td>\n    </tr>\n    <tr>\n      <th>1458</th>\n      <td>MetalSd</td>\n      <td>MetalSd</td>\n    </tr>\n    <tr>\n      <th>1459</th>\n      <td>HdBoard</td>\n      <td>HdBoard</td>\n    </tr>\n  </tbody>\n</table>\n<p>1245 rows × 2 columns</p>\n</div>"
     },
     "metadata": {},
     "execution_count": 26
    }
   ],
   "source": [
    "input_train_df.loc[input_train_df['Exterior1st'] == input_train_df['Exterior2nd'], ['Exterior1st', 'Exterior2nd']]"
   ]
  },
  {
   "source": [
    "Yes thats whats happened. Developed a function that will create one hots from two columns and doesnt care about duplicates"
   ],
   "cell_type": "markdown",
   "metadata": {}
  },
  {
   "cell_type": "code",
   "execution_count": 59,
   "metadata": {},
   "outputs": [
    {
     "output_type": "execute_result",
     "data": {
      "text/plain": [
       "<AxesSubplot:>"
      ]
     },
     "metadata": {},
     "execution_count": 59
    },
    {
     "output_type": "display_data",
     "data": {
      "text/plain": "<Figure size 432x288 with 1 Axes>",
      "image/svg+xml": "<?xml version=\"1.0\" encoding=\"utf-8\" standalone=\"no\"?>\n<!DOCTYPE svg PUBLIC \"-//W3C//DTD SVG 1.1//EN\"\n  \"http://www.w3.org/Graphics/SVG/1.1/DTD/svg11.dtd\">\n<svg height=\"248.518125pt\" version=\"1.1\" viewBox=\"0 0 381.65 248.518125\" width=\"381.65pt\" xmlns=\"http://www.w3.org/2000/svg\" xmlns:xlink=\"http://www.w3.org/1999/xlink\">\n <metadata>\n  <rdf:RDF xmlns:cc=\"http://creativecommons.org/ns#\" xmlns:dc=\"http://purl.org/dc/elements/1.1/\" xmlns:rdf=\"http://www.w3.org/1999/02/22-rdf-syntax-ns#\">\n   <cc:Work>\n    <dc:type rdf:resource=\"http://purl.org/dc/dcmitype/StillImage\"/>\n    <dc:date>2021-05-02T08:32:39.613066</dc:date>\n    <dc:format>image/svg+xml</dc:format>\n    <dc:creator>\n     <cc:Agent>\n      <dc:title>Matplotlib v3.4.1, https://matplotlib.org/</dc:title>\n     </cc:Agent>\n    </dc:creator>\n   </cc:Work>\n  </rdf:RDF>\n </metadata>\n <defs>\n  <style type=\"text/css\">*{stroke-linecap:butt;stroke-linejoin:round;}</style>\n </defs>\n <g id=\"figure_1\">\n  <g id=\"patch_1\">\n   <path d=\"M -0 248.518125 \nL 381.65 248.518125 \nL 381.65 0 \nL -0 0 \nz\n\" style=\"fill:none;\"/>\n  </g>\n  <g id=\"axes_1\">\n   <g id=\"patch_2\">\n    <path d=\"M 39.65 224.64 \nL 374.45 224.64 \nL 374.45 7.2 \nL 39.65 7.2 \nz\n\" style=\"fill:#ffffff;\"/>\n   </g>\n   <g id=\"matplotlib.axis_1\">\n    <g id=\"xtick_1\">\n     <g id=\"line2d_1\">\n      <defs>\n       <path d=\"M 0 0 \nL 0 3.5 \n\" id=\"mc4306dcb89\" style=\"stroke:#000000;stroke-width:0.8;\"/>\n      </defs>\n      <g>\n       <use style=\"stroke:#000000;stroke-width:0.8;\" x=\"54.868182\" xlink:href=\"#mc4306dcb89\" y=\"224.64\"/>\n      </g>\n     </g>\n     <g id=\"text_1\">\n      <!-- 0 -->\n      <g transform=\"translate(51.686932 239.238437)scale(0.1 -0.1)\">\n       <defs>\n        <path d=\"M 2034 4250 \nQ 1547 4250 1301 3770 \nQ 1056 3291 1056 2328 \nQ 1056 1369 1301 889 \nQ 1547 409 2034 409 \nQ 2525 409 2770 889 \nQ 3016 1369 3016 2328 \nQ 3016 3291 2770 3770 \nQ 2525 4250 2034 4250 \nz\nM 2034 4750 \nQ 2819 4750 3233 4129 \nQ 3647 3509 3647 2328 \nQ 3647 1150 3233 529 \nQ 2819 -91 2034 -91 \nQ 1250 -91 836 529 \nQ 422 1150 422 2328 \nQ 422 3509 836 4129 \nQ 1250 4750 2034 4750 \nz\n\" id=\"DejaVuSans-30\" transform=\"scale(0.015625)\"/>\n       </defs>\n       <use xlink:href=\"#DejaVuSans-30\"/>\n      </g>\n     </g>\n    </g>\n    <g id=\"xtick_2\">\n     <g id=\"line2d_2\">\n      <g>\n       <use style=\"stroke:#000000;stroke-width:0.8;\" x=\"96.590408\" xlink:href=\"#mc4306dcb89\" y=\"224.64\"/>\n      </g>\n     </g>\n     <g id=\"text_2\">\n      <!-- 200 -->\n      <g transform=\"translate(87.046658 239.238437)scale(0.1 -0.1)\">\n       <defs>\n        <path d=\"M 1228 531 \nL 3431 531 \nL 3431 0 \nL 469 0 \nL 469 531 \nQ 828 903 1448 1529 \nQ 2069 2156 2228 2338 \nQ 2531 2678 2651 2914 \nQ 2772 3150 2772 3378 \nQ 2772 3750 2511 3984 \nQ 2250 4219 1831 4219 \nQ 1534 4219 1204 4116 \nQ 875 4013 500 3803 \nL 500 4441 \nQ 881 4594 1212 4672 \nQ 1544 4750 1819 4750 \nQ 2544 4750 2975 4387 \nQ 3406 4025 3406 3419 \nQ 3406 3131 3298 2873 \nQ 3191 2616 2906 2266 \nQ 2828 2175 2409 1742 \nQ 1991 1309 1228 531 \nz\n\" id=\"DejaVuSans-32\" transform=\"scale(0.015625)\"/>\n       </defs>\n       <use xlink:href=\"#DejaVuSans-32\"/>\n       <use x=\"63.623047\" xlink:href=\"#DejaVuSans-30\"/>\n       <use x=\"127.246094\" xlink:href=\"#DejaVuSans-30\"/>\n      </g>\n     </g>\n    </g>\n    <g id=\"xtick_3\">\n     <g id=\"line2d_3\">\n      <g>\n       <use style=\"stroke:#000000;stroke-width:0.8;\" x=\"138.312633\" xlink:href=\"#mc4306dcb89\" y=\"224.64\"/>\n      </g>\n     </g>\n     <g id=\"text_3\">\n      <!-- 400 -->\n      <g transform=\"translate(128.768883 239.238437)scale(0.1 -0.1)\">\n       <defs>\n        <path d=\"M 2419 4116 \nL 825 1625 \nL 2419 1625 \nL 2419 4116 \nz\nM 2253 4666 \nL 3047 4666 \nL 3047 1625 \nL 3713 1625 \nL 3713 1100 \nL 3047 1100 \nL 3047 0 \nL 2419 0 \nL 2419 1100 \nL 313 1100 \nL 313 1709 \nL 2253 4666 \nz\n\" id=\"DejaVuSans-34\" transform=\"scale(0.015625)\"/>\n       </defs>\n       <use xlink:href=\"#DejaVuSans-34\"/>\n       <use x=\"63.623047\" xlink:href=\"#DejaVuSans-30\"/>\n       <use x=\"127.246094\" xlink:href=\"#DejaVuSans-30\"/>\n      </g>\n     </g>\n    </g>\n    <g id=\"xtick_4\">\n     <g id=\"line2d_4\">\n      <g>\n       <use style=\"stroke:#000000;stroke-width:0.8;\" x=\"180.034859\" xlink:href=\"#mc4306dcb89\" y=\"224.64\"/>\n      </g>\n     </g>\n     <g id=\"text_4\">\n      <!-- 600 -->\n      <g transform=\"translate(170.491109 239.238437)scale(0.1 -0.1)\">\n       <defs>\n        <path d=\"M 2113 2584 \nQ 1688 2584 1439 2293 \nQ 1191 2003 1191 1497 \nQ 1191 994 1439 701 \nQ 1688 409 2113 409 \nQ 2538 409 2786 701 \nQ 3034 994 3034 1497 \nQ 3034 2003 2786 2293 \nQ 2538 2584 2113 2584 \nz\nM 3366 4563 \nL 3366 3988 \nQ 3128 4100 2886 4159 \nQ 2644 4219 2406 4219 \nQ 1781 4219 1451 3797 \nQ 1122 3375 1075 2522 \nQ 1259 2794 1537 2939 \nQ 1816 3084 2150 3084 \nQ 2853 3084 3261 2657 \nQ 3669 2231 3669 1497 \nQ 3669 778 3244 343 \nQ 2819 -91 2113 -91 \nQ 1303 -91 875 529 \nQ 447 1150 447 2328 \nQ 447 3434 972 4092 \nQ 1497 4750 2381 4750 \nQ 2619 4750 2861 4703 \nQ 3103 4656 3366 4563 \nz\n\" id=\"DejaVuSans-36\" transform=\"scale(0.015625)\"/>\n       </defs>\n       <use xlink:href=\"#DejaVuSans-36\"/>\n       <use x=\"63.623047\" xlink:href=\"#DejaVuSans-30\"/>\n       <use x=\"127.246094\" xlink:href=\"#DejaVuSans-30\"/>\n      </g>\n     </g>\n    </g>\n    <g id=\"xtick_5\">\n     <g id=\"line2d_5\">\n      <g>\n       <use style=\"stroke:#000000;stroke-width:0.8;\" x=\"221.757085\" xlink:href=\"#mc4306dcb89\" y=\"224.64\"/>\n      </g>\n     </g>\n     <g id=\"text_5\">\n      <!-- 800 -->\n      <g transform=\"translate(212.213335 239.238437)scale(0.1 -0.1)\">\n       <defs>\n        <path d=\"M 2034 2216 \nQ 1584 2216 1326 1975 \nQ 1069 1734 1069 1313 \nQ 1069 891 1326 650 \nQ 1584 409 2034 409 \nQ 2484 409 2743 651 \nQ 3003 894 3003 1313 \nQ 3003 1734 2745 1975 \nQ 2488 2216 2034 2216 \nz\nM 1403 2484 \nQ 997 2584 770 2862 \nQ 544 3141 544 3541 \nQ 544 4100 942 4425 \nQ 1341 4750 2034 4750 \nQ 2731 4750 3128 4425 \nQ 3525 4100 3525 3541 \nQ 3525 3141 3298 2862 \nQ 3072 2584 2669 2484 \nQ 3125 2378 3379 2068 \nQ 3634 1759 3634 1313 \nQ 3634 634 3220 271 \nQ 2806 -91 2034 -91 \nQ 1263 -91 848 271 \nQ 434 634 434 1313 \nQ 434 1759 690 2068 \nQ 947 2378 1403 2484 \nz\nM 1172 3481 \nQ 1172 3119 1398 2916 \nQ 1625 2713 2034 2713 \nQ 2441 2713 2670 2916 \nQ 2900 3119 2900 3481 \nQ 2900 3844 2670 4047 \nQ 2441 4250 2034 4250 \nQ 1625 4250 1398 4047 \nQ 1172 3844 1172 3481 \nz\n\" id=\"DejaVuSans-38\" transform=\"scale(0.015625)\"/>\n       </defs>\n       <use xlink:href=\"#DejaVuSans-38\"/>\n       <use x=\"63.623047\" xlink:href=\"#DejaVuSans-30\"/>\n       <use x=\"127.246094\" xlink:href=\"#DejaVuSans-30\"/>\n      </g>\n     </g>\n    </g>\n    <g id=\"xtick_6\">\n     <g id=\"line2d_6\">\n      <g>\n       <use style=\"stroke:#000000;stroke-width:0.8;\" x=\"263.47931\" xlink:href=\"#mc4306dcb89\" y=\"224.64\"/>\n      </g>\n     </g>\n     <g id=\"text_6\">\n      <!-- 1000 -->\n      <g transform=\"translate(250.75431 239.238437)scale(0.1 -0.1)\">\n       <defs>\n        <path d=\"M 794 531 \nL 1825 531 \nL 1825 4091 \nL 703 3866 \nL 703 4441 \nL 1819 4666 \nL 2450 4666 \nL 2450 531 \nL 3481 531 \nL 3481 0 \nL 794 0 \nL 794 531 \nz\n\" id=\"DejaVuSans-31\" transform=\"scale(0.015625)\"/>\n       </defs>\n       <use xlink:href=\"#DejaVuSans-31\"/>\n       <use x=\"63.623047\" xlink:href=\"#DejaVuSans-30\"/>\n       <use x=\"127.246094\" xlink:href=\"#DejaVuSans-30\"/>\n       <use x=\"190.869141\" xlink:href=\"#DejaVuSans-30\"/>\n      </g>\n     </g>\n    </g>\n    <g id=\"xtick_7\">\n     <g id=\"line2d_7\">\n      <g>\n       <use style=\"stroke:#000000;stroke-width:0.8;\" x=\"305.201536\" xlink:href=\"#mc4306dcb89\" y=\"224.64\"/>\n      </g>\n     </g>\n     <g id=\"text_7\">\n      <!-- 1200 -->\n      <g transform=\"translate(292.476536 239.238437)scale(0.1 -0.1)\">\n       <use xlink:href=\"#DejaVuSans-31\"/>\n       <use x=\"63.623047\" xlink:href=\"#DejaVuSans-32\"/>\n       <use x=\"127.246094\" xlink:href=\"#DejaVuSans-30\"/>\n       <use x=\"190.869141\" xlink:href=\"#DejaVuSans-30\"/>\n      </g>\n     </g>\n    </g>\n    <g id=\"xtick_8\">\n     <g id=\"line2d_8\">\n      <g>\n       <use style=\"stroke:#000000;stroke-width:0.8;\" x=\"346.923762\" xlink:href=\"#mc4306dcb89\" y=\"224.64\"/>\n      </g>\n     </g>\n     <g id=\"text_8\">\n      <!-- 1400 -->\n      <g transform=\"translate(334.198762 239.238437)scale(0.1 -0.1)\">\n       <use xlink:href=\"#DejaVuSans-31\"/>\n       <use x=\"63.623047\" xlink:href=\"#DejaVuSans-34\"/>\n       <use x=\"127.246094\" xlink:href=\"#DejaVuSans-30\"/>\n       <use x=\"190.869141\" xlink:href=\"#DejaVuSans-30\"/>\n      </g>\n     </g>\n    </g>\n   </g>\n   <g id=\"matplotlib.axis_2\">\n    <g id=\"ytick_1\">\n     <g id=\"line2d_9\">\n      <defs>\n       <path d=\"M 0 0 \nL -3.5 0 \n\" id=\"mfb36129852\" style=\"stroke:#000000;stroke-width:0.8;\"/>\n      </defs>\n      <g>\n       <use style=\"stroke:#000000;stroke-width:0.8;\" x=\"39.65\" xlink:href=\"#mfb36129852\" y=\"214.756364\"/>\n      </g>\n     </g>\n     <g id=\"text_9\">\n      <!-- 0 -->\n      <g transform=\"translate(26.2875 218.555582)scale(0.1 -0.1)\">\n       <use xlink:href=\"#DejaVuSans-30\"/>\n      </g>\n     </g>\n    </g>\n    <g id=\"ytick_2\">\n     <g id=\"line2d_10\">\n      <g>\n       <use style=\"stroke:#000000;stroke-width:0.8;\" x=\"39.65\" xlink:href=\"#mfb36129852\" y=\"190.047273\"/>\n      </g>\n     </g>\n     <g id=\"text_10\">\n      <!-- 200 -->\n      <g transform=\"translate(13.5625 193.846491)scale(0.1 -0.1)\">\n       <use xlink:href=\"#DejaVuSans-32\"/>\n       <use x=\"63.623047\" xlink:href=\"#DejaVuSans-30\"/>\n       <use x=\"127.246094\" xlink:href=\"#DejaVuSans-30\"/>\n      </g>\n     </g>\n    </g>\n    <g id=\"ytick_3\">\n     <g id=\"line2d_11\">\n      <g>\n       <use style=\"stroke:#000000;stroke-width:0.8;\" x=\"39.65\" xlink:href=\"#mfb36129852\" y=\"165.338182\"/>\n      </g>\n     </g>\n     <g id=\"text_11\">\n      <!-- 400 -->\n      <g transform=\"translate(13.5625 169.137401)scale(0.1 -0.1)\">\n       <use xlink:href=\"#DejaVuSans-34\"/>\n       <use x=\"63.623047\" xlink:href=\"#DejaVuSans-30\"/>\n       <use x=\"127.246094\" xlink:href=\"#DejaVuSans-30\"/>\n      </g>\n     </g>\n    </g>\n    <g id=\"ytick_4\">\n     <g id=\"line2d_12\">\n      <g>\n       <use style=\"stroke:#000000;stroke-width:0.8;\" x=\"39.65\" xlink:href=\"#mfb36129852\" y=\"140.629091\"/>\n      </g>\n     </g>\n     <g id=\"text_12\">\n      <!-- 600 -->\n      <g transform=\"translate(13.5625 144.42831)scale(0.1 -0.1)\">\n       <use xlink:href=\"#DejaVuSans-36\"/>\n       <use x=\"63.623047\" xlink:href=\"#DejaVuSans-30\"/>\n       <use x=\"127.246094\" xlink:href=\"#DejaVuSans-30\"/>\n      </g>\n     </g>\n    </g>\n    <g id=\"ytick_5\">\n     <g id=\"line2d_13\">\n      <g>\n       <use style=\"stroke:#000000;stroke-width:0.8;\" x=\"39.65\" xlink:href=\"#mfb36129852\" y=\"115.92\"/>\n      </g>\n     </g>\n     <g id=\"text_13\">\n      <!-- 800 -->\n      <g transform=\"translate(13.5625 119.719219)scale(0.1 -0.1)\">\n       <use xlink:href=\"#DejaVuSans-38\"/>\n       <use x=\"63.623047\" xlink:href=\"#DejaVuSans-30\"/>\n       <use x=\"127.246094\" xlink:href=\"#DejaVuSans-30\"/>\n      </g>\n     </g>\n    </g>\n    <g id=\"ytick_6\">\n     <g id=\"line2d_14\">\n      <g>\n       <use style=\"stroke:#000000;stroke-width:0.8;\" x=\"39.65\" xlink:href=\"#mfb36129852\" y=\"91.210909\"/>\n      </g>\n     </g>\n     <g id=\"text_14\">\n      <!-- 1000 -->\n      <g transform=\"translate(7.2 95.010128)scale(0.1 -0.1)\">\n       <use xlink:href=\"#DejaVuSans-31\"/>\n       <use x=\"63.623047\" xlink:href=\"#DejaVuSans-30\"/>\n       <use x=\"127.246094\" xlink:href=\"#DejaVuSans-30\"/>\n       <use x=\"190.869141\" xlink:href=\"#DejaVuSans-30\"/>\n      </g>\n     </g>\n    </g>\n    <g id=\"ytick_7\">\n     <g id=\"line2d_15\">\n      <g>\n       <use style=\"stroke:#000000;stroke-width:0.8;\" x=\"39.65\" xlink:href=\"#mfb36129852\" y=\"66.501818\"/>\n      </g>\n     </g>\n     <g id=\"text_15\">\n      <!-- 1200 -->\n      <g transform=\"translate(7.2 70.301037)scale(0.1 -0.1)\">\n       <use xlink:href=\"#DejaVuSans-31\"/>\n       <use x=\"63.623047\" xlink:href=\"#DejaVuSans-32\"/>\n       <use x=\"127.246094\" xlink:href=\"#DejaVuSans-30\"/>\n       <use x=\"190.869141\" xlink:href=\"#DejaVuSans-30\"/>\n      </g>\n     </g>\n    </g>\n    <g id=\"ytick_8\">\n     <g id=\"line2d_16\">\n      <g>\n       <use style=\"stroke:#000000;stroke-width:0.8;\" x=\"39.65\" xlink:href=\"#mfb36129852\" y=\"41.792727\"/>\n      </g>\n     </g>\n     <g id=\"text_16\">\n      <!-- 1400 -->\n      <g transform=\"translate(7.2 45.591946)scale(0.1 -0.1)\">\n       <use xlink:href=\"#DejaVuSans-31\"/>\n       <use x=\"63.623047\" xlink:href=\"#DejaVuSans-34\"/>\n       <use x=\"127.246094\" xlink:href=\"#DejaVuSans-30\"/>\n       <use x=\"190.869141\" xlink:href=\"#DejaVuSans-30\"/>\n      </g>\n     </g>\n    </g>\n    <g id=\"ytick_9\">\n     <g id=\"line2d_17\">\n      <g>\n       <use style=\"stroke:#000000;stroke-width:0.8;\" x=\"39.65\" xlink:href=\"#mfb36129852\" y=\"17.083636\"/>\n      </g>\n     </g>\n     <g id=\"text_17\">\n      <!-- 1600 -->\n      <g transform=\"translate(7.2 20.882855)scale(0.1 -0.1)\">\n       <use xlink:href=\"#DejaVuSans-31\"/>\n       <use x=\"63.623047\" xlink:href=\"#DejaVuSans-36\"/>\n       <use x=\"127.246094\" xlink:href=\"#DejaVuSans-30\"/>\n       <use x=\"190.869141\" xlink:href=\"#DejaVuSans-30\"/>\n      </g>\n     </g>\n    </g>\n   </g>\n   <g id=\"line2d_18\">\n    <path clip-path=\"url(#p7fbee900bc)\" d=\"M 54.868182 190.541455 \nL 55.076793 214.756364 \nL 55.285404 194.742 \nL 55.494015 214.756364 \nL 55.702626 171.515455 \nL 55.911237 214.756364 \nL 56.119849 191.776909 \nL 56.32846 185.105455 \nL 56.537071 214.756364 \nL 56.954293 214.756364 \nL 57.162904 179.422364 \nL 57.371515 214.756364 \nL 57.580126 176.951455 \nL 57.788738 188.564727 \nL 57.997349 214.756364 \nL 58.20596 192.518182 \nL 58.414571 214.756364 \nL 58.831793 214.756364 \nL 59.040404 167.809091 \nL 59.249016 214.756364 \nL 59.457627 180.040091 \nL 59.666238 214.756364 \nL 59.874849 214.756364 \nL 60.08346 135.687273 \nL 60.292071 214.756364 \nL 60.500682 190.047273 \nL 60.709293 214.756364 \nL 61.752349 214.756364 \nL 61.96096 184.364182 \nL 62.378182 214.756364 \nL 62.586794 134.451818 \nL 62.795405 214.756364 \nL 63.004016 214.756364 \nL 63.212627 202.278273 \nL 63.421238 214.756364 \nL 64.047071 214.756364 \nL 64.255683 163.855636 \nL 64.464294 214.756364 \nL 66.133183 214.756364 \nL 66.550405 158.419636 \nL 66.759016 214.756364 \nL 66.967627 87.381 \nL 67.176238 214.756364 \nL 67.593461 214.756364 \nL 67.802072 192.765273 \nL 68.010683 214.756364 \nL 68.219294 143.964818 \nL 68.427905 172.256727 \nL 68.636516 179.298818 \nL 69.053739 214.756364 \nL 69.26235 214.756364 \nL 69.470961 77.003182 \nL 69.679572 214.756364 \nL 69.888183 209.814545 \nL 70.096794 201.907636 \nL 70.305405 214.756364 \nL 71.348461 214.756364 \nL 71.557072 143.594182 \nL 71.765683 160.025727 \nL 71.974294 156.937091 \nL 72.182905 206.602364 \nL 72.391517 212.038364 \nL 72.600128 179.669455 \nL 72.808739 214.756364 \nL 73.01735 205.366909 \nL 73.225961 214.756364 \nL 73.643183 214.756364 \nL 73.851795 189.676636 \nL 74.060406 214.756364 \nL 74.477628 214.756364 \nL 74.686239 206.355273 \nL 74.89485 192.147545 \nL 75.103461 208.826182 \nL 75.312072 214.756364 \nL 75.520684 214.756364 \nL 75.729295 211.297091 \nL 75.937906 173.245091 \nL 76.146517 214.756364 \nL 76.355128 214.756364 \nL 76.563739 140.629091 \nL 76.77235 119.873455 \nL 76.980961 214.756364 \nL 77.398184 214.756364 \nL 77.606795 155.454545 \nL 77.815406 214.756364 \nL 78.024017 214.756364 \nL 78.232628 187.576364 \nL 78.441239 192.024 \nL 78.64985 214.756364 \nL 78.858462 75.273545 \nL 79.067073 200.425091 \nL 79.275684 214.756364 \nL 80.110128 214.756364 \nL 80.318739 198.077727 \nL 80.527351 214.756364 \nL 81.361795 214.756364 \nL 81.570406 181.893273 \nL 81.779017 204.255 \nL 81.987629 176.580818 \nL 82.19624 209.814545 \nL 82.404851 214.756364 \nL 82.613462 197.954182 \nL 82.822073 214.756364 \nL 83.030684 179.175273 \nL 83.447906 206.108182 \nL 83.656518 175.221818 \nL 83.865129 214.756364 \nL 84.490962 214.756364 \nL 84.908184 173.245091 \nL 85.116795 208.579091 \nL 85.325407 214.756364 \nL 85.534018 192.518182 \nL 85.742629 199.930909 \nL 85.95124 214.756364 \nL 86.159851 214.756364 \nL 86.368462 160.890545 \nL 86.785684 214.756364 \nL 87.411518 214.756364 \nL 87.620129 204.378545 \nL 87.82874 214.756364 \nL 88.037351 158.419636 \nL 88.245962 214.756364 \nL 88.454573 132.722182 \nL 88.871796 214.756364 \nL 89.497629 214.756364 \nL 89.70624 177.692727 \nL 89.914851 214.756364 \nL 90.123463 134.081182 \nL 90.332074 214.756364 \nL 90.540685 200.919273 \nL 90.749296 214.756364 \nL 90.957907 154.095545 \nL 91.166518 198.448364 \nL 91.375129 214.756364 \nL 91.58374 181.646182 \nL 91.792352 214.756364 \nL 92.000963 122.344364 \nL 92.209574 214.756364 \nL 92.418185 158.419636 \nL 92.626796 214.756364 \nL 92.835407 202.648909 \nL 93.044018 214.756364 \nL 93.878463 214.756364 \nL 94.087074 180.781364 \nL 94.295685 214.756364 \nL 94.504296 214.756364 \nL 94.712907 197.707091 \nL 94.921518 214.756364 \nL 95.13013 208.579091 \nL 95.338741 214.756364 \nL 95.547352 214.756364 \nL 95.755963 189.429545 \nL 95.964574 214.756364 \nL 96.173185 214.756364 \nL 96.381796 182.387455 \nL 96.590408 214.756364 \nL 97.00763 214.756364 \nL 97.216241 189.429545 \nL 97.424852 214.756364 \nL 98.050685 214.756364 \nL 98.467908 182.634545 \nL 98.676519 214.756364 \nL 99.302352 214.756364 \nL 99.510963 195.853909 \nL 99.719574 206.849455 \nL 99.928186 181.893273 \nL 100.136797 214.756364 \nL 100.345408 176.210182 \nL 100.554019 212.779636 \nL 100.76263 214.756364 \nL 101.388463 214.756364 \nL 101.597075 100.847455 \nL 101.805686 197.212909 \nL 102.014297 178.928182 \nL 102.431519 214.756364 \nL 102.64013 212.779636 \nL 103.057352 152.242364 \nL 103.474575 214.756364 \nM 103.891797 140.134909 \nL 104.100408 202.648909 \nL 104.309019 214.756364 \nL 104.51763 183.375818 \nL 104.726242 214.756364 \nL 104.934853 210.308727 \nL 105.143464 214.756364 \nL 105.769297 214.756364 \nL 105.977908 202.154727 \nL 106.186519 214.756364 \nL 106.395131 214.756364 \nL 106.603742 202.278273 \nL 106.812353 156.442909 \nL 107.020964 214.756364 \nL 107.229575 155.331 \nL 107.438186 214.756364 \nL 107.646797 201.413455 \nL 107.855408 214.756364 \nL 108.06402 177.445636 \nL 108.272631 214.756364 \nL 108.481242 192.518182 \nL 108.689853 193.506545 \nL 108.898464 214.756364 \nL 109.107075 165.461727 \nL 109.315686 181.399091 \nL 109.524297 209.073273 \nL 109.732909 214.756364 \nL 109.94152 214.756364 \nL 110.150131 188.811818 \nL 110.358742 214.756364 \nL 110.775964 214.756364 \nL 110.984575 193.259455 \nL 111.193186 214.756364 \nL 111.401798 214.756364 \nL 111.610409 171.762545 \nL 112.027631 214.756364 \nL 112.653464 214.756364 \nL 112.862076 175.839545 \nL 113.070687 177.816273 \nL 113.279298 172.750909 \nL 113.487909 206.355273 \nL 113.69652 194.247818 \nL 114.113742 214.756364 \nL 114.739576 214.756364 \nL 114.948187 210.926455 \nL 115.156798 214.756364 \nL 115.782631 214.756364 \nL 115.991242 210.555818 \nL 116.199854 185.352545 \nL 116.408465 214.756364 \nL 116.617076 214.756364 \nL 116.825687 17.083636 \nL 117.034298 169.662273 \nL 117.242909 214.756364 \nL 117.45152 207.837818 \nL 117.660131 214.756364 \nL 117.868743 196.224545 \nL 118.077354 214.756364 \nL 118.285965 214.756364 \nL 118.494576 184.364182 \nL 118.703187 184.364182 \nL 118.911798 214.756364 \nL 119.32902 214.756364 \nL 119.537632 200.919273 \nL 119.746243 214.756364 \nL 120.580687 214.756364 \nL 120.789298 180.410727 \nL 120.99791 214.756364 \nL 121.206521 183.128727 \nL 121.415132 186.958636 \nL 121.623743 169.044545 \nL 121.832354 166.820727 \nL 122.249576 214.756364 \nL 122.458187 177.692727 \nL 122.666799 214.756364 \nL 122.87541 214.756364 \nL 123.084021 193.135909 \nL 123.292632 214.756364 \nL 123.501243 214.756364 \nL 123.709854 204.378545 \nL 123.918465 214.756364 \nL 124.127076 178.186909 \nL 124.544299 214.756364 \nL 124.75291 214.756364 \nL 124.961521 190.047273 \nL 125.378743 214.756364 \nL 125.587354 193.012364 \nL 125.795965 214.756364 \nL 126.004577 214.756364 \nL 126.421799 138.652364 \nL 126.63041 214.756364 \nL 127.047632 214.756364 \nL 127.256243 211.05 \nL 127.464855 201.660545 \nL 127.673466 107.271818 \nL 128.090688 214.756364 \nL 128.925132 214.756364 \nL 129.133744 201.660545 \nL 129.342355 214.756364 \nL 129.550966 199.930909 \nL 129.759577 149.277273 \nL 129.968188 214.756364 \nL 130.176799 214.756364 \nL 130.38541 152.983636 \nL 130.594021 151.748182 \nL 130.802633 199.930909 \nL 131.011244 214.756364 \nL 131.219855 184.240636 \nL 131.428466 177.075 \nL 131.637077 190.047273 \nL 131.845688 214.756364 \nL 133.514577 214.756364 \nL 133.723188 171.515455 \nL 133.931799 212.779636 \nL 134.140411 214.756364 \nL 134.974855 214.756364 \nL 135.183466 212.779636 \nL 135.392077 214.756364 \nL 135.600689 183.252273 \nL 135.8093 199.313182 \nL 136.017911 181.152 \nL 136.226522 214.756364 \nL 137.478189 214.756364 \nL 137.6868 179.175273 \nL 137.895411 214.756364 \nL 138.104022 202.401818 \nL 138.312633 214.756364 \nL 138.729855 214.756364 \nL 138.938467 134.451818 \nL 139.147078 214.756364 \nL 139.772911 214.756364 \nL 139.981522 171.515455 \nL 140.190133 202.401818 \nL 140.398744 214.756364 \nL 140.607356 214.756364 \nL 140.815967 161.384727 \nL 141.024578 214.756364 \nL 141.4418 214.756364 \nL 141.650411 189.676636 \nL 141.859022 214.756364 \nL 142.276245 214.756364 \nL 142.484856 190.047273 \nL 142.693467 199.189636 \nL 142.902078 214.756364 \nL 143.110689 156.319364 \nL 143.3193 205.614 \nL 143.527911 214.756364 \nL 143.736523 196.842273 \nL 143.945134 214.756364 \nL 144.153745 201.413455 \nL 144.362356 214.756364 \nL 144.570967 186.093818 \nL 144.779578 214.756364 \nL 144.988189 168.303273 \nL 145.1968 214.756364 \nL 146.448467 214.756364 \nL 146.657078 190.047273 \nL 146.865689 181.399091 \nL 147.074301 214.756364 \nL 147.282912 205.861091 \nL 147.491523 214.756364 \nL 148.951801 214.756364 \nL 149.160412 209.567455 \nL 149.369023 214.756364 \nL 149.577634 214.756364 \nL 149.786245 175.221818 \nL 149.994856 214.756364 \nL 150.412079 214.756364 \nL 150.62069 194.865545 \nL 150.829301 201.166364 \nL 151.037912 214.756364 \nL 151.455134 214.756364 \nL 151.663745 197.954182 \nL 151.872357 212.532545 \nL 152.080968 214.756364 \nL 152.289579 187.082182 \nL 152.49819 184.117091 \nL 152.915412 214.756364 \nL 153.124023 214.756364 \nL 153.332634 204.872727 \nL 153.541246 177.198545 \nL 153.749857 214.756364 \nL 153.958468 214.756364 \nL 154.167079 188.194091 \nL 154.37569 119.379273 \nL 154.584301 173.245091 \nL 154.792912 161.014091 \nL 155.001523 168.056182 \nL 155.210135 145.323818 \nL 155.418746 214.756364 \nL 155.627357 200.425091 \nL 155.835968 214.756364 \nL 156.044579 214.756364 \nL 156.25319 194.000727 \nL 156.461801 214.756364 \nL 158.547913 214.756364 \nL 158.756524 203.760818 \nL 158.965135 214.756364 \nL 159.173746 179.545909 \nL 159.382357 214.756364 \nL 160.008191 214.756364 \nL 160.216802 170.28 \nL 160.634024 214.756364 \nL 160.842635 214.756364 \nL 161.051246 198.448364 \nL 161.259857 206.108182 \nL 161.468468 203.143091 \nL 161.67708 214.756364 \nL 162.094302 214.756364 \nL 162.302913 177.075 \nL 162.511524 173.615727 \nL 162.720135 100.971 \nL 162.928746 214.756364 \nL 163.763191 214.756364 \nL 163.971802 120.614727 \nL 164.180413 141.370364 \nL 164.389024 214.756364 \nL 164.597635 214.756364 \nL 164.806246 181.646182 \nL 165.014858 214.756364 \nM 165.43208 187.699909 \nL 165.640691 214.756364 \nL 166.892358 214.756364 \nL 167.100969 191.529818 \nL 167.30958 155.578091 \nL 167.518191 142.605818 \nL 167.726802 205.861091 \nL 167.935413 214.756364 \nL 168.144025 192.271091 \nL 168.352636 214.756364 \nL 168.561247 192.765273 \nL 168.769858 214.756364 \nL 169.812914 214.756364 \nL 170.021525 183.87 \nL 170.230136 214.756364 \nL 170.438747 178.681091 \nL 170.647358 214.756364 \nL 171.273191 214.756364 \nL 171.481803 212.532545 \nL 171.690414 192.518182 \nL 171.899025 214.756364 \nL 172.733469 214.756364 \nL 172.942081 184.487727 \nL 173.150692 194.000727 \nL 173.359303 214.756364 \nL 173.567914 214.756364 \nL 173.985136 189.182455 \nL 174.193747 214.756364 \nL 174.402358 214.756364 \nL 174.61097 204.625636 \nL 174.819581 214.756364 \nL 175.028192 214.756364 \nL 175.236803 202.772455 \nL 175.445414 214.756364 \nL 175.654025 173.368636 \nL 175.862636 204.255 \nL 176.071247 176.951455 \nL 176.48847 214.756364 \nL 176.697081 214.756364 \nL 176.905692 189.058909 \nL 177.114303 214.756364 \nL 177.948748 214.756364 \nL 178.157359 162.867273 \nL 178.36597 214.756364 \nL 178.574581 193.753636 \nL 178.783192 214.756364 \nL 178.991803 185.352545 \nL 179.200414 214.756364 \nL 179.409025 205.861091 \nL 179.617637 158.049 \nL 179.826248 214.756364 \nL 180.034859 180.163636 \nL 180.24347 214.756364 \nL 180.660692 214.756364 \nL 181.077915 193.012364 \nL 181.286526 214.756364 \nL 181.703748 214.756364 \nL 181.912359 191.035636 \nL 182.12097 189.553091 \nL 182.329581 185.970273 \nL 182.746804 214.756364 \nL 182.955415 214.756364 \nL 183.164026 195.483273 \nL 183.372637 214.756364 \nL 183.581248 214.756364 \nL 183.789859 158.913818 \nL 184.207081 214.756364 \nL 184.415693 214.756364 \nL 184.624304 195.853909 \nL 184.832915 151.377545 \nL 185.041526 179.175273 \nL 185.250137 182.511 \nL 185.458748 214.756364 \nL 185.667359 194.494909 \nL 185.87597 191.035636 \nL 186.084582 182.758091 \nL 186.293193 214.756364 \nL 186.710415 188.935364 \nL 186.919026 214.756364 \nL 188.170693 214.756364 \nL 188.379304 156.442909 \nL 188.587915 214.756364 \nL 188.796526 214.756364 \nL 189.005137 182.263909 \nL 189.213749 194.742 \nL 189.42236 214.756364 \nL 189.630971 214.756364 \nL 190.048193 171.391909 \nL 190.256804 214.756364 \nM 190.674026 214.756364 \nL 191.091249 214.756364 \nL 191.29986 133.216364 \nL 191.717082 208.084909 \nL 191.925693 214.756364 \nL 192.342915 214.756364 \nL 192.760138 149.524364 \nL 193.17736 214.756364 \nL 193.385971 214.756364 \nL 193.594582 209.814545 \nL 193.803193 200.795727 \nL 194.011804 182.881636 \nL 194.220416 214.756364 \nL 195.05486 214.756364 \nL 195.263471 201.660545 \nL 195.472082 214.756364 \nL 196.097916 214.756364 \nL 196.306527 157.431273 \nL 196.515138 207.714273 \nL 196.723749 214.756364 \nL 197.140971 214.756364 \nL 197.349583 188.194091 \nL 197.558194 211.05 \nL 197.766805 214.756364 \nL 198.392638 214.756364 \nL 198.601249 183.128727 \nL 198.80986 196.595182 \nL 199.018472 70.208182 \nL 199.227083 178.557545 \nL 199.435694 214.756364 \nL 199.644305 214.756364 \nL 199.852916 205.861091 \nL 200.061527 214.756364 \nL 200.687361 214.756364 \nL 200.895972 136.922727 \nL 201.104583 194.000727 \nL 201.313194 157.184182 \nL 201.521805 214.756364 \nL 201.730416 201.289909 \nL 201.939027 214.756364 \nL 202.147638 171.391909 \nL 202.564861 214.756364 \nL 202.773472 209.691 \nL 202.982083 214.756364 \nL 203.399305 214.756364 \nL 203.816528 179.051727 \nL 204.442361 214.756364 \nL 204.650972 134.328273 \nL 204.859583 214.756364 \nL 205.068194 214.756364 \nL 205.276805 193.877182 \nL 205.485417 214.756364 \nL 205.694028 214.756364 \nL 205.902639 172.750909 \nL 206.11125 214.756364 \nL 206.319861 182.634545 \nL 206.528472 204.625636 \nL 206.737083 203.019545 \nL 206.945694 214.756364 \nL 207.154306 214.756364 \nL 207.362917 160.149273 \nL 207.780139 214.756364 \nL 209.449028 214.756364 \nL 209.657639 201.413455 \nL 209.86625 214.756364 \nL 210.074861 214.756364 \nL 210.283472 179.051727 \nL 210.492084 214.756364 \nL 210.700695 214.756364 \nL 210.909306 172.998 \nL 211.117917 214.756364 \nL 211.74375 214.756364 \nL 211.952362 192.765273 \nL 212.160973 214.756364 \nL 212.369584 104.306727 \nL 212.578195 214.756364 \nL 212.786806 174.233455 \nL 212.995417 170.28 \nL 213.204028 151.377545 \nL 213.412639 214.756364 \nL 213.829862 214.756364 \nL 214.038473 131.610273 \nL 214.247084 214.756364 \nL 214.455695 179.669455 \nL 214.664306 209.567455 \nL 214.872917 214.756364 \nL 215.081528 214.756364 \nL 215.29014 140.258455 \nL 215.498751 214.756364 \nL 215.915973 214.756364 \nL 216.124584 214.632818 \nL 216.333195 168.426818 \nL 216.750417 185.105455 \nL 216.959029 214.756364 \nL 217.16764 175.221818 \nL 217.376251 203.637273 \nL 217.793473 214.756364 \nL 218.002084 214.756364 \nL 218.210695 201.907636 \nL 218.419306 214.756364 \nL 219.253751 214.756364 \nL 219.462362 195.359727 \nL 219.670973 213.397364 \nL 219.879584 214.756364 \nL 220.088196 214.756364 \nL 220.296807 197.46 \nL 220.505418 214.756364 \nL 220.714029 198.695455 \nL 220.92264 196.471636 \nL 221.131251 214.756364 \nL 221.339862 108.507273 \nL 221.548473 183.622909 \nL 221.757085 214.756364 \nL 222.174307 214.756364 \nL 222.382918 162.373091 \nL 222.591529 214.756364 \nL 222.80014 183.128727 \nL 223.008751 214.756364 \nL 223.217362 214.756364 \nL 223.425974 85.404273 \nL 223.634585 214.756364 \nL 224.051807 193.877182 \nL 224.260418 214.756364 \nL 224.469029 184.734818 \nL 224.67764 214.756364 \nL 224.886251 160.149273 \nL 225.094863 214.756364 \nL 225.303474 196.471636 \nL 225.512085 204.872727 \nL 225.720696 198.942545 \nL 225.929307 214.756364 \nL 226.763752 214.756364 \nL 226.972363 113.943273 \nL 227.180974 214.756364 \nL 227.806807 214.756364 \nL 228.015418 166.944273 \nL 228.22403 214.756364 \nL 228.432641 187.205727 \nL 228.849863 197.954182 \nL 229.058474 214.756364 \nL 229.267085 214.756364 \nL 229.475696 195.236182 \nL 229.684307 214.756364 \nL 230.310141 214.756364 \nL 230.518752 192.147545 \nL 230.727363 214.756364 \nL 231.144585 214.756364 \nL 231.353196 197.830636 \nL 231.561808 214.756364 \nL 231.770419 214.756364 \nL 231.97903 170.28 \nL 232.396252 209.814545 \nL 232.604863 214.756364 \nL 232.813474 200.548636 \nL 233.022085 214.756364 \nL 233.647919 214.756364 \nL 233.85653 191.406273 \nL 234.065141 187.576364 \nL 234.273752 214.756364 \nL 235.108197 214.756364 \nL 235.316808 205.366909 \nL 235.525419 180.904909 \nL 235.73403 214.756364 \nL 235.942641 214.756364 \nL 236.151252 184.364182 \nL 236.359864 214.756364 \nL 236.568475 200.425091 \nL 236.777086 214.756364 \nL 237.61153 214.756364 \nL 237.820141 188.070545 \nL 238.028753 214.756364 \nL 238.237364 203.637273 \nL 238.445975 214.756364 \nL 238.654586 200.301545 \nL 238.863197 214.756364 \nL 239.071808 214.756364 \nL 239.280419 207.343636 \nL 239.48903 207.343636 \nL 239.697642 199.683818 \nL 239.906253 214.756364 \nL 240.114864 214.756364 \nL 240.323475 203.637273 \nL 240.532086 214.756364 \nL 240.740697 203.390182 \nL 240.949308 214.756364 \nL 241.366531 214.756364 \nL 241.575142 163.485 \nL 241.783753 214.756364 \nL 241.992364 214.756364 \nL 242.200975 120.861818 \nL 242.409586 214.756364 \nL 243.03542 214.756364 \nL 243.244031 211.420636 \nL 243.661253 201.166364 \nL 243.869864 189.058909 \nL 244.078475 214.756364 \nL 244.495698 214.756364 \nL 244.704309 170.156455 \nL 244.91292 214.756364 \nL 245.330142 214.756364 \nL 245.538753 205.366909 \nL 245.747364 204.872727 \nL 245.955975 214.756364 \nL 246.581809 214.756364 \nL 246.79042 201.784091 \nL 246.999031 214.756364 \nL 247.416253 214.756364 \nL 247.624864 195.359727 \nL 247.833476 214.756364 \nL 248.042087 172.750909 \nL 248.250698 172.503818 \nL 248.459309 214.756364 \nL 248.66792 179.545909 \nL 248.876531 214.756364 \nL 249.085142 214.756364 \nL 249.293754 177.445636 \nL 249.502365 188.811818 \nL 249.710976 214.756364 \nL 249.919587 201.413455 \nM 250.336809 214.756364 \nL 250.962643 214.756364 \nL 251.171254 177.939818 \nL 251.379865 214.756364 \nL 251.588476 214.756364 \nL 251.797087 147.918273 \nL 252.005698 214.756364 \nL 252.42292 185.599636 \nL 252.631532 196.965818 \nL 252.840143 214.756364 \nL 253.465976 214.756364 \nL 253.674587 186.093818 \nL 253.883198 183.87 \nL 254.091809 162.496636 \nL 254.300421 214.756364 \nL 255.134865 214.756364 \nL 255.343476 162.373091 \nL 255.552087 214.756364 \nL 255.760698 214.756364 \nL 255.96931 209.320364 \nL 256.177921 214.756364 \nL 256.386532 214.756364 \nL 256.595143 196.101 \nL 256.803754 214.756364 \nL 257.012365 201.784091 \nL 257.220976 214.756364 \nL 257.429588 201.660545 \nL 257.638199 214.756364 \nM 258.055421 214.756364 \nL 258.472643 214.756364 \nM 258.889865 214.756364 \nL 259.098477 214.756364 \nL 259.307088 188.811818 \nL 259.515699 94.299545 \nL 259.72431 212.779636 \nL 259.932921 214.756364 \nL 260.558754 214.756364 \nL 260.767366 159.160909 \nL 260.975977 177.939818 \nL 261.184588 214.756364 \nL 261.393199 162.496636 \nL 261.60181 214.756364 \nL 261.810421 172.750909 \nL 262.019032 214.756364 \nL 262.227643 186.340909 \nL 262.436255 214.756364 \nL 262.644866 214.756364 \nL 262.853477 144.211909 \nL 263.062088 214.756364 \nL 263.270699 211.791273 \nL 263.47931 214.756364 \nL 263.687921 214.756364 \nL 263.896532 208.208455 \nL 264.105144 194.494909 \nL 264.313755 212.779636 \nL 264.522366 187.576364 \nL 264.730977 214.756364 \nL 264.939588 214.756364 \nL 265.148199 201.413455 \nL 265.35681 214.756364 \nL 266.191255 214.756364 \nL 266.399866 189.306 \nL 266.608477 214.756364 \nL 266.817088 190.541455 \nL 267.025699 214.756364 \nL 267.442922 196.842273 \nL 267.651533 214.756364 \nL 267.860144 204.378545 \nL 268.068755 214.756364 \nL 268.277366 213.026727 \nL 268.485977 214.756364 \nL 268.694588 214.756364 \nL 268.9032 174.727636 \nL 269.111811 172.998 \nL 269.320422 214.756364 \nL 269.529033 180.040091 \nL 269.737644 214.756364 \nL 270.154866 214.756364 \nL 270.363477 178.310455 \nL 270.572089 214.756364 \nL 270.7807 214.756364 \nL 270.989311 206.108182 \nL 271.197922 165.832364 \nL 271.406533 214.756364 \nL 271.615144 214.756364 \nL 271.823755 206.478818 \nL 272.032367 183.622909 \nL 272.240978 198.077727 \nL 272.449589 202.525364 \nL 272.6582 214.756364 \nL 272.866811 214.756364 \nL 273.075422 189.058909 \nL 273.284033 214.756364 \nL 273.492644 205.490455 \nL 273.701256 214.756364 \nL 274.118478 214.756364 \nL 274.327089 181.152 \nL 274.5357 196.842273 \nL 274.744311 188.811818 \nL 274.952922 194.989091 \nL 275.161533 185.105455 \nL 275.370145 214.756364 \nL 275.578756 195.730364 \nL 275.787367 155.454545 \nL 275.995978 214.756364 \nL 276.621811 214.756364 \nL 276.830422 190.047273 \nL 277.039034 214.756364 \nL 277.247645 214.756364 \nL 277.456256 170.28 \nL 277.664867 214.756364 \nL 277.873478 214.756364 \nL 278.082089 199.930909 \nL 278.2907 214.756364 \nL 278.499311 214.756364 \nL 278.707923 197.46 \nL 278.916534 214.756364 \nL 279.542367 214.756364 \nL 279.750978 193.877182 \nL 279.959589 214.756364 \nL 280.168201 196.965818 \nL 280.376812 214.756364 \nL 280.585423 202.401818 \nL 280.794034 162.249545 \nL 281.002645 214.756364 \nL 281.628478 214.756364 \nL 281.83709 208.579091 \nL 282.045701 214.756364 \nL 282.254312 214.756364 \nL 282.462923 188.564727 \nL 282.671534 214.756364 \nL 282.880145 194.247818 \nL 283.088756 214.756364 \nL 283.923201 214.756364 \nL 284.131812 189.306 \nL 284.340423 214.756364 \nL 284.549034 214.756364 \nL 284.757645 209.196818 \nL 284.966256 214.756364 \nL 285.174868 177.198545 \nL 285.383479 170.032909 \nL 285.59209 214.756364 \nL 286.009312 214.756364 \nL 286.217923 209.567455 \nL 286.426534 214.756364 \nL 286.635145 133.216364 \nL 286.843757 214.756364 \nL 287.260979 214.756364 \nL 287.46959 174.233455 \nL 287.678201 214.756364 \nL 288.512646 214.756364 \nL 288.721257 190.541455 \nL 288.929868 214.756364 \nL 289.138479 214.756364 \nL 289.34709 193.753636 \nL 289.555701 214.756364 \nL 289.764312 198.695455 \nL 289.972924 214.756364 \nL 290.181535 214.756364 \nL 290.390146 192.518182 \nL 290.598757 214.756364 \nL 292.684868 214.756364 \nL 292.893479 209.320364 \nL 293.10209 172.750909 \nL 293.310702 214.756364 \nL 293.727924 214.756364 \nL 293.936535 204.255 \nL 294.145146 214.756364 \nL 294.77098 214.756364 \nL 294.979591 198.448364 \nL 295.188202 214.756364 \nL 295.396813 214.756364 \nL 295.605424 179.175273 \nL 295.814035 214.756364 \nL 296.022646 214.756364 \nL 296.231257 194.247818 \nL 296.439869 191.776909 \nL 296.64848 181.399091 \nL 296.857091 214.756364 \nL 297.065702 205.861091 \nL 297.274313 214.756364 \nL 297.691535 214.756364 \nL 297.900146 181.646182 \nL 298.108758 205.861091 \nL 298.317369 214.756364 \nL 298.52598 214.756364 \nL 298.734591 44.510727 \nL 298.943202 214.756364 \nL 299.777647 214.756364 \nL 299.986258 173.121545 \nL 300.194869 214.756364 \nL 301.029313 214.756364 \nL 301.237924 191.776909 \nL 301.446536 214.756364 \nL 301.655147 214.756364 \nL 301.863758 186.835091 \nL 302.072369 214.756364 \nL 302.489591 214.756364 \nL 302.698202 203.019545 \nL 302.906814 214.756364 \nL 303.115425 196.348091 \nL 303.324036 158.419636 \nL 303.532647 214.756364 \nL 303.741258 162.249545 \nL 304.15848 214.756364 \nL 304.784314 214.756364 \nL 304.992925 208.455545 \nL 305.201536 214.756364 \nL 305.618758 214.756364 \nL 305.827369 193.630091 \nL 306.03598 214.756364 \nL 306.244592 185.846727 \nL 306.453203 214.756364 \nL 306.661814 199.930909 \nL 306.870425 214.756364 \nL 307.079036 162.867273 \nL 307.287647 214.756364 \nL 308.539314 214.756364 \nL 308.747925 205.861091 \nL 308.956536 214.756364 \nL 309.165147 185.599636 \nL 309.373758 214.756364 \nL 309.58237 214.756364 \nL 309.790981 175.221818 \nL 309.999592 209.320364 \nL 310.208203 214.756364 \nL 310.416814 206.973 \nL 310.625425 205.614 \nL 310.834036 177.692727 \nL 311.042648 120.120545 \nL 311.251259 214.756364 \nL 311.45987 214.632818 \nL 311.668481 199.930909 \nL 311.877092 214.756364 \nL 312.085703 192.518182 \nL 312.294314 214.756364 \nL 312.502925 214.756364 \nL 312.711537 201.660545 \nL 312.920148 214.756364 \nL 313.128759 214.756364 \nL 313.33737 210.802909 \nL 313.545981 183.622909 \nL 313.754592 214.756364 \nL 313.963203 204.749182 \nM 314.380426 214.756364 \nL 314.589037 205.614 \nL 314.797648 214.756364 \nL 315.006259 173.368636 \nL 315.21487 214.756364 \nL 315.632092 214.756364 \nL 315.840703 194.618455 \nL 316.049315 214.756364 \nL 316.257926 214.756364 \nL 316.466537 203.390182 \nL 316.675148 214.756364 \nL 316.883759 146.312182 \nL 317.09237 214.756364 \nL 317.300981 192.271091 \nL 317.509592 214.756364 \nL 318.552648 214.756364 \nL 318.761259 187.823455 \nL 318.96987 214.756364 \nL 319.178482 214.756364 \nL 319.387093 136.675636 \nL 319.595704 192.518182 \nL 319.804315 214.756364 \nL 320.012926 214.756364 \nL 320.221537 200.672182 \nL 320.430148 204.378545 \nL 320.638759 214.756364 \nL 320.847371 144.706091 \nL 321.055982 214.756364 \nL 321.264593 170.403545 \nM 321.681815 214.756364 \nL 321.890426 201.166364 \nL 322.307648 214.756364 \nL 322.933482 214.756364 \nL 323.142093 159.037364 \nL 323.350704 138.034636 \nL 323.559315 214.756364 \nL 323.767926 117.402545 \nL 323.976537 204.131455 \nL 324.185149 181.646182 \nL 324.39376 214.756364 \nL 324.810982 214.756364 \nL 325.019593 194.000727 \nL 325.228204 196.471636 \nL 325.436815 204.625636 \nL 325.645427 116.414182 \nL 325.854038 214.756364 \nL 326.062649 172.256727 \nL 326.27126 214.756364 \nL 326.479871 166.450091 \nL 326.897093 200.301545 \nL 327.105704 177.692727 \nL 327.314316 203.143091 \nL 327.522927 214.756364 \nL 327.731538 214.756364 \nL 327.940149 203.884364 \nL 328.14876 214.756364 \nL 328.357371 204.872727 \nL 328.565982 173.245091 \nL 328.983205 214.756364 \nL 329.191816 214.756364 \nL 329.400427 181.399091 \nL 329.609038 214.756364 \nL 329.817649 192.765273 \nL 330.02626 198.448364 \nL 330.234871 214.756364 \nL 330.860705 214.756364 \nL 331.069316 161.878909 \nL 331.277927 214.756364 \nL 332.112371 214.756364 \nL 332.320983 164.102727 \nL 332.529594 214.756364 \nL 332.946816 214.756364 \nL 333.155427 176.210182 \nL 333.364038 170.28 \nL 333.572649 145.076727 \nL 333.781261 214.756364 \nL 334.615705 214.756364 \nL 334.824316 196.348091 \nL 335.032927 214.756364 \nL 335.658761 214.756364 \nL 335.867372 202.401818 \nL 336.075983 214.756364 \nL 336.284594 214.756364 \nL 336.493205 169.291636 \nL 336.701816 175.468909 \nL 336.910427 214.756364 \nL 337.119039 143.223545 \nL 337.32765 214.756364 \nL 337.536261 197.089364 \nL 337.953483 214.756364 \nL 338.162094 188.070545 \nL 338.370705 206.602364 \nL 338.579316 214.756364 \nL 338.787928 212.779636 \nL 338.996539 214.756364 \nL 339.622372 214.756364 \nL 339.830983 195.236182 \nL 340.039594 214.756364 \nL 340.248205 193.753636 \nL 340.456817 193.630091 \nL 340.665428 214.756364 \nL 341.08265 214.756364 \nL 341.291261 127.656818 \nL 341.499872 214.756364 \nL 341.708483 204.872727 \nL 341.917095 214.756364 \nL 342.125706 214.756364 \nL 342.334317 164.349818 \nL 342.542928 214.756364 \nL 343.794595 214.756364 \nL 344.003206 192.024 \nL 344.211817 214.756364 \nL 344.420428 194.989091 \nL 344.629039 214.756364 \nL 344.83765 184.611273 \nL 345.046261 214.756364 \nL 345.463484 214.756364 \nL 345.672095 209.196818 \nL 345.880706 184.487727 \nL 346.089317 214.756364 \nL 347.340984 214.756364 \nL 347.549595 204.378545 \nL 347.758206 214.756364 \nL 347.966817 193.259455 \nL 348.175428 214.756364 \nL 348.592651 214.756364 \nL 348.801262 199.560273 \nL 349.009873 214.756364 \nL 349.427095 214.756364 \nL 349.635706 169.538727 \nL 349.844317 214.756364 \nL 350.052929 198.695455 \nL 350.26154 214.756364 \nL 350.470151 124.444636 \nL 350.678762 214.756364 \nL 350.887373 176.210182 \nL 351.095984 162.867273 \nL 351.304595 214.756364 \nL 351.513206 193.753636 \nL 351.721818 214.756364 \nL 351.930429 214.756364 \nL 352.347651 159.408 \nL 352.556262 214.756364 \nL 352.764873 178.434 \nL 352.973484 176.457273 \nL 353.182095 214.756364 \nL 353.599318 214.756364 \nL 353.807929 175.468909 \nL 354.01654 214.756364 \nL 354.225151 185.476091 \nL 354.433762 214.756364 \nL 354.642373 162.126 \nL 354.850984 214.756364 \nL 355.059596 202.896 \nL 355.268207 214.756364 \nL 355.476818 196.595182 \nL 355.685429 194.989091 \nL 355.89404 214.756364 \nL 356.102651 201.660545 \nL 356.311262 214.756364 \nL 356.728485 160.643455 \nL 356.937096 214.756364 \nL 357.354318 214.756364 \nL 357.562929 190.788545 \nL 357.980151 214.756364 \nL 358.397374 214.756364 \nL 358.605985 200.054455 \nL 358.814596 214.756364 \nL 359.231818 214.756364 \nL 359.231818 214.756364 \n\" style=\"fill:none;stroke:#1f77b4;stroke-linecap:square;stroke-width:1.5;\"/>\n   </g>\n   <g id=\"patch_3\">\n    <path d=\"M 39.65 224.64 \nL 39.65 7.2 \n\" style=\"fill:none;stroke:#000000;stroke-linecap:square;stroke-linejoin:miter;stroke-width:0.8;\"/>\n   </g>\n   <g id=\"patch_4\">\n    <path d=\"M 374.45 224.64 \nL 374.45 7.2 \n\" style=\"fill:none;stroke:#000000;stroke-linecap:square;stroke-linejoin:miter;stroke-width:0.8;\"/>\n   </g>\n   <g id=\"patch_5\">\n    <path d=\"M 39.65 224.64 \nL 374.45 224.64 \n\" style=\"fill:none;stroke:#000000;stroke-linecap:square;stroke-linejoin:miter;stroke-width:0.8;\"/>\n   </g>\n   <g id=\"patch_6\">\n    <path d=\"M 39.65 7.2 \nL 374.45 7.2 \n\" style=\"fill:none;stroke:#000000;stroke-linecap:square;stroke-linejoin:miter;stroke-width:0.8;\"/>\n   </g>\n  </g>\n </g>\n <defs>\n  <clipPath id=\"p7fbee900bc\">\n   <rect height=\"217.44\" width=\"334.8\" x=\"39.65\" y=\"7.2\"/>\n  </clipPath>\n </defs>\n</svg>\n",
      "image/png": "[encoded data removed]"
     },
     "metadata": {
      "needs_background": "light"
     }
    }
   ],
   "source": [
    "input_train_df['MasVnrArea'].plot()"
   ]
  },
  {
   "source": [
    "Not actually that many 0s but added flag anyway"
   ],
   "cell_type": "markdown",
   "metadata": {}
  },
  {
   "cell_type": "code",
   "execution_count": 61,
   "metadata": {},
   "outputs": [
    {
     "output_type": "execute_result",
     "data": {
      "text/plain": [
       "     BsmtFinType1 BsmtFinType2  BsmtFinSF1  BsmtFinSF2\n",
       "0             GLQ          Unf         706           0\n",
       "1             ALQ          Unf         978           0\n",
       "2             GLQ          Unf         486           0\n",
       "3             ALQ          Unf         216           0\n",
       "4             GLQ          Unf         655           0\n",
       "...           ...          ...         ...         ...\n",
       "1455          Unf          Unf           0           0\n",
       "1456          ALQ          Rec         790         163\n",
       "1457          GLQ          Unf         275           0\n",
       "1458          GLQ          Rec          49        1029\n",
       "1459          BLQ          LwQ         830         290\n",
       "\n",
       "[1460 rows x 4 columns]"
      ],
      "text/html": "<div>\n<style scoped>\n    .dataframe tbody tr th:only-of-type {\n        vertical-align: middle;\n    }\n\n    .dataframe tbody tr th {\n        vertical-align: top;\n    }\n\n    .dataframe thead th {\n        text-align: right;\n    }\n</style>\n<table border=\"1\" class=\"dataframe\">\n  <thead>\n    <tr style=\"text-align: right;\">\n      <th></th>\n      <th>BsmtFinType1</th>\n      <th>BsmtFinType2</th>\n      <th>BsmtFinSF1</th>\n      <th>BsmtFinSF2</th>\n    </tr>\n  </thead>\n  <tbody>\n    <tr>\n      <th>0</th>\n      <td>GLQ</td>\n      <td>Unf</td>\n      <td>706</td>\n      <td>0</td>\n    </tr>\n    <tr>\n      <th>1</th>\n      <td>ALQ</td>\n      <td>Unf</td>\n      <td>978</td>\n      <td>0</td>\n    </tr>\n    <tr>\n      <th>2</th>\n      <td>GLQ</td>\n      <td>Unf</td>\n      <td>486</td>\n      <td>0</td>\n    </tr>\n    <tr>\n      <th>3</th>\n      <td>ALQ</td>\n      <td>Unf</td>\n      <td>216</td>\n      <td>0</td>\n    </tr>\n    <tr>\n      <th>4</th>\n      <td>GLQ</td>\n      <td>Unf</td>\n      <td>655</td>\n      <td>0</td>\n    </tr>\n    <tr>\n      <th>...</th>\n      <td>...</td>\n      <td>...</td>\n      <td>...</td>\n      <td>...</td>\n    </tr>\n    <tr>\n      <th>1455</th>\n      <td>Unf</td>\n      <td>Unf</td>\n      <td>0</td>\n      <td>0</td>\n    </tr>\n    <tr>\n      <th>1456</th>\n      <td>ALQ</td>\n      <td>Rec</td>\n      <td>790</td>\n      <td>163</td>\n    </tr>\n    <tr>\n      <th>1457</th>\n      <td>GLQ</td>\n      <td>Unf</td>\n      <td>275</td>\n      <td>0</td>\n    </tr>\n    <tr>\n      <th>1458</th>\n      <td>GLQ</td>\n      <td>Rec</td>\n      <td>49</td>\n      <td>1029</td>\n    </tr>\n    <tr>\n      <th>1459</th>\n      <td>BLQ</td>\n      <td>LwQ</td>\n      <td>830</td>\n      <td>290</td>\n    </tr>\n  </tbody>\n</table>\n<p>1460 rows × 4 columns</p>\n</div>"
     },
     "metadata": {},
     "execution_count": 61
    }
   ],
   "source": [
    "input_train_df[['BsmtFinType1', 'BsmtFinType2', 'BsmtFinSF1', 'BsmtFinSF2']]"
   ]
  },
  {
   "cell_type": "code",
   "execution_count": 70,
   "metadata": {},
   "outputs": [
    {
     "output_type": "execute_result",
     "data": {
      "text/plain": [
       "TA    735\n",
       "Gd    586\n",
       "Ex    100\n",
       "Fa     39\n",
       "Name: KitchenQual, dtype: int64"
      ]
     },
     "metadata": {},
     "execution_count": 70
    }
   ],
   "source": [
    "input_train_df['KitchenQual'].value_counts()"
   ]
  },
  {
   "source": [
    "Now lets look at the trends of prices over time. First question - is there any time criteria in how they have split test and control? Its not stated on the website"
   ],
   "cell_type": "markdown",
   "metadata": {}
  },
  {
   "cell_type": "code",
   "execution_count": 83,
   "metadata": {},
   "outputs": [
    {
     "output_type": "execute_result",
     "data": {
      "text/plain": [
       "2009    338\n",
       "2007    329\n",
       "2006    314\n",
       "2008    304\n",
       "2010    175\n",
       "Name: YrSold, dtype: int64"
      ]
     },
     "metadata": {},
     "execution_count": 83
    }
   ],
   "source": [
    "input_train_df['YrSold'].value_counts()"
   ]
  },
  {
   "cell_type": "code",
   "execution_count": 82,
   "metadata": {},
   "outputs": [
    {
     "output_type": "execute_result",
     "data": {
      "text/plain": [
       "2007    363\n",
       "2008    318\n",
       "2009    309\n",
       "2006    305\n",
       "2010    164\n",
       "Name: YrSold, dtype: int64"
      ]
     },
     "metadata": {},
     "execution_count": 82
    }
   ],
   "source": [
    "input_test_df['YrSold'].value_counts()"
   ]
  },
  {
   "source": [
    "Seems fine, similar distribution across both sets. So year of sale will be important. Maybe its worth looking at inflation by area over time"
   ],
   "cell_type": "markdown",
   "metadata": {}
  },
  {
   "cell_type": "code",
   "execution_count": 97,
   "metadata": {},
   "outputs": [],
   "source": [
    "test = process_data(input_train_df)"
   ]
  },
  {
   "cell_type": "code",
   "execution_count": 98,
   "metadata": {},
   "outputs": [
    {
     "output_type": "execute_result",
     "data": {
      "text/plain": [
       "                            0        1\n",
       "Id                          1        2\n",
       "LotFrontage              65.0     80.0\n",
       "LotArea                  8450     9600\n",
       "Street                   Pave     Pave\n",
       "LotShape                  Reg      Reg\n",
       "LandContour               Lvl      Lvl\n",
       "Utilities              AllPub   AllPub\n",
       "LotConfig              Inside      FR2\n",
       "LandSlope                 Gtl      Gtl\n",
       "Neighborhood          CollgCr  Veenker\n",
       "Condition1               Norm    Feedr\n",
       "Condition2               Norm     Norm\n",
       "BldgType                 1Fam     1Fam\n",
       "HouseStyle             2Story   1Story\n",
       "OverallQual                 7        6\n",
       "OverallCond                 5        8\n",
       "YearBuilt                2003     1976\n",
       "YearRemodAdd             2003     1976\n",
       "RoofStyle               Gable    Gable\n",
       "RoofMatl              CompShg  CompShg\n",
       "Exterior1st           VinylSd  MetalSd\n",
       "Exterior2nd           VinylSd  MetalSd\n",
       "MasVnrType            BrkFace     None\n",
       "MasVnrArea              196.0      0.0\n",
       "ExterQual                  Gd       TA\n",
       "ExterCond                  TA       TA\n",
       "Foundation              PConc   CBlock\n",
       "BsmtQual                   Gd       Gd\n",
       "BsmtCond                   TA       TA\n",
       "BsmtExposure               No       Gd\n",
       "BsmtFinType1              GLQ      ALQ\n",
       "BsmtFinSF1                706      978\n",
       "BsmtFinType2              Unf      Unf\n",
       "BsmtFinSF2                  0        0\n",
       "BsmtUnfSF                 150      284\n",
       "TotalBsmtSF               856     1262\n",
       "Heating                  GasA     GasA\n",
       "HeatingQC                  Ex       Ex\n",
       "CentralAir                  Y        Y\n",
       "Electrical              SBrkr    SBrkr\n",
       "1stFlrSF                  856     1262\n",
       "2ndFlrSF                  854        0\n",
       "LowQualFinSF                0        0\n",
       "GrLivArea                1710     1262\n",
       "BsmtFullBath                1        0\n",
       "BsmtHalfBath                0        1\n",
       "FullBath                    2        2\n",
       "HalfBath                    1        0\n",
       "BedroomAbvGr                3        3\n",
       "KitchenAbvGr                1        1\n",
       "KitchenQual                Gd       TA\n",
       "TotRmsAbvGrd                8        6\n",
       "Functional                Typ      Typ\n",
       "Fireplaces                  0        1\n",
       "FireplaceQu               NaN       TA\n",
       "GarageType             Attchd   Attchd\n",
       "GarageYrBlt            2003.0   1976.0\n",
       "GarageFinish              RFn      RFn\n",
       "GarageCars                  2        2\n",
       "GarageArea                548      460\n",
       "GarageQual                 TA       TA\n",
       "GarageCond                 TA       TA\n",
       "PavedDrive                  Y        Y\n",
       "WoodDeckSF                  0      298\n",
       "OpenPorchSF                61        0\n",
       "EnclosedPorch               0        0\n",
       "3SsnPorch                   0        0\n",
       "ScreenPorch                 0        0\n",
       "PoolArea                    0        0\n",
       "PoolQC                    NaN      NaN\n",
       "Fence                     NaN      NaN\n",
       "MiscFeature               NaN      NaN\n",
       "MiscVal                     0        0\n",
       "YrSold                   2008     2007\n",
       "SaleCondition          Normal   Normal\n",
       "SalePrice              208500   181500\n",
       "MSSubClass_20               0        1\n",
       "MSSubClass_30               0        0\n",
       "MSSubClass_40               0        0\n",
       "MSSubClass_45               0        0\n",
       "MSSubClass_50               0        0\n",
       "MSSubClass_60               1        0\n",
       "MSSubClass_70               0        0\n",
       "MSSubClass_75               0        0\n",
       "MSSubClass_80               0        0\n",
       "MSSubClass_85               0        0\n",
       "MSSubClass_90               0        0\n",
       "MSSubClass_120              0        0\n",
       "MSSubClass_160              0        0\n",
       "MSSubClass_180              0        0\n",
       "MSSubClass_190              0        0\n",
       "MSZoning_C (all)            0        0\n",
       "MSZoning_FV                 0        0\n",
       "MSZoning_RH                 0        0\n",
       "MSZoning_RL                 1        1\n",
       "MSZoning_RM                 0        0\n",
       "Alley_Grvl                  0        0\n",
       "Alley_Pave                  0        0\n",
       "MoSold_1                    0        0\n",
       "MoSold_2                    1        0\n",
       "MoSold_3                    0        0\n",
       "MoSold_4                    0        0\n",
       "MoSold_5                    0        1\n",
       "MoSold_6                    0        0\n",
       "MoSold_7                    0        0\n",
       "MoSold_8                    0        0\n",
       "MoSold_9                    0        0\n",
       "MoSold_10                   0        0\n",
       "MoSold_11                   0        0\n",
       "MoSold_12                   0        0\n",
       "SaleType_COD                0        0\n",
       "SaleType_CWD                0        0\n",
       "SaleType_Con                0        0\n",
       "SaleType_ConLD              0        0\n",
       "SaleType_ConLI              0        0\n",
       "SaleType_ConLw              0        0\n",
       "SaleType_New                0        0\n",
       "SaleType_Oth                0        0\n",
       "SaleType_WD                 1        1\n",
       "BsmtFinTypeSFUnf            0        0\n",
       "BsmtFinTypeSFALQ            0      978\n",
       "BsmtFinTypeSFBLQ            0        0\n",
       "BsmtFinTypeSFLwQ            0        0\n",
       "BsmtFinTypeSFGLQ          706        0\n",
       "BsmtFinTypeSFRec            0        0\n",
       "HadRemodFlag                0        0\n",
       "YearRemodPre1950Flag      0.0      0.0"
      ],
      "text/html": "<div>\n<style scoped>\n    .dataframe tbody tr th:only-of-type {\n        vertical-align: middle;\n    }\n\n    .dataframe tbody tr th {\n        vertical-align: top;\n    }\n\n    .dataframe thead th {\n        text-align: right;\n    }\n</style>\n<table border=\"1\" class=\"dataframe\">\n  <thead>\n    <tr style=\"text-align: right;\">\n      <th></th>\n      <th>0</th>\n      <th>1</th>\n    </tr>\n  </thead>\n  <tbody>\n    <tr>\n      <th>Id</th>\n      <td>1</td>\n      <td>2</td>\n    </tr>\n    <tr>\n      <th>LotFrontage</th>\n      <td>65.0</td>\n      <td>80.0</td>\n    </tr>\n    <tr>\n      <th>LotArea</th>\n      <td>8450</td>\n      <td>9600</td>\n    </tr>\n    <tr>\n      <th>Street</th>\n      <td>Pave</td>\n      <td>Pave</td>\n    </tr>\n    <tr>\n      <th>LotShape</th>\n      <td>Reg</td>\n      <td>Reg</td>\n    </tr>\n    <tr>\n      <th>LandContour</th>\n      <td>Lvl</td>\n      <td>Lvl</td>\n    </tr>\n    <tr>\n      <th>Utilities</th>\n      <td>AllPub</td>\n      <td>AllPub</td>\n    </tr>\n    <tr>\n      <th>LotConfig</th>\n      <td>Inside</td>\n      <td>FR2</td>\n    </tr>\n    <tr>\n      <th>LandSlope</th>\n      <td>Gtl</td>\n      <td>Gtl</td>\n    </tr>\n    <tr>\n      <th>Neighborhood</th>\n      <td>CollgCr</td>\n      <td>Veenker</td>\n    </tr>\n    <tr>\n      <th>Condition1</th>\n      <td>Norm</td>\n      <td>Feedr</td>\n    </tr>\n    <tr>\n      <th>Condition2</th>\n      <td>Norm</td>\n      <td>Norm</td>\n    </tr>\n    <tr>\n      <th>BldgType</th>\n      <td>1Fam</td>\n      <td>1Fam</td>\n    </tr>\n    <tr>\n      <th>HouseStyle</th>\n      <td>2Story</td>\n      <td>1Story</td>\n    </tr>\n    <tr>\n      <th>OverallQual</th>\n      <td>7</td>\n      <td>6</td>\n    </tr>\n    <tr>\n      <th>OverallCond</th>\n      <td>5</td>\n      <td>8</td>\n    </tr>\n    <tr>\n      <th>YearBuilt</th>\n      <td>2003</td>\n      <td>1976</td>\n    </tr>\n    <tr>\n      <th>YearRemodAdd</th>\n      <td>2003</td>\n      <td>1976</td>\n    </tr>\n    <tr>\n      <th>RoofStyle</th>\n      <td>Gable</td>\n      <td>Gable</td>\n    </tr>\n    <tr>\n      <th>RoofMatl</th>\n      <td>CompShg</td>\n      <td>CompShg</td>\n    </tr>\n    <tr>\n      <th>Exterior1st</th>\n      <td>VinylSd</td>\n      <td>MetalSd</td>\n    </tr>\n    <tr>\n      <th>Exterior2nd</th>\n      <td>VinylSd</td>\n      <td>MetalSd</td>\n    </tr>\n    <tr>\n      <th>MasVnrType</th>\n      <td>BrkFace</td>\n      <td>None</td>\n    </tr>\n    <tr>\n      <th>MasVnrArea</th>\n      <td>196.0</td>\n      <td>0.0</td>\n    </tr>\n    <tr>\n      <th>ExterQual</th>\n      <td>Gd</td>\n      <td>TA</td>\n    </tr>\n    <tr>\n      <th>ExterCond</th>\n      <td>TA</td>\n      <td>TA</td>\n    </tr>\n    <tr>\n      <th>Foundation</th>\n      <td>PConc</td>\n      <td>CBlock</td>\n    </tr>\n    <tr>\n      <th>BsmtQual</th>\n      <td>Gd</td>\n      <td>Gd</td>\n    </tr>\n    <tr>\n      <th>BsmtCond</th>\n      <td>TA</td>\n      <td>TA</td>\n    </tr>\n    <tr>\n      <th>BsmtExposure</th>\n      <td>No</td>\n      <td>Gd</td>\n    </tr>\n    <tr>\n      <th>BsmtFinType1</th>\n      <td>GLQ</td>\n      <td>ALQ</td>\n    </tr>\n    <tr>\n      <th>BsmtFinSF1</th>\n      <td>706</td>\n      <td>978</td>\n    </tr>\n    <tr>\n      <th>BsmtFinType2</th>\n      <td>Unf</td>\n      <td>Unf</td>\n    </tr>\n    <tr>\n      <th>BsmtFinSF2</th>\n      <td>0</td>\n      <td>0</td>\n    </tr>\n    <tr>\n      <th>BsmtUnfSF</th>\n      <td>150</td>\n      <td>284</td>\n    </tr>\n    <tr>\n      <th>TotalBsmtSF</th>\n      <td>856</td>\n      <td>1262</td>\n    </tr>\n    <tr>\n      <th>Heating</th>\n      <td>GasA</td>\n      <td>GasA</td>\n    </tr>\n    <tr>\n      <th>HeatingQC</th>\n      <td>Ex</td>\n      <td>Ex</td>\n    </tr>\n    <tr>\n      <th>CentralAir</th>\n      <td>Y</td>\n      <td>Y</td>\n    </tr>\n    <tr>\n      <th>Electrical</th>\n      <td>SBrkr</td>\n      <td>SBrkr</td>\n    </tr>\n    <tr>\n      <th>1stFlrSF</th>\n      <td>856</td>\n      <td>1262</td>\n    </tr>\n    <tr>\n      <th>2ndFlrSF</th>\n      <td>854</td>\n      <td>0</td>\n    </tr>\n    <tr>\n      <th>LowQualFinSF</th>\n      <td>0</td>\n      <td>0</td>\n    </tr>\n    <tr>\n      <th>GrLivArea</th>\n      <td>1710</td>\n      <td>1262</td>\n    </tr>\n    <tr>\n      <th>BsmtFullBath</th>\n      <td>1</td>\n      <td>0</td>\n    </tr>\n    <tr>\n      <th>BsmtHalfBath</th>\n      <td>0</td>\n      <td>1</td>\n    </tr>\n    <tr>\n      <th>FullBath</th>\n      <td>2</td>\n      <td>2</td>\n    </tr>\n    <tr>\n      <th>HalfBath</th>\n      <td>1</td>\n      <td>0</td>\n    </tr>\n    <tr>\n      <th>BedroomAbvGr</th>\n      <td>3</td>\n      <td>3</td>\n    </tr>\n    <tr>\n      <th>KitchenAbvGr</th>\n      <td>1</td>\n      <td>1</td>\n    </tr>\n    <tr>\n      <th>KitchenQual</th>\n      <td>Gd</td>\n      <td>TA</td>\n    </tr>\n    <tr>\n      <th>TotRmsAbvGrd</th>\n      <td>8</td>\n      <td>6</td>\n    </tr>\n    <tr>\n      <th>Functional</th>\n      <td>Typ</td>\n      <td>Typ</td>\n    </tr>\n    <tr>\n      <th>Fireplaces</th>\n      <td>0</td>\n      <td>1</td>\n    </tr>\n    <tr>\n      <th>FireplaceQu</th>\n      <td>NaN</td>\n      <td>TA</td>\n    </tr>\n    <tr>\n      <th>GarageType</th>\n      <td>Attchd</td>\n      <td>Attchd</td>\n    </tr>\n    <tr>\n      <th>GarageYrBlt</th>\n      <td>2003.0</td>\n      <td>1976.0</td>\n    </tr>\n    <tr>\n      <th>GarageFinish</th>\n      <td>RFn</td>\n      <td>RFn</td>\n    </tr>\n    <tr>\n      <th>GarageCars</th>\n      <td>2</td>\n      <td>2</td>\n    </tr>\n    <tr>\n      <th>GarageArea</th>\n      <td>548</td>\n      <td>460</td>\n    </tr>\n    <tr>\n      <th>GarageQual</th>\n      <td>TA</td>\n      <td>TA</td>\n    </tr>\n    <tr>\n      <th>GarageCond</th>\n      <td>TA</td>\n      <td>TA</td>\n    </tr>\n    <tr>\n      <th>PavedDrive</th>\n      <td>Y</td>\n      <td>Y</td>\n    </tr>\n    <tr>\n      <th>WoodDeckSF</th>\n      <td>0</td>\n      <td>298</td>\n    </tr>\n    <tr>\n      <th>OpenPorchSF</th>\n      <td>61</td>\n      <td>0</td>\n    </tr>\n    <tr>\n      <th>EnclosedPorch</th>\n      <td>0</td>\n      <td>0</td>\n    </tr>\n    <tr>\n      <th>3SsnPorch</th>\n      <td>0</td>\n      <td>0</td>\n    </tr>\n    <tr>\n      <th>ScreenPorch</th>\n      <td>0</td>\n      <td>0</td>\n    </tr>\n    <tr>\n      <th>PoolArea</th>\n      <td>0</td>\n      <td>0</td>\n    </tr>\n    <tr>\n      <th>PoolQC</th>\n      <td>NaN</td>\n      <td>NaN</td>\n    </tr>\n    <tr>\n      <th>Fence</th>\n      <td>NaN</td>\n      <td>NaN</td>\n    </tr>\n    <tr>\n      <th>MiscFeature</th>\n      <td>NaN</td>\n      <td>NaN</td>\n    </tr>\n    <tr>\n      <th>MiscVal</th>\n      <td>0</td>\n      <td>0</td>\n    </tr>\n    <tr>\n      <th>YrSold</th>\n      <td>2008</td>\n      <td>2007</td>\n    </tr>\n    <tr>\n      <th>SaleCondition</th>\n      <td>Normal</td>\n      <td>Normal</td>\n    </tr>\n    <tr>\n      <th>SalePrice</th>\n      <td>208500</td>\n      <td>181500</td>\n    </tr>\n    <tr>\n      <th>MSSubClass_20</th>\n      <td>0</td>\n      <td>1</td>\n    </tr>\n    <tr>\n      <th>MSSubClass_30</th>\n      <td>0</td>\n      <td>0</td>\n    </tr>\n    <tr>\n      <th>MSSubClass_40</th>\n      <td>0</td>\n      <td>0</td>\n    </tr>\n    <tr>\n      <th>MSSubClass_45</th>\n      <td>0</td>\n      <td>0</td>\n    </tr>\n    <tr>\n      <th>MSSubClass_50</th>\n      <td>0</td>\n      <td>0</td>\n    </tr>\n    <tr>\n      <th>MSSubClass_60</th>\n      <td>1</td>\n      <td>0</td>\n    </tr>\n    <tr>\n      <th>MSSubClass_70</th>\n      <td>0</td>\n      <td>0</td>\n    </tr>\n    <tr>\n      <th>MSSubClass_75</th>\n      <td>0</td>\n      <td>0</td>\n    </tr>\n    <tr>\n      <th>MSSubClass_80</th>\n      <td>0</td>\n      <td>0</td>\n    </tr>\n    <tr>\n      <th>MSSubClass_85</th>\n      <td>0</td>\n      <td>0</td>\n    </tr>\n    <tr>\n      <th>MSSubClass_90</th>\n      <td>0</td>\n      <td>0</td>\n    </tr>\n    <tr>\n      <th>MSSubClass_120</th>\n      <td>0</td>\n      <td>0</td>\n    </tr>\n    <tr>\n      <th>MSSubClass_160</th>\n      <td>0</td>\n      <td>0</td>\n    </tr>\n    <tr>\n      <th>MSSubClass_180</th>\n      <td>0</td>\n      <td>0</td>\n    </tr>\n    <tr>\n      <th>MSSubClass_190</th>\n      <td>0</td>\n      <td>0</td>\n    </tr>\n    <tr>\n      <th>MSZoning_C (all)</th>\n      <td>0</td>\n      <td>0</td>\n    </tr>\n    <tr>\n      <th>MSZoning_FV</th>\n      <td>0</td>\n      <td>0</td>\n    </tr>\n    <tr>\n      <th>MSZoning_RH</th>\n      <td>0</td>\n      <td>0</td>\n    </tr>\n    <tr>\n      <th>MSZoning_RL</th>\n      <td>1</td>\n      <td>1</td>\n    </tr>\n    <tr>\n      <th>MSZoning_RM</th>\n      <td>0</td>\n      <td>0</td>\n    </tr>\n    <tr>\n      <th>Alley_Grvl</th>\n      <td>0</td>\n      <td>0</td>\n    </tr>\n    <tr>\n      <th>Alley_Pave</th>\n      <td>0</td>\n      <td>0</td>\n    </tr>\n    <tr>\n      <th>MoSold_1</th>\n      <td>0</td>\n      <td>0</td>\n    </tr>\n    <tr>\n      <th>MoSold_2</th>\n      <td>1</td>\n      <td>0</td>\n    </tr>\n    <tr>\n      <th>MoSold_3</th>\n      <td>0</td>\n      <td>0</td>\n    </tr>\n    <tr>\n      <th>MoSold_4</th>\n      <td>0</td>\n      <td>0</td>\n    </tr>\n    <tr>\n      <th>MoSold_5</th>\n      <td>0</td>\n      <td>1</td>\n    </tr>\n    <tr>\n      <th>MoSold_6</th>\n      <td>0</td>\n      <td>0</td>\n    </tr>\n    <tr>\n      <th>MoSold_7</th>\n      <td>0</td>\n      <td>0</td>\n    </tr>\n    <tr>\n      <th>MoSold_8</th>\n      <td>0</td>\n      <td>0</td>\n    </tr>\n    <tr>\n      <th>MoSold_9</th>\n      <td>0</td>\n      <td>0</td>\n    </tr>\n    <tr>\n      <th>MoSold_10</th>\n      <td>0</td>\n      <td>0</td>\n    </tr>\n    <tr>\n      <th>MoSold_11</th>\n      <td>0</td>\n      <td>0</td>\n    </tr>\n    <tr>\n      <th>MoSold_12</th>\n      <td>0</td>\n      <td>0</td>\n    </tr>\n    <tr>\n      <th>SaleType_COD</th>\n      <td>0</td>\n      <td>0</td>\n    </tr>\n    <tr>\n      <th>SaleType_CWD</th>\n      <td>0</td>\n      <td>0</td>\n    </tr>\n    <tr>\n      <th>SaleType_Con</th>\n      <td>0</td>\n      <td>0</td>\n    </tr>\n    <tr>\n      <th>SaleType_ConLD</th>\n      <td>0</td>\n      <td>0</td>\n    </tr>\n    <tr>\n      <th>SaleType_ConLI</th>\n      <td>0</td>\n      <td>0</td>\n    </tr>\n    <tr>\n      <th>SaleType_ConLw</th>\n      <td>0</td>\n      <td>0</td>\n    </tr>\n    <tr>\n      <th>SaleType_New</th>\n      <td>0</td>\n      <td>0</td>\n    </tr>\n    <tr>\n      <th>SaleType_Oth</th>\n      <td>0</td>\n      <td>0</td>\n    </tr>\n    <tr>\n      <th>SaleType_WD</th>\n      <td>1</td>\n      <td>1</td>\n    </tr>\n    <tr>\n      <th>BsmtFinTypeSFUnf</th>\n      <td>0</td>\n      <td>0</td>\n    </tr>\n    <tr>\n      <th>BsmtFinTypeSFALQ</th>\n      <td>0</td>\n      <td>978</td>\n    </tr>\n    <tr>\n      <th>BsmtFinTypeSFBLQ</th>\n      <td>0</td>\n      <td>0</td>\n    </tr>\n    <tr>\n      <th>BsmtFinTypeSFLwQ</th>\n      <td>0</td>\n      <td>0</td>\n    </tr>\n    <tr>\n      <th>BsmtFinTypeSFGLQ</th>\n      <td>706</td>\n      <td>0</td>\n    </tr>\n    <tr>\n      <th>BsmtFinTypeSFRec</th>\n      <td>0</td>\n      <td>0</td>\n    </tr>\n    <tr>\n      <th>HadRemodFlag</th>\n      <td>0</td>\n      <td>0</td>\n    </tr>\n    <tr>\n      <th>YearRemodPre1950Flag</th>\n      <td>0.0</td>\n      <td>0.0</td>\n    </tr>\n  </tbody>\n</table>\n</div>"
     },
     "metadata": {},
     "execution_count": 98
    }
   ],
   "source": [
    "pd.set_option('max_rows', None)\n",
    "test.head(2).T"
   ]
  },
  {
   "cell_type": "code",
   "execution_count": null,
   "metadata": {},
   "outputs": [],
   "source": []
  }
 ]
}