{
 "metadata": {
  "language_info": {
   "codemirror_mode": {
    "name": "ipython",
    "version": 3
   },
   "file_extension": ".py",
   "mimetype": "text/x-python",
   "name": "python",
   "nbconvert_exporter": "python",
   "pygments_lexer": "ipython3",
   "version": "3.8.8"
  },
  "orig_nbformat": 2,
  "kernelspec": {
   "name": "python388jvsc74a57bd02cafb3199729848de48071f5cfc9db2ba6e5f31612348b291f81e9e98cb6629b",
   "display_name": "Python 3.8.8 64-bit ('titanic': conda)"
  }
 },
 "nbformat": 4,
 "nbformat_minor": 2,
 "cells": [
  {
   "cell_type": "code",
   "execution_count": 1,
   "metadata": {},
   "outputs": [],
   "source": [
    "%load_ext autoreload\n",
    "%autoreload 2"
   ]
  },
  {
   "cell_type": "code",
   "execution_count": 2,
   "metadata": {},
   "outputs": [
    {
     "output_type": "stream",
     "name": "stdout",
     "text": [
      "import_to_df imported\n",
      "process_year_remod imported\n",
      "get_kaggle_data imported\n",
      "process_data imported\n"
     ]
    }
   ],
   "source": [
    "import os \n",
    "funcs = os.listdir('functions')\n",
    "\n",
    "for func in funcs:\n",
    "    if func.startswith('__') or func == 'import_all_functions.py':\n",
    "        continue\n",
    "    func = func.replace('.py','')\n",
    "    print(f'{func} imported')\n",
    "    exec(f'from functions.{func} import *')"
   ]
  },
  {
   "cell_type": "code",
   "execution_count": 3,
   "metadata": {},
   "outputs": [],
   "source": [
    "import pandas as pd \n",
    "import pandas_profiling as pdp\n",
    "import numpy as np\n",
    "import pprint as pp"
   ]
  },
  {
   "cell_type": "code",
   "execution_count": 4,
   "metadata": {},
   "outputs": [
    {
     "output_type": "stream",
     "name": "stdout",
     "text": [
      "files downloaded for house-prices-advanced-regression-techniques competition\n   test.csv\n   data_description.txt\n   train.csv\n   sample_submission.csv\nlocated in /competition_data/\n"
     ]
    }
   ],
   "source": [
    "files = get_kaggle_data(\n",
    "    competition=\"house-prices-advanced-regression-techniques\"\n",
    "    )"
   ]
  },
  {
   "cell_type": "code",
   "execution_count": 5,
   "metadata": {},
   "outputs": [],
   "source": [
    "input_data = import_to_df(files)"
   ]
  },
  {
   "source": [
    "What files did we get?"
   ],
   "cell_type": "markdown",
   "metadata": {}
  },
  {
   "cell_type": "code",
   "execution_count": 6,
   "metadata": {},
   "outputs": [
    {
     "output_type": "execute_result",
     "data": {
      "text/plain": [
       "dict_keys(['test', 'train', 'sample_submission'])"
      ]
     },
     "metadata": {},
     "execution_count": 6
    }
   ],
   "source": [
    "input_data.keys()"
   ]
  },
  {
   "cell_type": "code",
   "execution_count": 7,
   "metadata": {},
   "outputs": [],
   "source": [
    "input_train_df = input_data['train']\n",
    "input_test_df = input_data['test']"
   ]
  },
  {
   "cell_type": "code",
   "execution_count": 8,
   "metadata": {},
   "outputs": [],
   "source": [
    "# Dont keep report cached - slows down notebook too much\n",
    "# pdp.ProfileReport(input_train_df)"
   ]
  },
  {
   "cell_type": "code",
   "execution_count": 9,
   "metadata": {},
   "outputs": [
    {
     "output_type": "stream",
     "name": "stdout",
     "text": [
      "Index(['Id', 'MSSubClass', 'MSZoning', 'LotFrontage', 'LotArea', 'Street',\n       'Alley', 'LotShape', 'LandContour', 'Utilities', 'LotConfig',\n       'LandSlope', 'Neighborhood', 'Condition1', 'Condition2', 'BldgType',\n       'HouseStyle', 'OverallQual', 'OverallCond', 'YearBuilt', 'YearRemodAdd',\n       'RoofStyle', 'RoofMatl', 'Exterior1st', 'Exterior2nd', 'MasVnrType',\n       'MasVnrArea', 'ExterQual', 'ExterCond', 'Foundation', 'BsmtQual',\n       'BsmtCond', 'BsmtExposure', 'BsmtFinType1', 'BsmtFinSF1',\n       'BsmtFinType2', 'BsmtFinSF2', 'BsmtUnfSF', 'TotalBsmtSF', 'Heating',\n       'HeatingQC', 'CentralAir', 'Electrical', '1stFlrSF', '2ndFlrSF',\n       'LowQualFinSF', 'GrLivArea', 'BsmtFullBath', 'BsmtHalfBath', 'FullBath',\n       'HalfBath', 'BedroomAbvGr', 'KitchenAbvGr', 'KitchenQual',\n       'TotRmsAbvGrd', 'Functional', 'Fireplaces', 'FireplaceQu', 'GarageType',\n       'GarageYrBlt', 'GarageFinish', 'GarageCars', 'GarageArea', 'GarageQual',\n       'GarageCond', 'PavedDrive', 'WoodDeckSF', 'OpenPorchSF',\n       'EnclosedPorch', '3SsnPorch', 'ScreenPorch', 'PoolArea', 'PoolQC',\n       'Fence', 'MiscFeature', 'MiscVal', 'MoSold', 'YrSold', 'SaleType',\n       'SaleCondition', 'SalePrice'],\n      dtype='object')\n"
     ]
    }
   ],
   "source": [
    "pp.pprint(input_train_df.columns)"
   ]
  },
  {
   "source": [
    "MSSubClass needs to be categorical.  \n",
    "LotFrontage has missing values - inpute these.  \n",
    "Lot Area has some silly high values - might be mistake.  \n",
    "Street rarely gravel.  \n",
    "Alley mostly missing. has same categories as street - gravel or pave.  \n",
    "Utilies only has 1 NoSeWa value, all Allpub otherwise.  \n",
    "Condition1 and 2 both contain same - transform to one hots shared.  \n",
    "YearRemodAdd has suspicious peak in 1950 - maybe seperate this as a before 1950 flag and remove from column.  \n",
    "YearRemodAdd is same as construction date if no remod - compare these and maybe remove the ones that arent remods.  \n",
    "Exterior has 2 columns - transform into shared one hots.  \n",
    "Count how many materials exterior is made from.  \n",
    "MSSubClass has few missing values.  \n",
    "MasVnrArea has lots of zeros - seperate as a flag?  \n",
    "MSSubClass missing values.  \n",
    "BsmtCond missing values.  \n",
    "BsmtExposure missing values. \n",
    "BsmtFinType1 missing values. \n",
    "BsmtFinType2 missing and duplicates BsmtFinType1 - make into 1 hots should fix this. \n",
    "count how many basement fintypes there arent. \n",
    "BsmtFinSF1 lots of 0s. \n",
    "BsmtFinSF2 lots of 0s. \n",
    "These relate to FinTypes so also create categories of sqfoot per fintypes. \n",
    "2ndFlrSF lots of 0s - presumably no 2nd floor. better as seperate flag. \n",
    "LowQualFinSF mostly 0s. \n",
    "All categorical quality columns better as number probably. \n",
    "FireplaceQu missing values where no Fireplace. \n",
    "Garagetype missing values for no garage. \n",
    "GarageYrBuilt and finish and quality missing values for no garage. \n",
    "Other garage variables 0s for no garage. \n",
    "WooddeckSF 0s. \n",
    "OpenPorchSF 0s. \n",
    "Other porch columns 0s. \n",
    "Fence mostly missing. \n",
    "MiscFeature mostly missing but ok as 1 hots. \n",
    "MiscValue mostly 0s and then high values. \n",
    "MoSold should be categorical. \n",
    "Sale price could be tricky - maybe combine with year sold. Do we need to calculate inflation by area?"
   ],
   "cell_type": "markdown",
   "metadata": {}
  },
  {
   "cell_type": "code",
   "execution_count": 10,
   "metadata": {},
   "outputs": [],
   "source": [
    "dummy_cols = ['MSSubClass', 'MSZoning', 'Alley']\n",
    "# these ones need combining after turning into dummies since values spread over pairs of columns\n",
    "dummy_pairs = [\n",
    "    ('Condition1', 'Condition2')\n",
    "]\n",
    "impute_cols = ['LotFrontage']\n",
    "drop_cols = ['Utilities']"
   ]
  },
  {
   "cell_type": "code",
   "execution_count": 11,
   "metadata": {},
   "outputs": [
    {
     "output_type": "execute_result",
     "data": {
      "text/plain": [
       "count    1460.000000\n",
       "mean     1984.865753\n",
       "std        20.645407\n",
       "min      1950.000000\n",
       "25%      1967.000000\n",
       "50%      1994.000000\n",
       "75%      2004.000000\n",
       "max      2010.000000\n",
       "Name: YearRemodAdd, dtype: float64"
      ]
     },
     "metadata": {},
     "execution_count": 11
    }
   ],
   "source": [
    "input_train_df['YearRemodAdd'].describe()"
   ]
  },
  {
   "source": [
    "Missing values in LotFrontage. Is it specific lot shapes?"
   ],
   "cell_type": "markdown",
   "metadata": {}
  },
  {
   "cell_type": "code",
   "execution_count": 28,
   "metadata": {},
   "outputs": [
    {
     "output_type": "execute_result",
     "data": {
      "text/plain": [
       "          missing  count        mean  missing_pct\n",
       "LotShape                                         \n",
       "IR1         167.0    317   76.094637     0.345041\n",
       "IR2          15.0     26   76.500000     0.365854\n",
       "IR3           3.0      7  138.428571     0.300000\n",
       "Reg          74.0    851   67.038778     0.080000"
      ],
      "text/html": "<div>\n<style scoped>\n    .dataframe tbody tr th:only-of-type {\n        vertical-align: middle;\n    }\n\n    .dataframe tbody tr th {\n        vertical-align: top;\n    }\n\n    .dataframe thead th {\n        text-align: right;\n    }\n</style>\n<table border=\"1\" class=\"dataframe\">\n  <thead>\n    <tr style=\"text-align: right;\">\n      <th></th>\n      <th>missing</th>\n      <th>count</th>\n      <th>mean</th>\n      <th>missing_pct</th>\n    </tr>\n    <tr>\n      <th>LotShape</th>\n      <th></th>\n      <th></th>\n      <th></th>\n      <th></th>\n    </tr>\n  </thead>\n  <tbody>\n    <tr>\n      <th>IR1</th>\n      <td>167.0</td>\n      <td>317</td>\n      <td>76.094637</td>\n      <td>0.345041</td>\n    </tr>\n    <tr>\n      <th>IR2</th>\n      <td>15.0</td>\n      <td>26</td>\n      <td>76.500000</td>\n      <td>0.365854</td>\n    </tr>\n    <tr>\n      <th>IR3</th>\n      <td>3.0</td>\n      <td>7</td>\n      <td>138.428571</td>\n      <td>0.300000</td>\n    </tr>\n    <tr>\n      <th>Reg</th>\n      <td>74.0</td>\n      <td>851</td>\n      <td>67.038778</td>\n      <td>0.080000</td>\n    </tr>\n  </tbody>\n</table>\n</div>"
     },
     "metadata": {},
     "execution_count": 28
    }
   ],
   "source": [
    "lotshape_stats = (\n",
    "    input_train_df\n",
    "        .groupby('LotShape')\n",
    "        .agg({\n",
    "            'LotFrontage': [\n",
    "                lambda x: x.isna().sum(), \n",
    "                'count', \n",
    "                'mean']\n",
    "            })\n",
    ")\n",
    "\n",
    "lotshape_stats.columns = lotshape_stats.columns.droplevel(0)\n",
    "lotshape_stats.rename(columns={'<lambda_0>': 'missing'}, inplace=True)\n",
    "lotshape_stats['missing_pct'] = (\n",
    "    lotshape_stats['missing'] /\n",
    "    (lotshape_stats['missing'] + lotshape_stats['count'])\n",
    ")\n",
    "lotshape_stats"
   ]
  },
  {
   "source": [
    "Seems to be fairly high in the irregular shaped lots.  \n",
    "Hopefully using decent inputer will pick up on this.  "
   ],
   "cell_type": "markdown",
   "metadata": {}
  },
  {
   "source": [
    "Take a look a LotArea outliers in more detail.  "
   ],
   "cell_type": "markdown",
   "metadata": {}
  },
  {
   "cell_type": "code",
   "execution_count": 35,
   "metadata": {},
   "outputs": [
    {
     "output_type": "display_data",
     "data": {
      "text/plain": "count      1460.000000\nmean      10516.828082\nstd        9981.264932\nmin        1300.000000\n25%        7553.500000\n50%        9478.500000\n75%       11601.500000\nmax      215245.000000\nName: LotArea, dtype: float64"
     },
     "metadata": {}
    },
    {
     "output_type": "display_data",
     "data": {
      "text/plain": "        Id  MSSubClass MSZoning  LotFrontage  LotArea Street Alley LotShape  \\\n313    314          20       RL        150.0   215245   Pave   NaN      IR3   \n335    336         190       RL          NaN   164660   Grvl   NaN      IR1   \n249    250          50       RL          NaN   159000   Pave   NaN      IR2   \n706    707          20       RL          NaN   115149   Pave   NaN      IR2   \n451    452          20       RL         62.0    70761   Pave   NaN      IR1   \n...    ...         ...      ...          ...      ...    ...   ...      ...   \n1115  1116          20       RL         93.0    12085   Pave   NaN      Reg   \n988    989          60       RL          NaN    12046   Pave   NaN      IR1   \n238    239          20       RL         93.0    12030   Pave   NaN      Reg   \n359    360          60       RL         78.0    12011   Pave   NaN      IR1   \n157    158          60       RL         92.0    12003   Pave   NaN      Reg   \n\n     LandContour Utilities  ... PoolArea PoolQC Fence MiscFeature MiscVal  \\\n313          Low    AllPub  ...        0    NaN   NaN         NaN       0   \n335          HLS    AllPub  ...        0    NaN   NaN        Shed     700   \n249          Low    AllPub  ...        0    NaN   NaN        Shed     500   \n706          Low    AllPub  ...        0    NaN   NaN         NaN       0   \n451          Low    AllPub  ...        0    NaN   NaN         NaN       0   \n...          ...       ...  ...      ...    ...   ...         ...     ...   \n1115         Lvl    AllPub  ...        0    NaN   NaN         NaN       0   \n988          Lvl    AllPub  ...        0    NaN   NaN         NaN       0   \n238          Lvl    AllPub  ...        0    NaN   NaN         NaN       0   \n359          Lvl    AllPub  ...        0    NaN   NaN         NaN       0   \n157          Lvl    AllPub  ...        0    NaN   NaN         NaN       0   \n\n     MoSold YrSold  SaleType  SaleCondition  SalePrice  \n313       6   2009        WD         Normal     375000  \n335       8   2008        WD         Normal     228950  \n249       6   2007        WD         Normal     277000  \n706       6   2007        WD         Normal     302000  \n451      12   2006        WD         Normal     280000  \n...     ...    ...       ...            ...        ...  \n1115     11   2007       New        Partial     318000  \n988       6   2007        WD         Normal     195000  \n238      12   2007       New        Partial     318000  \n359       6   2006        WD         Normal     280000  \n157       5   2010       New        Partial     269500  \n\n[318 rows x 81 columns]",
      "text/html": "<div>\n<style scoped>\n    .dataframe tbody tr th:only-of-type {\n        vertical-align: middle;\n    }\n\n    .dataframe tbody tr th {\n        vertical-align: top;\n    }\n\n    .dataframe thead th {\n        text-align: right;\n    }\n</style>\n<table border=\"1\" class=\"dataframe\">\n  <thead>\n    <tr style=\"text-align: right;\">\n      <th></th>\n      <th>Id</th>\n      <th>MSSubClass</th>\n      <th>MSZoning</th>\n      <th>LotFrontage</th>\n      <th>LotArea</th>\n      <th>Street</th>\n      <th>Alley</th>\n      <th>LotShape</th>\n      <th>LandContour</th>\n      <th>Utilities</th>\n      <th>...</th>\n      <th>PoolArea</th>\n      <th>PoolQC</th>\n      <th>Fence</th>\n      <th>MiscFeature</th>\n      <th>MiscVal</th>\n      <th>MoSold</th>\n      <th>YrSold</th>\n      <th>SaleType</th>\n      <th>SaleCondition</th>\n      <th>SalePrice</th>\n    </tr>\n  </thead>\n  <tbody>\n    <tr>\n      <th>313</th>\n      <td>314</td>\n      <td>20</td>\n      <td>RL</td>\n      <td>150.0</td>\n      <td>215245</td>\n      <td>Pave</td>\n      <td>NaN</td>\n      <td>IR3</td>\n      <td>Low</td>\n      <td>AllPub</td>\n      <td>...</td>\n      <td>0</td>\n      <td>NaN</td>\n      <td>NaN</td>\n      <td>NaN</td>\n      <td>0</td>\n      <td>6</td>\n      <td>2009</td>\n      <td>WD</td>\n      <td>Normal</td>\n      <td>375000</td>\n    </tr>\n    <tr>\n      <th>335</th>\n      <td>336</td>\n      <td>190</td>\n      <td>RL</td>\n      <td>NaN</td>\n      <td>164660</td>\n      <td>Grvl</td>\n      <td>NaN</td>\n      <td>IR1</td>\n      <td>HLS</td>\n      <td>AllPub</td>\n      <td>...</td>\n      <td>0</td>\n      <td>NaN</td>\n      <td>NaN</td>\n      <td>Shed</td>\n      <td>700</td>\n      <td>8</td>\n      <td>2008</td>\n      <td>WD</td>\n      <td>Normal</td>\n      <td>228950</td>\n    </tr>\n    <tr>\n      <th>249</th>\n      <td>250</td>\n      <td>50</td>\n      <td>RL</td>\n      <td>NaN</td>\n      <td>159000</td>\n      <td>Pave</td>\n      <td>NaN</td>\n      <td>IR2</td>\n      <td>Low</td>\n      <td>AllPub</td>\n      <td>...</td>\n      <td>0</td>\n      <td>NaN</td>\n      <td>NaN</td>\n      <td>Shed</td>\n      <td>500</td>\n      <td>6</td>\n      <td>2007</td>\n      <td>WD</td>\n      <td>Normal</td>\n      <td>277000</td>\n    </tr>\n    <tr>\n      <th>706</th>\n      <td>707</td>\n      <td>20</td>\n      <td>RL</td>\n      <td>NaN</td>\n      <td>115149</td>\n      <td>Pave</td>\n      <td>NaN</td>\n      <td>IR2</td>\n      <td>Low</td>\n      <td>AllPub</td>\n      <td>...</td>\n      <td>0</td>\n      <td>NaN</td>\n      <td>NaN</td>\n      <td>NaN</td>\n      <td>0</td>\n      <td>6</td>\n      <td>2007</td>\n      <td>WD</td>\n      <td>Normal</td>\n      <td>302000</td>\n    </tr>\n    <tr>\n      <th>451</th>\n      <td>452</td>\n      <td>20</td>\n      <td>RL</td>\n      <td>62.0</td>\n      <td>70761</td>\n      <td>Pave</td>\n      <td>NaN</td>\n      <td>IR1</td>\n      <td>Low</td>\n      <td>AllPub</td>\n      <td>...</td>\n      <td>0</td>\n      <td>NaN</td>\n      <td>NaN</td>\n      <td>NaN</td>\n      <td>0</td>\n      <td>12</td>\n      <td>2006</td>\n      <td>WD</td>\n      <td>Normal</td>\n      <td>280000</td>\n    </tr>\n    <tr>\n      <th>...</th>\n      <td>...</td>\n      <td>...</td>\n      <td>...</td>\n      <td>...</td>\n      <td>...</td>\n      <td>...</td>\n      <td>...</td>\n      <td>...</td>\n      <td>...</td>\n      <td>...</td>\n      <td>...</td>\n      <td>...</td>\n      <td>...</td>\n      <td>...</td>\n      <td>...</td>\n      <td>...</td>\n      <td>...</td>\n      <td>...</td>\n      <td>...</td>\n      <td>...</td>\n      <td>...</td>\n    </tr>\n    <tr>\n      <th>1115</th>\n      <td>1116</td>\n      <td>20</td>\n      <td>RL</td>\n      <td>93.0</td>\n      <td>12085</td>\n      <td>Pave</td>\n      <td>NaN</td>\n      <td>Reg</td>\n      <td>Lvl</td>\n      <td>AllPub</td>\n      <td>...</td>\n      <td>0</td>\n      <td>NaN</td>\n      <td>NaN</td>\n      <td>NaN</td>\n      <td>0</td>\n      <td>11</td>\n      <td>2007</td>\n      <td>New</td>\n      <td>Partial</td>\n      <td>318000</td>\n    </tr>\n    <tr>\n      <th>988</th>\n      <td>989</td>\n      <td>60</td>\n      <td>RL</td>\n      <td>NaN</td>\n      <td>12046</td>\n      <td>Pave</td>\n      <td>NaN</td>\n      <td>IR1</td>\n      <td>Lvl</td>\n      <td>AllPub</td>\n      <td>...</td>\n      <td>0</td>\n      <td>NaN</td>\n      <td>NaN</td>\n      <td>NaN</td>\n      <td>0</td>\n      <td>6</td>\n      <td>2007</td>\n      <td>WD</td>\n      <td>Normal</td>\n      <td>195000</td>\n    </tr>\n    <tr>\n      <th>238</th>\n      <td>239</td>\n      <td>20</td>\n      <td>RL</td>\n      <td>93.0</td>\n      <td>12030</td>\n      <td>Pave</td>\n      <td>NaN</td>\n      <td>Reg</td>\n      <td>Lvl</td>\n      <td>AllPub</td>\n      <td>...</td>\n      <td>0</td>\n      <td>NaN</td>\n      <td>NaN</td>\n      <td>NaN</td>\n      <td>0</td>\n      <td>12</td>\n      <td>2007</td>\n      <td>New</td>\n      <td>Partial</td>\n      <td>318000</td>\n    </tr>\n    <tr>\n      <th>359</th>\n      <td>360</td>\n      <td>60</td>\n      <td>RL</td>\n      <td>78.0</td>\n      <td>12011</td>\n      <td>Pave</td>\n      <td>NaN</td>\n      <td>IR1</td>\n      <td>Lvl</td>\n      <td>AllPub</td>\n      <td>...</td>\n      <td>0</td>\n      <td>NaN</td>\n      <td>NaN</td>\n      <td>NaN</td>\n      <td>0</td>\n      <td>6</td>\n      <td>2006</td>\n      <td>WD</td>\n      <td>Normal</td>\n      <td>280000</td>\n    </tr>\n    <tr>\n      <th>157</th>\n      <td>158</td>\n      <td>60</td>\n      <td>RL</td>\n      <td>92.0</td>\n      <td>12003</td>\n      <td>Pave</td>\n      <td>NaN</td>\n      <td>Reg</td>\n      <td>Lvl</td>\n      <td>AllPub</td>\n      <td>...</td>\n      <td>0</td>\n      <td>NaN</td>\n      <td>NaN</td>\n      <td>NaN</td>\n      <td>0</td>\n      <td>5</td>\n      <td>2010</td>\n      <td>New</td>\n      <td>Partial</td>\n      <td>269500</td>\n    </tr>\n  </tbody>\n</table>\n<p>318 rows × 81 columns</p>\n</div>"
     },
     "metadata": {}
    }
   ],
   "source": [
    "display(input_train_df['LotArea'].describe())\n",
    "display(input_train_df.loc[\n",
    "    input_train_df['LotArea'] > 12_000,\n",
    "    :].sort_values('LotArea', ascending=False)\n",
    ")"
   ]
  },
  {
   "source": [
    "Ok does seem like a calculation error but since using decision tree based algos prob not a big issue at this stage and don't know if its definitely wrong.  "
   ],
   "cell_type": "markdown",
   "metadata": {}
  },
  {
   "cell_type": "code",
   "execution_count": 29,
   "metadata": {},
   "outputs": [
    {
     "output_type": "execute_result",
     "data": {
      "text/plain": [
       "                missing_col1  count_col1  mean_col1  missing_col2  sum_col2\n",
       "col_to_groupby                                                             \n",
       "a                        0.0           2        1.5           0.0      13.0\n",
       "b                        1.0           0        NaN           0.0       6.0\n",
       "c                        0.0           2        3.5           1.0       7.0"
      ],
      "text/html": "<div>\n<style scoped>\n    .dataframe tbody tr th:only-of-type {\n        vertical-align: middle;\n    }\n\n    .dataframe tbody tr th {\n        vertical-align: top;\n    }\n\n    .dataframe thead th {\n        text-align: right;\n    }\n</style>\n<table border=\"1\" class=\"dataframe\">\n  <thead>\n    <tr style=\"text-align: right;\">\n      <th></th>\n      <th>missing_col1</th>\n      <th>count_col1</th>\n      <th>mean_col1</th>\n      <th>missing_col2</th>\n      <th>sum_col2</th>\n    </tr>\n    <tr>\n      <th>col_to_groupby</th>\n      <th></th>\n      <th></th>\n      <th></th>\n      <th></th>\n      <th></th>\n    </tr>\n  </thead>\n  <tbody>\n    <tr>\n      <th>a</th>\n      <td>0.0</td>\n      <td>2</td>\n      <td>1.5</td>\n      <td>0.0</td>\n      <td>13.0</td>\n    </tr>\n    <tr>\n      <th>b</th>\n      <td>1.0</td>\n      <td>0</td>\n      <td>NaN</td>\n      <td>0.0</td>\n      <td>6.0</td>\n    </tr>\n    <tr>\n      <th>c</th>\n      <td>0.0</td>\n      <td>2</td>\n      <td>3.5</td>\n      <td>1.0</td>\n      <td>7.0</td>\n    </tr>\n  </tbody>\n</table>\n</div>"
     },
     "metadata": {},
     "execution_count": 29
    }
   ],
   "source": [
    "test_df = pd.DataFrame(\n",
    "    {'col_to_groupby': ['a','a','c','c','b'],\n",
    "    'agg_me_col_1' : [1,2,3,4,np.nan],\n",
    "    'agg_me_col_2' : [6,7,np.nan,7,6],\n",
    "    }\n",
    ")\n",
    "\n",
    "summarised_df = (\n",
    "    test_df\n",
    "    .groupby('col_to_groupby')\n",
    "    .agg(\n",
    "        missing_col1=('agg_me_col_1', lambda x: x.isna().sum()),\n",
    "        count_col1=('agg_me_col_1', 'count'),\n",
    "        mean_col1=('agg_me_col_1', 'mean'),\n",
    "        missing_col2=('agg_me_col_2', lambda x: x.isna().sum()),\n",
    "        sum_col2=('agg_me_col_2', 'sum'),\n",
    "    )\n",
    "\n",
    "summarised_df"
   ]
  },
  {
   "source": [],
   "cell_type": "markdown",
   "metadata": {}
  }
 ]
}